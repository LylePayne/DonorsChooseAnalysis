{
 "metadata": {
  "name": "",
  "signature": "sha256:109fefd0194b70b2e5fe66d603fe63eb334fe265ab6a5840affcb5e7273d4e25"
 },
 "nbformat": 3,
 "nbformat_minor": 0,
 "worksheets": [
  {
   "cells": [
    {
     "cell_type": "code",
     "collapsed": false,
     "input": [
      "import pandas as pd\n",
      "import numpy as np\n",
      "import matplotlib.pyplot as plt\n",
      "from sklearn.cross_validation import train_test_split\n",
      "from sklearn.linear_model import LogisticRegression\n",
      "from statsmodels.formula.api import Logit\n",
      "from sklearn.neighbors import KNeighborsClassifier\n",
      "from sklearn.metrics import accuracy_score\n",
      "from sklearn.learning_curve import learning_curve\n",
      "from sklearn.naive_bayes import GaussianNB\n",
      "from sklearn.svm import SVC\n",
      "from sklearn.tree import DecisionTreeClassifier\n",
      "from sklearn.ensemble import RandomForestClassifier\n",
      "from sklearn.cross_validation import cross_val_score\n",
      "import pymysql\n",
      "import seaborn as sn\n",
      "from sklearn.ensemble import GradientBoostingClassifier, RandomForestClassifier"
     ],
     "language": "python",
     "metadata": {},
     "outputs": [],
     "prompt_number": 140
    },
    {
     "cell_type": "code",
     "collapsed": false,
     "input": [
      "from sklearn.metrics import accuracy_score\n",
      "from sklearn.metrics import classification_report\n",
      "from sklearn.metrics import confusion_matrix\n",
      "from textblob import TextBlob"
     ],
     "language": "python",
     "metadata": {},
     "outputs": [],
     "prompt_number": 141
    },
    {
     "cell_type": "code",
     "collapsed": false,
     "input": [
      "###Starting with Logistic Regression in Stats Models to be able to evaluate the individual features\n",
      "import statsmodels.formula.api as sm\n",
      "import statsmodels.api as st\n",
      "from statsmodels.discrete.discrete_model import Logit"
     ],
     "language": "python",
     "metadata": {},
     "outputs": [],
     "prompt_number": 142
    },
    {
     "cell_type": "code",
     "collapsed": false,
     "input": [
      "import pickle\n",
      "from pprint import pprint"
     ],
     "language": "python",
     "metadata": {},
     "outputs": [],
     "prompt_number": 143
    },
    {
     "cell_type": "markdown",
     "metadata": {},
     "source": [
      "###Import data from SQL database into Pandas dataframe"
     ]
    },
    {
     "cell_type": "code",
     "collapsed": false,
     "input": [
      "db = pymysql.connect(host=\"104.236.210.7\",  #your cloud ip\n",
      "                     user='root',\n",
      "                     passwd='Colgate09*',\n",
      "                     db='donorschoose')\n",
      "\n",
      "cursor = db.cursor()\n",
      "\n",
      "projects_df = pd.read_sql('SELECT * FROM TEST_donorschoose_projects', db, index_col='_projectid')\n",
      "\n",
      "cursor.close()\n",
      "db.close()"
     ],
     "language": "python",
     "metadata": {},
     "outputs": [],
     "prompt_number": 144
    },
    {
     "cell_type": "markdown",
     "metadata": {},
     "source": [
      "####Pickle files to speed up reload (as opposed to continually pulling from SQL)"
     ]
    },
    {
     "cell_type": "code",
     "collapsed": false,
     "input": [
      "with open(\"DC_projects.pkl\", \"w\") as picklefile:\n",
      "    pickle.dump(projects_df, picklefile)"
     ],
     "language": "python",
     "metadata": {},
     "outputs": [],
     "prompt_number": 145
    },
    {
     "cell_type": "code",
     "collapsed": false,
     "input": [
      "with open(\"DC_projects.pkl\", \"r\") as picklefile:\n",
      "    projects_df = pickle.load(picklefile)"
     ],
     "language": "python",
     "metadata": {},
     "outputs": [],
     "prompt_number": 5
    },
    {
     "cell_type": "code",
     "collapsed": false,
     "input": [
      "projects_df.describe()"
     ],
     "language": "python",
     "metadata": {},
     "outputs": [
      {
       "html": [
        "<div style=\"max-height:1000px;max-width:1500px;overflow:auto;\">\n",
        "<table border=\"1\" class=\"dataframe\">\n",
        "  <thead>\n",
        "    <tr style=\"text-align: right;\">\n",
        "      <th></th>\n",
        "      <th>school_latitude</th>\n",
        "      <th>school_longitude</th>\n",
        "      <th>vendor_shipping_charges</th>\n",
        "      <th>sales_tax</th>\n",
        "      <th>payment_processing_charges</th>\n",
        "      <th>fulfillment_labor_materials</th>\n",
        "      <th>total_price_excluding_optional_support</th>\n",
        "      <th>total_price_including_optional_support</th>\n",
        "      <th>students_reached</th>\n",
        "      <th>total_donations</th>\n",
        "      <th>num_donors</th>\n",
        "    </tr>\n",
        "  </thead>\n",
        "  <tbody>\n",
        "    <tr>\n",
        "      <th>count</th>\n",
        "      <td> 771929.000000</td>\n",
        "      <td> 771929.000000</td>\n",
        "      <td> 771929.000000</td>\n",
        "      <td> 771929.000000</td>\n",
        "      <td> 771929.000000</td>\n",
        "      <td> 771929.000000</td>\n",
        "      <td>   771929.000000</td>\n",
        "      <td>   771929.000000</td>\n",
        "      <td> 771929.000000</td>\n",
        "      <td> 771929.000000</td>\n",
        "      <td> 771929.000000</td>\n",
        "    </tr>\n",
        "    <tr>\n",
        "      <th>mean</th>\n",
        "      <td>     37.201949</td>\n",
        "      <td>    -93.582170</td>\n",
        "      <td>     17.352025</td>\n",
        "      <td>     16.775962</td>\n",
        "      <td>      7.427201</td>\n",
        "      <td>     26.596037</td>\n",
        "      <td>      569.622369</td>\n",
        "      <td>      676.180708</td>\n",
        "      <td>     96.697407</td>\n",
        "      <td>    370.850234</td>\n",
        "      <td>      4.264279</td>\n",
        "    </tr>\n",
        "    <tr>\n",
        "      <th>std</th>\n",
        "      <td>      4.756019</td>\n",
        "      <td>     17.820166</td>\n",
        "      <td>     62.437058</td>\n",
        "      <td>     48.719058</td>\n",
        "      <td>     17.175332</td>\n",
        "      <td>      9.776483</td>\n",
        "      <td>    11763.963209</td>\n",
        "      <td>    14344.356543</td>\n",
        "      <td>   2118.388882</td>\n",
        "      <td>    733.465251</td>\n",
        "      <td>      6.132980</td>\n",
        "    </tr>\n",
        "    <tr>\n",
        "      <th>min</th>\n",
        "      <td>     18.249140</td>\n",
        "      <td>   -176.634989</td>\n",
        "      <td>      0.000000</td>\n",
        "      <td>      0.000000</td>\n",
        "      <td>      0.000000</td>\n",
        "      <td>      0.000000</td>\n",
        "      <td>        0.000000</td>\n",
        "      <td>        0.000000</td>\n",
        "      <td>      0.000000</td>\n",
        "      <td>      0.000000</td>\n",
        "      <td>      0.000000</td>\n",
        "    </tr>\n",
        "    <tr>\n",
        "      <th>25%</th>\n",
        "      <td>     34.009605</td>\n",
        "      <td>   -112.047049</td>\n",
        "      <td>      0.000000</td>\n",
        "      <td>      0.000000</td>\n",
        "      <td>      3.290000</td>\n",
        "      <td>     17.000000</td>\n",
        "      <td>      272.600000</td>\n",
        "      <td>      323.650000</td>\n",
        "      <td>     22.000000</td>\n",
        "      <td>      0.000000</td>\n",
        "      <td>      1.000000</td>\n",
        "    </tr>\n",
        "    <tr>\n",
        "      <th>50%</th>\n",
        "      <td>     37.615095</td>\n",
        "      <td>    -87.702249</td>\n",
        "      <td>      9.950000</td>\n",
        "      <td>      0.000000</td>\n",
        "      <td>      5.490000</td>\n",
        "      <td>     30.000000</td>\n",
        "      <td>      418.040000</td>\n",
        "      <td>      496.000000</td>\n",
        "      <td>     30.000000</td>\n",
        "      <td>    281.530000</td>\n",
        "      <td>      2.000000</td>\n",
        "    </tr>\n",
        "    <tr>\n",
        "      <th>75%</th>\n",
        "      <td>     40.756004</td>\n",
        "      <td>    -79.751645</td>\n",
        "      <td>     24.780000</td>\n",
        "      <td>     23.970000</td>\n",
        "      <td>      8.700000</td>\n",
        "      <td>     35.000000</td>\n",
        "      <td>      619.000000</td>\n",
        "      <td>      733.530000</td>\n",
        "      <td>    100.000000</td>\n",
        "      <td>    516.330000</td>\n",
        "      <td>      5.000000</td>\n",
        "    </tr>\n",
        "    <tr>\n",
        "      <th>max</th>\n",
        "      <td>     71.290646</td>\n",
        "      <td>    -66.628036</td>\n",
        "      <td>  38861.760000</td>\n",
        "      <td>  13797.780000</td>\n",
        "      <td>   9715.440000</td>\n",
        "      <td>     35.000000</td>\n",
        "      <td> 10250017.000000</td>\n",
        "      <td> 12500020.730000</td>\n",
        "      <td> 999999.000000</td>\n",
        "      <td> 244778.000000</td>\n",
        "      <td>    521.000000</td>\n",
        "    </tr>\n",
        "  </tbody>\n",
        "</table>\n",
        "</div>"
       ],
       "metadata": {},
       "output_type": "pyout",
       "prompt_number": 147,
       "text": [
        "       school_latitude  school_longitude  vendor_shipping_charges  \\\n",
        "count    771929.000000     771929.000000            771929.000000   \n",
        "mean         37.201949        -93.582170                17.352025   \n",
        "std           4.756019         17.820166                62.437058   \n",
        "min          18.249140       -176.634989                 0.000000   \n",
        "25%          34.009605       -112.047049                 0.000000   \n",
        "50%          37.615095        -87.702249                 9.950000   \n",
        "75%          40.756004        -79.751645                24.780000   \n",
        "max          71.290646        -66.628036             38861.760000   \n",
        "\n",
        "           sales_tax  payment_processing_charges  fulfillment_labor_materials  \\\n",
        "count  771929.000000               771929.000000                771929.000000   \n",
        "mean       16.775962                    7.427201                    26.596037   \n",
        "std        48.719058                   17.175332                     9.776483   \n",
        "min         0.000000                    0.000000                     0.000000   \n",
        "25%         0.000000                    3.290000                    17.000000   \n",
        "50%         0.000000                    5.490000                    30.000000   \n",
        "75%        23.970000                    8.700000                    35.000000   \n",
        "max     13797.780000                 9715.440000                    35.000000   \n",
        "\n",
        "       total_price_excluding_optional_support  \\\n",
        "count                           771929.000000   \n",
        "mean                               569.622369   \n",
        "std                              11763.963209   \n",
        "min                                  0.000000   \n",
        "25%                                272.600000   \n",
        "50%                                418.040000   \n",
        "75%                                619.000000   \n",
        "max                           10250017.000000   \n",
        "\n",
        "       total_price_including_optional_support  students_reached  \\\n",
        "count                           771929.000000     771929.000000   \n",
        "mean                               676.180708         96.697407   \n",
        "std                              14344.356543       2118.388882   \n",
        "min                                  0.000000          0.000000   \n",
        "25%                                323.650000         22.000000   \n",
        "50%                                496.000000         30.000000   \n",
        "75%                                733.530000        100.000000   \n",
        "max                           12500020.730000     999999.000000   \n",
        "\n",
        "       total_donations     num_donors  \n",
        "count    771929.000000  771929.000000  \n",
        "mean        370.850234       4.264279  \n",
        "std         733.465251       6.132980  \n",
        "min           0.000000       0.000000  \n",
        "25%           0.000000       1.000000  \n",
        "50%         281.530000       2.000000  \n",
        "75%         516.330000       5.000000  \n",
        "max      244778.000000     521.000000  "
       ]
      }
     ],
     "prompt_number": 147
    },
    {
     "cell_type": "markdown",
     "metadata": {},
     "source": [
      "###Initial data cleaning"
     ]
    },
    {
     "cell_type": "markdown",
     "metadata": {},
     "source": [
      "####Replacing values with t & f so they are now 1 & 0 and can be used as model inputs"
     ]
    },
    {
     "cell_type": "code",
     "collapsed": false,
     "input": [
      "projects_df.replace(to_replace = (\"t\", \"f\"), value = (1, 0), inplace = True)"
     ],
     "language": "python",
     "metadata": {},
     "outputs": [],
     "prompt_number": 148
    },
    {
     "cell_type": "code",
     "collapsed": false,
     "input": [
      "# projects_df.describe()"
     ],
     "language": "python",
     "metadata": {},
     "outputs": [],
     "prompt_number": 150
    },
    {
     "cell_type": "markdown",
     "metadata": {},
     "source": [
      "####Creating a price per student column (added .001 to both the total price and the students reached for smoothing to be able to insure that there weren't infinities)"
     ]
    },
    {
     "cell_type": "code",
     "collapsed": false,
     "input": [
      "##Initial Test\n",
      "print (projects_df.total_price_excluding_optional_support[10000]+.01)/ (projects_df.students_reached[10000] + .01)"
     ],
     "language": "python",
     "metadata": {},
     "outputs": [
      {
       "output_type": "stream",
       "stream": "stdout",
       "text": [
        "13.953355545\n"
       ]
      }
     ],
     "prompt_number": 151
    },
    {
     "cell_type": "code",
     "collapsed": false,
     "input": [
      "projects_df[\"price/student\"] = (projects_df[\"total_price_excluding_optional_support\"]+.001)/(projects_df[\"students_reached\"]+.001)"
     ],
     "language": "python",
     "metadata": {},
     "outputs": [],
     "prompt_number": 152
    },
    {
     "cell_type": "markdown",
     "metadata": {},
     "source": [
      "####Creating a month and year posted column"
     ]
    },
    {
     "cell_type": "code",
     "collapsed": false,
     "input": [
      "projects_df[\"date_posted\"] = pd.to_datetime(projects_df[\"date_posted\"])"
     ],
     "language": "python",
     "metadata": {},
     "outputs": [],
     "prompt_number": 153
    },
    {
     "cell_type": "code",
     "collapsed": false,
     "input": [
      "projects_df['month_posted']=projects_df['date_posted'].apply(lambda x: x.month)"
     ],
     "language": "python",
     "metadata": {},
     "outputs": [],
     "prompt_number": 154
    },
    {
     "cell_type": "code",
     "collapsed": false,
     "input": [
      "projects_df['year_posted']=projects_df['date_posted'].apply(lambda x: x.year)"
     ],
     "language": "python",
     "metadata": {},
     "outputs": [],
     "prompt_number": 155
    },
    {
     "cell_type": "markdown",
     "metadata": {},
     "source": [
      "###Exploratory Analysis of dataset"
     ]
    },
    {
     "cell_type": "markdown",
     "metadata": {},
     "source": [
      "####Analyze seasonality of requests"
     ]
    },
    {
     "cell_type": "code",
     "collapsed": false,
     "input": [
      "%matplotlib inline\n",
      "sn.barplot(projects_df.month_posted)\n",
      "plt.title(\"Projects per Month, All Months 2002-2014\")"
     ],
     "language": "python",
     "metadata": {},
     "outputs": [
      {
       "metadata": {},
       "output_type": "pyout",
       "prompt_number": 156,
       "text": [
        "<matplotlib.text.Text at 0x316b5aa90>"
       ]
      },
      {
       "metadata": {},
       "output_type": "display_data",
       "png": "[encoded data removed]",
       "text": [
        "<matplotlib.figure.Figure at 0x1812f5290>"
       ]
      }
     ],
     "prompt_number": 156
    },
    {
     "cell_type": "markdown",
     "metadata": {},
     "source": [
      "Overall you can see the frequency of asks is highest in September, at the beginning of the school year, and lowest in June, at the end of the school year."
     ]
    },
    {
     "cell_type": "markdown",
     "metadata": {},
     "source": [
      "####Overall growth in number of Donor's Choose Projects"
     ]
    },
    {
     "cell_type": "code",
     "collapsed": false,
     "input": [
      "sn.barplot(projects_df.year_posted)"
     ],
     "language": "python",
     "metadata": {},
     "outputs": [
      {
       "metadata": {},
       "output_type": "pyout",
       "prompt_number": 157,
       "text": [
        "<matplotlib.axes._subplots.AxesSubplot at 0x2bc958650>"
       ]
      },
      {
       "metadata": {},
       "output_type": "display_data",
       "png": "[encoded data removed]",
       "text": [
        "<matplotlib.figure.Figure at 0x135829510>"
       ]
      }
     ],
     "prompt_number": 157
    },
    {
     "cell_type": "markdown",
     "metadata": {},
     "source": [
      "####Look at number of donors per project\n",
      "Filtered to look only at projects with fewer than 20 donors, large long tail of projects with a lot of donors"
     ]
    },
    {
     "cell_type": "code",
     "collapsed": false,
     "input": [
      "clean_donors = projects_df[(projects_df.num_donors <= 20)]"
     ],
     "language": "python",
     "metadata": {},
     "outputs": [],
     "prompt_number": 158
    },
    {
     "cell_type": "code",
     "collapsed": false,
     "input": [
      "plt.hist(clean_donors.num_donors)"
     ],
     "language": "python",
     "metadata": {},
     "outputs": [
      {
       "metadata": {},
       "output_type": "pyout",
       "prompt_number": 159,
       "text": [
        "(array([ 281277.,  196279.,  105807.,   64326.,   39515.,   24660.,\n",
        "          16361.,   11124.,    7448.,    7572.]),\n",
        " array([  0.,   2.,   4.,   6.,   8.,  10.,  12.,  14.,  16.,  18.,  20.]),\n",
        " <a list of 10 Patch objects>)"
       ]
      },
      {
       "metadata": {},
       "output_type": "display_data",
       "png": "[encoded data removed]",
       "text": [
        "<matplotlib.figure.Figure at 0x183306990>"
       ]
      }
     ],
     "prompt_number": 159
    },
    {
     "cell_type": "markdown",
     "metadata": {},
     "source": [
      "Large number of projects only have donations from 5 or fewer donors"
     ]
    },
    {
     "cell_type": "markdown",
     "metadata": {},
     "source": [
      "####Create specific dataframes which only include projects that were completed or expired\n",
      "Did not keep \"live\" projects in test set - may use for testing the accuracy of the model and see if I can verify if they were ultimately funded or not.\n",
      "Did not include \"reallocated\" projects because they are duplicative of the completed and expired set - \"reallocated\" means that the project expired, but was used to fund another project that succeeded. "
     ]
    },
    {
     "cell_type": "code",
     "collapsed": false,
     "input": [
      "funding_completed = projects_df[projects_df.funding_status == \"completed\"]\n",
      "funding_completed['funded'] = 1\n",
      "\n",
      "\n",
      "funding_expired = projects_df[projects_df.funding_status == \"expired\"]\n",
      "funding_expired['funded'] = 0"
     ],
     "language": "python",
     "metadata": {},
     "outputs": [],
     "prompt_number": 160
    },
    {
     "cell_type": "code",
     "collapsed": false,
     "input": [
      "len(funding_completed)"
     ],
     "language": "python",
     "metadata": {},
     "outputs": [
      {
       "metadata": {},
       "output_type": "pyout",
       "prompt_number": 162,
       "text": [
        "515005"
       ]
      }
     ],
     "prompt_number": 162
    },
    {
     "cell_type": "code",
     "collapsed": false,
     "input": [
      "len(funding_expired)"
     ],
     "language": "python",
     "metadata": {},
     "outputs": [
      {
       "metadata": {},
       "output_type": "pyout",
       "prompt_number": 161,
       "text": [
        "207853"
       ]
      }
     ],
     "prompt_number": 161
    },
    {
     "cell_type": "code",
     "collapsed": false,
     "input": [
      "funding_completed.describe()"
     ],
     "language": "python",
     "metadata": {},
     "outputs": [
      {
       "html": [
        "<div style=\"max-height:1000px;max-width:1500px;overflow:auto;\">\n",
        "<table border=\"1\" class=\"dataframe\">\n",
        "  <thead>\n",
        "    <tr style=\"text-align: right;\">\n",
        "      <th></th>\n",
        "      <th>school_latitude</th>\n",
        "      <th>school_longitude</th>\n",
        "      <th>school_charter</th>\n",
        "      <th>school_magnet</th>\n",
        "      <th>school_year_round</th>\n",
        "      <th>school_nlns</th>\n",
        "      <th>school_kipp</th>\n",
        "      <th>school_charter_ready_promise</th>\n",
        "      <th>teacher_teach_for_america</th>\n",
        "      <th>teacher_ny_teaching_fellow</th>\n",
        "      <th>...</th>\n",
        "      <th>total_price_including_optional_support</th>\n",
        "      <th>students_reached</th>\n",
        "      <th>total_donations</th>\n",
        "      <th>num_donors</th>\n",
        "      <th>eligible_double_your_impact_match</th>\n",
        "      <th>eligible_almost_home_match</th>\n",
        "      <th>price/student</th>\n",
        "      <th>month_posted</th>\n",
        "      <th>year_posted</th>\n",
        "      <th>funded</th>\n",
        "    </tr>\n",
        "  </thead>\n",
        "  <tbody>\n",
        "    <tr>\n",
        "      <th>count</th>\n",
        "      <td> 515005.000000</td>\n",
        "      <td> 515005.000000</td>\n",
        "      <td> 515005.000000</td>\n",
        "      <td> 515005.000000</td>\n",
        "      <td> 515005.000000</td>\n",
        "      <td> 515005.000000</td>\n",
        "      <td> 515005.000000</td>\n",
        "      <td> 515005.000000</td>\n",
        "      <td> 515005.000000</td>\n",
        "      <td> 515005.000000</td>\n",
        "      <td>...</td>\n",
        "      <td> 515005.000000</td>\n",
        "      <td> 515005.000000</td>\n",
        "      <td> 515005.000000</td>\n",
        "      <td> 515005.000000</td>\n",
        "      <td> 515005.000000</td>\n",
        "      <td> 515005.000000</td>\n",
        "      <td>   515005.000000</td>\n",
        "      <td> 515005.000000</td>\n",
        "      <td> 515005.000000</td>\n",
        "      <td> 515005</td>\n",
        "    </tr>\n",
        "    <tr>\n",
        "      <th>mean</th>\n",
        "      <td>     37.411740</td>\n",
        "      <td>    -93.761630</td>\n",
        "      <td>      0.096013</td>\n",
        "      <td>      0.095716</td>\n",
        "      <td>      0.036671</td>\n",
        "      <td>      0.015973</td>\n",
        "      <td>      0.007320</td>\n",
        "      <td>      0.005157</td>\n",
        "      <td>      0.064646</td>\n",
        "      <td>      0.018796</td>\n",
        "      <td>...</td>\n",
        "      <td>    563.503452</td>\n",
        "      <td>     92.572435</td>\n",
        "      <td>    549.057461</td>\n",
        "      <td>      5.668685</td>\n",
        "      <td>      0.315249</td>\n",
        "      <td>      0.059067</td>\n",
        "      <td>     2586.359185</td>\n",
        "      <td>      7.061755</td>\n",
        "      <td>   2011.122655</td>\n",
        "      <td>      1</td>\n",
        "    </tr>\n",
        "    <tr>\n",
        "      <th>std</th>\n",
        "      <td>      4.724441</td>\n",
        "      <td>     18.202614</td>\n",
        "      <td>      0.294609</td>\n",
        "      <td>      0.294201</td>\n",
        "      <td>      0.187954</td>\n",
        "      <td>      0.125370</td>\n",
        "      <td>      0.085245</td>\n",
        "      <td>      0.071629</td>\n",
        "      <td>      0.245900</td>\n",
        "      <td>      0.135804</td>\n",
        "      <td>...</td>\n",
        "      <td>    806.459403</td>\n",
        "      <td>   1681.585818</td>\n",
        "      <td>    768.668001</td>\n",
        "      <td>      6.819076</td>\n",
        "      <td>      0.464616</td>\n",
        "      <td>      0.235751</td>\n",
        "      <td>    73553.659730</td>\n",
        "      <td>      3.461984</td>\n",
        "      <td>      2.396131</td>\n",
        "      <td>      0</td>\n",
        "    </tr>\n",
        "    <tr>\n",
        "      <th>min</th>\n",
        "      <td>     18.249140</td>\n",
        "      <td>   -171.690554</td>\n",
        "      <td>      0.000000</td>\n",
        "      <td>      0.000000</td>\n",
        "      <td>      0.000000</td>\n",
        "      <td>      0.000000</td>\n",
        "      <td>      0.000000</td>\n",
        "      <td>      0.000000</td>\n",
        "      <td>      0.000000</td>\n",
        "      <td>      0.000000</td>\n",
        "      <td>...</td>\n",
        "      <td>      0.000000</td>\n",
        "      <td>      0.000000</td>\n",
        "      <td>      0.000000</td>\n",
        "      <td>      0.000000</td>\n",
        "      <td>      0.000000</td>\n",
        "      <td>      0.000000</td>\n",
        "      <td>        0.000050</td>\n",
        "      <td>      1.000000</td>\n",
        "      <td>   2002.000000</td>\n",
        "      <td>      1</td>\n",
        "    </tr>\n",
        "    <tr>\n",
        "      <th>25%</th>\n",
        "      <td>     34.059674</td>\n",
        "      <td>   -114.343590</td>\n",
        "      <td>      0.000000</td>\n",
        "      <td>      0.000000</td>\n",
        "      <td>      0.000000</td>\n",
        "      <td>      0.000000</td>\n",
        "      <td>      0.000000</td>\n",
        "      <td>      0.000000</td>\n",
        "      <td>      0.000000</td>\n",
        "      <td>      0.000000</td>\n",
        "      <td>...</td>\n",
        "      <td>    285.730000</td>\n",
        "      <td>     22.000000</td>\n",
        "      <td>    277.650000</td>\n",
        "      <td>      2.000000</td>\n",
        "      <td>      0.000000</td>\n",
        "      <td>      0.000000</td>\n",
        "      <td>        4.279934</td>\n",
        "      <td>      4.000000</td>\n",
        "      <td>   2010.000000</td>\n",
        "      <td>      1</td>\n",
        "    </tr>\n",
        "    <tr>\n",
        "      <th>50%</th>\n",
        "      <td>     37.766254</td>\n",
        "      <td>    -87.704543</td>\n",
        "      <td>      0.000000</td>\n",
        "      <td>      0.000000</td>\n",
        "      <td>      0.000000</td>\n",
        "      <td>      0.000000</td>\n",
        "      <td>      0.000000</td>\n",
        "      <td>      0.000000</td>\n",
        "      <td>      0.000000</td>\n",
        "      <td>      0.000000</td>\n",
        "      <td>...</td>\n",
        "      <td>    447.540000</td>\n",
        "      <td>     30.000000</td>\n",
        "      <td>    437.790000</td>\n",
        "      <td>      4.000000</td>\n",
        "      <td>      0.000000</td>\n",
        "      <td>      0.000000</td>\n",
        "      <td>        9.334083</td>\n",
        "      <td>      8.000000</td>\n",
        "      <td>   2012.000000</td>\n",
        "      <td>      1</td>\n",
        "    </tr>\n",
        "    <tr>\n",
        "      <th>75%</th>\n",
        "      <td>     40.796253</td>\n",
        "      <td>    -78.898949</td>\n",
        "      <td>      0.000000</td>\n",
        "      <td>      0.000000</td>\n",
        "      <td>      0.000000</td>\n",
        "      <td>      0.000000</td>\n",
        "      <td>      0.000000</td>\n",
        "      <td>      0.000000</td>\n",
        "      <td>      0.000000</td>\n",
        "      <td>      0.000000</td>\n",
        "      <td>...</td>\n",
        "      <td>    622.580000</td>\n",
        "      <td>     93.000000</td>\n",
        "      <td>    608.440000</td>\n",
        "      <td>      7.000000</td>\n",
        "      <td>      1.000000</td>\n",
        "      <td>      0.000000</td>\n",
        "      <td>       18.055245</td>\n",
        "      <td>     10.000000</td>\n",
        "      <td>   2013.000000</td>\n",
        "      <td>      1</td>\n",
        "    </tr>\n",
        "    <tr>\n",
        "      <th>max</th>\n",
        "      <td>     71.290646</td>\n",
        "      <td>    -66.628036</td>\n",
        "      <td>      1.000000</td>\n",
        "      <td>      1.000000</td>\n",
        "      <td>      1.000000</td>\n",
        "      <td>      1.000000</td>\n",
        "      <td>      1.000000</td>\n",
        "      <td>      1.000000</td>\n",
        "      <td>      1.000000</td>\n",
        "      <td>      1.000000</td>\n",
        "      <td>...</td>\n",
        "      <td> 164382.840000</td>\n",
        "      <td> 999999.000000</td>\n",
        "      <td> 158475.410000</td>\n",
        "      <td>    521.000000</td>\n",
        "      <td>      1.000000</td>\n",
        "      <td>      1.000000</td>\n",
        "      <td> 20000001.000000</td>\n",
        "      <td>     12.000000</td>\n",
        "      <td>   2014.000000</td>\n",
        "      <td>      1</td>\n",
        "    </tr>\n",
        "  </tbody>\n",
        "</table>\n",
        "<p>8 rows \u00d7 25 columns</p>\n",
        "</div>"
       ],
       "metadata": {},
       "output_type": "pyout",
       "prompt_number": 163,
       "text": [
        "       school_latitude  school_longitude  school_charter  school_magnet  \\\n",
        "count    515005.000000     515005.000000   515005.000000  515005.000000   \n",
        "mean         37.411740        -93.761630        0.096013       0.095716   \n",
        "std           4.724441         18.202614        0.294609       0.294201   \n",
        "min          18.249140       -171.690554        0.000000       0.000000   \n",
        "25%          34.059674       -114.343590        0.000000       0.000000   \n",
        "50%          37.766254        -87.704543        0.000000       0.000000   \n",
        "75%          40.796253        -78.898949        0.000000       0.000000   \n",
        "max          71.290646        -66.628036        1.000000       1.000000   \n",
        "\n",
        "       school_year_round    school_nlns    school_kipp  \\\n",
        "count      515005.000000  515005.000000  515005.000000   \n",
        "mean            0.036671       0.015973       0.007320   \n",
        "std             0.187954       0.125370       0.085245   \n",
        "min             0.000000       0.000000       0.000000   \n",
        "25%             0.000000       0.000000       0.000000   \n",
        "50%             0.000000       0.000000       0.000000   \n",
        "75%             0.000000       0.000000       0.000000   \n",
        "max             1.000000       1.000000       1.000000   \n",
        "\n",
        "       school_charter_ready_promise  teacher_teach_for_america  \\\n",
        "count                 515005.000000              515005.000000   \n",
        "mean                       0.005157                   0.064646   \n",
        "std                        0.071629                   0.245900   \n",
        "min                        0.000000                   0.000000   \n",
        "25%                        0.000000                   0.000000   \n",
        "50%                        0.000000                   0.000000   \n",
        "75%                        0.000000                   0.000000   \n",
        "max                        1.000000                   1.000000   \n",
        "\n",
        "       teacher_ny_teaching_fellow   ...    \\\n",
        "count               515005.000000   ...     \n",
        "mean                     0.018796   ...     \n",
        "std                      0.135804   ...     \n",
        "min                      0.000000   ...     \n",
        "25%                      0.000000   ...     \n",
        "50%                      0.000000   ...     \n",
        "75%                      0.000000   ...     \n",
        "max                      1.000000   ...     \n",
        "\n",
        "       total_price_including_optional_support  students_reached  \\\n",
        "count                           515005.000000     515005.000000   \n",
        "mean                               563.503452         92.572435   \n",
        "std                                806.459403       1681.585818   \n",
        "min                                  0.000000          0.000000   \n",
        "25%                                285.730000         22.000000   \n",
        "50%                                447.540000         30.000000   \n",
        "75%                                622.580000         93.000000   \n",
        "max                             164382.840000     999999.000000   \n",
        "\n",
        "       total_donations     num_donors  eligible_double_your_impact_match  \\\n",
        "count    515005.000000  515005.000000                      515005.000000   \n",
        "mean        549.057461       5.668685                           0.315249   \n",
        "std         768.668001       6.819076                           0.464616   \n",
        "min           0.000000       0.000000                           0.000000   \n",
        "25%         277.650000       2.000000                           0.000000   \n",
        "50%         437.790000       4.000000                           0.000000   \n",
        "75%         608.440000       7.000000                           1.000000   \n",
        "max      158475.410000     521.000000                           1.000000   \n",
        "\n",
        "       eligible_almost_home_match    price/student   month_posted  \\\n",
        "count               515005.000000    515005.000000  515005.000000   \n",
        "mean                     0.059067      2586.359185       7.061755   \n",
        "std                      0.235751     73553.659730       3.461984   \n",
        "min                      0.000000         0.000050       1.000000   \n",
        "25%                      0.000000         4.279934       4.000000   \n",
        "50%                      0.000000         9.334083       8.000000   \n",
        "75%                      0.000000        18.055245      10.000000   \n",
        "max                      1.000000  20000001.000000      12.000000   \n",
        "\n",
        "         year_posted  funded  \n",
        "count  515005.000000  515005  \n",
        "mean     2011.122655       1  \n",
        "std         2.396131       0  \n",
        "min      2002.000000       1  \n",
        "25%      2010.000000       1  \n",
        "50%      2012.000000       1  \n",
        "75%      2013.000000       1  \n",
        "max      2014.000000       1  \n",
        "\n",
        "[8 rows x 25 columns]"
       ]
      }
     ],
     "prompt_number": 163
    },
    {
     "cell_type": "code",
     "collapsed": false,
     "input": [
      "funding_expired.describe()"
     ],
     "language": "python",
     "metadata": {},
     "outputs": [
      {
       "html": [
        "<div style=\"max-height:1000px;max-width:1500px;overflow:auto;\">\n",
        "<table border=\"1\" class=\"dataframe\">\n",
        "  <thead>\n",
        "    <tr style=\"text-align: right;\">\n",
        "      <th></th>\n",
        "      <th>school_latitude</th>\n",
        "      <th>school_longitude</th>\n",
        "      <th>school_charter</th>\n",
        "      <th>school_magnet</th>\n",
        "      <th>school_year_round</th>\n",
        "      <th>school_nlns</th>\n",
        "      <th>school_kipp</th>\n",
        "      <th>school_charter_ready_promise</th>\n",
        "      <th>teacher_teach_for_america</th>\n",
        "      <th>teacher_ny_teaching_fellow</th>\n",
        "      <th>...</th>\n",
        "      <th>total_price_including_optional_support</th>\n",
        "      <th>students_reached</th>\n",
        "      <th>total_donations</th>\n",
        "      <th>num_donors</th>\n",
        "      <th>eligible_double_your_impact_match</th>\n",
        "      <th>eligible_almost_home_match</th>\n",
        "      <th>price/student</th>\n",
        "      <th>month_posted</th>\n",
        "      <th>year_posted</th>\n",
        "      <th>funded</th>\n",
        "    </tr>\n",
        "  </thead>\n",
        "  <tbody>\n",
        "    <tr>\n",
        "      <th>count</th>\n",
        "      <td> 207853.000000</td>\n",
        "      <td> 207853.000000</td>\n",
        "      <td> 207853.000000</td>\n",
        "      <td> 207853.000000</td>\n",
        "      <td> 207853.000000</td>\n",
        "      <td> 207853.000000</td>\n",
        "      <td> 207853.000000</td>\n",
        "      <td> 207853.000000</td>\n",
        "      <td> 207853.000000</td>\n",
        "      <td> 207853.000000</td>\n",
        "      <td>...</td>\n",
        "      <td>   207853.000000</td>\n",
        "      <td> 207853.000000</td>\n",
        "      <td> 207853.000000</td>\n",
        "      <td> 207853.000000</td>\n",
        "      <td> 207853.000000</td>\n",
        "      <td> 207853.000000</td>\n",
        "      <td> 2.078530e+05</td>\n",
        "      <td> 207853.000000</td>\n",
        "      <td> 207853.000000</td>\n",
        "      <td> 207853</td>\n",
        "    </tr>\n",
        "    <tr>\n",
        "      <th>mean</th>\n",
        "      <td>     36.783942</td>\n",
        "      <td>    -92.845918</td>\n",
        "      <td>      0.076463</td>\n",
        "      <td>      0.085036</td>\n",
        "      <td>      0.038162</td>\n",
        "      <td>      0.009718</td>\n",
        "      <td>      0.004301</td>\n",
        "      <td>      0.003223</td>\n",
        "      <td>      0.032138</td>\n",
        "      <td>      0.010440</td>\n",
        "      <td>...</td>\n",
        "      <td>      879.977135</td>\n",
        "      <td>    106.561815</td>\n",
        "      <td>      1.696158</td>\n",
        "      <td>      1.333495</td>\n",
        "      <td>      0.220757</td>\n",
        "      <td>      0.035862</td>\n",
        "      <td> 5.065868e+03</td>\n",
        "      <td>      6.373981</td>\n",
        "      <td>   2010.813079</td>\n",
        "      <td>      0</td>\n",
        "    </tr>\n",
        "    <tr>\n",
        "      <th>std</th>\n",
        "      <td>      4.681184</td>\n",
        "      <td>     16.766691</td>\n",
        "      <td>      0.265738</td>\n",
        "      <td>      0.278936</td>\n",
        "      <td>      0.191587</td>\n",
        "      <td>      0.098102</td>\n",
        "      <td>      0.065442</td>\n",
        "      <td>      0.056684</td>\n",
        "      <td>      0.176367</td>\n",
        "      <td>      0.101642</td>\n",
        "      <td>...</td>\n",
        "      <td>    27606.179905</td>\n",
        "      <td>   3106.987494</td>\n",
        "      <td>    537.301063</td>\n",
        "      <td>      2.647350</td>\n",
        "      <td>      0.414758</td>\n",
        "      <td>      0.185946</td>\n",
        "      <td> 2.193584e+06</td>\n",
        "      <td>      3.530474</td>\n",
        "      <td>      2.335187</td>\n",
        "      <td>      0</td>\n",
        "    </tr>\n",
        "    <tr>\n",
        "      <th>min</th>\n",
        "      <td>     18.249140</td>\n",
        "      <td>   -176.634989</td>\n",
        "      <td>      0.000000</td>\n",
        "      <td>      0.000000</td>\n",
        "      <td>      0.000000</td>\n",
        "      <td>      0.000000</td>\n",
        "      <td>      0.000000</td>\n",
        "      <td>      0.000000</td>\n",
        "      <td>      0.000000</td>\n",
        "      <td>      0.000000</td>\n",
        "      <td>...</td>\n",
        "      <td>        0.000000</td>\n",
        "      <td>      0.000000</td>\n",
        "      <td>      0.000000</td>\n",
        "      <td>      0.000000</td>\n",
        "      <td>      0.000000</td>\n",
        "      <td>      0.000000</td>\n",
        "      <td> 2.499375e-04</td>\n",
        "      <td>      1.000000</td>\n",
        "      <td>   2002.000000</td>\n",
        "      <td>      0</td>\n",
        "    </tr>\n",
        "    <tr>\n",
        "      <th>25%</th>\n",
        "      <td>     33.919660</td>\n",
        "      <td>   -105.023567</td>\n",
        "      <td>      0.000000</td>\n",
        "      <td>      0.000000</td>\n",
        "      <td>      0.000000</td>\n",
        "      <td>      0.000000</td>\n",
        "      <td>      0.000000</td>\n",
        "      <td>      0.000000</td>\n",
        "      <td>      0.000000</td>\n",
        "      <td>      0.000000</td>\n",
        "      <td>...</td>\n",
        "      <td>      426.830000</td>\n",
        "      <td>     22.000000</td>\n",
        "      <td>      0.000000</td>\n",
        "      <td>      0.000000</td>\n",
        "      <td>      0.000000</td>\n",
        "      <td>      0.000000</td>\n",
        "      <td> 5.451234e+00</td>\n",
        "      <td>      3.000000</td>\n",
        "      <td>   2009.000000</td>\n",
        "      <td>      0</td>\n",
        "    </tr>\n",
        "    <tr>\n",
        "      <th>50%</th>\n",
        "      <td>     36.202436</td>\n",
        "      <td>    -87.667116</td>\n",
        "      <td>      0.000000</td>\n",
        "      <td>      0.000000</td>\n",
        "      <td>      0.000000</td>\n",
        "      <td>      0.000000</td>\n",
        "      <td>      0.000000</td>\n",
        "      <td>      0.000000</td>\n",
        "      <td>      0.000000</td>\n",
        "      <td>      0.000000</td>\n",
        "      <td>...</td>\n",
        "      <td>      569.500000</td>\n",
        "      <td>     31.000000</td>\n",
        "      <td>      0.000000</td>\n",
        "      <td>      0.000000</td>\n",
        "      <td>      0.000000</td>\n",
        "      <td>      0.000000</td>\n",
        "      <td> 1.298523e+01</td>\n",
        "      <td>      7.000000</td>\n",
        "      <td>   2011.000000</td>\n",
        "      <td>      0</td>\n",
        "    </tr>\n",
        "    <tr>\n",
        "      <th>75%</th>\n",
        "      <td>     40.676156</td>\n",
        "      <td>    -80.222467</td>\n",
        "      <td>      0.000000</td>\n",
        "      <td>      0.000000</td>\n",
        "      <td>      0.000000</td>\n",
        "      <td>      0.000000</td>\n",
        "      <td>      0.000000</td>\n",
        "      <td>      0.000000</td>\n",
        "      <td>      0.000000</td>\n",
        "      <td>      0.000000</td>\n",
        "      <td>...</td>\n",
        "      <td>      893.150000</td>\n",
        "      <td>    100.000000</td>\n",
        "      <td>      0.000000</td>\n",
        "      <td>      2.000000</td>\n",
        "      <td>      0.000000</td>\n",
        "      <td>      0.000000</td>\n",
        "      <td> 2.349797e+01</td>\n",
        "      <td>      9.000000</td>\n",
        "      <td>   2013.000000</td>\n",
        "      <td>      0</td>\n",
        "    </tr>\n",
        "    <tr>\n",
        "      <th>max</th>\n",
        "      <td>     67.258157</td>\n",
        "      <td>    -66.628036</td>\n",
        "      <td>      1.000000</td>\n",
        "      <td>      1.000000</td>\n",
        "      <td>      1.000000</td>\n",
        "      <td>      1.000000</td>\n",
        "      <td>      1.000000</td>\n",
        "      <td>      1.000000</td>\n",
        "      <td>      1.000000</td>\n",
        "      <td>      1.000000</td>\n",
        "      <td>...</td>\n",
        "      <td> 12500020.730000</td>\n",
        "      <td> 999999.000000</td>\n",
        "      <td> 244778.000000</td>\n",
        "      <td>    161.000000</td>\n",
        "      <td>      1.000000</td>\n",
        "      <td>      1.000000</td>\n",
        "      <td> 1.000000e+09</td>\n",
        "      <td>     12.000000</td>\n",
        "      <td>   2014.000000</td>\n",
        "      <td>      0</td>\n",
        "    </tr>\n",
        "  </tbody>\n",
        "</table>\n",
        "<p>8 rows \u00d7 25 columns</p>\n",
        "</div>"
       ],
       "metadata": {},
       "output_type": "pyout",
       "prompt_number": 164,
       "text": [
        "       school_latitude  school_longitude  school_charter  school_magnet  \\\n",
        "count    207853.000000     207853.000000   207853.000000  207853.000000   \n",
        "mean         36.783942        -92.845918        0.076463       0.085036   \n",
        "std           4.681184         16.766691        0.265738       0.278936   \n",
        "min          18.249140       -176.634989        0.000000       0.000000   \n",
        "25%          33.919660       -105.023567        0.000000       0.000000   \n",
        "50%          36.202436        -87.667116        0.000000       0.000000   \n",
        "75%          40.676156        -80.222467        0.000000       0.000000   \n",
        "max          67.258157        -66.628036        1.000000       1.000000   \n",
        "\n",
        "       school_year_round    school_nlns    school_kipp  \\\n",
        "count      207853.000000  207853.000000  207853.000000   \n",
        "mean            0.038162       0.009718       0.004301   \n",
        "std             0.191587       0.098102       0.065442   \n",
        "min             0.000000       0.000000       0.000000   \n",
        "25%             0.000000       0.000000       0.000000   \n",
        "50%             0.000000       0.000000       0.000000   \n",
        "75%             0.000000       0.000000       0.000000   \n",
        "max             1.000000       1.000000       1.000000   \n",
        "\n",
        "       school_charter_ready_promise  teacher_teach_for_america  \\\n",
        "count                 207853.000000              207853.000000   \n",
        "mean                       0.003223                   0.032138   \n",
        "std                        0.056684                   0.176367   \n",
        "min                        0.000000                   0.000000   \n",
        "25%                        0.000000                   0.000000   \n",
        "50%                        0.000000                   0.000000   \n",
        "75%                        0.000000                   0.000000   \n",
        "max                        1.000000                   1.000000   \n",
        "\n",
        "       teacher_ny_teaching_fellow   ...    \\\n",
        "count               207853.000000   ...     \n",
        "mean                     0.010440   ...     \n",
        "std                      0.101642   ...     \n",
        "min                      0.000000   ...     \n",
        "25%                      0.000000   ...     \n",
        "50%                      0.000000   ...     \n",
        "75%                      0.000000   ...     \n",
        "max                      1.000000   ...     \n",
        "\n",
        "       total_price_including_optional_support  students_reached  \\\n",
        "count                           207853.000000     207853.000000   \n",
        "mean                               879.977135        106.561815   \n",
        "std                              27606.179905       3106.987494   \n",
        "min                                  0.000000          0.000000   \n",
        "25%                                426.830000         22.000000   \n",
        "50%                                569.500000         31.000000   \n",
        "75%                                893.150000        100.000000   \n",
        "max                           12500020.730000     999999.000000   \n",
        "\n",
        "       total_donations     num_donors  eligible_double_your_impact_match  \\\n",
        "count    207853.000000  207853.000000                      207853.000000   \n",
        "mean          1.696158       1.333495                           0.220757   \n",
        "std         537.301063       2.647350                           0.414758   \n",
        "min           0.000000       0.000000                           0.000000   \n",
        "25%           0.000000       0.000000                           0.000000   \n",
        "50%           0.000000       0.000000                           0.000000   \n",
        "75%           0.000000       2.000000                           0.000000   \n",
        "max      244778.000000     161.000000                           1.000000   \n",
        "\n",
        "       eligible_almost_home_match  price/student   month_posted  \\\n",
        "count               207853.000000   2.078530e+05  207853.000000   \n",
        "mean                     0.035862   5.065868e+03       6.373981   \n",
        "std                      0.185946   2.193584e+06       3.530474   \n",
        "min                      0.000000   2.499375e-04       1.000000   \n",
        "25%                      0.000000   5.451234e+00       3.000000   \n",
        "50%                      0.000000   1.298523e+01       7.000000   \n",
        "75%                      0.000000   2.349797e+01       9.000000   \n",
        "max                      1.000000   1.000000e+09      12.000000   \n",
        "\n",
        "         year_posted  funded  \n",
        "count  207853.000000  207853  \n",
        "mean     2010.813079       0  \n",
        "std         2.335187       0  \n",
        "min      2002.000000       0  \n",
        "25%      2009.000000       0  \n",
        "50%      2011.000000       0  \n",
        "75%      2013.000000       0  \n",
        "max      2014.000000       0  \n",
        "\n",
        "[8 rows x 25 columns]"
       ]
      }
     ],
     "prompt_number": 164
    },
    {
     "cell_type": "code",
     "collapsed": false,
     "input": [
      "funding_list = [funding_completed, funding_expired]\n",
      "funding_df = pd.concat(funding_list)"
     ],
     "language": "python",
     "metadata": {},
     "outputs": [],
     "prompt_number": 165
    },
    {
     "cell_type": "markdown",
     "metadata": {},
     "source": [
      "####Percentage of projects funded by time of year they are posted"
     ]
    },
    {
     "cell_type": "code",
     "collapsed": false,
     "input": [
      "groupby_month = funding_df.groupby(\"month_posted\")\n",
      "groupby_month_hist = groupby_month['funded'].mean()\n",
      "groupby_month_hist.plot(kind=\"bar\")\n",
      "plt.axis([-1, 12, 0, 1])\n",
      "\n",
      "plt.title('% of Projects Funded by Month')\n",
      "plt.xlabel('Month')\n",
      "plt.ylabel('% of Projects Funded')"
     ],
     "language": "python",
     "metadata": {},
     "outputs": [
      {
       "metadata": {},
       "output_type": "pyout",
       "prompt_number": 166,
       "text": [
        "<matplotlib.text.Text at 0x182b99350>"
       ]
      },
      {
       "metadata": {},
       "output_type": "display_data",
       "png": "[encoded data removed]",
       "text": [
        "<matplotlib.figure.Figure at 0x182c15610>"
       ]
      }
     ],
     "prompt_number": 166
    },
    {
     "cell_type": "markdown",
     "metadata": {},
     "source": [
      "####Percentage of projects funded per year"
     ]
    },
    {
     "cell_type": "code",
     "collapsed": false,
     "input": [
      "groupby_year = funding_df.groupby(\"year_posted\")\n",
      "groupby_year_hist = groupby_year['funded'].mean()\n",
      "groupby_year_hist.plot(kind=\"bar\")\n",
      "\n",
      "plt.title('% of Projects Funded by Year')\n",
      "plt.xlabel('Year')\n",
      "plt.ylabel('% of Projects Funded')"
     ],
     "language": "python",
     "metadata": {},
     "outputs": [
      {
       "metadata": {},
       "output_type": "pyout",
       "prompt_number": 167,
       "text": [
        "<matplotlib.text.Text at 0x182a286d0>"
       ]
      },
      {
       "metadata": {},
       "output_type": "display_data",
       "png": "[encoded data removed]",
       "text": [
        "<matplotlib.figure.Figure at 0x1832adf50>"
       ]
      }
     ],
     "prompt_number": 167
    },
    {
     "cell_type": "code",
     "collapsed": false,
     "input": [
      "groupby_year_funded = funding_completed.groupby(\"year_posted\")\n",
      "groupby_year_funded_hist = groupby_year_funded[\"funded\"].count()\n",
      "\n",
      "groupby_year_funded_hist.plot(kind = \"bar\")"
     ],
     "language": "python",
     "metadata": {},
     "outputs": [
      {
       "metadata": {},
       "output_type": "pyout",
       "prompt_number": 168,
       "text": [
        "<matplotlib.axes._subplots.AxesSubplot at 0x182908990>"
       ]
      },
      {
       "metadata": {},
       "output_type": "display_data",
       "png": "[encoded data removed]",
       "text": [
        "<matplotlib.figure.Figure at 0x1832a2f10>"
       ]
      }
     ],
     "prompt_number": 168
    },
    {
     "cell_type": "markdown",
     "metadata": {},
     "source": [
      "####Look at target audience for funding"
     ]
    },
    {
     "cell_type": "code",
     "collapsed": false,
     "input": [
      "sn.barplot(funding_df.grade_level)\n",
      "plt.xticks(rotation = 90)"
     ],
     "language": "python",
     "metadata": {},
     "outputs": [
      {
       "metadata": {},
       "output_type": "pyout",
       "prompt_number": 169,
       "text": [
        "(array([0, 1, 2, 3, 4]), <a list of 5 Text xticklabel objects>)"
       ]
      },
      {
       "metadata": {},
       "output_type": "display_data",
       "png": "[encoded data removed]",
       "text": [
        "<matplotlib.figure.Figure at 0x1832a2650>"
       ]
      }
     ],
     "prompt_number": 169
    },
    {
     "cell_type": "code",
     "collapsed": false,
     "input": [
      "sn.barplot(funding_df.primary_focus_subject)\n",
      "plt.xticks(rotation = 90)"
     ],
     "language": "python",
     "metadata": {},
     "outputs": [
      {
       "metadata": {},
       "output_type": "pyout",
       "prompt_number": 170,
       "text": [
        "(array([ 0,  1,  2,  3,  4,  5,  6,  7,  8,  9, 10, 11, 12, 13, 14, 15, 16,\n",
        "        17, 18, 19, 20, 21, 22, 23, 24, 25, 26, 27]),\n",
        " <a list of 28 Text xticklabel objects>)"
       ]
      },
      {
       "metadata": {},
       "output_type": "display_data",
       "png": "[encoded data removed]",
       "text": [
        "<matplotlib.figure.Figure at 0x182721550>"
       ]
      }
     ],
     "prompt_number": 170
    },
    {
     "cell_type": "code",
     "collapsed": false,
     "input": [
      "sn.barplot(funding_df.primary_focus_area)\n",
      "plt.xticks(rotation = 90)"
     ],
     "language": "python",
     "metadata": {},
     "outputs": [
      {
       "metadata": {},
       "output_type": "pyout",
       "prompt_number": 171,
       "text": [
        "(array([0, 1, 2, 3, 4, 5, 6, 7]), <a list of 8 Text xticklabel objects>)"
       ]
      },
      {
       "metadata": {},
       "output_type": "display_data",
       "png": "[encoded data removed]",
       "text": [
        "<matplotlib.figure.Figure at 0x1825279d0>"
       ]
      }
     ],
     "prompt_number": 171
    },
    {
     "cell_type": "code",
     "collapsed": false,
     "input": [
      "sn.barplot(funding_df.resource_type)\n",
      "plt.xticks(rotation = 90)"
     ],
     "language": "python",
     "metadata": {},
     "outputs": [
      {
       "metadata": {},
       "output_type": "pyout",
       "prompt_number": 172,
       "text": [
        "(array([0, 1, 2, 3, 4, 5, 6]), <a list of 7 Text xticklabel objects>)"
       ]
      },
      {
       "metadata": {},
       "output_type": "display_data",
       "png": "[encoded data removed]",
       "text": [
        "<matplotlib.figure.Figure at 0x1824148d0>"
       ]
      }
     ],
     "prompt_number": 172
    },
    {
     "cell_type": "code",
     "collapsed": false,
     "input": [
      "sn.barplot(funding_df.poverty_level)\n",
      "plt.xticks(rotation = 90)"
     ],
     "language": "python",
     "metadata": {},
     "outputs": [
      {
       "metadata": {},
       "output_type": "pyout",
       "prompt_number": 173,
       "text": [
        "(array([0, 1, 2, 3]), <a list of 4 Text xticklabel objects>)"
       ]
      },
      {
       "metadata": {},
       "output_type": "display_data",
       "png": "[encoded data removed]",
       "text": [
        "<matplotlib.figure.Figure at 0x182293b90>"
       ]
      }
     ],
     "prompt_number": 173
    },
    {
     "cell_type": "code",
     "collapsed": false,
     "input": [
      "sn.barplot(funding_df.teacher_prefix)"
     ],
     "language": "python",
     "metadata": {},
     "outputs": [
      {
       "metadata": {},
       "output_type": "pyout",
       "prompt_number": 174,
       "text": [
        "<matplotlib.axes._subplots.AxesSubplot at 0x1821cf210>"
       ]
      },
      {
       "metadata": {},
       "output_type": "display_data",
       "png": "[encoded data removed]",
       "text": [
        "<matplotlib.figure.Figure at 0x1821b3bd0>"
       ]
      }
     ],
     "prompt_number": 174
    },
    {
     "cell_type": "code",
     "collapsed": false,
     "input": [
      "sn.barplot(funding_df.school_metro)"
     ],
     "language": "python",
     "metadata": {},
     "outputs": [
      {
       "metadata": {},
       "output_type": "pyout",
       "prompt_number": 175,
       "text": [
        "<matplotlib.axes._subplots.AxesSubplot at 0x182082ed0>"
       ]
      },
      {
       "metadata": {},
       "output_type": "display_data",
       "png": "[encoded data removed]",
       "text": [
        "<matplotlib.figure.Figure at 0x18206fcd0>"
       ]
      }
     ],
     "prompt_number": 175
    },
    {
     "cell_type": "code",
     "collapsed": false,
     "input": [
      "sn.barplot(funding_df.resource_type)"
     ],
     "language": "python",
     "metadata": {},
     "outputs": [
      {
       "metadata": {},
       "output_type": "pyout",
       "prompt_number": 176,
       "text": [
        "<matplotlib.axes._subplots.AxesSubplot at 0x181f84110>"
       ]
      },
      {
       "metadata": {},
       "output_type": "display_data",
       "png": "[encoded data removed]",
       "text": [
        "<matplotlib.figure.Figure at 0x181f5fd10>"
       ]
      }
     ],
     "prompt_number": 176
    },
    {
     "cell_type": "code",
     "collapsed": false,
     "input": [
      "sn.barplot(funding_df.funding_status)\n",
      "plt.xticks(rotation = 90)"
     ],
     "language": "python",
     "metadata": {},
     "outputs": [
      {
       "metadata": {},
       "output_type": "pyout",
       "prompt_number": 177,
       "text": [
        "(array([0, 1]), <a list of 2 Text xticklabel objects>)"
       ]
      },
      {
       "metadata": {},
       "output_type": "display_data",
       "png": "[encoded data removed]",
       "text": [
        "<matplotlib.figure.Figure at 0x181e9e410>"
       ]
      }
     ],
     "prompt_number": 177
    },
    {
     "cell_type": "code",
     "collapsed": false,
     "input": [
      "funding_df.describe()"
     ],
     "language": "python",
     "metadata": {},
     "outputs": [
      {
       "html": [
        "<div style=\"max-height:1000px;max-width:1500px;overflow:auto;\">\n",
        "<table border=\"1\" class=\"dataframe\">\n",
        "  <thead>\n",
        "    <tr style=\"text-align: right;\">\n",
        "      <th></th>\n",
        "      <th>school_latitude</th>\n",
        "      <th>school_longitude</th>\n",
        "      <th>vendor_shipping_charges</th>\n",
        "      <th>sales_tax</th>\n",
        "      <th>payment_processing_charges</th>\n",
        "      <th>fulfillment_labor_materials</th>\n",
        "      <th>total_price_excluding_optional_support</th>\n",
        "      <th>total_price_including_optional_support</th>\n",
        "      <th>students_reached</th>\n",
        "      <th>total_donations</th>\n",
        "      <th>num_donors</th>\n",
        "      <th>price/student</th>\n",
        "      <th>month_posted</th>\n",
        "      <th>year_posted</th>\n",
        "      <th>funded</th>\n",
        "    </tr>\n",
        "  </thead>\n",
        "  <tbody>\n",
        "    <tr>\n",
        "      <th>count</th>\n",
        "      <td> 722823.000000</td>\n",
        "      <td> 722823.000000</td>\n",
        "      <td> 722823.000000</td>\n",
        "      <td> 722823.000000</td>\n",
        "      <td> 722823.000000</td>\n",
        "      <td> 722823.000000</td>\n",
        "      <td>   722823.000000</td>\n",
        "      <td>   722823.000000</td>\n",
        "      <td> 722823.000000</td>\n",
        "      <td> 722823.000000</td>\n",
        "      <td> 722823.000000</td>\n",
        "      <td> 7.228230e+05</td>\n",
        "      <td> 722823.000000</td>\n",
        "      <td> 722823.000000</td>\n",
        "      <td> 722823.000000</td>\n",
        "    </tr>\n",
        "    <tr>\n",
        "      <th>mean</th>\n",
        "      <td>     37.231095</td>\n",
        "      <td>    -93.499194</td>\n",
        "      <td>     17.774255</td>\n",
        "      <td>     15.831639</td>\n",
        "      <td>      7.151776</td>\n",
        "      <td>     26.412959</td>\n",
        "      <td>      550.926406</td>\n",
        "      <td>      654.498923</td>\n",
        "      <td>     96.594547</td>\n",
        "      <td>    391.662156</td>\n",
        "      <td>      4.421986</td>\n",
        "      <td> 3.299485e+03</td>\n",
        "      <td>      6.863967</td>\n",
        "      <td>   2011.033665</td>\n",
        "      <td>      0.712455</td>\n",
        "    </tr>\n",
        "    <tr>\n",
        "      <th>std</th>\n",
        "      <td>      4.720675</td>\n",
        "      <td>     17.806393</td>\n",
        "      <td>     63.788691</td>\n",
        "      <td>     47.445144</td>\n",
        "      <td>     17.295936</td>\n",
        "      <td>     10.011756</td>\n",
        "      <td>    12153.788860</td>\n",
        "      <td>    14819.948103</td>\n",
        "      <td>   2188.757481</td>\n",
        "      <td>    751.904858</td>\n",
        "      <td>      6.244494</td>\n",
        "      <td> 1.177932e+06</td>\n",
        "      <td>      3.495708</td>\n",
        "      <td>      2.382925</td>\n",
        "      <td>      0.452618</td>\n",
        "    </tr>\n",
        "    <tr>\n",
        "      <th>min</th>\n",
        "      <td>     18.249140</td>\n",
        "      <td>   -176.634989</td>\n",
        "      <td>      0.000000</td>\n",
        "      <td>      0.000000</td>\n",
        "      <td>      0.000000</td>\n",
        "      <td>      0.000000</td>\n",
        "      <td>        0.000000</td>\n",
        "      <td>        0.000000</td>\n",
        "      <td>      0.000000</td>\n",
        "      <td>      0.000000</td>\n",
        "      <td>      0.000000</td>\n",
        "      <td> 4.999750e-05</td>\n",
        "      <td>      1.000000</td>\n",
        "      <td>   2002.000000</td>\n",
        "      <td>      0.000000</td>\n",
        "    </tr>\n",
        "    <tr>\n",
        "      <th>25%</th>\n",
        "      <td>     34.026539</td>\n",
        "      <td>   -112.035370</td>\n",
        "      <td>      0.000000</td>\n",
        "      <td>      0.000000</td>\n",
        "      <td>      3.210000</td>\n",
        "      <td>     17.000000</td>\n",
        "      <td>      268.000000</td>\n",
        "      <td>      318.290000</td>\n",
        "      <td>     22.000000</td>\n",
        "      <td>      0.000000</td>\n",
        "      <td>      1.000000</td>\n",
        "      <td> 4.561663e+00</td>\n",
        "      <td>      4.000000</td>\n",
        "      <td>   2010.000000</td>\n",
        "      <td>      0.000000</td>\n",
        "    </tr>\n",
        "    <tr>\n",
        "      <th>50%</th>\n",
        "      <td>     37.653138</td>\n",
        "      <td>    -87.694710</td>\n",
        "      <td>     11.280000</td>\n",
        "      <td>      0.000000</td>\n",
        "      <td>      5.390000</td>\n",
        "      <td>     30.000000</td>\n",
        "      <td>      412.380000</td>\n",
        "      <td>      489.120000</td>\n",
        "      <td>     30.000000</td>\n",
        "      <td>    307.260000</td>\n",
        "      <td>      3.000000</td>\n",
        "      <td> 1.020268e+01</td>\n",
        "      <td>      8.000000</td>\n",
        "      <td>   2011.000000</td>\n",
        "      <td>      1.000000</td>\n",
        "    </tr>\n",
        "    <tr>\n",
        "      <th>75%</th>\n",
        "      <td>     40.759132</td>\n",
        "      <td>    -79.462768</td>\n",
        "      <td>     25.200000</td>\n",
        "      <td>     23.400000</td>\n",
        "      <td>      8.390000</td>\n",
        "      <td>     35.000000</td>\n",
        "      <td>      595.240000</td>\n",
        "      <td>      706.160000</td>\n",
        "      <td>    100.000000</td>\n",
        "      <td>    528.645000</td>\n",
        "      <td>      6.000000</td>\n",
        "      <td> 1.960288e+01</td>\n",
        "      <td>     10.000000</td>\n",
        "      <td>   2013.000000</td>\n",
        "      <td>      1.000000</td>\n",
        "    </tr>\n",
        "    <tr>\n",
        "      <th>max</th>\n",
        "      <td>     71.290646</td>\n",
        "      <td>    -66.628036</td>\n",
        "      <td>  38861.760000</td>\n",
        "      <td>  13797.780000</td>\n",
        "      <td>   9715.440000</td>\n",
        "      <td>     35.000000</td>\n",
        "      <td> 10250017.000000</td>\n",
        "      <td> 12500020.730000</td>\n",
        "      <td> 999999.000000</td>\n",
        "      <td> 244778.000000</td>\n",
        "      <td>    521.000000</td>\n",
        "      <td> 1.000000e+09</td>\n",
        "      <td>     12.000000</td>\n",
        "      <td>   2014.000000</td>\n",
        "      <td>      1.000000</td>\n",
        "    </tr>\n",
        "  </tbody>\n",
        "</table>\n",
        "</div>"
       ],
       "metadata": {},
       "output_type": "pyout",
       "prompt_number": 31,
       "text": [
        "       school_latitude  school_longitude  vendor_shipping_charges  \\\n",
        "count    722823.000000     722823.000000            722823.000000   \n",
        "mean         37.231095        -93.499194                17.774255   \n",
        "std           4.720675         17.806393                63.788691   \n",
        "min          18.249140       -176.634989                 0.000000   \n",
        "25%          34.026539       -112.035370                 0.000000   \n",
        "50%          37.653138        -87.694710                11.280000   \n",
        "75%          40.759132        -79.462768                25.200000   \n",
        "max          71.290646        -66.628036             38861.760000   \n",
        "\n",
        "           sales_tax  payment_processing_charges  fulfillment_labor_materials  \\\n",
        "count  722823.000000               722823.000000                722823.000000   \n",
        "mean       15.831639                    7.151776                    26.412959   \n",
        "std        47.445144                   17.295936                    10.011756   \n",
        "min         0.000000                    0.000000                     0.000000   \n",
        "25%         0.000000                    3.210000                    17.000000   \n",
        "50%         0.000000                    5.390000                    30.000000   \n",
        "75%        23.400000                    8.390000                    35.000000   \n",
        "max     13797.780000                 9715.440000                    35.000000   \n",
        "\n",
        "       total_price_excluding_optional_support  \\\n",
        "count                           722823.000000   \n",
        "mean                               550.926406   \n",
        "std                              12153.788860   \n",
        "min                                  0.000000   \n",
        "25%                                268.000000   \n",
        "50%                                412.380000   \n",
        "75%                                595.240000   \n",
        "max                           10250017.000000   \n",
        "\n",
        "       total_price_including_optional_support  students_reached  \\\n",
        "count                           722823.000000     722823.000000   \n",
        "mean                               654.498923         96.594547   \n",
        "std                              14819.948103       2188.757481   \n",
        "min                                  0.000000          0.000000   \n",
        "25%                                318.290000         22.000000   \n",
        "50%                                489.120000         30.000000   \n",
        "75%                                706.160000        100.000000   \n",
        "max                           12500020.730000     999999.000000   \n",
        "\n",
        "       total_donations     num_donors  price/student   month_posted  \\\n",
        "count    722823.000000  722823.000000   7.228230e+05  722823.000000   \n",
        "mean        391.662156       4.421986   3.299485e+03       6.863967   \n",
        "std         751.904858       6.244494   1.177932e+06       3.495708   \n",
        "min           0.000000       0.000000   4.999750e-05       1.000000   \n",
        "25%           0.000000       1.000000   4.561663e+00       4.000000   \n",
        "50%         307.260000       3.000000   1.020268e+01       8.000000   \n",
        "75%         528.645000       6.000000   1.960288e+01      10.000000   \n",
        "max      244778.000000     521.000000   1.000000e+09      12.000000   \n",
        "\n",
        "         year_posted         funded  \n",
        "count  722823.000000  722823.000000  \n",
        "mean     2011.033665       0.712455  \n",
        "std         2.382925       0.452618  \n",
        "min      2002.000000       0.000000  \n",
        "25%      2010.000000       0.000000  \n",
        "50%      2011.000000       1.000000  \n",
        "75%      2013.000000       1.000000  \n",
        "max      2014.000000       1.000000  "
       ]
      }
     ],
     "prompt_number": 31
    },
    {
     "cell_type": "code",
     "collapsed": false,
     "input": [
      "with open(\"funding_df.pkl\", \"w\") as picklefile:\n",
      "    pickle.dump(funding_df, picklefile)"
     ],
     "language": "python",
     "metadata": {},
     "outputs": [],
     "prompt_number": 27
    },
    {
     "cell_type": "markdown",
     "metadata": {},
     "source": [
      "####Look at donations by state"
     ]
    },
    {
     "cell_type": "code",
     "collapsed": false,
     "input": [
      "fig = plt.figure(figsize=(10,7))\n",
      "sn.barplot(funding_df.school_state)\n",
      "plt.xticks(rotation=90)"
     ],
     "language": "python",
     "metadata": {},
     "outputs": [
      {
       "metadata": {},
       "output_type": "pyout",
       "prompt_number": 178,
       "text": [
        "(array([ 0,  1,  2,  3,  4,  5,  6,  7,  8,  9, 10, 11, 12, 13, 14, 15, 16,\n",
        "        17, 18, 19, 20, 21, 22, 23, 24, 25, 26, 27, 28, 29, 30, 31, 32, 33,\n",
        "        34, 35, 36, 37, 38, 39, 40, 41, 42, 43, 44, 45, 46, 47, 48, 49, 50,\n",
        "        51]), <a list of 52 Text xticklabel objects>)"
       ]
      },
      {
       "metadata": {},
       "output_type": "display_data",
       "png": "[encoded data removed]",
       "text": [
        "<matplotlib.figure.Figure at 0x181d7a650>"
       ]
      }
     ],
     "prompt_number": 178
    },
    {
     "cell_type": "code",
     "collapsed": false,
     "input": [
      "fig = plt.figure(figsize=(10,7))\n",
      "plt.xticks(rotation=90)\n",
      "\n",
      "groupby_state = funding_df.groupby(\"school_state\")\n",
      "groupby_state_hist = groupby_state['funded'].mean()\n",
      "groupby_state_hist.plot(kind=\"bar\")\n",
      "\n",
      "plt.title('% of Projects Funded by State')\n",
      "plt.xlabel('State')\n",
      "plt.ylabel('% of Projects Funded')"
     ],
     "language": "python",
     "metadata": {},
     "outputs": [
      {
       "metadata": {},
       "output_type": "pyout",
       "prompt_number": 179,
       "text": [
        "<matplotlib.text.Text at 0x1818f5310>"
       ]
      },
      {
       "metadata": {},
       "output_type": "display_data",
       "png": "[encoded data removed]",
       "text": [
        "<matplotlib.figure.Figure at 0x181d80c50>"
       ]
      }
     ],
     "prompt_number": 179
    },
    {
     "cell_type": "markdown",
     "metadata": {},
     "source": [
      "####Testing how to convert the \"school_charter\" column to insure it's numbers and not objects"
     ]
    },
    {
     "cell_type": "code",
     "collapsed": false,
     "input": [
      "test_df = funding_df.school_charter.convert_objects(convert_dates=False, convert_numeric=True)"
     ],
     "language": "python",
     "metadata": {},
     "outputs": [],
     "prompt_number": 180
    },
    {
     "cell_type": "code",
     "collapsed": false,
     "input": [
      "funding_df.school_charter = funding_df.school_charter.convert_objects(convert_dates=False, convert_numeric=True)"
     ],
     "language": "python",
     "metadata": {},
     "outputs": [],
     "prompt_number": 181
    },
    {
     "cell_type": "code",
     "collapsed": false,
     "input": [
      "len(funding_df)"
     ],
     "language": "python",
     "metadata": {},
     "outputs": [
      {
       "metadata": {},
       "output_type": "pyout",
       "prompt_number": 182,
       "text": [
        "722858"
       ]
      }
     ],
     "prompt_number": 182
    },
    {
     "cell_type": "code",
     "collapsed": false,
     "input": [
      "#pp.pprint(funding_df.columns)"
     ],
     "language": "python",
     "metadata": {},
     "outputs": [],
     "prompt_number": 37
    },
    {
     "cell_type": "code",
     "collapsed": false,
     "input": [
      "# funding_df.dtypes"
     ],
     "language": "python",
     "metadata": {},
     "outputs": [],
     "prompt_number": 186
    },
    {
     "cell_type": "markdown",
     "metadata": {},
     "source": [
      "####Cleaning up data types"
     ]
    },
    {
     "cell_type": "code",
     "collapsed": false,
     "input": [
      "# funding_df.teacher_teach_for_america = funding_df.teacher_teach_for_america.convert_objects(convert_dates=False, convert_numeric=True)"
     ],
     "language": "python",
     "metadata": {},
     "outputs": [],
     "prompt_number": 37
    },
    {
     "cell_type": "markdown",
     "metadata": {},
     "source": [
      "####Creating list of features to test"
     ]
    },
    {
     "cell_type": "code",
     "collapsed": false,
     "input": [
      "numeric_feature_list = ['school_charter', 'school_magnet', 'school_year_round', \n",
      "                        'school_nlns', 'school_kipp', 'school_charter_ready_promise', 'teacher_teach_for_america',\n",
      "                        'teacher_ny_teaching_fellow','total_price_excluding_optional_support', \n",
      "                        'total_price_including_optional_support', 'students_reached', 'price/student']\n",
      "\n",
      "numeric_feature_list_2 = ['school_charter', 'school_magnet', 'school_year_round', \n",
      "                        'school_nlns', 'school_kipp', 'school_charter_ready_promise', 'teacher_teach_for_america',\n",
      "                        'teacher_ny_teaching_fellow','total_price_excluding_optional_support', \n",
      "                        'total_price_including_optional_support', 'students_reached']\n",
      "\n",
      "category_list = {\"numeric_features\": numeric_feature_list, \"numeric_feature_list_2\": numeric_feature_list_2}\n",
      "\n",
      "est1 = KNeighborsClassifier()\n",
      "est2 = LogisticRegression()\n",
      "est3 = GaussianNB()\n",
      "est4 = SVC(probability=True)\n",
      "est5 = DecisionTreeClassifier()\n",
      "est6 = RandomForestClassifier()\n",
      "est7 = GradientBoostingClassifier()\n",
      "\n",
      "estlist = [est1, est2, est3, est4, est5, est6, est7]\n",
      "Logistic_list = [est2]"
     ],
     "language": "python",
     "metadata": {},
     "outputs": [],
     "prompt_number": 188
    },
    {
     "cell_type": "markdown",
     "metadata": {},
     "source": [
      "###Looking at the statsmodels logistic regression to understand features "
     ]
    },
    {
     "cell_type": "code",
     "collapsed": false,
     "input": [
      "Y = funding_df['funded']\n",
      "X = funding_df[numeric_feature_list]\n",
      "X = st.add_constant(X)\n",
      "\n",
      "# Y_train, Y_test, X_train, X_test = train_test_split(Y, X, test_size=.25)\n",
      "# print X_test\n",
      "\n",
      "logmodel = Logit(Y, X).fit()\n",
      "logmodel.summary()"
     ],
     "language": "python",
     "metadata": {},
     "outputs": [
      {
       "output_type": "stream",
       "stream": "stdout",
       "text": [
        "Optimization terminated successfully.\n",
        "         Current function value: 0.583466\n",
        "         Iterations 7\n"
       ]
      },
      {
       "html": [
        "<table class=\"simpletable\">\n",
        "<caption>Logit Regression Results</caption>\n",
        "<tr>\n",
        "  <th>Dep. Variable:</th>      <td>funded</td>      <th>  No. Observations:  </th>   <td>722858</td>   \n",
        "</tr>\n",
        "<tr>\n",
        "  <th>Model:</th>               <td>Logit</td>      <th>  Df Residuals:      </th>   <td>722845</td>   \n",
        "</tr>\n",
        "<tr>\n",
        "  <th>Method:</th>               <td>MLE</td>       <th>  Df Model:          </th>   <td>    12</td>   \n",
        "</tr>\n",
        "<tr>\n",
        "  <th>Date:</th>          <td>Thu, 26 Mar 2015</td> <th>  Pseudo R-squ.:     </th>   <td>0.02745</td>  \n",
        "</tr>\n",
        "<tr>\n",
        "  <th>Time:</th>              <td>12:04:41</td>     <th>  Log-Likelihood:    </th> <td>-4.2176e+05</td>\n",
        "</tr>\n",
        "<tr>\n",
        "  <th>converged:</th>           <td>True</td>       <th>  LL-Null:           </th> <td>-4.3367e+05</td>\n",
        "</tr>\n",
        "<tr>\n",
        "  <th> </th>                      <td> </td>        <th>  LLR p-value:       </th>   <td> 0.000</td>   \n",
        "</tr>\n",
        "</table>\n",
        "<table class=\"simpletable\">\n",
        "<tr>\n",
        "                     <td></td>                       <th>coef</th>     <th>std err</th>      <th>z</th>      <th>P>|z|</th> <th>[95.0% Conf. Int.]</th> \n",
        "</tr>\n",
        "<tr>\n",
        "  <th>const</th>                                  <td>    1.1767</td> <td>    0.004</td> <td>  273.834</td> <td> 0.000</td> <td>    1.168     1.185</td>\n",
        "</tr>\n",
        "<tr>\n",
        "  <th>school_charter</th>                         <td>    0.1681</td> <td>    0.010</td> <td>   16.369</td> <td> 0.000</td> <td>    0.148     0.188</td>\n",
        "</tr>\n",
        "<tr>\n",
        "  <th>school_magnet</th>                          <td>    0.1716</td> <td>    0.009</td> <td>   18.233</td> <td> 0.000</td> <td>    0.153     0.190</td>\n",
        "</tr>\n",
        "<tr>\n",
        "  <th>school_year_round</th>                      <td>   -0.0388</td> <td>    0.014</td> <td>   -2.795</td> <td> 0.005</td> <td>   -0.066    -0.012</td>\n",
        "</tr>\n",
        "<tr>\n",
        "  <th>school_nlns</th>                            <td>    0.4722</td> <td>    0.026</td> <td>   18.349</td> <td> 0.000</td> <td>    0.422     0.523</td>\n",
        "</tr>\n",
        "<tr>\n",
        "  <th>school_kipp</th>                            <td>    0.1811</td> <td>    0.040</td> <td>    4.565</td> <td> 0.000</td> <td>    0.103     0.259</td>\n",
        "</tr>\n",
        "<tr>\n",
        "  <th>school_charter_ready_promise</th>           <td>    0.2949</td> <td>    0.045</td> <td>    6.498</td> <td> 0.000</td> <td>    0.206     0.384</td>\n",
        "</tr>\n",
        "<tr>\n",
        "  <th>teacher_teach_for_america</th>              <td>    0.7226</td> <td>    0.014</td> <td>   51.175</td> <td> 0.000</td> <td>    0.695     0.750</td>\n",
        "</tr>\n",
        "<tr>\n",
        "  <th>teacher_ny_teaching_fellow</th>             <td>    0.7796</td> <td>    0.025</td> <td>   31.229</td> <td> 0.000</td> <td>    0.731     0.828</td>\n",
        "</tr>\n",
        "<tr>\n",
        "  <th>total_price_excluding_optional_support</th> <td>    0.0146</td> <td>    0.000</td> <td>   58.454</td> <td> 0.000</td> <td>    0.014     0.015</td>\n",
        "</tr>\n",
        "<tr>\n",
        "  <th>total_price_including_optional_support</th> <td>   -0.0129</td> <td>    0.000</td> <td>  -60.817</td> <td> 0.000</td> <td>   -0.013    -0.012</td>\n",
        "</tr>\n",
        "<tr>\n",
        "  <th>students_reached</th>                       <td>-6.104e-07</td> <td> 1.18e-06</td> <td>   -0.517</td> <td> 0.605</td> <td>-2.93e-06   1.7e-06</td>\n",
        "</tr>\n",
        "<tr>\n",
        "  <th>price/student</th>                          <td> 1.073e-06</td> <td> 1.02e-08</td> <td>  105.409</td> <td> 0.000</td> <td> 1.05e-06  1.09e-06</td>\n",
        "</tr>\n",
        "</table>"
       ],
       "metadata": {},
       "output_type": "pyout",
       "prompt_number": 191,
       "text": [
        "<class 'statsmodels.iolib.summary.Summary'>\n",
        "\"\"\"\n",
        "                           Logit Regression Results                           \n",
        "==============================================================================\n",
        "Dep. Variable:                 funded   No. Observations:               722858\n",
        "Model:                          Logit   Df Residuals:                   722845\n",
        "Method:                           MLE   Df Model:                           12\n",
        "Date:                Thu, 26 Mar 2015   Pseudo R-squ.:                 0.02745\n",
        "Time:                        12:04:41   Log-Likelihood:            -4.2176e+05\n",
        "converged:                       True   LL-Null:                   -4.3367e+05\n",
        "                                        LLR p-value:                     0.000\n",
        "==========================================================================================================\n",
        "                                             coef    std err          z      P>|z|      [95.0% Conf. Int.]\n",
        "----------------------------------------------------------------------------------------------------------\n",
        "const                                      1.1767      0.004    273.834      0.000         1.168     1.185\n",
        "school_charter                             0.1681      0.010     16.369      0.000         0.148     0.188\n",
        "school_magnet                              0.1716      0.009     18.233      0.000         0.153     0.190\n",
        "school_year_round                         -0.0388      0.014     -2.795      0.005        -0.066    -0.012\n",
        "school_nlns                                0.4722      0.026     18.349      0.000         0.422     0.523\n",
        "school_kipp                                0.1811      0.040      4.565      0.000         0.103     0.259\n",
        "school_charter_ready_promise               0.2949      0.045      6.498      0.000         0.206     0.384\n",
        "teacher_teach_for_america                  0.7226      0.014     51.175      0.000         0.695     0.750\n",
        "teacher_ny_teaching_fellow                 0.7796      0.025     31.229      0.000         0.731     0.828\n",
        "total_price_excluding_optional_support     0.0146      0.000     58.454      0.000         0.014     0.015\n",
        "total_price_including_optional_support    -0.0129      0.000    -60.817      0.000        -0.013    -0.012\n",
        "students_reached                       -6.104e-07   1.18e-06     -0.517      0.605     -2.93e-06   1.7e-06\n",
        "price/student                           1.073e-06   1.02e-08    105.409      0.000      1.05e-06  1.09e-06\n",
        "==========================================================================================================\n",
        "\"\"\""
       ]
      }
     ],
     "prompt_number": 191
    },
    {
     "cell_type": "markdown",
     "metadata": {},
     "source": [
      "####Create a classification function to experiment with different classifiers"
     ]
    },
    {
     "cell_type": "code",
     "collapsed": false,
     "input": [
      "def classification_function(df, cat_lst, model_lst):\n",
      "\n",
      "    #define a demographic variable and create a Y-variable dataframe\n",
      "    newy_df = pd.DataFrame()\n",
      "    newy_df['funded'] = df['funded']\n",
      "    newy_array = newy_df['funded'].values\n",
      "        \n",
      "    #define a set of categorical data and create an X-variable dataframe\n",
      "    newx_df = pd.DataFrame()\n",
      "    for catname, cat in cat_lst.iteritems():\n",
      "        #create new dataframe with the specific category list\n",
      "        newx_df = df[cat]\n",
      "         \n",
      "        for model in model_lst:\n",
      "            \n",
      "            model_name = str(model).split('(')[0]\n",
      "            accuracy_score = cross_val_score(model, newx_df, newy_array, scoring='accuracy')\n",
      "            precision_score = cross_val_score(model, newx_df, newy_array, scoring='precision')\n",
      "            recall_score = cross_val_score(model, newx_df, newy_array, scoring = 'recall')\n",
      "\n",
      "            print \"Category: \", catname\n",
      "            print \"Model: \", model_name\n",
      "            print \"\\t Accuracy Score: \", accuracy_score\n",
      "            print \"\\t Precision Score: \", precision_score\n",
      "            print \"\\t Recall Score: \", recall_score"
     ],
     "language": "python",
     "metadata": {},
     "outputs": [],
     "prompt_number": 192
    },
    {
     "cell_type": "code",
     "collapsed": false,
     "input": [
      "classification_function(funding_df, category_list, Logistic_list)"
     ],
     "language": "python",
     "metadata": {},
     "outputs": [
      {
       "output_type": "stream",
       "stream": "stdout",
       "text": [
        "Category:  numeric_features\n",
        "Model:  LogisticRegression\n",
        "\t Accuracy Score:  [ 0.70183105  0.71290547  0.71245725]\n",
        "\t Precision Score:  [ 0.72002398  0.71261843  0.71245725]\n",
        "\t Recall Score:  [ 0.95145891  0.99761167  1.        ]\n",
        "Category: "
       ]
      },
      {
       "output_type": "stream",
       "stream": "stdout",
       "text": [
        " numeric_feature_list_2\n",
        "Model:  LogisticRegression\n",
        "\t Accuracy Score:  [ 0.70183105  0.71272287  0.7042606 ]\n",
        "\t Precision Score:  [ 0.72002398  0.713735    0.71890366]\n",
        "\t Recall Score:  [ 0.95145891  0.99653401  0.9595207 ]\n"
       ]
      }
     ],
     "prompt_number": 193
    },
    {
     "cell_type": "markdown",
     "metadata": {},
     "source": [
      "Only looking at the naturally numeric values didn't produce a very strong classifier - both feature sets had accuracy scores that were worse than a dummy predictor, which would predict every project got funded. "
     ]
    },
    {
     "cell_type": "markdown",
     "metadata": {},
     "source": [
      "####Importing Essay data to conduct sentiment analysis and identify other factors affecting the success or failure of projects"
     ]
    },
    {
     "cell_type": "code",
     "collapsed": false,
     "input": [
      "db = pymysql.connect(host=\"104.236.210.7\",  #your cloud ip\n",
      "                     user='root',\n",
      "                     passwd='Colgate09*',\n",
      "                     db='donorschoose')\n",
      "\n",
      "cursor = db.cursor()\n",
      "\n",
      "essays_df = pd.read_sql('SELECT * FROM edited_essays', db, index_col='_projectid')\n",
      "\n",
      "cursor.close()\n",
      "db.close()"
     ],
     "language": "python",
     "metadata": {},
     "outputs": [],
     "prompt_number": 123
    },
    {
     "cell_type": "code",
     "collapsed": false,
     "input": [
      "len(essays_df)"
     ],
     "language": "python",
     "metadata": {},
     "outputs": [
      {
       "metadata": {},
       "output_type": "pyout",
       "prompt_number": 124,
       "text": [
        "771928"
       ]
      }
     ],
     "prompt_number": 124
    },
    {
     "cell_type": "code",
     "collapsed": false,
     "input": [
      "# essays_df.index"
     ],
     "language": "python",
     "metadata": {},
     "outputs": [],
     "prompt_number": 125
    },
    {
     "cell_type": "code",
     "collapsed": false,
     "input": [
      "with open(\"essays_df.pkl\", \"w\") as picklefile:\n",
      "    pickle.dump(essays_df, picklefile)"
     ],
     "language": "python",
     "metadata": {},
     "outputs": [],
     "prompt_number": 126
    },
    {
     "cell_type": "code",
     "collapsed": false,
     "input": [
      "with open(\"essays_df.pkl\", \"r\") as picklefile:\n",
      "    essays_df = pickle.load(picklefile)"
     ],
     "language": "python",
     "metadata": {},
     "outputs": [],
     "prompt_number": 20
    },
    {
     "cell_type": "code",
     "collapsed": false,
     "input": [
      "essays_df.head()"
     ],
     "language": "python",
     "metadata": {},
     "outputs": [
      {
       "html": [
        "<div style=\"max-height:1000px;max-width:1500px;overflow:auto;\">\n",
        "<table border=\"1\" class=\"dataframe\">\n",
        "  <thead>\n",
        "    <tr style=\"text-align: right;\">\n",
        "      <th></th>\n",
        "      <th>_teacher_acctid</th>\n",
        "      <th>title</th>\n",
        "      <th>short_description</th>\n",
        "      <th>need_statement</th>\n",
        "    </tr>\n",
        "    <tr>\n",
        "      <th>_projectid</th>\n",
        "      <th></th>\n",
        "      <th></th>\n",
        "      <th></th>\n",
        "      <th></th>\n",
        "    </tr>\n",
        "  </thead>\n",
        "  <tbody>\n",
        "    <tr>\n",
        "      <th>\"e565fb42185c6e9f22806ad9d5ac8a77\"</th>\n",
        "      <td> \"2e17c8c91cb58132d8103a9aa8797e80\"</td>\n",
        "      <td> \"SAT Review Books for my 11th grade English cl...</td>\n",
        "      <td> \"One of my classes this year has been an 11th ...</td>\n",
        "      <td> \"18 copies of \"\"Cracking the SAT and PSAT 2000...</td>\n",
        "    </tr>\n",
        "    <tr>\n",
        "      <th>\"76108ed46f99f27beb4c605b69c92b07\"</th>\n",
        "      <td> \"6b3721c9585633fa716e629ec501ff5a\"</td>\n",
        "      <td> \"\"\"Baby Think It Over\"\" doll for pregnancy/par...</td>\n",
        "      <td> \"I am a health teacher at Wings Academy High S...</td>\n",
        "      <td> \"A standard \"\"Baby Think it Over\"\" doll, 6 clo...</td>\n",
        "    </tr>\n",
        "    <tr>\n",
        "      <th>\"2568882e4906849754bbe7246d01ed5e\"</th>\n",
        "      <td> \"ed55d66251be5810b38e1b2505b7673d\"</td>\n",
        "      <td> \"Trip to see RENT on Broadway, for AIDS Walk p...</td>\n",
        "      <td> \"I teach 9th and 10th grade Spanish at Wings A...</td>\n",
        "      <td> \"The cost of this proposal is $354, including ...</td>\n",
        "    </tr>\n",
        "    <tr>\n",
        "      <th>\"e49f6d07f9da7086d2d823311639f479\"</th>\n",
        "      <td> \"ba7ada7b8ef61280b6e8783b59625650\"</td>\n",
        "      <td> \"A classroom College Resource Center for my Ad...</td>\n",
        "      <td> \"I am a History teacher at WINGS Academy High ...</td>\n",
        "      <td> \"The cost of this proposal is $425, including ...</td>\n",
        "    </tr>\n",
        "    <tr>\n",
        "      <th>\"548b161b4e808fb580075e03774da1b9\"</th>\n",
        "      <td> \"58574f5ee5f3d74a4be12379f8097310\"</td>\n",
        "      <td> \"Graduation Gifts/ Various Novels by African-A...</td>\n",
        "      <td> \"I am currently the head of the English Depart...</td>\n",
        "      <td> \"The cost of this proposal is $363, including ...</td>\n",
        "    </tr>\n",
        "  </tbody>\n",
        "</table>\n",
        "</div>"
       ],
       "metadata": {},
       "output_type": "pyout",
       "prompt_number": 127,
       "text": [
        "                                                       _teacher_acctid  \\\n",
        "_projectid                                                               \n",
        "\"e565fb42185c6e9f22806ad9d5ac8a77\"  \"2e17c8c91cb58132d8103a9aa8797e80\"   \n",
        "\"76108ed46f99f27beb4c605b69c92b07\"  \"6b3721c9585633fa716e629ec501ff5a\"   \n",
        "\"2568882e4906849754bbe7246d01ed5e\"  \"ed55d66251be5810b38e1b2505b7673d\"   \n",
        "\"e49f6d07f9da7086d2d823311639f479\"  \"ba7ada7b8ef61280b6e8783b59625650\"   \n",
        "\"548b161b4e808fb580075e03774da1b9\"  \"58574f5ee5f3d74a4be12379f8097310\"   \n",
        "\n",
        "                                                                                title  \\\n",
        "_projectid                                                                              \n",
        "\"e565fb42185c6e9f22806ad9d5ac8a77\"  \"SAT Review Books for my 11th grade English cl...   \n",
        "\"76108ed46f99f27beb4c605b69c92b07\"  \"\"\"Baby Think It Over\"\" doll for pregnancy/par...   \n",
        "\"2568882e4906849754bbe7246d01ed5e\"  \"Trip to see RENT on Broadway, for AIDS Walk p...   \n",
        "\"e49f6d07f9da7086d2d823311639f479\"  \"A classroom College Resource Center for my Ad...   \n",
        "\"548b161b4e808fb580075e03774da1b9\"  \"Graduation Gifts/ Various Novels by African-A...   \n",
        "\n",
        "                                                                    short_description  \\\n",
        "_projectid                                                                              \n",
        "\"e565fb42185c6e9f22806ad9d5ac8a77\"  \"One of my classes this year has been an 11th ...   \n",
        "\"76108ed46f99f27beb4c605b69c92b07\"  \"I am a health teacher at Wings Academy High S...   \n",
        "\"2568882e4906849754bbe7246d01ed5e\"  \"I teach 9th and 10th grade Spanish at Wings A...   \n",
        "\"e49f6d07f9da7086d2d823311639f479\"  \"I am a History teacher at WINGS Academy High ...   \n",
        "\"548b161b4e808fb580075e03774da1b9\"  \"I am currently the head of the English Depart...   \n",
        "\n",
        "                                                                       need_statement  \n",
        "_projectid                                                                             \n",
        "\"e565fb42185c6e9f22806ad9d5ac8a77\"  \"18 copies of \"\"Cracking the SAT and PSAT 2000...  \n",
        "\"76108ed46f99f27beb4c605b69c92b07\"  \"A standard \"\"Baby Think it Over\"\" doll, 6 clo...  \n",
        "\"2568882e4906849754bbe7246d01ed5e\"  \"The cost of this proposal is $354, including ...  \n",
        "\"e49f6d07f9da7086d2d823311639f479\"  \"The cost of this proposal is $425, including ...  \n",
        "\"548b161b4e808fb580075e03774da1b9\"  \"The cost of this proposal is $363, including ...  "
       ]
      }
     ],
     "prompt_number": 127
    },
    {
     "cell_type": "code",
     "collapsed": false,
     "input": [
      "sample_essays = essays_df[:500]"
     ],
     "language": "python",
     "metadata": {},
     "outputs": [],
     "prompt_number": 7
    },
    {
     "cell_type": "code",
     "collapsed": false,
     "input": [
      "essays_df.index[:1]"
     ],
     "language": "python",
     "metadata": {},
     "outputs": [
      {
       "metadata": {},
       "output_type": "pyout",
       "prompt_number": 130,
       "text": [
        "Index([u'\"e565fb42185c6e9f22806ad9d5ac8a77\"'], dtype='object')"
       ]
      }
     ],
     "prompt_number": 130
    },
    {
     "cell_type": "markdown",
     "metadata": {},
     "source": [
      "####Looking at Need Statements for projects that didn't get funded"
     ]
    },
    {
     "cell_type": "code",
     "collapsed": false,
     "input": [
      "funding_expired.index[:10]"
     ],
     "language": "python",
     "metadata": {},
     "outputs": [
      {
       "metadata": {},
       "output_type": "pyout",
       "prompt_number": 194,
       "text": [
        "Index([u'\"57d68f35b13a19a10d597cfd07675d9b\"', u'\"7df4a2214a407d49dd9bd10af041310f\"', u'\"a013b59bb839c24d2a357a42a10c63c5\"', u'\"79e035900369487c2b89733eb4838537\"', u'\"d5eee2d3d4c53422bbfd0136996d1160\"', u'\"29b2afd6d4b17dcd5b8ee025ad44eb4c\"', u'\"cd41f7de2a4b86ca067fa21ebe9db1c9\"', u'\"b01b6f4d3158876e3224eeef316b1455\"', u'\"ae5df5adc2f1204c3999a7f644984517\"', u'\"f4eb4320dfe35e8be729f0f68ddf4a0d\"'], dtype='object')"
       ]
      }
     ],
     "prompt_number": 194
    },
    {
     "cell_type": "code",
     "collapsed": false,
     "input": [
      "pprint(essays_df.loc[essays_df.index==u'\"57d68f35b13a19a10d597cfd07675d9b\"'][\"title\"][0])\n",
      "pprint(essays_df.loc[essays_df.index==u'\"57d68f35b13a19a10d597cfd07675d9b\"'][\"need_statement\"][0])\n",
      "pprint(essays_df.loc[essays_df.index==u'\"57d68f35b13a19a10d597cfd07675d9b\"'][\"short_description\"][0])"
     ],
     "language": "python",
     "metadata": {},
     "outputs": [
      {
       "output_type": "stream",
       "stream": "stdout",
       "text": [
        "'\"Loan Laptops to Students Taking Online Tutorial\"'\n",
        "''"
       ]
      },
      {
       "output_type": "stream",
       "stream": "stdout",
       "text": [
        "\n",
        "'\"I am the Virtual Enterprise Coordinator at the High School for Business and Technoolgy at Eramsus in Brooklyn, NY. In this class, students simulate a business entity: they write a business plans,...\"'"
       ]
      },
      {
       "output_type": "stream",
       "stream": "stdout",
       "text": [
        "\n"
       ]
      }
     ],
     "prompt_number": 131
    },
    {
     "cell_type": "code",
     "collapsed": false,
     "input": [
      "pprint(essays_df.loc[essays_df.index==u'\"7df4a2214a407d49dd9bd10af041310f\"'][\"title\"][0])\n",
      "pprint(essays_df.loc[essays_df.index==u'\"7df4a2214a407d49dd9bd10af041310f\"'][\"need_statement\"][0])\n",
      "pprint(essays_df.loc[essays_df.index==u'\"7df4a2214a407d49dd9bd10af041310f\"'][\"short_description\"][0])"
     ],
     "language": "python",
     "metadata": {},
     "outputs": [
      {
       "output_type": "stream",
       "stream": "stdout",
       "text": [
        "'\"Oceanography Field Trip with Clearwater Sailing Vessel\"'\n",
        "'\"The cost of this proposal is $1037, including shipping and <a target=\"\"new\"\" href=\"\"http://www.donorschoose.org/html/fulfillment.htm\"\" onclick=\"\"g_openWindow(\\'http://www.donorschoose.org/html/fulfillment.htm\\', 300, 800, \\'fulfillwindow\\');return false;\"\">fulfillment</a>.\"'"
       ]
      },
      {
       "output_type": "stream",
       "stream": "stdout",
       "text": [
        "\n",
        "'\"CIS 303, The Leadership and Community Service Academy, is located in the South Bronx and has a 90% population of students on free or reduced lunch. My proposal is inspired by the Sea Education...\"'"
       ]
      },
      {
       "output_type": "stream",
       "stream": "stdout",
       "text": [
        "\n"
       ]
      }
     ],
     "prompt_number": 132
    },
    {
     "cell_type": "code",
     "collapsed": false,
     "input": [
      "pprint(essays_df.loc[essays_df.index==u'\"a013b59bb839c24d2a357a42a10c63c5\"'][\"title\"][0])\n",
      "pprint(essays_df.loc[essays_df.index==u'\"a013b59bb839c24d2a357a42a10c63c5\"'][\"need_statement\"][0])\n",
      "pprint(essays_df.loc[essays_df.index==u'\"a013b59bb839c24d2a357a42a10c63c5\"'][\"short_description\"][0])"
     ],
     "language": "python",
     "metadata": {},
     "outputs": [
      {
       "output_type": "stream",
       "stream": "stdout",
       "text": [
        "'\"Students Share Their Community Service Experiences, Aided by Camcorder and Cameras\"'\n",
        "''"
       ]
      },
      {
       "output_type": "stream",
       "stream": "stdout",
       "text": [
        "\n",
        "'\"I am the internship/community coordinator at Vanguard High School.  We are an alternative high school with 450 students located in the Julia Richman Educational Complex. Our students come from all...\"'"
       ]
      },
      {
       "output_type": "stream",
       "stream": "stdout",
       "text": [
        "\n"
       ]
      }
     ],
     "prompt_number": 133
    },
    {
     "cell_type": "code",
     "collapsed": false,
     "input": [
      "pprint(essays_df.loc[essays_df.index==u'\"79e035900369487c2b89733eb4838537\"'][\"title\"][0])\n",
      "pprint(essays_df.loc[essays_df.index==u'\"79e035900369487c2b89733eb4838537\"'][\"need_statement\"][0])\n",
      "pprint(essays_df.loc[essays_df.index==u'\"79e035900369487c2b89733eb4838537\"'][\"short_description\"][0])"
     ],
     "language": "python",
     "metadata": {},
     "outputs": [
      {
       "output_type": "stream",
       "stream": "stdout",
       "text": [
        "'\"One Block from Ground Zero: 3500 Slides of American History and Culture\"'\n",
        "''"
       ]
      },
      {
       "output_type": "stream",
       "stream": "stdout",
       "text": [
        "\n",
        "'\"I am the only ESL/English teacher at the High School of Economics and Finance (the closest school to Ground Zero). I teach 58 students in 9-12 grades. I would like to put the 3500 slides that I...\"'"
       ]
      },
      {
       "output_type": "stream",
       "stream": "stdout",
       "text": [
        "\n"
       ]
      }
     ],
     "prompt_number": 134
    },
    {
     "cell_type": "code",
     "collapsed": false,
     "input": [
      "pprint(essays_df.loc[essays_df.index==u'\"d5eee2d3d4c53422bbfd0136996d1160\"'][\"title\"][0])\n",
      "pprint(essays_df.loc[essays_df.index==u'\"d5eee2d3d4c53422bbfd0136996d1160\"'][\"need_statement\"][0])\n",
      "pprint(essays_df.loc[essays_df.index==u'\"d5eee2d3d4c53422bbfd0136996d1160\"'][\"short_description\"][0])"
     ],
     "language": "python",
     "metadata": {},
     "outputs": [
      {
       "output_type": "stream",
       "stream": "stdout",
       "text": [
        "'\"Looking for Fishy Facts at the Brooklyn Aquarium\"'\n",
        "'\"The cost of this proposal is [price], including shipping and [fulfillment].\"'"
       ]
      },
      {
       "output_type": "stream",
       "stream": "stdout",
       "text": [
        "\n",
        "'\"P.S.4 is in Washington Heights, we are in the Harlem Empowerement Zone and 98% percent of our students receive free lunch. The school is located on 160th Street and Amsterdam Avenue. \\n\\n My class...\"'"
       ]
      },
      {
       "output_type": "stream",
       "stream": "stdout",
       "text": [
        "\n"
       ]
      }
     ],
     "prompt_number": 135
    },
    {
     "cell_type": "markdown",
     "metadata": {},
     "source": [
      "####Looking at need statements from projects that were funded"
     ]
    },
    {
     "cell_type": "code",
     "collapsed": false,
     "input": [
      "funding_completed.index[:10]"
     ],
     "language": "python",
     "metadata": {},
     "outputs": [
      {
       "metadata": {},
       "output_type": "pyout",
       "prompt_number": 115,
       "text": [
        "Index([u'\"\"\"e565fb42185c6e9f22806ad9d5ac8a77\"\"\"', u'\"\"\"76108ed46f99f27beb4c605b69c92b07\"\"\"', u'\"\"\"2568882e4906849754bbe7246d01ed5e\"\"\"', u'\"\"\"e49f6d07f9da7086d2d823311639f479\"\"\"', u'\"\"\"548b161b4e808fb580075e03774da1b9\"\"\"', u'\"\"\"dfc5e3a3bd22d8ee9d55e2ec29d1f1eb\"\"\"', u'\"\"\"be3c6a88818ef68fdfc00706e8950f8b\"\"\"', u'\"\"\"dd7ed1d74f70fb0e72c409d495e2eec3\"\"\"', u'\"\"\"c5d4a7877c463ed59e9aa7155f13fd59\"\"\"', u'\"\"\"8d94b238b50e7fadefb54afecc7aaa91\"\"\"'], dtype='object')"
       ]
      }
     ],
     "prompt_number": 115
    },
    {
     "cell_type": "code",
     "collapsed": false,
     "input": [
      "pprint(essays_df.loc[essays_df.index==u'\"e565fb42185c6e9f22806ad9d5ac8a77\"'][\"title\"][0])\n",
      "pprint(essays_df.loc[essays_df.index==u'\"e565fb42185c6e9f22806ad9d5ac8a77\"'][\"need_statement\"][0])\n",
      "pprint(essays_df.loc[essays_df.index==u'\"e565fb42185c6e9f22806ad9d5ac8a77\"'][\"short_description\"][0])"
     ],
     "language": "python",
     "metadata": {},
     "outputs": [
      {
       "output_type": "stream",
       "stream": "stdout",
       "text": [
        "'\"SAT Review Books for my 11th grade English class\"'\n",
        "'\"18 copies of \"\"Cracking the SAT and PSAT 2000\"\" cost $11, including <a target=\"\"new\"\" href=\"\"http://www.donorschoose.org/html/fulfillment.htm\"\" onclick=\"\"g_openWindow(\\'http://www.donorschoose.org/html/fulfillment.htm\\', 300, 800, \\'fulfillwindow\\');return false;\"\">fulfillment</a>.\"'"
       ]
      },
      {
       "output_type": "stream",
       "stream": "stdout",
       "text": [
        "\n",
        "'\"One of my classes this year has been an 11th grade English class. These students will be taking the SAT next year and I know that they are not ready to do well. <br />Unlike students in more well-financed school districts,...\"'"
       ]
      },
      {
       "output_type": "stream",
       "stream": "stdout",
       "text": [
        "\n"
       ]
      }
     ],
     "prompt_number": 136
    },
    {
     "cell_type": "code",
     "collapsed": false,
     "input": [
      "pprint(essays_df.loc[essays_df.index==u'\"76108ed46f99f27beb4c605b69c92b07\"'][\"title\"][0])\n",
      "pprint(essays_df.loc[essays_df.index==u'\"76108ed46f99f27beb4c605b69c92b07\"'][\"need_statement\"][0])\n",
      "pprint(essays_df.loc[essays_df.index==u'\"76108ed46f99f27beb4c605b69c92b07\"'][\"short_description\"][0])"
     ],
     "language": "python",
     "metadata": {},
     "outputs": [
      {
       "output_type": "stream",
       "stream": "stdout",
       "text": [
        "'\"\"\"Baby Think It Over\"\" doll for pregnancy/parenting unit\"'\n",
        "'\"A standard \"\"Baby Think it Over\"\" doll, 6 cloth diapers, instructor handbook, and student video (all purchased from babythinkitover.com) cost $11, including <a target=\"\"new\"\" href=\"\"http://www.donorschoose.org/html/fulfillment.htm\"\" onclick=\"\"g_openWindow(\\'http://www.donorschoose.org/html/fulfillment.htm\\', 300, 800, \\'fulfillwindow\\');return false;\"\">fulfillment</a>.\"'"
       ]
      },
      {
       "output_type": "stream",
       "stream": "stdout",
       "text": [
        "\n",
        "'\"I am a health teacher at Wings Academy High School. As you know, in many communities across the country, there is an increase in teen-age pregnancies. \\r\\n\\r\\nI do a pregnancy/parenting component in...\"'"
       ]
      },
      {
       "output_type": "stream",
       "stream": "stdout",
       "text": [
        "\n"
       ]
      }
     ],
     "prompt_number": 137
    },
    {
     "cell_type": "code",
     "collapsed": false,
     "input": [
      "pprint(essays_df.loc[essays_df.index==u'\"2568882e4906849754bbe7246d01ed5e\"'][\"title\"][0])\n",
      "pprint(essays_df.loc[essays_df.index==u'\"2568882e4906849754bbe7246d01ed5e\"'][\"need_statement\"][0])\n",
      "pprint(essays_df.loc[essays_df.index==u'\"2568882e4906849754bbe7246d01ed5e\"'][\"short_description\"][0])"
     ],
     "language": "python",
     "metadata": {},
     "outputs": [
      {
       "output_type": "stream",
       "stream": "stdout",
       "text": [
        "'\"Trip to see RENT on Broadway, for AIDS Walk participants\"'\n",
        "'\"The cost of this proposal is $354, including shipping and <a target=\"\"new\"\" href=\"\"http://www.donorschoose.org/html/fulfillment.htm\"\" onclick=\"\"g_openWindow(\\'http://www.donorschoose.org/html/fulfillment.htm\\', 300, 800, \\'fulfillwindow\\');return false;\"\">fulfillment</a>.\"'"
       ]
      },
      {
       "output_type": "stream",
       "stream": "stdout",
       "text": [
        "\n",
        "'\"I teach 9th and 10th grade Spanish at Wings Academy, and I have also lead our AIDS Walk NY team for the past three years.  In my experience, students frequently have uninformed views about...\"'"
       ]
      },
      {
       "output_type": "stream",
       "stream": "stdout",
       "text": [
        "\n"
       ]
      }
     ],
     "prompt_number": 138
    },
    {
     "cell_type": "code",
     "collapsed": false,
     "input": [
      "pprint(essays_df.loc[essays_df.index==u'\"548b161b4e808fb580075e03774da1b9\"'][\"title\"][0])\n",
      "pprint(essays_df.loc[essays_df.index==u'\"548b161b4e808fb580075e03774da1b9\"'][\"need_statement\"][0])\n",
      "pprint(essays_df.loc[essays_df.index==u'\"548b161b4e808fb580075e03774da1b9\"'][\"short_description\"][0])"
     ],
     "language": "python",
     "metadata": {},
     "outputs": [
      {
       "output_type": "stream",
       "stream": "stdout",
       "text": [
        "'\"Graduation Gifts/ Various Novels by African-American and Latino Writers.\"'\n",
        "'\"The cost of this proposal is $363, including shipping and <a target=\"\"new\"\" href=\"\"http://www.donorschoose.org/html/fulfillment.htm\"\" onclick=\"\"g_openWindow(\\'http://www.donorschoose.org/html/fulfillment.htm\\', 300, 800, \\'fulfillwindow\\');return false;\"\">fulfillment</a>.\"'"
       ]
      },
      {
       "output_type": "stream",
       "stream": "stdout",
       "text": [
        "\n",
        "'\"I am currently the head of the English Department at Wings Academy, a small alternative coalition school in the South Bronx.  Many of my students live in the Bronx River Housing projects in the...\"'"
       ]
      },
      {
       "output_type": "stream",
       "stream": "stdout",
       "text": [
        "\n"
       ]
      }
     ],
     "prompt_number": 139
    },
    {
     "cell_type": "code",
     "collapsed": false,
     "input": [
      "print len(essays_df.loc[essays_df.index==u'\"548b161b4e808fb580075e03774da1b9\"'][\"title\"][0])\n",
      "print len(essays_df.loc[essays_df.index==u'\"548b161b4e808fb580075e03774da1b9\"'][\"need_statement\"][0])\n",
      "print len(essays_df.loc[essays_df.index==u'\"548b161b4e808fb580075e03774da1b9\"'][\"short_description\"][0])"
     ],
     "language": "python",
     "metadata": {},
     "outputs": [
      {
       "output_type": "stream",
       "stream": "stdout",
       "text": [
        "74\n",
        "270"
       ]
      },
      {
       "output_type": "stream",
       "stream": "stdout",
       "text": [
        "\n",
        "198"
       ]
      },
      {
       "output_type": "stream",
       "stream": "stdout",
       "text": [
        "\n"
       ]
      }
     ],
     "prompt_number": 198
    },
    {
     "cell_type": "code",
     "collapsed": false,
     "input": [
      "essays_df['TitleLength'] = [len(title) for title in essays_df.title]"
     ],
     "language": "python",
     "metadata": {},
     "outputs": [],
     "prompt_number": 195
    },
    {
     "cell_type": "code",
     "collapsed": false,
     "input": [
      "essays_df['DescriptionLength'] = [len(description) for description in essays_df.short_description]\n",
      "essays_df['NeedLength'] = [len(need) for need in essays_df.need_statement]"
     ],
     "language": "python",
     "metadata": {},
     "outputs": [],
     "prompt_number": 196
    },
    {
     "cell_type": "code",
     "collapsed": false,
     "input": [
      "essays_df.describe()"
     ],
     "language": "python",
     "metadata": {},
     "outputs": [
      {
       "html": [
        "<div style=\"max-height:1000px;max-width:1500px;overflow:auto;\">\n",
        "<table border=\"1\" class=\"dataframe\">\n",
        "  <thead>\n",
        "    <tr style=\"text-align: right;\">\n",
        "      <th></th>\n",
        "      <th>TitleLength</th>\n",
        "      <th>DescriptionLength</th>\n",
        "      <th>NeedLength</th>\n",
        "    </tr>\n",
        "  </thead>\n",
        "  <tbody>\n",
        "    <tr>\n",
        "      <th>count</th>\n",
        "      <td> 771928.000000</td>\n",
        "      <td> 771928.000000</td>\n",
        "      <td> 771928.000000</td>\n",
        "    </tr>\n",
        "    <tr>\n",
        "      <th>mean</th>\n",
        "      <td>     33.805087</td>\n",
        "      <td>    212.203159</td>\n",
        "      <td>    124.455922</td>\n",
        "    </tr>\n",
        "    <tr>\n",
        "      <th>std</th>\n",
        "      <td>     13.185556</td>\n",
        "      <td>     45.198592</td>\n",
        "      <td>     64.240508</td>\n",
        "    </tr>\n",
        "    <tr>\n",
        "      <th>min</th>\n",
        "      <td>      0.000000</td>\n",
        "      <td>      0.000000</td>\n",
        "      <td>      0.000000</td>\n",
        "    </tr>\n",
        "    <tr>\n",
        "      <th>25%</th>\n",
        "      <td>     23.000000</td>\n",
        "      <td>    197.000000</td>\n",
        "      <td>     82.000000</td>\n",
        "    </tr>\n",
        "    <tr>\n",
        "      <th>50%</th>\n",
        "      <td>     32.000000</td>\n",
        "      <td>    200.000000</td>\n",
        "      <td>    115.000000</td>\n",
        "    </tr>\n",
        "    <tr>\n",
        "      <th>75%</th>\n",
        "      <td>     43.000000</td>\n",
        "      <td>    217.000000</td>\n",
        "      <td>    156.000000</td>\n",
        "    </tr>\n",
        "    <tr>\n",
        "      <th>max</th>\n",
        "      <td>    322.000000</td>\n",
        "      <td>   1750.000000</td>\n",
        "      <td>   4352.000000</td>\n",
        "    </tr>\n",
        "  </tbody>\n",
        "</table>\n",
        "</div>"
       ],
       "metadata": {},
       "output_type": "pyout",
       "prompt_number": 199,
       "text": [
        "         TitleLength  DescriptionLength     NeedLength\n",
        "count  771928.000000      771928.000000  771928.000000\n",
        "mean       33.805087         212.203159     124.455922\n",
        "std        13.185556          45.198592      64.240508\n",
        "min         0.000000           0.000000       0.000000\n",
        "25%        23.000000         197.000000      82.000000\n",
        "50%        32.000000         200.000000     115.000000\n",
        "75%        43.000000         217.000000     156.000000\n",
        "max       322.000000        1750.000000    4352.000000"
       ]
      }
     ],
     "prompt_number": 199
    },
    {
     "cell_type": "code",
     "collapsed": false,
     "input": [
      "larger_sample_essays = essays_df[:5000]"
     ],
     "language": "python",
     "metadata": {},
     "outputs": [],
     "prompt_number": 57
    },
    {
     "cell_type": "markdown",
     "metadata": {},
     "source": [
      "####Function to evaluate the sentiment of each term and create a list of dictionaries with the information "
     ]
    },
    {
     "cell_type": "code",
     "collapsed": false,
     "input": [
      "def sentiment_function(df, column):\n",
      "    sentiment_list = []\n",
      "    for i in range(len(df)):\n",
      "        try:\n",
      "            decoded_text = (df[column][i]).decode('utf-8')\n",
      "            text_blob = TextBlob(decoded_text)\n",
      "            if text_blob:\n",
      "                polarity, subjectivity = text_blob.sentiment\n",
      "                polarity_column_name = \"%s polarity\" % column\n",
      "                subjectivity_column_name = \"%s subjectivity\" % column\n",
      "                sentiment = {\"_projectid\": df.index[i], \n",
      "                             polarity_column_name: polarity, \n",
      "                             subjectivity_column_name: subjectivity}\n",
      "                sentiment_list.append(sentiment)\n",
      "            else:\n",
      "                sentiment_null = {\"_projectid\": df.index[i], \n",
      "                                  polarity_column_name: 0, \n",
      "                                  subjectivity_column_name: 0.5}\n",
      "#                 print i, df[column][i] #decoded_text\n",
      "                sentiment_list.append(sentiment_null)\n",
      "        except:\n",
      "            print i\n",
      "    return sentiment_list"
     ],
     "language": "python",
     "metadata": {},
     "outputs": [],
     "prompt_number": 200
    },
    {
     "cell_type": "code",
     "collapsed": false,
     "input": [
      "need_sentiment_list = sentiment_function(essays_df, \"need_statement\")"
     ],
     "language": "python",
     "metadata": {},
     "outputs": [],
     "prompt_number": 202
    },
    {
     "cell_type": "code",
     "collapsed": false,
     "input": [
      "len(need_sentiment_list)"
     ],
     "language": "python",
     "metadata": {},
     "outputs": [
      {
       "metadata": {},
       "output_type": "pyout",
       "prompt_number": 205,
       "text": [
        "771928"
       ]
      }
     ],
     "prompt_number": 205
    },
    {
     "cell_type": "code",
     "collapsed": false,
     "input": [
      "need_sentiment_pd = pd.DataFrame(need_sentiment_list)"
     ],
     "language": "python",
     "metadata": {},
     "outputs": [],
     "prompt_number": 127
    },
    {
     "cell_type": "code",
     "collapsed": false,
     "input": [
      "#need_sentiment_pd.head()"
     ],
     "language": "python",
     "metadata": {},
     "outputs": [],
     "prompt_number": 129
    },
    {
     "cell_type": "code",
     "collapsed": false,
     "input": [
      "title_sentiment_list = sentiment_function(sample_essays, \"title\")"
     ],
     "language": "python",
     "metadata": {},
     "outputs": [],
     "prompt_number": 130
    },
    {
     "cell_type": "code",
     "collapsed": false,
     "input": [
      "title_sentiment_pd = pd.DataFrame(title_sentiment_list)\n",
      "title_sentiment_pd.describe()"
     ],
     "language": "python",
     "metadata": {},
     "outputs": [
      {
       "html": [
        "<div style=\"max-height:1000px;max-width:1500px;overflow:auto;\">\n",
        "<table border=\"1\" class=\"dataframe\">\n",
        "  <thead>\n",
        "    <tr style=\"text-align: right;\">\n",
        "      <th></th>\n",
        "      <th>title polarity</th>\n",
        "      <th>title subjectivity</th>\n",
        "    </tr>\n",
        "  </thead>\n",
        "  <tbody>\n",
        "    <tr>\n",
        "      <th>count</th>\n",
        "      <td> 500.000000</td>\n",
        "      <td> 500.000000</td>\n",
        "    </tr>\n",
        "    <tr>\n",
        "      <th>mean</th>\n",
        "      <td>   0.054519</td>\n",
        "      <td>   0.140275</td>\n",
        "    </tr>\n",
        "    <tr>\n",
        "      <th>std</th>\n",
        "      <td>   0.186887</td>\n",
        "      <td>   0.266591</td>\n",
        "    </tr>\n",
        "    <tr>\n",
        "      <th>min</th>\n",
        "      <td>  -0.800000</td>\n",
        "      <td>   0.000000</td>\n",
        "    </tr>\n",
        "    <tr>\n",
        "      <th>25%</th>\n",
        "      <td>   0.000000</td>\n",
        "      <td>   0.000000</td>\n",
        "    </tr>\n",
        "    <tr>\n",
        "      <th>50%</th>\n",
        "      <td>   0.000000</td>\n",
        "      <td>   0.000000</td>\n",
        "    </tr>\n",
        "    <tr>\n",
        "      <th>75%</th>\n",
        "      <td>   0.000000</td>\n",
        "      <td>   0.115625</td>\n",
        "    </tr>\n",
        "    <tr>\n",
        "      <th>max</th>\n",
        "      <td>   1.000000</td>\n",
        "      <td>   1.000000</td>\n",
        "    </tr>\n",
        "  </tbody>\n",
        "</table>\n",
        "</div>"
       ],
       "metadata": {},
       "output_type": "pyout",
       "prompt_number": 131,
       "text": [
        "       title polarity  title subjectivity\n",
        "count      500.000000          500.000000\n",
        "mean         0.054519            0.140275\n",
        "std          0.186887            0.266591\n",
        "min         -0.800000            0.000000\n",
        "25%          0.000000            0.000000\n",
        "50%          0.000000            0.000000\n",
        "75%          0.000000            0.115625\n",
        "max          1.000000            1.000000"
       ]
      }
     ],
     "prompt_number": 131
    },
    {
     "cell_type": "code",
     "collapsed": false,
     "input": [
      "short_des_sentiment_list = sentiment_function(sample_essays, \"short_description\")"
     ],
     "language": "python",
     "metadata": {},
     "outputs": [],
     "prompt_number": 132
    },
    {
     "cell_type": "code",
     "collapsed": false,
     "input": [
      "sentiment_df = pd.DataFrame(short_des_sentiment_list)\n",
      "sentiment_df.describe()"
     ],
     "language": "python",
     "metadata": {},
     "outputs": [
      {
       "html": [
        "<div style=\"max-height:1000px;max-width:1500px;overflow:auto;\">\n",
        "<table border=\"1\" class=\"dataframe\">\n",
        "  <thead>\n",
        "    <tr style=\"text-align: right;\">\n",
        "      <th></th>\n",
        "      <th>Index</th>\n",
        "      <th>need_statement Polarity</th>\n",
        "      <th>need_statement Subjectivity</th>\n",
        "      <th>short_description Polarity</th>\n",
        "      <th>short_description Subjectivity</th>\n",
        "      <th>title Polarity</th>\n",
        "      <th>title Subjectivity</th>\n",
        "    </tr>\n",
        "  </thead>\n",
        "  <tbody>\n",
        "    <tr>\n",
        "      <th>count</th>\n",
        "      <td> 1500.000000</td>\n",
        "      <td> 500.000000</td>\n",
        "      <td> 500.000000</td>\n",
        "      <td> 500.000000</td>\n",
        "      <td> 500.000000</td>\n",
        "      <td> 500.000000</td>\n",
        "      <td> 500.000000</td>\n",
        "    </tr>\n",
        "    <tr>\n",
        "      <th>mean</th>\n",
        "      <td>  249.500000</td>\n",
        "      <td>   0.066245</td>\n",
        "      <td>   0.194994</td>\n",
        "      <td>   0.104803</td>\n",
        "      <td>   0.306375</td>\n",
        "      <td>   0.054519</td>\n",
        "      <td>   0.140275</td>\n",
        "    </tr>\n",
        "    <tr>\n",
        "      <th>std</th>\n",
        "      <td>  144.385415</td>\n",
        "      <td>   0.184321</td>\n",
        "      <td>   0.288534</td>\n",
        "      <td>   0.166141</td>\n",
        "      <td>   0.269923</td>\n",
        "      <td>   0.186887</td>\n",
        "      <td>   0.266591</td>\n",
        "    </tr>\n",
        "    <tr>\n",
        "      <th>min</th>\n",
        "      <td>    0.000000</td>\n",
        "      <td>  -1.000000</td>\n",
        "      <td>   0.000000</td>\n",
        "      <td>  -0.520000</td>\n",
        "      <td>   0.000000</td>\n",
        "      <td>  -0.800000</td>\n",
        "      <td>   0.000000</td>\n",
        "    </tr>\n",
        "    <tr>\n",
        "      <th>25%</th>\n",
        "      <td>  124.750000</td>\n",
        "      <td>   0.000000</td>\n",
        "      <td>   0.000000</td>\n",
        "      <td>   0.000000</td>\n",
        "      <td>   0.000000</td>\n",
        "      <td>   0.000000</td>\n",
        "      <td>   0.000000</td>\n",
        "    </tr>\n",
        "    <tr>\n",
        "      <th>50%</th>\n",
        "      <td>  249.500000</td>\n",
        "      <td>   0.000000</td>\n",
        "      <td>   0.000000</td>\n",
        "      <td>   0.050000</td>\n",
        "      <td>   0.310511</td>\n",
        "      <td>   0.000000</td>\n",
        "      <td>   0.000000</td>\n",
        "    </tr>\n",
        "    <tr>\n",
        "      <th>75%</th>\n",
        "      <td>  374.250000</td>\n",
        "      <td>   0.054167</td>\n",
        "      <td>   0.400000</td>\n",
        "      <td>   0.200000</td>\n",
        "      <td>   0.514167</td>\n",
        "      <td>   0.000000</td>\n",
        "      <td>   0.115625</td>\n",
        "    </tr>\n",
        "    <tr>\n",
        "      <th>max</th>\n",
        "      <td>  499.000000</td>\n",
        "      <td>   0.800000</td>\n",
        "      <td>   1.000000</td>\n",
        "      <td>   1.000000</td>\n",
        "      <td>   1.000000</td>\n",
        "      <td>   1.000000</td>\n",
        "      <td>   1.000000</td>\n",
        "    </tr>\n",
        "  </tbody>\n",
        "</table>\n",
        "</div>"
       ],
       "metadata": {},
       "output_type": "pyout",
       "prompt_number": 46,
       "text": [
        "             Index  need_statement Polarity  need_statement Subjectivity  \\\n",
        "count  1500.000000               500.000000                   500.000000   \n",
        "mean    249.500000                 0.066245                     0.194994   \n",
        "std     144.385415                 0.184321                     0.288534   \n",
        "min       0.000000                -1.000000                     0.000000   \n",
        "25%     124.750000                 0.000000                     0.000000   \n",
        "50%     249.500000                 0.000000                     0.000000   \n",
        "75%     374.250000                 0.054167                     0.400000   \n",
        "max     499.000000                 0.800000                     1.000000   \n",
        "\n",
        "       short_description Polarity  short_description Subjectivity  \\\n",
        "count                  500.000000                      500.000000   \n",
        "mean                     0.104803                        0.306375   \n",
        "std                      0.166141                        0.269923   \n",
        "min                     -0.520000                        0.000000   \n",
        "25%                      0.000000                        0.000000   \n",
        "50%                      0.050000                        0.310511   \n",
        "75%                      0.200000                        0.514167   \n",
        "max                      1.000000                        1.000000   \n",
        "\n",
        "       title Polarity  title Subjectivity  \n",
        "count      500.000000          500.000000  \n",
        "mean         0.054519            0.140275  \n",
        "std          0.186887            0.266591  \n",
        "min         -0.800000            0.000000  \n",
        "25%          0.000000            0.000000  \n",
        "50%          0.000000            0.000000  \n",
        "75%          0.000000            0.115625  \n",
        "max          1.000000            1.000000  "
       ]
      }
     ],
     "prompt_number": 46
    },
    {
     "cell_type": "markdown",
     "metadata": {},
     "source": [
      "Looking at the whole set of Need Statements:"
     ]
    },
    {
     "cell_type": "code",
     "collapsed": false,
     "input": [
      "need_list = sentiment_function(larger_sample_essays, \"need_statement\")"
     ],
     "language": "python",
     "metadata": {},
     "outputs": [],
     "prompt_number": 104
    },
    {
     "cell_type": "code",
     "collapsed": false,
     "input": [
      "need_list_all = sentiment_function(essays_df, \"need_statement\")"
     ],
     "language": "python",
     "metadata": {},
     "outputs": [
      {
       "output_type": "stream",
       "stream": "stdout",
       "text": [
        "101624\n"
       ]
      }
     ],
     "prompt_number": 54
    },
    {
     "cell_type": "markdown",
     "metadata": {},
     "source": [
      "...And the whole set of Titles:"
     ]
    },
    {
     "cell_type": "code",
     "collapsed": false,
     "input": [
      "title_list_all = sentiment_function(essays_df, \"title\")"
     ],
     "language": "python",
     "metadata": {},
     "outputs": [],
     "prompt_number": 203
    },
    {
     "cell_type": "code",
     "collapsed": false,
     "input": [
      "len(title_list_all)"
     ],
     "language": "python",
     "metadata": {},
     "outputs": [
      {
       "metadata": {},
       "output_type": "pyout",
       "prompt_number": 56,
       "text": [
        "771929"
       ]
      }
     ],
     "prompt_number": 56
    },
    {
     "cell_type": "markdown",
     "metadata": {},
     "source": [
      "...And the whole set of short descriptions:"
     ]
    },
    {
     "cell_type": "code",
     "collapsed": false,
     "input": [
      "description_list_all = sentiment_function(essays_df, \"short_description\")"
     ],
     "language": "python",
     "metadata": {},
     "outputs": [],
     "prompt_number": 204
    },
    {
     "cell_type": "code",
     "collapsed": false,
     "input": [
      "len(description_list_all)"
     ],
     "language": "python",
     "metadata": {},
     "outputs": [
      {
       "metadata": {},
       "output_type": "pyout",
       "prompt_number": 60,
       "text": [
        "771923"
       ]
      }
     ],
     "prompt_number": 60
    },
    {
     "cell_type": "code",
     "collapsed": false,
     "input": [
      "test_df = pd.DataFrame(title_list_all)"
     ],
     "language": "python",
     "metadata": {},
     "outputs": [],
     "prompt_number": 206
    },
    {
     "cell_type": "code",
     "collapsed": false,
     "input": [
      "test_df.describe()"
     ],
     "language": "python",
     "metadata": {},
     "outputs": [
      {
       "html": [
        "<div style=\"max-height:1000px;max-width:1500px;overflow:auto;\">\n",
        "<table border=\"1\" class=\"dataframe\">\n",
        "  <thead>\n",
        "    <tr style=\"text-align: right;\">\n",
        "      <th></th>\n",
        "      <th>title polarity</th>\n",
        "      <th>title subjectivity</th>\n",
        "    </tr>\n",
        "  </thead>\n",
        "  <tbody>\n",
        "    <tr>\n",
        "      <th>count</th>\n",
        "      <td> 771928.000000</td>\n",
        "      <td> 771928.000000</td>\n",
        "    </tr>\n",
        "    <tr>\n",
        "      <th>mean</th>\n",
        "      <td>      0.082764</td>\n",
        "      <td>      0.169754</td>\n",
        "    </tr>\n",
        "    <tr>\n",
        "      <th>std</th>\n",
        "      <td>      0.224816</td>\n",
        "      <td>      0.284576</td>\n",
        "    </tr>\n",
        "    <tr>\n",
        "      <th>min</th>\n",
        "      <td>     -1.000000</td>\n",
        "      <td>      0.000000</td>\n",
        "    </tr>\n",
        "    <tr>\n",
        "      <th>25%</th>\n",
        "      <td>      0.000000</td>\n",
        "      <td>      0.000000</td>\n",
        "    </tr>\n",
        "    <tr>\n",
        "      <th>50%</th>\n",
        "      <td>      0.000000</td>\n",
        "      <td>      0.000000</td>\n",
        "    </tr>\n",
        "    <tr>\n",
        "      <th>75%</th>\n",
        "      <td>      0.005682</td>\n",
        "      <td>      0.300000</td>\n",
        "    </tr>\n",
        "    <tr>\n",
        "      <th>max</th>\n",
        "      <td>      1.000000</td>\n",
        "      <td>      1.000000</td>\n",
        "    </tr>\n",
        "  </tbody>\n",
        "</table>\n",
        "</div>"
       ],
       "metadata": {},
       "output_type": "pyout",
       "prompt_number": 208,
       "text": [
        "       title polarity  title subjectivity\n",
        "count   771928.000000       771928.000000\n",
        "mean         0.082764            0.169754\n",
        "std          0.224816            0.284576\n",
        "min         -1.000000            0.000000\n",
        "25%          0.000000            0.000000\n",
        "50%          0.000000            0.000000\n",
        "75%          0.005682            0.300000\n",
        "max          1.000000            1.000000"
       ]
      }
     ],
     "prompt_number": 208
    },
    {
     "cell_type": "code",
     "collapsed": false,
     "input": [
      "title_df = pd.DataFrame(title_list_all)\n",
      "description_df = pd.DataFrame(description_list_all)\n",
      "need_df = pd.DataFrame(need_sentiment_list)"
     ],
     "language": "python",
     "metadata": {},
     "outputs": [],
     "prompt_number": 210
    },
    {
     "cell_type": "code",
     "collapsed": false,
     "input": [
      "title_df.head()"
     ],
     "language": "python",
     "metadata": {},
     "outputs": [
      {
       "html": [
        "<div style=\"max-height:1000px;max-width:1500px;overflow:auto;\">\n",
        "<table border=\"1\" class=\"dataframe\">\n",
        "  <thead>\n",
        "    <tr style=\"text-align: right;\">\n",
        "      <th></th>\n",
        "      <th>_projectid</th>\n",
        "      <th>title polarity</th>\n",
        "      <th>title subjectivity</th>\n",
        "    </tr>\n",
        "  </thead>\n",
        "  <tbody>\n",
        "    <tr>\n",
        "      <th>0</th>\n",
        "      <td> \"e565fb42185c6e9f22806ad9d5ac8a77\"</td>\n",
        "      <td> 0.0</td>\n",
        "      <td> 0.0</td>\n",
        "    </tr>\n",
        "    <tr>\n",
        "      <th>1</th>\n",
        "      <td> \"76108ed46f99f27beb4c605b69c92b07\"</td>\n",
        "      <td> 0.0</td>\n",
        "      <td> 0.0</td>\n",
        "    </tr>\n",
        "    <tr>\n",
        "      <th>2</th>\n",
        "      <td> \"2568882e4906849754bbe7246d01ed5e\"</td>\n",
        "      <td> 0.0</td>\n",
        "      <td> 0.0</td>\n",
        "    </tr>\n",
        "    <tr>\n",
        "      <th>3</th>\n",
        "      <td> \"e49f6d07f9da7086d2d823311639f479\"</td>\n",
        "      <td>-0.1</td>\n",
        "      <td> 0.1</td>\n",
        "    </tr>\n",
        "    <tr>\n",
        "      <th>4</th>\n",
        "      <td> \"548b161b4e808fb580075e03774da1b9\"</td>\n",
        "      <td> 0.0</td>\n",
        "      <td> 0.5</td>\n",
        "    </tr>\n",
        "  </tbody>\n",
        "</table>\n",
        "</div>"
       ],
       "metadata": {},
       "output_type": "pyout",
       "prompt_number": 211,
       "text": [
        "                           _projectid  title polarity  title subjectivity\n",
        "0  \"e565fb42185c6e9f22806ad9d5ac8a77\"             0.0                 0.0\n",
        "1  \"76108ed46f99f27beb4c605b69c92b07\"             0.0                 0.0\n",
        "2  \"2568882e4906849754bbe7246d01ed5e\"             0.0                 0.0\n",
        "3  \"e49f6d07f9da7086d2d823311639f479\"            -0.1                 0.1\n",
        "4  \"548b161b4e808fb580075e03774da1b9\"             0.0                 0.5"
       ]
      }
     ],
     "prompt_number": 211
    },
    {
     "cell_type": "code",
     "collapsed": false,
     "input": [
      "test_df = pd.merge(title_df, description_df, how=\"left\", on=\"_projectid\")"
     ],
     "language": "python",
     "metadata": {},
     "outputs": [],
     "prompt_number": 212
    },
    {
     "cell_type": "code",
     "collapsed": false,
     "input": [
      "test_df.head()"
     ],
     "language": "python",
     "metadata": {},
     "outputs": [
      {
       "html": [
        "<div style=\"max-height:1000px;max-width:1500px;overflow:auto;\">\n",
        "<table border=\"1\" class=\"dataframe\">\n",
        "  <thead>\n",
        "    <tr style=\"text-align: right;\">\n",
        "      <th></th>\n",
        "      <th>_projectid</th>\n",
        "      <th>title polarity</th>\n",
        "      <th>title subjectivity</th>\n",
        "      <th>short_description polarity</th>\n",
        "      <th>short_description subjectivity</th>\n",
        "    </tr>\n",
        "  </thead>\n",
        "  <tbody>\n",
        "    <tr>\n",
        "      <th>0</th>\n",
        "      <td> \"e565fb42185c6e9f22806ad9d5ac8a77\"</td>\n",
        "      <td> 0.0</td>\n",
        "      <td> 0.0</td>\n",
        "      <td> 0.100000</td>\n",
        "      <td> 0.250000</td>\n",
        "    </tr>\n",
        "    <tr>\n",
        "      <th>1</th>\n",
        "      <td> \"76108ed46f99f27beb4c605b69c92b07\"</td>\n",
        "      <td> 0.0</td>\n",
        "      <td> 0.0</td>\n",
        "      <td> 0.330000</td>\n",
        "      <td> 0.520000</td>\n",
        "    </tr>\n",
        "    <tr>\n",
        "      <th>2</th>\n",
        "      <td> \"2568882e4906849754bbe7246d01ed5e\"</td>\n",
        "      <td> 0.0</td>\n",
        "      <td> 0.0</td>\n",
        "      <td>-0.050000</td>\n",
        "      <td> 0.183333</td>\n",
        "    </tr>\n",
        "    <tr>\n",
        "      <th>3</th>\n",
        "      <td> \"e49f6d07f9da7086d2d823311639f479\"</td>\n",
        "      <td>-0.1</td>\n",
        "      <td> 0.1</td>\n",
        "      <td> 0.280000</td>\n",
        "      <td> 0.670000</td>\n",
        "    </tr>\n",
        "    <tr>\n",
        "      <th>4</th>\n",
        "      <td> \"548b161b4e808fb580075e03774da1b9\"</td>\n",
        "      <td> 0.0</td>\n",
        "      <td> 0.5</td>\n",
        "      <td> 0.077273</td>\n",
        "      <td> 0.360000</td>\n",
        "    </tr>\n",
        "  </tbody>\n",
        "</table>\n",
        "</div>"
       ],
       "metadata": {},
       "output_type": "pyout",
       "prompt_number": 213,
       "text": [
        "                           _projectid  title polarity  title subjectivity  \\\n",
        "0  \"e565fb42185c6e9f22806ad9d5ac8a77\"             0.0                 0.0   \n",
        "1  \"76108ed46f99f27beb4c605b69c92b07\"             0.0                 0.0   \n",
        "2  \"2568882e4906849754bbe7246d01ed5e\"             0.0                 0.0   \n",
        "3  \"e49f6d07f9da7086d2d823311639f479\"            -0.1                 0.1   \n",
        "4  \"548b161b4e808fb580075e03774da1b9\"             0.0                 0.5   \n",
        "\n",
        "   short_description polarity  short_description subjectivity  \n",
        "0                    0.100000                        0.250000  \n",
        "1                    0.330000                        0.520000  \n",
        "2                   -0.050000                        0.183333  \n",
        "3                    0.280000                        0.670000  \n",
        "4                    0.077273                        0.360000  "
       ]
      }
     ],
     "prompt_number": 213
    },
    {
     "cell_type": "code",
     "collapsed": false,
     "input": [
      "sentiment_df = pd.merge(test_df, need_df, how=\"left\", on=\"_projectid\")"
     ],
     "language": "python",
     "metadata": {},
     "outputs": [],
     "prompt_number": 214
    },
    {
     "cell_type": "code",
     "collapsed": false,
     "input": [
      "sentiment_df.head()"
     ],
     "language": "python",
     "metadata": {},
     "outputs": [
      {
       "html": [
        "<div style=\"max-height:1000px;max-width:1500px;overflow:auto;\">\n",
        "<table border=\"1\" class=\"dataframe\">\n",
        "  <thead>\n",
        "    <tr style=\"text-align: right;\">\n",
        "      <th></th>\n",
        "      <th>_projectid</th>\n",
        "      <th>title polarity</th>\n",
        "      <th>title subjectivity</th>\n",
        "      <th>short_description polarity</th>\n",
        "      <th>short_description subjectivity</th>\n",
        "      <th>need_statement polarity</th>\n",
        "      <th>need_statement subjectivity</th>\n",
        "    </tr>\n",
        "  </thead>\n",
        "  <tbody>\n",
        "    <tr>\n",
        "      <th>0</th>\n",
        "      <td> \"e565fb42185c6e9f22806ad9d5ac8a77\"</td>\n",
        "      <td> 0.0</td>\n",
        "      <td> 0.0</td>\n",
        "      <td> 0.100000</td>\n",
        "      <td> 0.250000</td>\n",
        "      <td>-0.131818</td>\n",
        "      <td> 0.527273</td>\n",
        "    </tr>\n",
        "    <tr>\n",
        "      <th>1</th>\n",
        "      <td> \"76108ed46f99f27beb4c605b69c92b07\"</td>\n",
        "      <td> 0.0</td>\n",
        "      <td> 0.0</td>\n",
        "      <td> 0.330000</td>\n",
        "      <td> 0.520000</td>\n",
        "      <td>-0.087879</td>\n",
        "      <td> 0.351515</td>\n",
        "    </tr>\n",
        "    <tr>\n",
        "      <th>2</th>\n",
        "      <td> \"2568882e4906849754bbe7246d01ed5e\"</td>\n",
        "      <td> 0.0</td>\n",
        "      <td> 0.0</td>\n",
        "      <td>-0.050000</td>\n",
        "      <td> 0.183333</td>\n",
        "      <td>-0.131818</td>\n",
        "      <td> 0.527273</td>\n",
        "    </tr>\n",
        "    <tr>\n",
        "      <th>3</th>\n",
        "      <td> \"e49f6d07f9da7086d2d823311639f479\"</td>\n",
        "      <td>-0.1</td>\n",
        "      <td> 0.1</td>\n",
        "      <td> 0.280000</td>\n",
        "      <td> 0.670000</td>\n",
        "      <td>-0.131818</td>\n",
        "      <td> 0.527273</td>\n",
        "    </tr>\n",
        "    <tr>\n",
        "      <th>4</th>\n",
        "      <td> \"548b161b4e808fb580075e03774da1b9\"</td>\n",
        "      <td> 0.0</td>\n",
        "      <td> 0.5</td>\n",
        "      <td> 0.077273</td>\n",
        "      <td> 0.360000</td>\n",
        "      <td>-0.131818</td>\n",
        "      <td> 0.527273</td>\n",
        "    </tr>\n",
        "  </tbody>\n",
        "</table>\n",
        "</div>"
       ],
       "metadata": {},
       "output_type": "pyout",
       "prompt_number": 215,
       "text": [
        "                           _projectid  title polarity  title subjectivity  \\\n",
        "0  \"e565fb42185c6e9f22806ad9d5ac8a77\"             0.0                 0.0   \n",
        "1  \"76108ed46f99f27beb4c605b69c92b07\"             0.0                 0.0   \n",
        "2  \"2568882e4906849754bbe7246d01ed5e\"             0.0                 0.0   \n",
        "3  \"e49f6d07f9da7086d2d823311639f479\"            -0.1                 0.1   \n",
        "4  \"548b161b4e808fb580075e03774da1b9\"             0.0                 0.5   \n",
        "\n",
        "   short_description polarity  short_description subjectivity  \\\n",
        "0                    0.100000                        0.250000   \n",
        "1                    0.330000                        0.520000   \n",
        "2                   -0.050000                        0.183333   \n",
        "3                    0.280000                        0.670000   \n",
        "4                    0.077273                        0.360000   \n",
        "\n",
        "   need_statement polarity  need_statement subjectivity  \n",
        "0                -0.131818                     0.527273  \n",
        "1                -0.087879                     0.351515  \n",
        "2                -0.131818                     0.527273  \n",
        "3                -0.131818                     0.527273  \n",
        "4                -0.131818                     0.527273  "
       ]
      }
     ],
     "prompt_number": 215
    },
    {
     "cell_type": "code",
     "collapsed": false,
     "input": [
      "essays_df.columns"
     ],
     "language": "python",
     "metadata": {},
     "outputs": [
      {
       "metadata": {},
       "output_type": "pyout",
       "prompt_number": 216,
       "text": [
        "Index([u'_teacher_acctid', u'title', u'short_description', u'need_statement', u'TitleLength', u'DescriptionLength', u'NeedLength'], dtype='object')"
       ]
      }
     ],
     "prompt_number": 216
    },
    {
     "cell_type": "code",
     "collapsed": false,
     "input": [
      "essaysandsentiment_df = pd.merge(essays_df, sentiment_df, how=\"left\", right_on=\"_projectid\", left_index=True)"
     ],
     "language": "python",
     "metadata": {},
     "outputs": [],
     "prompt_number": 219
    },
    {
     "cell_type": "code",
     "collapsed": false,
     "input": [
      "# essaysandsentiment_df.head()"
     ],
     "language": "python",
     "metadata": {},
     "outputs": [],
     "prompt_number": 221
    },
    {
     "cell_type": "code",
     "collapsed": false,
     "input": [
      "with open(\"essaysandsentiment_df.pkl\", \"w\") as picklefile:\n",
      "    pickle.dump(essaysandsentiment_df, picklefile)"
     ],
     "language": "python",
     "metadata": {},
     "outputs": [],
     "prompt_number": 222
    },
    {
     "cell_type": "code",
     "collapsed": false,
     "input": [
      "funding_df.head()"
     ],
     "language": "python",
     "metadata": {},
     "outputs": [
      {
       "html": [
        "<div style=\"max-height:1000px;max-width:1500px;overflow:auto;\">\n",
        "<table border=\"1\" class=\"dataframe\">\n",
        "  <thead>\n",
        "    <tr style=\"text-align: right;\">\n",
        "      <th></th>\n",
        "      <th>_teacher_acctid</th>\n",
        "      <th>_schoolid</th>\n",
        "      <th>school_ncesid</th>\n",
        "      <th>school_latitude</th>\n",
        "      <th>school_longitude</th>\n",
        "      <th>school_city</th>\n",
        "      <th>school_state</th>\n",
        "      <th>school_zip</th>\n",
        "      <th>school_metro</th>\n",
        "      <th>school_district</th>\n",
        "      <th>...</th>\n",
        "      <th>eligible_almost_home_match</th>\n",
        "      <th>funding_status</th>\n",
        "      <th>date_posted</th>\n",
        "      <th>date_completed</th>\n",
        "      <th>date_thank_you_packet_mailed</th>\n",
        "      <th>date_expiration</th>\n",
        "      <th>price/student</th>\n",
        "      <th>month_posted</th>\n",
        "      <th>year_posted</th>\n",
        "      <th>funded</th>\n",
        "    </tr>\n",
        "    <tr>\n",
        "      <th>_projectid</th>\n",
        "      <th></th>\n",
        "      <th></th>\n",
        "      <th></th>\n",
        "      <th></th>\n",
        "      <th></th>\n",
        "      <th></th>\n",
        "      <th></th>\n",
        "      <th></th>\n",
        "      <th></th>\n",
        "      <th></th>\n",
        "      <th></th>\n",
        "      <th></th>\n",
        "      <th></th>\n",
        "      <th></th>\n",
        "      <th></th>\n",
        "      <th></th>\n",
        "      <th></th>\n",
        "      <th></th>\n",
        "      <th></th>\n",
        "      <th></th>\n",
        "      <th></th>\n",
        "    </tr>\n",
        "  </thead>\n",
        "  <tbody>\n",
        "    <tr>\n",
        "      <th>\"\"\"e565fb42185c6e9f22806ad9d5ac8a77\"\"\"</th>\n",
        "      <td> \"\"\"2e17c8c91cb58132d8103a9aa8797e80\"\"\"</td>\n",
        "      <td> \"\"\"45e7ddbdd7023f1eb65a6cc028d7414f\"\"\"</td>\n",
        "      <td> 360009001332</td>\n",
        "      <td> 40.841691</td>\n",
        "      <td>-73.875457</td>\n",
        "      <td>    Bronx</td>\n",
        "      <td> NY</td>\n",
        "      <td> 10460</td>\n",
        "      <td> urban</td>\n",
        "      <td> New York City Dept Of Ed</td>\n",
        "      <td>...</td>\n",
        "      <td> 0</td>\n",
        "      <td> completed</td>\n",
        "      <td>2007-03-08</td>\n",
        "      <td> 2007-03-08</td>\n",
        "      <td> 2007-03-08</td>\n",
        "      <td> 2003-12-31</td>\n",
        "      <td> 280021</td>\n",
        "      <td>  3</td>\n",
        "      <td> 2007</td>\n",
        "      <td> 1</td>\n",
        "    </tr>\n",
        "    <tr>\n",
        "      <th>\"\"\"76108ed46f99f27beb4c605b69c92b07\"\"\"</th>\n",
        "      <td> \"\"\"6b3721c9585633fa716e629ec501ff5a\"\"\"</td>\n",
        "      <td> \"\"\"45e7ddbdd7023f1eb65a6cc028d7414f\"\"\"</td>\n",
        "      <td> 360009001332</td>\n",
        "      <td> 40.841691</td>\n",
        "      <td>-73.875457</td>\n",
        "      <td>    Bronx</td>\n",
        "      <td> NY</td>\n",
        "      <td> 10460</td>\n",
        "      <td> urban</td>\n",
        "      <td> New York City Dept Of Ed</td>\n",
        "      <td>...</td>\n",
        "      <td> 0</td>\n",
        "      <td> completed</td>\n",
        "      <td>2002-11-11</td>\n",
        "      <td> 2002-12-06</td>\n",
        "      <td> 2002-12-06</td>\n",
        "      <td> 2003-12-31</td>\n",
        "      <td> 299951</td>\n",
        "      <td> 11</td>\n",
        "      <td> 2002</td>\n",
        "      <td> 1</td>\n",
        "    </tr>\n",
        "    <tr>\n",
        "      <th>\"\"\"2568882e4906849754bbe7246d01ed5e\"\"\"</th>\n",
        "      <td> \"\"\"ed55d66251be5810b38e1b2505b7673d\"\"\"</td>\n",
        "      <td> \"\"\"923a1f4850d4e09ad5b8d015ae988505\"\"\"</td>\n",
        "      <td> 360007702871</td>\n",
        "      <td> 40.742210</td>\n",
        "      <td>-74.002041</td>\n",
        "      <td> New York</td>\n",
        "      <td> NY</td>\n",
        "      <td> 10011</td>\n",
        "      <td> urban</td>\n",
        "      <td> New York City Dept Of Ed</td>\n",
        "      <td>...</td>\n",
        "      <td> 0</td>\n",
        "      <td> completed</td>\n",
        "      <td>2002-11-11</td>\n",
        "      <td> 2002-12-09</td>\n",
        "      <td> 2002-12-09</td>\n",
        "      <td> 2003-12-31</td>\n",
        "      <td> 290001</td>\n",
        "      <td> 11</td>\n",
        "      <td> 2002</td>\n",
        "      <td> 1</td>\n",
        "    </tr>\n",
        "    <tr>\n",
        "      <th>\"\"\"e49f6d07f9da7086d2d823311639f479\"\"\"</th>\n",
        "      <td> \"\"\"ba7ada7b8ef61280b6e8783b59625650\"\"\"</td>\n",
        "      <td> \"\"\"45e7ddbdd7023f1eb65a6cc028d7414f\"\"\"</td>\n",
        "      <td> 360009001332</td>\n",
        "      <td> 40.841691</td>\n",
        "      <td>-73.875457</td>\n",
        "      <td>    Bronx</td>\n",
        "      <td> NY</td>\n",
        "      <td> 10460</td>\n",
        "      <td> urban</td>\n",
        "      <td> New York City Dept Of Ed</td>\n",
        "      <td>...</td>\n",
        "      <td> 0</td>\n",
        "      <td> completed</td>\n",
        "      <td>2002-11-11</td>\n",
        "      <td> 2002-12-06</td>\n",
        "      <td> 2002-12-06</td>\n",
        "      <td> 2003-12-31</td>\n",
        "      <td> 348041</td>\n",
        "      <td> 11</td>\n",
        "      <td> 2002</td>\n",
        "      <td> 1</td>\n",
        "    </tr>\n",
        "    <tr>\n",
        "      <th>\"\"\"548b161b4e808fb580075e03774da1b9\"\"\"</th>\n",
        "      <td> \"\"\"58574f5ee5f3d74a4be12379f8097310\"\"\"</td>\n",
        "      <td> \"\"\"45e7ddbdd7023f1eb65a6cc028d7414f\"\"\"</td>\n",
        "      <td> 360009001332</td>\n",
        "      <td> 40.841691</td>\n",
        "      <td>-73.875457</td>\n",
        "      <td>    Bronx</td>\n",
        "      <td> NY</td>\n",
        "      <td> 10460</td>\n",
        "      <td> urban</td>\n",
        "      <td> New York City Dept Of Ed</td>\n",
        "      <td>...</td>\n",
        "      <td> 0</td>\n",
        "      <td> completed</td>\n",
        "      <td>2002-11-11</td>\n",
        "      <td> 2002-12-06</td>\n",
        "      <td> 2002-12-06</td>\n",
        "      <td> 2003-12-31</td>\n",
        "      <td> 297391</td>\n",
        "      <td> 11</td>\n",
        "      <td> 2002</td>\n",
        "      <td> 1</td>\n",
        "    </tr>\n",
        "  </tbody>\n",
        "</table>\n",
        "<p>5 rows \u00d7 47 columns</p>\n",
        "</div>"
       ],
       "metadata": {},
       "output_type": "pyout",
       "prompt_number": 70,
       "text": [
        "                                                               _teacher_acctid  \\\n",
        "_projectid                                                                       \n",
        "\"\"\"e565fb42185c6e9f22806ad9d5ac8a77\"\"\"  \"\"\"2e17c8c91cb58132d8103a9aa8797e80\"\"\"   \n",
        "\"\"\"76108ed46f99f27beb4c605b69c92b07\"\"\"  \"\"\"6b3721c9585633fa716e629ec501ff5a\"\"\"   \n",
        "\"\"\"2568882e4906849754bbe7246d01ed5e\"\"\"  \"\"\"ed55d66251be5810b38e1b2505b7673d\"\"\"   \n",
        "\"\"\"e49f6d07f9da7086d2d823311639f479\"\"\"  \"\"\"ba7ada7b8ef61280b6e8783b59625650\"\"\"   \n",
        "\"\"\"548b161b4e808fb580075e03774da1b9\"\"\"  \"\"\"58574f5ee5f3d74a4be12379f8097310\"\"\"   \n",
        "\n",
        "                                                                     _schoolid  \\\n",
        "_projectid                                                                       \n",
        "\"\"\"e565fb42185c6e9f22806ad9d5ac8a77\"\"\"  \"\"\"45e7ddbdd7023f1eb65a6cc028d7414f\"\"\"   \n",
        "\"\"\"76108ed46f99f27beb4c605b69c92b07\"\"\"  \"\"\"45e7ddbdd7023f1eb65a6cc028d7414f\"\"\"   \n",
        "\"\"\"2568882e4906849754bbe7246d01ed5e\"\"\"  \"\"\"923a1f4850d4e09ad5b8d015ae988505\"\"\"   \n",
        "\"\"\"e49f6d07f9da7086d2d823311639f479\"\"\"  \"\"\"45e7ddbdd7023f1eb65a6cc028d7414f\"\"\"   \n",
        "\"\"\"548b161b4e808fb580075e03774da1b9\"\"\"  \"\"\"45e7ddbdd7023f1eb65a6cc028d7414f\"\"\"   \n",
        "\n",
        "                                       school_ncesid  school_latitude  \\\n",
        "_projectid                                                              \n",
        "\"\"\"e565fb42185c6e9f22806ad9d5ac8a77\"\"\"  360009001332        40.841691   \n",
        "\"\"\"76108ed46f99f27beb4c605b69c92b07\"\"\"  360009001332        40.841691   \n",
        "\"\"\"2568882e4906849754bbe7246d01ed5e\"\"\"  360007702871        40.742210   \n",
        "\"\"\"e49f6d07f9da7086d2d823311639f479\"\"\"  360009001332        40.841691   \n",
        "\"\"\"548b161b4e808fb580075e03774da1b9\"\"\"  360009001332        40.841691   \n",
        "\n",
        "                                        school_longitude school_city  \\\n",
        "_projectid                                                             \n",
        "\"\"\"e565fb42185c6e9f22806ad9d5ac8a77\"\"\"        -73.875457       Bronx   \n",
        "\"\"\"76108ed46f99f27beb4c605b69c92b07\"\"\"        -73.875457       Bronx   \n",
        "\"\"\"2568882e4906849754bbe7246d01ed5e\"\"\"        -74.002041    New York   \n",
        "\"\"\"e49f6d07f9da7086d2d823311639f479\"\"\"        -73.875457       Bronx   \n",
        "\"\"\"548b161b4e808fb580075e03774da1b9\"\"\"        -73.875457       Bronx   \n",
        "\n",
        "                                       school_state school_zip school_metro  \\\n",
        "_projectid                                                                    \n",
        "\"\"\"e565fb42185c6e9f22806ad9d5ac8a77\"\"\"           NY      10460        urban   \n",
        "\"\"\"76108ed46f99f27beb4c605b69c92b07\"\"\"           NY      10460        urban   \n",
        "\"\"\"2568882e4906849754bbe7246d01ed5e\"\"\"           NY      10011        urban   \n",
        "\"\"\"e49f6d07f9da7086d2d823311639f479\"\"\"           NY      10460        urban   \n",
        "\"\"\"548b161b4e808fb580075e03774da1b9\"\"\"           NY      10460        urban   \n",
        "\n",
        "                                                 school_district   ...    \\\n",
        "_projectid                                                         ...     \n",
        "\"\"\"e565fb42185c6e9f22806ad9d5ac8a77\"\"\"  New York City Dept Of Ed   ...     \n",
        "\"\"\"76108ed46f99f27beb4c605b69c92b07\"\"\"  New York City Dept Of Ed   ...     \n",
        "\"\"\"2568882e4906849754bbe7246d01ed5e\"\"\"  New York City Dept Of Ed   ...     \n",
        "\"\"\"e49f6d07f9da7086d2d823311639f479\"\"\"  New York City Dept Of Ed   ...     \n",
        "\"\"\"548b161b4e808fb580075e03774da1b9\"\"\"  New York City Dept Of Ed   ...     \n",
        "\n",
        "                                       eligible_almost_home_match  \\\n",
        "_projectid                                                          \n",
        "\"\"\"e565fb42185c6e9f22806ad9d5ac8a77\"\"\"                          0   \n",
        "\"\"\"76108ed46f99f27beb4c605b69c92b07\"\"\"                          0   \n",
        "\"\"\"2568882e4906849754bbe7246d01ed5e\"\"\"                          0   \n",
        "\"\"\"e49f6d07f9da7086d2d823311639f479\"\"\"                          0   \n",
        "\"\"\"548b161b4e808fb580075e03774da1b9\"\"\"                          0   \n",
        "\n",
        "                                        funding_status  date_posted  \\\n",
        "_projectid                                                            \n",
        "\"\"\"e565fb42185c6e9f22806ad9d5ac8a77\"\"\"       completed   2007-03-08   \n",
        "\"\"\"76108ed46f99f27beb4c605b69c92b07\"\"\"       completed   2002-11-11   \n",
        "\"\"\"2568882e4906849754bbe7246d01ed5e\"\"\"       completed   2002-11-11   \n",
        "\"\"\"e49f6d07f9da7086d2d823311639f479\"\"\"       completed   2002-11-11   \n",
        "\"\"\"548b161b4e808fb580075e03774da1b9\"\"\"       completed   2002-11-11   \n",
        "\n",
        "                                        date_completed  \\\n",
        "_projectid                                               \n",
        "\"\"\"e565fb42185c6e9f22806ad9d5ac8a77\"\"\"      2007-03-08   \n",
        "\"\"\"76108ed46f99f27beb4c605b69c92b07\"\"\"      2002-12-06   \n",
        "\"\"\"2568882e4906849754bbe7246d01ed5e\"\"\"      2002-12-09   \n",
        "\"\"\"e49f6d07f9da7086d2d823311639f479\"\"\"      2002-12-06   \n",
        "\"\"\"548b161b4e808fb580075e03774da1b9\"\"\"      2002-12-06   \n",
        "\n",
        "                                        date_thank_you_packet_mailed  \\\n",
        "_projectid                                                             \n",
        "\"\"\"e565fb42185c6e9f22806ad9d5ac8a77\"\"\"                    2007-03-08   \n",
        "\"\"\"76108ed46f99f27beb4c605b69c92b07\"\"\"                    2002-12-06   \n",
        "\"\"\"2568882e4906849754bbe7246d01ed5e\"\"\"                    2002-12-09   \n",
        "\"\"\"e49f6d07f9da7086d2d823311639f479\"\"\"                    2002-12-06   \n",
        "\"\"\"548b161b4e808fb580075e03774da1b9\"\"\"                    2002-12-06   \n",
        "\n",
        "                                        date_expiration  price/student  \\\n",
        "_projectid                                                               \n",
        "\"\"\"e565fb42185c6e9f22806ad9d5ac8a77\"\"\"       2003-12-31         280021   \n",
        "\"\"\"76108ed46f99f27beb4c605b69c92b07\"\"\"       2003-12-31         299951   \n",
        "\"\"\"2568882e4906849754bbe7246d01ed5e\"\"\"       2003-12-31         290001   \n",
        "\"\"\"e49f6d07f9da7086d2d823311639f479\"\"\"       2003-12-31         348041   \n",
        "\"\"\"548b161b4e808fb580075e03774da1b9\"\"\"       2003-12-31         297391   \n",
        "\n",
        "                                       month_posted  year_posted  funded  \n",
        "_projectid                                                                \n",
        "\"\"\"e565fb42185c6e9f22806ad9d5ac8a77\"\"\"            3         2007       1  \n",
        "\"\"\"76108ed46f99f27beb4c605b69c92b07\"\"\"           11         2002       1  \n",
        "\"\"\"2568882e4906849754bbe7246d01ed5e\"\"\"           11         2002       1  \n",
        "\"\"\"e49f6d07f9da7086d2d823311639f479\"\"\"           11         2002       1  \n",
        "\"\"\"548b161b4e808fb580075e03774da1b9\"\"\"           11         2002       1  \n",
        "\n",
        "[5 rows x 47 columns]"
       ]
      }
     ],
     "prompt_number": 70
    },
    {
     "cell_type": "code",
     "collapsed": false,
     "input": [
      "funding_sentiment_df = pd.merge(funding_df, essaysandsentiment_df, how=\"left\", right_on=\"_projectid\", left_index=True)"
     ],
     "language": "python",
     "metadata": {},
     "outputs": [],
     "prompt_number": 223
    },
    {
     "cell_type": "code",
     "collapsed": false,
     "input": [
      "funding_sentiment_df.head()"
     ],
     "language": "python",
     "metadata": {},
     "outputs": [
      {
       "html": [
        "<div style=\"max-height:1000px;max-width:1500px;overflow:auto;\">\n",
        "<table border=\"1\" class=\"dataframe\">\n",
        "  <thead>\n",
        "    <tr style=\"text-align: right;\">\n",
        "      <th></th>\n",
        "      <th>_teacher_acctid_x</th>\n",
        "      <th>_schoolid</th>\n",
        "      <th>school_ncesid</th>\n",
        "      <th>school_latitude</th>\n",
        "      <th>school_longitude</th>\n",
        "      <th>school_city</th>\n",
        "      <th>school_state</th>\n",
        "      <th>school_zip</th>\n",
        "      <th>school_metro</th>\n",
        "      <th>school_district</th>\n",
        "      <th>...</th>\n",
        "      <th>TitleLength</th>\n",
        "      <th>DescriptionLength</th>\n",
        "      <th>NeedLength</th>\n",
        "      <th>_projectid</th>\n",
        "      <th>title polarity</th>\n",
        "      <th>title subjectivity</th>\n",
        "      <th>short_description polarity</th>\n",
        "      <th>short_description subjectivity</th>\n",
        "      <th>need_statement polarity</th>\n",
        "      <th>need_statement subjectivity</th>\n",
        "    </tr>\n",
        "  </thead>\n",
        "  <tbody>\n",
        "    <tr>\n",
        "      <th>0</th>\n",
        "      <td> \"2e17c8c91cb58132d8103a9aa8797e80\"</td>\n",
        "      <td> \"45e7ddbdd7023f1eb65a6cc028d7414f\"</td>\n",
        "      <td> 360009001332</td>\n",
        "      <td> 40.841691</td>\n",
        "      <td>-73.875457</td>\n",
        "      <td>    Bronx</td>\n",
        "      <td> NY</td>\n",
        "      <td> 10460</td>\n",
        "      <td> urban</td>\n",
        "      <td> New York City Dept Of Ed</td>\n",
        "      <td>...</td>\n",
        "      <td> 50</td>\n",
        "      <td> 227</td>\n",
        "      <td> 280</td>\n",
        "      <td> \"e565fb42185c6e9f22806ad9d5ac8a77\"</td>\n",
        "      <td> 0.0</td>\n",
        "      <td> 0.0</td>\n",
        "      <td> 0.100000</td>\n",
        "      <td> 0.250000</td>\n",
        "      <td>-0.131818</td>\n",
        "      <td> 0.527273</td>\n",
        "    </tr>\n",
        "    <tr>\n",
        "      <th>1</th>\n",
        "      <td> \"6b3721c9585633fa716e629ec501ff5a\"</td>\n",
        "      <td> \"45e7ddbdd7023f1eb65a6cc028d7414f\"</td>\n",
        "      <td> 360009001332</td>\n",
        "      <td> 40.841691</td>\n",
        "      <td>-73.875457</td>\n",
        "      <td>    Bronx</td>\n",
        "      <td> NY</td>\n",
        "      <td> 10460</td>\n",
        "      <td> urban</td>\n",
        "      <td> New York City Dept Of Ed</td>\n",
        "      <td>...</td>\n",
        "      <td> 58</td>\n",
        "      <td> 199</td>\n",
        "      <td> 369</td>\n",
        "      <td> \"76108ed46f99f27beb4c605b69c92b07\"</td>\n",
        "      <td> 0.0</td>\n",
        "      <td> 0.0</td>\n",
        "      <td> 0.330000</td>\n",
        "      <td> 0.520000</td>\n",
        "      <td>-0.087879</td>\n",
        "      <td> 0.351515</td>\n",
        "    </tr>\n",
        "    <tr>\n",
        "      <th>2</th>\n",
        "      <td> \"ed55d66251be5810b38e1b2505b7673d\"</td>\n",
        "      <td> \"923a1f4850d4e09ad5b8d015ae988505\"</td>\n",
        "      <td> 360007702871</td>\n",
        "      <td> 40.742210</td>\n",
        "      <td>-74.002041</td>\n",
        "      <td> New York</td>\n",
        "      <td> NY</td>\n",
        "      <td> 10011</td>\n",
        "      <td> urban</td>\n",
        "      <td> New York City Dept Of Ed</td>\n",
        "      <td>...</td>\n",
        "      <td> 58</td>\n",
        "      <td> 193</td>\n",
        "      <td> 270</td>\n",
        "      <td> \"2568882e4906849754bbe7246d01ed5e\"</td>\n",
        "      <td> 0.0</td>\n",
        "      <td> 0.0</td>\n",
        "      <td>-0.050000</td>\n",
        "      <td> 0.183333</td>\n",
        "      <td>-0.131818</td>\n",
        "      <td> 0.527273</td>\n",
        "    </tr>\n",
        "    <tr>\n",
        "      <th>3</th>\n",
        "      <td> \"ba7ada7b8ef61280b6e8783b59625650\"</td>\n",
        "      <td> \"45e7ddbdd7023f1eb65a6cc028d7414f\"</td>\n",
        "      <td> 360009001332</td>\n",
        "      <td> 40.841691</td>\n",
        "      <td>-73.875457</td>\n",
        "      <td>    Bronx</td>\n",
        "      <td> NY</td>\n",
        "      <td> 10460</td>\n",
        "      <td> urban</td>\n",
        "      <td> New York City Dept Of Ed</td>\n",
        "      <td>...</td>\n",
        "      <td> 53</td>\n",
        "      <td> 200</td>\n",
        "      <td> 270</td>\n",
        "      <td> \"e49f6d07f9da7086d2d823311639f479\"</td>\n",
        "      <td>-0.1</td>\n",
        "      <td> 0.1</td>\n",
        "      <td> 0.280000</td>\n",
        "      <td> 0.670000</td>\n",
        "      <td>-0.131818</td>\n",
        "      <td> 0.527273</td>\n",
        "    </tr>\n",
        "    <tr>\n",
        "      <th>4</th>\n",
        "      <td> \"58574f5ee5f3d74a4be12379f8097310\"</td>\n",
        "      <td> \"45e7ddbdd7023f1eb65a6cc028d7414f\"</td>\n",
        "      <td> 360009001332</td>\n",
        "      <td> 40.841691</td>\n",
        "      <td>-73.875457</td>\n",
        "      <td>    Bronx</td>\n",
        "      <td> NY</td>\n",
        "      <td> 10460</td>\n",
        "      <td> urban</td>\n",
        "      <td> New York City Dept Of Ed</td>\n",
        "      <td>...</td>\n",
        "      <td> 74</td>\n",
        "      <td> 198</td>\n",
        "      <td> 270</td>\n",
        "      <td> \"548b161b4e808fb580075e03774da1b9\"</td>\n",
        "      <td> 0.0</td>\n",
        "      <td> 0.5</td>\n",
        "      <td> 0.077273</td>\n",
        "      <td> 0.360000</td>\n",
        "      <td>-0.131818</td>\n",
        "      <td> 0.527273</td>\n",
        "    </tr>\n",
        "  </tbody>\n",
        "</table>\n",
        "<p>5 rows \u00d7 61 columns</p>\n",
        "</div>"
       ],
       "metadata": {},
       "output_type": "pyout",
       "prompt_number": 224,
       "text": [
        "                    _teacher_acctid_x                           _schoolid  \\\n",
        "0  \"2e17c8c91cb58132d8103a9aa8797e80\"  \"45e7ddbdd7023f1eb65a6cc028d7414f\"   \n",
        "1  \"6b3721c9585633fa716e629ec501ff5a\"  \"45e7ddbdd7023f1eb65a6cc028d7414f\"   \n",
        "2  \"ed55d66251be5810b38e1b2505b7673d\"  \"923a1f4850d4e09ad5b8d015ae988505\"   \n",
        "3  \"ba7ada7b8ef61280b6e8783b59625650\"  \"45e7ddbdd7023f1eb65a6cc028d7414f\"   \n",
        "4  \"58574f5ee5f3d74a4be12379f8097310\"  \"45e7ddbdd7023f1eb65a6cc028d7414f\"   \n",
        "\n",
        "  school_ncesid  school_latitude  school_longitude school_city school_state  \\\n",
        "0  360009001332        40.841691        -73.875457       Bronx           NY   \n",
        "1  360009001332        40.841691        -73.875457       Bronx           NY   \n",
        "2  360007702871        40.742210        -74.002041    New York           NY   \n",
        "3  360009001332        40.841691        -73.875457       Bronx           NY   \n",
        "4  360009001332        40.841691        -73.875457       Bronx           NY   \n",
        "\n",
        "  school_zip school_metro           school_district  \\\n",
        "0      10460        urban  New York City Dept Of Ed   \n",
        "1      10460        urban  New York City Dept Of Ed   \n",
        "2      10011        urban  New York City Dept Of Ed   \n",
        "3      10460        urban  New York City Dept Of Ed   \n",
        "4      10460        urban  New York City Dept Of Ed   \n",
        "\n",
        "              ...              TitleLength  DescriptionLength  NeedLength  \\\n",
        "0             ...                       50                227         280   \n",
        "1             ...                       58                199         369   \n",
        "2             ...                       58                193         270   \n",
        "3             ...                       53                200         270   \n",
        "4             ...                       74                198         270   \n",
        "\n",
        "                           _projectid  title polarity  title subjectivity  \\\n",
        "0  \"e565fb42185c6e9f22806ad9d5ac8a77\"             0.0                 0.0   \n",
        "1  \"76108ed46f99f27beb4c605b69c92b07\"             0.0                 0.0   \n",
        "2  \"2568882e4906849754bbe7246d01ed5e\"             0.0                 0.0   \n",
        "3  \"e49f6d07f9da7086d2d823311639f479\"            -0.1                 0.1   \n",
        "4  \"548b161b4e808fb580075e03774da1b9\"             0.0                 0.5   \n",
        "\n",
        "   short_description polarity short_description subjectivity  \\\n",
        "0                    0.100000                       0.250000   \n",
        "1                    0.330000                       0.520000   \n",
        "2                   -0.050000                       0.183333   \n",
        "3                    0.280000                       0.670000   \n",
        "4                    0.077273                       0.360000   \n",
        "\n",
        "   need_statement polarity  need_statement subjectivity  \n",
        "0                -0.131818                     0.527273  \n",
        "1                -0.087879                     0.351515  \n",
        "2                -0.131818                     0.527273  \n",
        "3                -0.131818                     0.527273  \n",
        "4                -0.131818                     0.527273  \n",
        "\n",
        "[5 rows x 61 columns]"
       ]
      }
     ],
     "prompt_number": 224
    },
    {
     "cell_type": "code",
     "collapsed": false,
     "input": [
      "len(funding_sentiment_df)"
     ],
     "language": "python",
     "metadata": {},
     "outputs": [
      {
       "metadata": {},
       "output_type": "pyout",
       "prompt_number": 225,
       "text": [
        "722858"
       ]
      }
     ],
     "prompt_number": 225
    },
    {
     "cell_type": "code",
     "collapsed": false,
     "input": [
      "with open(\"funding_sentiment_df.pkl\", \"w\") as picklefile:\n",
      "    pickle.dump(funding_sentiment_df, picklefile)"
     ],
     "language": "python",
     "metadata": {},
     "outputs": [],
     "prompt_number": 226
    },
    {
     "cell_type": "code",
     "collapsed": false,
     "input": [
      "funding_sentiment_df.describe()"
     ],
     "language": "python",
     "metadata": {},
     "outputs": [
      {
       "html": [
        "<div style=\"max-height:1000px;max-width:1500px;overflow:auto;\">\n",
        "<table border=\"1\" class=\"dataframe\">\n",
        "  <thead>\n",
        "    <tr style=\"text-align: right;\">\n",
        "      <th></th>\n",
        "      <th>school_latitude</th>\n",
        "      <th>school_longitude</th>\n",
        "      <th>school_charter</th>\n",
        "      <th>school_magnet</th>\n",
        "      <th>school_year_round</th>\n",
        "      <th>school_nlns</th>\n",
        "      <th>school_kipp</th>\n",
        "      <th>school_charter_ready_promise</th>\n",
        "      <th>teacher_teach_for_america</th>\n",
        "      <th>teacher_ny_teaching_fellow</th>\n",
        "      <th>...</th>\n",
        "      <th>funded</th>\n",
        "      <th>TitleLength</th>\n",
        "      <th>DescriptionLength</th>\n",
        "      <th>NeedLength</th>\n",
        "      <th>title polarity</th>\n",
        "      <th>title subjectivity</th>\n",
        "      <th>short_description polarity</th>\n",
        "      <th>short_description subjectivity</th>\n",
        "      <th>need_statement polarity</th>\n",
        "      <th>need_statement subjectivity</th>\n",
        "    </tr>\n",
        "  </thead>\n",
        "  <tbody>\n",
        "    <tr>\n",
        "      <th>count</th>\n",
        "      <td> 722858.000000</td>\n",
        "      <td> 722858.000000</td>\n",
        "      <td> 722858.000000</td>\n",
        "      <td> 722858.000000</td>\n",
        "      <td> 722858.000000</td>\n",
        "      <td> 722858.000000</td>\n",
        "      <td> 722858.000000</td>\n",
        "      <td> 722858.000000</td>\n",
        "      <td> 722858.000000</td>\n",
        "      <td> 722858.000000</td>\n",
        "      <td>...</td>\n",
        "      <td> 722858.000000</td>\n",
        "      <td> 722857.000000</td>\n",
        "      <td> 722857.000000</td>\n",
        "      <td> 722857.000000</td>\n",
        "      <td> 722857.000000</td>\n",
        "      <td> 722857.000000</td>\n",
        "      <td> 722857.000000</td>\n",
        "      <td> 722857.000000</td>\n",
        "      <td> 722857.000000</td>\n",
        "      <td> 722857.000000</td>\n",
        "    </tr>\n",
        "    <tr>\n",
        "      <th>mean</th>\n",
        "      <td>     37.231221</td>\n",
        "      <td>    -93.498323</td>\n",
        "      <td>      0.090391</td>\n",
        "      <td>      0.092645</td>\n",
        "      <td>      0.037100</td>\n",
        "      <td>      0.014174</td>\n",
        "      <td>      0.006452</td>\n",
        "      <td>      0.004601</td>\n",
        "      <td>      0.055299</td>\n",
        "      <td>      0.016393</td>\n",
        "      <td>...</td>\n",
        "      <td>      0.712457</td>\n",
        "      <td>     33.762545</td>\n",
        "      <td>    212.942754</td>\n",
        "      <td>    124.752210</td>\n",
        "      <td>      0.082450</td>\n",
        "      <td>      0.169728</td>\n",
        "      <td>      0.189630</td>\n",
        "      <td>      0.465526</td>\n",
        "      <td>      0.075536</td>\n",
        "      <td>      0.262869</td>\n",
        "    </tr>\n",
        "    <tr>\n",
        "      <th>std</th>\n",
        "      <td>      4.720600</td>\n",
        "      <td>     17.806405</td>\n",
        "      <td>      0.286742</td>\n",
        "      <td>      0.289934</td>\n",
        "      <td>      0.189007</td>\n",
        "      <td>      0.118209</td>\n",
        "      <td>      0.080066</td>\n",
        "      <td>      0.067676</td>\n",
        "      <td>      0.228562</td>\n",
        "      <td>      0.126982</td>\n",
        "      <td>...</td>\n",
        "      <td>      0.452617</td>\n",
        "      <td>     13.214922</td>\n",
        "      <td>     46.211468</td>\n",
        "      <td>     64.910211</td>\n",
        "      <td>      0.224911</td>\n",
        "      <td>      0.284626</td>\n",
        "      <td>      0.213710</td>\n",
        "      <td>      0.213558</td>\n",
        "      <td>      0.196473</td>\n",
        "      <td>      0.273892</td>\n",
        "    </tr>\n",
        "    <tr>\n",
        "      <th>min</th>\n",
        "      <td>     18.249140</td>\n",
        "      <td>   -176.634989</td>\n",
        "      <td>      0.000000</td>\n",
        "      <td>      0.000000</td>\n",
        "      <td>      0.000000</td>\n",
        "      <td>      0.000000</td>\n",
        "      <td>      0.000000</td>\n",
        "      <td>      0.000000</td>\n",
        "      <td>      0.000000</td>\n",
        "      <td>      0.000000</td>\n",
        "      <td>...</td>\n",
        "      <td>      0.000000</td>\n",
        "      <td>      0.000000</td>\n",
        "      <td>      0.000000</td>\n",
        "      <td>      0.000000</td>\n",
        "      <td>     -1.000000</td>\n",
        "      <td>      0.000000</td>\n",
        "      <td>     -1.000000</td>\n",
        "      <td>      0.000000</td>\n",
        "      <td>     -1.000000</td>\n",
        "      <td>      0.000000</td>\n",
        "    </tr>\n",
        "    <tr>\n",
        "      <th>25%</th>\n",
        "      <td>     34.026634</td>\n",
        "      <td>   -112.035324</td>\n",
        "      <td>      0.000000</td>\n",
        "      <td>      0.000000</td>\n",
        "      <td>      0.000000</td>\n",
        "      <td>      0.000000</td>\n",
        "      <td>      0.000000</td>\n",
        "      <td>      0.000000</td>\n",
        "      <td>      0.000000</td>\n",
        "      <td>      0.000000</td>\n",
        "      <td>...</td>\n",
        "      <td>      0.000000</td>\n",
        "      <td>     23.000000</td>\n",
        "      <td>    197.000000</td>\n",
        "      <td>     83.000000</td>\n",
        "      <td>      0.000000</td>\n",
        "      <td>      0.000000</td>\n",
        "      <td>      0.029167</td>\n",
        "      <td>      0.340000</td>\n",
        "      <td>      0.000000</td>\n",
        "      <td>      0.000000</td>\n",
        "    </tr>\n",
        "    <tr>\n",
        "      <th>50%</th>\n",
        "      <td>     37.653138</td>\n",
        "      <td>    -87.694458</td>\n",
        "      <td>      0.000000</td>\n",
        "      <td>      0.000000</td>\n",
        "      <td>      0.000000</td>\n",
        "      <td>      0.000000</td>\n",
        "      <td>      0.000000</td>\n",
        "      <td>      0.000000</td>\n",
        "      <td>      0.000000</td>\n",
        "      <td>      0.000000</td>\n",
        "      <td>...</td>\n",
        "      <td>      1.000000</td>\n",
        "      <td>     32.000000</td>\n",
        "      <td>    200.000000</td>\n",
        "      <td>    115.000000</td>\n",
        "      <td>      0.000000</td>\n",
        "      <td>      0.000000</td>\n",
        "      <td>      0.183929</td>\n",
        "      <td>      0.479167</td>\n",
        "      <td>      0.000000</td>\n",
        "      <td>      0.206667</td>\n",
        "    </tr>\n",
        "    <tr>\n",
        "      <th>75%</th>\n",
        "      <td>     40.759132</td>\n",
        "      <td>    -79.461447</td>\n",
        "      <td>      0.000000</td>\n",
        "      <td>      0.000000</td>\n",
        "      <td>      0.000000</td>\n",
        "      <td>      0.000000</td>\n",
        "      <td>      0.000000</td>\n",
        "      <td>      0.000000</td>\n",
        "      <td>      0.000000</td>\n",
        "      <td>      0.000000</td>\n",
        "      <td>...</td>\n",
        "      <td>      1.000000</td>\n",
        "      <td>     43.000000</td>\n",
        "      <td>    223.000000</td>\n",
        "      <td>    156.000000</td>\n",
        "      <td>      0.000000</td>\n",
        "      <td>      0.300000</td>\n",
        "      <td>      0.325000</td>\n",
        "      <td>      0.600000</td>\n",
        "      <td>      0.136364</td>\n",
        "      <td>      0.500000</td>\n",
        "    </tr>\n",
        "    <tr>\n",
        "      <th>max</th>\n",
        "      <td>     71.290646</td>\n",
        "      <td>    -66.628036</td>\n",
        "      <td>      1.000000</td>\n",
        "      <td>      1.000000</td>\n",
        "      <td>      1.000000</td>\n",
        "      <td>      1.000000</td>\n",
        "      <td>      1.000000</td>\n",
        "      <td>      1.000000</td>\n",
        "      <td>      1.000000</td>\n",
        "      <td>      1.000000</td>\n",
        "      <td>...</td>\n",
        "      <td>      1.000000</td>\n",
        "      <td>    322.000000</td>\n",
        "      <td>   1750.000000</td>\n",
        "      <td>   4352.000000</td>\n",
        "      <td>      1.000000</td>\n",
        "      <td>      1.000000</td>\n",
        "      <td>      1.000000</td>\n",
        "      <td>      1.000000</td>\n",
        "      <td>      1.000000</td>\n",
        "      <td>      1.000000</td>\n",
        "    </tr>\n",
        "  </tbody>\n",
        "</table>\n",
        "<p>8 rows \u00d7 34 columns</p>\n",
        "</div>"
       ],
       "metadata": {},
       "output_type": "pyout",
       "prompt_number": 227,
       "text": [
        "       school_latitude  school_longitude  school_charter  school_magnet  \\\n",
        "count    722858.000000     722858.000000   722858.000000  722858.000000   \n",
        "mean         37.231221        -93.498323        0.090391       0.092645   \n",
        "std           4.720600         17.806405        0.286742       0.289934   \n",
        "min          18.249140       -176.634989        0.000000       0.000000   \n",
        "25%          34.026634       -112.035324        0.000000       0.000000   \n",
        "50%          37.653138        -87.694458        0.000000       0.000000   \n",
        "75%          40.759132        -79.461447        0.000000       0.000000   \n",
        "max          71.290646        -66.628036        1.000000       1.000000   \n",
        "\n",
        "       school_year_round    school_nlns    school_kipp  \\\n",
        "count      722858.000000  722858.000000  722858.000000   \n",
        "mean            0.037100       0.014174       0.006452   \n",
        "std             0.189007       0.118209       0.080066   \n",
        "min             0.000000       0.000000       0.000000   \n",
        "25%             0.000000       0.000000       0.000000   \n",
        "50%             0.000000       0.000000       0.000000   \n",
        "75%             0.000000       0.000000       0.000000   \n",
        "max             1.000000       1.000000       1.000000   \n",
        "\n",
        "       school_charter_ready_promise  teacher_teach_for_america  \\\n",
        "count                 722858.000000              722858.000000   \n",
        "mean                       0.004601                   0.055299   \n",
        "std                        0.067676                   0.228562   \n",
        "min                        0.000000                   0.000000   \n",
        "25%                        0.000000                   0.000000   \n",
        "50%                        0.000000                   0.000000   \n",
        "75%                        0.000000                   0.000000   \n",
        "max                        1.000000                   1.000000   \n",
        "\n",
        "       teacher_ny_teaching_fellow             ...                      funded  \\\n",
        "count               722858.000000             ...               722858.000000   \n",
        "mean                     0.016393             ...                    0.712457   \n",
        "std                      0.126982             ...                    0.452617   \n",
        "min                      0.000000             ...                    0.000000   \n",
        "25%                      0.000000             ...                    0.000000   \n",
        "50%                      0.000000             ...                    1.000000   \n",
        "75%                      0.000000             ...                    1.000000   \n",
        "max                      1.000000             ...                    1.000000   \n",
        "\n",
        "         TitleLength  DescriptionLength     NeedLength  title polarity  \\\n",
        "count  722857.000000      722857.000000  722857.000000   722857.000000   \n",
        "mean       33.762545         212.942754     124.752210        0.082450   \n",
        "std        13.214922          46.211468      64.910211        0.224911   \n",
        "min         0.000000           0.000000       0.000000       -1.000000   \n",
        "25%        23.000000         197.000000      83.000000        0.000000   \n",
        "50%        32.000000         200.000000     115.000000        0.000000   \n",
        "75%        43.000000         223.000000     156.000000        0.000000   \n",
        "max       322.000000        1750.000000    4352.000000        1.000000   \n",
        "\n",
        "       title subjectivity  short_description polarity  \\\n",
        "count       722857.000000               722857.000000   \n",
        "mean             0.169728                    0.189630   \n",
        "std              0.284626                    0.213710   \n",
        "min              0.000000                   -1.000000   \n",
        "25%              0.000000                    0.029167   \n",
        "50%              0.000000                    0.183929   \n",
        "75%              0.300000                    0.325000   \n",
        "max              1.000000                    1.000000   \n",
        "\n",
        "       short_description subjectivity  need_statement polarity  \\\n",
        "count                   722857.000000            722857.000000   \n",
        "mean                         0.465526                 0.075536   \n",
        "std                          0.213558                 0.196473   \n",
        "min                          0.000000                -1.000000   \n",
        "25%                          0.340000                 0.000000   \n",
        "50%                          0.479167                 0.000000   \n",
        "75%                          0.600000                 0.136364   \n",
        "max                          1.000000                 1.000000   \n",
        "\n",
        "       need_statement subjectivity  \n",
        "count                722857.000000  \n",
        "mean                      0.262869  \n",
        "std                       0.273892  \n",
        "min                       0.000000  \n",
        "25%                       0.000000  \n",
        "50%                       0.206667  \n",
        "75%                       0.500000  \n",
        "max                       1.000000  \n",
        "\n",
        "[8 rows x 34 columns]"
       ]
      }
     ],
     "prompt_number": 227
    },
    {
     "cell_type": "code",
     "collapsed": false,
     "input": [
      "len(funding_sentiment_df)"
     ],
     "language": "python",
     "metadata": {},
     "outputs": [
      {
       "metadata": {},
       "output_type": "pyout",
       "prompt_number": 228,
       "text": [
        "722858"
       ]
      }
     ],
     "prompt_number": 228
    },
    {
     "cell_type": "markdown",
     "metadata": {},
     "source": [
      "####Look at distribution of sentiment "
     ]
    },
    {
     "cell_type": "code",
     "collapsed": false,
     "input": [
      "fig = plt.figure(figsize=(10,7))\n",
      "plt.xticks(rotation=90)\n",
      "\n",
      "groupby_state_text = funding_sentiment_df.groupby(\"school_state\")\n",
      "groupby_state_text_hist = groupby_state_text[\"short_description polarity\"].mean()\n",
      "groupby_state_text_hist.plot(kind = \"bar\")"
     ],
     "language": "python",
     "metadata": {},
     "outputs": [
      {
       "metadata": {},
       "output_type": "pyout",
       "prompt_number": 229,
       "text": [
        "<matplotlib.axes._subplots.AxesSubplot at 0x39c071190>"
       ]
      },
      {
       "metadata": {},
       "output_type": "display_data",
       "png": "[encoded data removed]",
       "text": [
        "<matplotlib.figure.Figure at 0x181523a90>"
       ]
      }
     ],
     "prompt_number": 229
    },
    {
     "cell_type": "code",
     "collapsed": false,
     "input": [
      "fig = plt.figure(figsize=(10,7))\n",
      "plt.xticks(rotation=90)\n",
      "\n",
      "groupby_state_text = funding_sentiment_df.groupby(\"school_state\")\n",
      "groupby_state_text_hist = groupby_state_text[\"short_description subjectivity\"].mean()\n",
      "groupby_state_text_hist.plot(kind = \"bar\")"
     ],
     "language": "python",
     "metadata": {},
     "outputs": [
      {
       "metadata": {},
       "output_type": "pyout",
       "prompt_number": 230,
       "text": [
        "<matplotlib.axes._subplots.AxesSubplot at 0x39da7d5d0>"
       ]
      },
      {
       "metadata": {},
       "output_type": "display_data",
       "png": "[encoded data removed]",
       "text": [
        "<matplotlib.figure.Figure at 0x3a364b990>"
       ]
      }
     ],
     "prompt_number": 230
    },
    {
     "cell_type": "code",
     "collapsed": false,
     "input": [
      "numeric_only_df = funding_sentiment_df[numeric_feature_list_3]"
     ],
     "language": "python",
     "metadata": {},
     "outputs": [],
     "prompt_number": 238
    },
    {
     "cell_type": "code",
     "collapsed": false,
     "input": [
      "numeric_test = numeric_only_df.dropna()"
     ],
     "language": "python",
     "metadata": {},
     "outputs": [],
     "prompt_number": 239
    },
    {
     "cell_type": "code",
     "collapsed": false,
     "input": [
      "len(numeric_test)"
     ],
     "language": "python",
     "metadata": {},
     "outputs": [
      {
       "metadata": {},
       "output_type": "pyout",
       "prompt_number": 240,
       "text": [
        "722857"
       ]
      }
     ],
     "prompt_number": 240
    },
    {
     "cell_type": "markdown",
     "metadata": {},
     "source": [
      "##EXPLORATION OF DATA TO BUILD A MODEL TO PREDICT FUNDING OR NOT FUNDING"
     ]
    },
    {
     "cell_type": "code",
     "collapsed": false,
     "input": [
      "numeric_feature_list_3 = ['funded', 'school_charter', 'school_magnet', 'school_year_round', \n",
      "                        'school_nlns', 'school_kipp', 'school_charter_ready_promise', \n",
      "                        'teacher_teach_for_america',\n",
      "                        'teacher_ny_teaching_fellow','total_price_excluding_optional_support', \n",
      "                        'students_reached', \n",
      "                        'month_posted', 'year_posted',\n",
      "                        'title polarity', 'title subjectivity', 'short_description polarity', \n",
      "                        'short_description subjectivity', 'need_statement polarity', \n",
      "                        'need_statement subjectivity']"
     ],
     "language": "python",
     "metadata": {},
     "outputs": [],
     "prompt_number": 237
    },
    {
     "cell_type": "code",
     "collapsed": false,
     "input": [
      "# funding_sentiment_df.dtypes"
     ],
     "language": "python",
     "metadata": {},
     "outputs": [],
     "prompt_number": 241
    },
    {
     "cell_type": "code",
     "collapsed": false,
     "input": [
      "Y = numeric_test['funded']\n",
      "new_list = numeric_feature_list_3[1:]\n",
      "X = numeric_test[new_list]\n",
      "X = st.add_constant(X)\n",
      "\n",
      "# Y_train, Y_test, X_train, X_test = train_test_split(Y, X, test_size=.25)\n",
      "# print X_test\n",
      "\n",
      "logmodel = Logit(Y, X).fit()\n",
      "logmodel.summary()"
     ],
     "language": "python",
     "metadata": {},
     "outputs": [
      {
       "output_type": "stream",
       "stream": "stdout",
       "text": [
        "Optimization terminated successfully.\n",
        "         Current function value: 0.576844\n",
        "         Iterations 8\n"
       ]
      },
      {
       "html": [
        "<table class=\"simpletable\">\n",
        "<caption>Logit Regression Results</caption>\n",
        "<tr>\n",
        "  <th>Dep. Variable:</th>      <td>funded</td>      <th>  No. Observations:  </th>   <td>722857</td>   \n",
        "</tr>\n",
        "<tr>\n",
        "  <th>Model:</th>               <td>Logit</td>      <th>  Df Residuals:      </th>   <td>722838</td>   \n",
        "</tr>\n",
        "<tr>\n",
        "  <th>Method:</th>               <td>MLE</td>       <th>  Df Model:          </th>   <td>    18</td>   \n",
        "</tr>\n",
        "<tr>\n",
        "  <th>Date:</th>          <td>Thu, 26 Mar 2015</td> <th>  Pseudo R-squ.:     </th>   <td>0.03849</td>  \n",
        "</tr>\n",
        "<tr>\n",
        "  <th>Time:</th>              <td>13:47:32</td>     <th>  Log-Likelihood:    </th> <td>-4.1698e+05</td>\n",
        "</tr>\n",
        "<tr>\n",
        "  <th>converged:</th>           <td>True</td>       <th>  LL-Null:           </th> <td>-4.3367e+05</td>\n",
        "</tr>\n",
        "<tr>\n",
        "  <th> </th>                      <td> </td>        <th>  LLR p-value:       </th>   <td> 0.000</td>   \n",
        "</tr>\n",
        "</table>\n",
        "<table class=\"simpletable\">\n",
        "<tr>\n",
        "                     <td></td>                       <th>coef</th>     <th>std err</th>      <th>z</th>      <th>P>|z|</th> <th>[95.0% Conf. Int.]</th> \n",
        "</tr>\n",
        "<tr>\n",
        "  <th>const</th>                                  <td> -179.3485</td> <td>    2.306</td> <td>  -77.768</td> <td> 0.000</td> <td> -183.869  -174.828</td>\n",
        "</tr>\n",
        "<tr>\n",
        "  <th>school_charter</th>                         <td>    0.1565</td> <td>    0.010</td> <td>   15.120</td> <td> 0.000</td> <td>    0.136     0.177</td>\n",
        "</tr>\n",
        "<tr>\n",
        "  <th>school_magnet</th>                          <td>    0.1899</td> <td>    0.009</td> <td>   20.061</td> <td> 0.000</td> <td>    0.171     0.209</td>\n",
        "</tr>\n",
        "<tr>\n",
        "  <th>school_year_round</th>                      <td>   -0.0232</td> <td>    0.014</td> <td>   -1.658</td> <td> 0.097</td> <td>   -0.051     0.004</td>\n",
        "</tr>\n",
        "<tr>\n",
        "  <th>school_nlns</th>                            <td>    0.5162</td> <td>    0.026</td> <td>   20.002</td> <td> 0.000</td> <td>    0.466     0.567</td>\n",
        "</tr>\n",
        "<tr>\n",
        "  <th>school_kipp</th>                            <td>    0.1682</td> <td>    0.040</td> <td>    4.213</td> <td> 0.000</td> <td>    0.090     0.246</td>\n",
        "</tr>\n",
        "<tr>\n",
        "  <th>school_charter_ready_promise</th>           <td>    0.3873</td> <td>    0.046</td> <td>    8.498</td> <td> 0.000</td> <td>    0.298     0.477</td>\n",
        "</tr>\n",
        "<tr>\n",
        "  <th>teacher_teach_for_america</th>              <td>    0.7428</td> <td>    0.014</td> <td>   52.372</td> <td> 0.000</td> <td>    0.715     0.771</td>\n",
        "</tr>\n",
        "<tr>\n",
        "  <th>teacher_ny_teaching_fellow</th>             <td>    0.8140</td> <td>    0.025</td> <td>   32.715</td> <td> 0.000</td> <td>    0.765     0.863</td>\n",
        "</tr>\n",
        "<tr>\n",
        "  <th>total_price_excluding_optional_support</th> <td>   -0.0007</td> <td> 6.01e-06</td> <td> -109.808</td> <td> 0.000</td> <td>   -0.001    -0.001</td>\n",
        "</tr>\n",
        "<tr>\n",
        "  <th>students_reached</th>                       <td> -9.82e-07</td> <td> 1.18e-06</td> <td>   -0.834</td> <td> 0.404</td> <td>-3.29e-06  1.33e-06</td>\n",
        "</tr>\n",
        "<tr>\n",
        "  <th>month_posted</th>                           <td>    0.0646</td> <td>    0.001</td> <td>   85.026</td> <td> 0.000</td> <td>    0.063     0.066</td>\n",
        "</tr>\n",
        "<tr>\n",
        "  <th>year_posted</th>                            <td>    0.0895</td> <td>    0.001</td> <td>   78.043</td> <td> 0.000</td> <td>    0.087     0.092</td>\n",
        "</tr>\n",
        "<tr>\n",
        "  <th>title polarity</th>                         <td>    0.0142</td> <td>    0.015</td> <td>    0.964</td> <td> 0.335</td> <td>   -0.015     0.043</td>\n",
        "</tr>\n",
        "<tr>\n",
        "  <th>title subjectivity</th>                     <td>    0.0257</td> <td>    0.012</td> <td>    2.210</td> <td> 0.027</td> <td>    0.003     0.049</td>\n",
        "</tr>\n",
        "<tr>\n",
        "  <th>short_description polarity</th>             <td>    0.0165</td> <td>    0.014</td> <td>    1.212</td> <td> 0.226</td> <td>   -0.010     0.043</td>\n",
        "</tr>\n",
        "<tr>\n",
        "  <th>short_description subjectivity</th>         <td>    0.0072</td> <td>    0.014</td> <td>    0.533</td> <td> 0.594</td> <td>   -0.019     0.034</td>\n",
        "</tr>\n",
        "<tr>\n",
        "  <th>need_statement polarity</th>                <td>   -0.6076</td> <td>    0.017</td> <td>  -36.737</td> <td> 0.000</td> <td>   -0.640    -0.575</td>\n",
        "</tr>\n",
        "<tr>\n",
        "  <th>need_statement subjectivity</th>            <td>    0.5402</td> <td>    0.012</td> <td>   46.107</td> <td> 0.000</td> <td>    0.517     0.563</td>\n",
        "</tr>\n",
        "</table>"
       ],
       "metadata": {},
       "output_type": "pyout",
       "prompt_number": 242,
       "text": [
        "<class 'statsmodels.iolib.summary.Summary'>\n",
        "\"\"\"\n",
        "                           Logit Regression Results                           \n",
        "==============================================================================\n",
        "Dep. Variable:                 funded   No. Observations:               722857\n",
        "Model:                          Logit   Df Residuals:                   722838\n",
        "Method:                           MLE   Df Model:                           18\n",
        "Date:                Thu, 26 Mar 2015   Pseudo R-squ.:                 0.03849\n",
        "Time:                        13:47:32   Log-Likelihood:            -4.1698e+05\n",
        "converged:                       True   LL-Null:                   -4.3367e+05\n",
        "                                        LLR p-value:                     0.000\n",
        "==========================================================================================================\n",
        "                                             coef    std err          z      P>|z|      [95.0% Conf. Int.]\n",
        "----------------------------------------------------------------------------------------------------------\n",
        "const                                   -179.3485      2.306    -77.768      0.000      -183.869  -174.828\n",
        "school_charter                             0.1565      0.010     15.120      0.000         0.136     0.177\n",
        "school_magnet                              0.1899      0.009     20.061      0.000         0.171     0.209\n",
        "school_year_round                         -0.0232      0.014     -1.658      0.097        -0.051     0.004\n",
        "school_nlns                                0.5162      0.026     20.002      0.000         0.466     0.567\n",
        "school_kipp                                0.1682      0.040      4.213      0.000         0.090     0.246\n",
        "school_charter_ready_promise               0.3873      0.046      8.498      0.000         0.298     0.477\n",
        "teacher_teach_for_america                  0.7428      0.014     52.372      0.000         0.715     0.771\n",
        "teacher_ny_teaching_fellow                 0.8140      0.025     32.715      0.000         0.765     0.863\n",
        "total_price_excluding_optional_support    -0.0007   6.01e-06   -109.808      0.000        -0.001    -0.001\n",
        "students_reached                        -9.82e-07   1.18e-06     -0.834      0.404     -3.29e-06  1.33e-06\n",
        "month_posted                               0.0646      0.001     85.026      0.000         0.063     0.066\n",
        "year_posted                                0.0895      0.001     78.043      0.000         0.087     0.092\n",
        "title polarity                             0.0142      0.015      0.964      0.335        -0.015     0.043\n",
        "title subjectivity                         0.0257      0.012      2.210      0.027         0.003     0.049\n",
        "short_description polarity                 0.0165      0.014      1.212      0.226        -0.010     0.043\n",
        "short_description subjectivity             0.0072      0.014      0.533      0.594        -0.019     0.034\n",
        "need_statement polarity                   -0.6076      0.017    -36.737      0.000        -0.640    -0.575\n",
        "need_statement subjectivity                0.5402      0.012     46.107      0.000         0.517     0.563\n",
        "==========================================================================================================\n",
        "\"\"\""
       ]
      }
     ],
     "prompt_number": 242
    },
    {
     "cell_type": "code",
     "collapsed": false,
     "input": [],
     "language": "python",
     "metadata": {},
     "outputs": []
    }
   ],
   "metadata": {}
  }
 ]
}