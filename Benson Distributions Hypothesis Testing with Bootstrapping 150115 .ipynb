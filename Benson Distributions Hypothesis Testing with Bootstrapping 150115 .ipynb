{
 "metadata": {
  "name": "",
  "signature": "sha256:7bf9cf7460a397826ed86eb0b6fdeaf046578c0bfe92e4bf9d22a58926c4fd79"
 },
 "nbformat": 3,
 "nbformat_minor": 0,
 "worksheets": [
  {
   "cells": [
    {
     "cell_type": "code",
     "collapsed": false,
     "input": [
      "%matplotlib inline\n",
      "import matplotlib.pyplot as plt\n",
      "\n",
      "observed_rolls = [6,6,6,3,1,2,6,4,5,2,2,3,4,5,6]\n",
      "\n",
      "plt.hist(observed_rolls, bins=6, range=(0.5, 6.5))\n"
     ],
     "language": "python",
     "metadata": {},
     "outputs": [
      {
       "metadata": {},
       "output_type": "pyout",
       "prompt_number": 6,
       "text": [
        "(array([ 1.,  3.,  2.,  2.,  2.,  5.]),\n",
        " array([ 0.5,  1.5,  2.5,  3.5,  4.5,  5.5,  6.5]),\n",
        " <a list of 6 Patch objects>)"
       ]
      },
      {
       "metadata": {},
       "output_type": "display_data",
       "png": "[encoded data removed]",
       "text": [
        "<matplotlib.figure.Figure at 0x1141fbf90>"
       ]
      }
     ],
     "prompt_number": 6
    },
    {
     "cell_type": "code",
     "collapsed": false,
     "input": [
      "plt.hist(observed_rolls, bins=6, range=(0.5, 6.5), normed=True)"
     ],
     "language": "python",
     "metadata": {},
     "outputs": [
      {
       "metadata": {},
       "output_type": "pyout",
       "prompt_number": 7,
       "text": [
        "(array([ 0.06666667,  0.2       ,  0.13333333,  0.13333333,  0.13333333,\n",
        "         0.33333333]),\n",
        " array([ 0.5,  1.5,  2.5,  3.5,  4.5,  5.5,  6.5]),\n",
        " <a list of 6 Patch objects>)"
       ]
      },
      {
       "metadata": {},
       "output_type": "display_data",
       "png": "[encoded data removed]",
       "text": [
        "<matplotlib.figure.Figure at 0x111c6a050>"
       ]
      }
     ],
     "prompt_number": 7
    },
    {
     "cell_type": "code",
     "collapsed": false,
     "input": [
      "import random\n",
      "\n",
      "class Die(object):\n",
      "    \n",
      "    def roll(self):\n",
      "        return int(round(random.uniform(0.5, 6.5)))\n",
      "    \n",
      "my_die = Die()\n",
      "\n",
      "#print my_die.roll()\n",
      "\n",
      "rolls = []\n",
      "for i in range(10000):\n",
      "    rolls.append( my_die.roll() )\n",
      "\n",
      "plt.hist(rolls, bins=6, range=(0.5, 6.5))"
     ],
     "language": "python",
     "metadata": {},
     "outputs": [
      {
       "metadata": {},
       "output_type": "pyout",
       "prompt_number": 13,
       "text": [
        "(array([ 1654.,  1685.,  1623.,  1676.,  1708.,  1654.]),\n",
        " array([ 0.5,  1.5,  2.5,  3.5,  4.5,  5.5,  6.5]),\n",
        " <a list of 6 Patch objects>)"
       ]
      },
      {
       "metadata": {},
       "output_type": "display_data",
       "png": "[encoded data removed]",
       "text": [
        "<matplotlib.figure.Figure at 0x11044de90>"
       ]
      }
     ],
     "prompt_number": 13
    },
    {
     "cell_type": "code",
     "collapsed": false,
     "input": [
      "class AdultMale(object):\n",
      "    \n",
      "    height_mu = 69.7\n",
      "    height_sigma = 7.0\n",
      "    \n",
      "    def __init__(self):\n",
      "        self.height = random.normalvariate(self.height_mu, self.height_sigma)\n",
      "        \n",
      "new_person = AdultMale()\n",
      "# print new_person.height\n",
      "\n",
      "people = []\n",
      "for i in range(10000):\n",
      "    people.append( AdultMale().height )\n",
      "    \n",
      "plt.hist(people, bins = 20)\n",
      "        \n",
      "\n",
      "    \n",
      "    "
     ],
     "language": "python",
     "metadata": {},
     "outputs": [
      {
       "metadata": {},
       "output_type": "pyout",
       "prompt_number": 20,
       "text": [
        "(array([  1.20000000e+01,   2.40000000e+01,   6.20000000e+01,\n",
        "          1.44000000e+02,   3.27000000e+02,   6.06000000e+02,\n",
        "          8.90000000e+02,   1.21300000e+03,   1.43600000e+03,\n",
        "          1.53700000e+03,   1.39400000e+03,   1.03100000e+03,\n",
        "          6.58000000e+02,   3.84000000e+02,   1.69000000e+02,\n",
        "          7.10000000e+01,   2.90000000e+01,   1.00000000e+01,\n",
        "          1.00000000e+00,   2.00000000e+00]),\n",
        " array([ 45.09051506,  47.77423603,  50.45795701,  53.14167798,\n",
        "         55.82539895,  58.50911993,  61.1928409 ,  63.87656188,\n",
        "         66.56028285,  69.24400383,  71.9277248 ,  74.61144577,\n",
        "         77.29516675,  79.97888772,  82.6626087 ,  85.34632967,\n",
        "         88.03005064,  90.71377162,  93.39749259,  96.08121357,  98.76493454]),\n",
        " <a list of 20 Patch objects>)"
       ]
      },
      {
       "metadata": {},
       "output_type": "display_data",
       "png": "[encoded data removed]",
       "text": [
        "<matplotlib.figure.Figure at 0x111bd4750>"
       ]
      }
     ],
     "prompt_number": 20
    },
    {
     "cell_type": "code",
     "collapsed": false,
     "input": [
      "lawyers = []\n",
      "doctors = []\n",
      "for i in range(1000):\n",
      "    lawyers.append( AdultMale().height )\n",
      "    doctors.append( AdultMale().height )\n",
      "    \n",
      "plt.hist(lawyers, bins=20)\n",
      "plt.hist(doctors, bins=20)\n",
      "\n",
      "import numpy as np\n",
      "\n",
      "print np.mean(lawyers)\n",
      "print np.mean(doctors)"
     ],
     "language": "python",
     "metadata": {},
     "outputs": [
      {
       "output_type": "stream",
       "stream": "stdout",
       "text": [
        "69.8180424598\n",
        "69.3954871678\n"
       ]
      },
      {
       "metadata": {},
       "output_type": "display_data",
       "png": "[encoded data removed]",
       "text": [
        "<matplotlib.figure.Figure at 0x1108d0a10>"
       ]
      }
     ],
     "prompt_number": 21
    },
    {
     "cell_type": "code",
     "collapsed": false,
     "input": [
      "lawyers = (8, 24, 7, 20, 6, 20, 13, 15, 11, 22, 15)\n",
      "doctors = (5, 11, 0, 15, 0, 20, 15, 19, 12, 0, 6)\n",
      "\n",
      "print 'lawyers mean', np.mean(lawyers)\n",
      "print 'doctors mean', np.mean(doctors)"
     ],
     "language": "python",
     "metadata": {},
     "outputs": [
      {
       "output_type": "stream",
       "stream": "stdout",
       "text": [
        "lawyers mean 14.6363636364\n",
        "doctors mean 9.36363636364\n"
       ]
      }
     ],
     "prompt_number": 23
    },
    {
     "cell_type": "code",
     "collapsed": false,
     "input": [
      "# QUESTION: is observed_diff SIGNIFICANTLY different from 0?\n",
      "observed_diff = np.mean(lawyers) - np.mean(doctors)\n",
      "print observed_diff"
     ],
     "language": "python",
     "metadata": {},
     "outputs": [
      {
       "output_type": "stream",
       "stream": "stdout",
       "text": [
        "5.27272727273\n"
       ]
      }
     ],
     "prompt_number": 25
    },
    {
     "cell_type": "code",
     "collapsed": false,
     "input": [
      "everybody = lawyers + doctors\n",
      "print 'everybody', everybody\n",
      "\n",
      "def resample_11(sample):\n",
      "    new_sample = []\n",
      "    for i in range(11):\n",
      "        new_sample.append( random.choice(sample) )\n",
      "    return new_sample\n",
      "\n",
      "print 'resampled 11:', resample_11(everybody)"
     ],
     "language": "python",
     "metadata": {},
     "outputs": [
      {
       "output_type": "stream",
       "stream": "stdout",
       "text": [
        "everybody (8, 24, 7, 20, 6, 20, 13, 15, 11, 22, 15, 5, 11, 0, 15, 0, 20, 15, 19, 12, 0, 6)\n",
        "resampled 11: [20, 11, 11, 11, 15, 12, 8, 11, 15, 8, 0]\n"
       ]
      }
     ],
     "prompt_number": 28
    },
    {
     "cell_type": "code",
     "collapsed": false,
     "input": [
      "# this is going to create a null model\n",
      "def simulate():\n",
      "    random_group_1 = resample_11(everybody)\n",
      "    random_group_2 = resample_11(everybody)\n",
      "    bootstrapped_difference = np.mean(random_group_1) - np.mean(random_group_2)\n",
      "    return bootstrapped_difference\n",
      "\n",
      "differences = []\n",
      "for sim in range(100000):\n",
      "    differences.append( simulate() )\n",
      "    \n",
      "plt.hist(differences, bins = 20)\n",
      "#print differences"
     ],
     "language": "python",
     "metadata": {},
     "outputs": [
      {
       "metadata": {},
       "output_type": "pyout",
       "prompt_number": 32,
       "text": [
        "(array([  1.50000000e+01,   5.90000000e+01,   2.16000000e+02,\n",
        "          7.58000000e+02,   1.97900000e+03,   4.31800000e+03,\n",
        "          7.71600000e+03,   1.21510000e+04,   1.52510000e+04,\n",
        "          1.64720000e+04,   1.49420000e+04,   1.15650000e+04,\n",
        "          7.54200000e+03,   4.15700000e+03,   1.87300000e+03,\n",
        "          7.09000000e+02,   2.04000000e+02,   6.10000000e+01,\n",
        "          1.00000000e+01,   2.00000000e+00]),\n",
        " array([-12.        , -10.73181818,  -9.46363636,  -8.19545455,\n",
        "         -6.92727273,  -5.65909091,  -4.39090909,  -3.12272727,\n",
        "         -1.85454545,  -0.58636364,   0.68181818,   1.95      ,\n",
        "          3.21818182,   4.48636364,   5.75454545,   7.02272727,\n",
        "          8.29090909,   9.55909091,  10.82727273,  12.09545455,  13.36363636]),\n",
        " <a list of 20 Patch objects>)"
       ]
      },
      {
       "metadata": {},
       "output_type": "display_data",
       "png": "[encoded data removed]",
       "text": [
        "<matplotlib.figure.Figure at 0x1146a6b10>"
       ]
      }
     ],
     "prompt_number": 32
    },
    {
     "cell_type": "code",
     "collapsed": false,
     "input": [
      "extreme_results = []\n",
      "for diff in differences:\n",
      "    if abs(diff) > observed_diff:\n",
      "        extreme_results.append(diff)\n",
      "        \n",
      "print float(len(extreme_results)) / len(differences)\n",
      "## end of part 1        "
     ],
     "language": "python",
     "metadata": {},
     "outputs": [
      {
       "output_type": "stream",
       "stream": "stdout",
       "text": [
        "0.0793\n"
       ]
      }
     ],
     "prompt_number": 33
    },
    {
     "cell_type": "markdown",
     "metadata": {},
     "source": [
      "## Part 2: Distributions with MTA data"
     ]
    },
    {
     "cell_type": "code",
     "collapsed": false,
     "input": [
      "import pickle\n",
      "\n",
      "with open(\"boothremote_data.pck\", \"r\") as picklefile:\n",
      "    boothremote_data = pickle.load(picklefile)\n",
      "    \n",
      "boothremote_to_station, station_to_boothremotes, boothremote_to_time_series = boothremote_data"
     ],
     "language": "python",
     "metadata": {},
     "outputs": [],
     "prompt_number": 37
    },
    {
     "cell_type": "code",
     "collapsed": false,
     "input": [
      "boothremote_to_station.items()[0]"
     ],
     "language": "python",
     "metadata": {},
     "outputs": [
      {
       "metadata": {},
       "output_type": "pyout",
       "prompt_number": 38,
       "text": [
        "(('R110', 'R027'), 'WALL ST')"
       ]
      }
     ],
     "prompt_number": 38
    },
    {
     "cell_type": "code",
     "collapsed": false,
     "input": [
      "from pprint import pprint\n",
      "sample_dict = dict(station_to_boothremotes.items()[:5])\n",
      "pprint(sample_dict)"
     ],
     "language": "python",
     "metadata": {},
     "outputs": [
      {
       "output_type": "stream",
       "stream": "stdout",
       "text": [
        "{'22 AVE-BAY PKY': [('N553', 'R422')],\n",
        " '57 ST-7 AVE': [('A010', 'R080'), ('A011', 'R080')],\n",
        " 'BOYD-88 ST': [('N133', 'R384')],\n",
        " 'PATH WTC': [('PTH08', 'R540')],\n",
        " 'TREMONT AVE': [('N213', 'R154'), ('N214', 'R154')]}\n"
       ]
      }
     ],
     "prompt_number": 39
    },
    {
     "cell_type": "code",
     "collapsed": false,
     "input": [
      "key, value = boothremote_to_time_series.items()[0]\n",
      "print 'key', key # booth and remote tuple\n",
      "print 'value', value[:4] #timeseries of daily counts"
     ],
     "language": "python",
     "metadata": {},
     "outputs": [
      {
       "output_type": "stream",
       "stream": "stdout",
       "text": [
        "key ('R110', 'R027')\n",
        "value [[datetime.datetime(2014, 5, 24, 0, 0), 3781], [datetime.datetime(2014, 5, 25, 0, 0), 3518], [datetime.datetime(2014, 5, 26, 0, 0), 3367], [datetime.datetime(2014, 5, 27, 0, 0), 11345]]\n"
       ]
      }
     ],
     "prompt_number": 41
    },
    {
     "cell_type": "code",
     "collapsed": false,
     "input": [
      "from collections import Counter\n",
      "\n",
      "# to create a dict, key=station, value=timeseries. We are rolling up boothremotes to stations.\n",
      "\n",
      "station_to_time_series = {}\n",
      "\n",
      "for station, station_brs in station_to_boothremotes.iteritems():\n",
      "    daily_counts = Counter()\n",
      "    \n",
      "    for br in station_brs:\n",
      "        # boothremote_to_time_series[br] is a timeseries, i.e a list of [datetime, count]s\n",
      "        time_series = boothremote_to_time_series[br]\n",
      "        \n",
      "        for date, count in time_series:\n",
      "            daily_counts[date] += count\n",
      "            \n",
      "    # daily_counts is a Counter, but daily_counts.items() is a list of (datetime, count) tuples.\n",
      "    \n",
      "    station_to_time_series[station] = sorted(daily_counts.items()) "
     ],
     "language": "python",
     "metadata": {},
     "outputs": [],
     "prompt_number": 42
    },
    {
     "cell_type": "code",
     "collapsed": false,
     "input": [
      "#print the output\n",
      "key, value = station_to_time_series.items()[0]\n",
      "print 'key', key\n",
      "print 'val sample', value[:5]"
     ],
     "language": "python",
     "metadata": {},
     "outputs": [
      {
       "output_type": "stream",
       "stream": "stdout",
       "text": [
        "key BOYD-88 ST\n",
        "val sample [(datetime.datetime(2014, 5, 24, 0, 0), 1047), (datetime.datetime(2014, 5, 25, 0, 0), 844), (datetime.datetime(2014, 5, 26, 0, 0), 1001), (datetime.datetime(2014, 5, 27, 0, 0), 2408), (datetime.datetime(2014, 5, 28, 0, 0), 2423)]\n"
       ]
      }
     ],
     "prompt_number": 65
    },
    {
     "cell_type": "code",
     "collapsed": false,
     "input": [
      "# collapse entire subway ridership into two time series\n",
      "# first: timeseries by day\n",
      "daily_full_mta_counts = Counter()\n",
      "# second: timeseries by week\n",
      "weekly_full_mta_counts = Counter()\n",
      "\n",
      "for station, time_series in station_to_time_series.iteritems():\n",
      "    for date, count in time_series:\n",
      "        daily_full_mta_counts[date] += count\n",
      "        \n",
      "        # date.isocalendar() returns (iso year, iso week number, iso week day)\n",
      "        week = date.isocalendar()[1]\n",
      "        weekly_full_mta_counts[week] += count\n",
      "\n",
      "#sort the two time series by date/week number\n",
      "daily_full_mta_time_series = sorted(daily_full_mta_counts.items())\n",
      "weekly_full_mta_time_series = sorted(weekly_full_mta_counts.items())"
     ],
     "language": "python",
     "metadata": {},
     "outputs": [],
     "prompt_number": 46
    },
    {
     "cell_type": "code",
     "collapsed": false,
     "input": [
      "pprint(weekly_full_mta_time_series)"
     ],
     "language": "python",
     "metadata": {},
     "outputs": [
      {
       "output_type": "stream",
       "stream": "stdout",
       "text": [
        "[(21, 6029049),\n",
        " (22, 33153328),\n",
        " (23, 36559260),\n",
        " (24, 36157028),\n",
        " (25, 36514997),\n",
        " (26, 36090151),\n",
        " (27, 30803343),\n",
        " (28, 34549534),\n",
        " (29, 34689273),\n",
        " (30, 35006235),\n",
        " (31, 34330818),\n",
        " (32, 34554591),\n",
        " (33, 33324691),\n",
        " (34, 32939197),\n",
        " (35, 26454170)]\n"
       ]
      }
     ],
     "prompt_number": 64
    },
    {
     "cell_type": "code",
     "collapsed": false,
     "input": [
      "%matplotlib inline\n",
      "import matplotlib.pyplot as plt\n",
      "\n",
      "x, y = [], []\n",
      "for date, count in daily_full_mta_time_series:\n",
      "    x.append(date)\n",
      "    y.append(count)\n",
      "    \n",
      "plt.plot(x,y)"
     ],
     "language": "python",
     "metadata": {},
     "outputs": [
      {
       "metadata": {},
       "output_type": "pyout",
       "prompt_number": 50,
       "text": [
        "[<matplotlib.lines.Line2D at 0x111a28a10>]"
       ]
      },
      {
       "metadata": {},
       "output_type": "display_data",
       "png": "[encoded data removed]",
       "text": [
        "<matplotlib.figure.Figure at 0x10f285110>"
       ]
      }
     ],
     "prompt_number": 50
    },
    {
     "cell_type": "code",
     "collapsed": false,
     "input": [
      "# let's plot the weekly timeseries\n",
      "\n",
      "x, y = [], []\n",
      "for date, count in weekly_full_mta_time_series:\n",
      "    x.append(date)\n",
      "    y.append(count)\n",
      "    \n",
      "# remove the first and last week, which are not full weeks due to isocalendar numbering\n",
      "\n",
      "x.pop(0)\n",
      "x.pop()\n",
      "y.pop(0)\n",
      "y.pop()\n",
      "\n",
      "plt.plot(x,y, \"ro\")"
     ],
     "language": "python",
     "metadata": {},
     "outputs": [
      {
       "metadata": {},
       "output_type": "pyout",
       "prompt_number": 59,
       "text": [
        "[<matplotlib.lines.Line2D at 0x114889610>]"
       ]
      },
      {
       "metadata": {},
       "output_type": "display_data",
       "png": "[encoded data removed]",
       "text": [
        "<matplotlib.figure.Figure at 0x1149de850>"
       ]
      }
     ],
     "prompt_number": 59
    },
    {
     "cell_type": "code",
     "collapsed": false,
     "input": [
      "from sklearn.linear_model import LinearRegression # this is camel case\n",
      "import numpy as np\n",
      "\n",
      "# this is just formatting.\n",
      "X = np.asarray(x).reshape(len(x), 1)\n",
      "Y = np.asarray(y).reshape(len(y), 1)\n",
      "\n",
      "regressor = LinearRegression(fit_intercept=True).fit(X,Y)\n",
      "\n",
      "y_fit = regressor.predict(X)\n",
      "#print y_fit\n",
      "plt.plot(x, y, \"ro\")\n",
      "plt.plot(x, y_fit)"
     ],
     "language": "python",
     "metadata": {},
     "outputs": [
      {
       "metadata": {},
       "output_type": "pyout",
       "prompt_number": 61,
       "text": [
        "[<matplotlib.lines.Line2D at 0x10fa92d50>]"
       ]
      },
      {
       "metadata": {},
       "output_type": "display_data",
       "png": "[encoded data removed]",
       "text": [
        "<matplotlib.figure.Figure at 0x110379950>"
       ]
      }
     ],
     "prompt_number": 61
    },
    {
     "cell_type": "code",
     "collapsed": false,
     "input": [
      "print regressor.coef_\n",
      "observed_slope = regressor.coef_[0,0]\n",
      "print observed_slope"
     ],
     "language": "python",
     "metadata": {},
     "outputs": [
      {
       "output_type": "stream",
       "stream": "stdout",
       "text": [
        "[[-157702.2967033]]\n",
        "-157702.296703\n"
       ]
      }
     ],
     "prompt_number": 63
    },
    {
     "cell_type": "code",
     "collapsed": false,
     "input": [
      "print y\n",
      "print X"
     ],
     "language": "python",
     "metadata": {},
     "outputs": [
      {
       "output_type": "stream",
       "stream": "stdout",
       "text": [
        "[33153328, 36559260, 36157028, 36514997, 36090151, 30803343, 34549534, 34689273, 35006235, 34330818, 34554591, 33324691, 32939197]\n",
        "[[22]\n",
        " [23]\n",
        " [24]\n",
        " [25]\n",
        " [26]\n",
        " [27]\n",
        " [28]\n",
        " [29]\n",
        " [30]\n",
        " [31]\n",
        " [32]\n",
        " [33]\n",
        " [34]]\n"
       ]
      }
     ],
     "prompt_number": 81
    },
    {
     "cell_type": "code",
     "collapsed": false,
     "input": [
      "# test_counter= Counter()\n",
      "# mydict = {}\n",
      "\n",
      "# # mydict[\"a\"] = 1\n",
      "# # print mydict.items()\n",
      "\n",
      "# test_counter[\"b\"] = 2\n",
      "# print test_counter.items()\n",
      "\n",
      "# #print mydict[\"non_existent_key\"] # this gives a KeyError\n",
      "# print test_counter[\"non_existent_key\"] = test_counter[\"non_existent_key\"] + 1\n",
      "# print test_counter.items()"
     ],
     "language": "python",
     "metadata": {},
     "outputs": [
      {
       "output_type": "stream",
       "stream": "stdout",
       "text": [
        "[('b', 2)]\n",
        "0\n",
        "[('b', 2)]\n"
       ]
      }
     ],
     "prompt_number": 76
    },
    {
     "cell_type": "code",
     "collapsed": false,
     "input": [
      "# back to hypothesis testing. Is this slope truly negative, i.e. < 0?\n",
      "\n",
      "mu = np.mean(y)\n",
      "\n",
      "# sigma\n",
      "sigma = np.std(y)\n",
      "\n",
      "import random\n",
      "\n",
      "simulated_slopes = []\n",
      "extreme_slopes = []\n",
      "\n",
      "for simulation in range(50000):\n",
      "    simulated_weekly_counts = []\n",
      "    \n",
      "    for i in range(13):\n",
      "        simulated_weekly_counts.append( random.normalvariate(mu, sigma))\n",
      "        \n",
      "    sim_Y = np.asarray(simulated_weekly_counts).reshape(len(simulated_weekly_counts), 1)\n",
      "    sim_regressor = LinearRegression(fit_intercept=True).fit(X, sim_Y)\n",
      "    sim_y_fit = sim_regressor.predict(X)\n",
      "    \n",
      "    sim_slope = sim_regressor.coef_[0,0]\n",
      "    simulated_slopes.append(sim_slope)\n",
      "    \n",
      "    if sim_slope <= observed_slope:\n",
      "        extreme_slopes.append(sim_slope)"
     ],
     "language": "python",
     "metadata": {},
     "outputs": [],
     "prompt_number": 79
    },
    {
     "cell_type": "code",
     "collapsed": false,
     "input": [
      "print float(len(extreme_slopes)) / len(simulated_slopes)"
     ],
     "language": "python",
     "metadata": {},
     "outputs": [
      {
       "output_type": "stream",
       "stream": "stdout",
       "text": [
        "0.09086\n"
       ]
      }
     ],
     "prompt_number": 80
    },
    {
     "cell_type": "code",
     "collapsed": false,
     "input": [],
     "language": "python",
     "metadata": {},
     "outputs": []
    }
   ],
   "metadata": {}
  }
 ]
}