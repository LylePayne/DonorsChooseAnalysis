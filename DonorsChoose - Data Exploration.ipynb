{
 "metadata": {
  "name": "",
  "signature": "sha256:2a4eed318300a046d1641dffd8763333d552e8921b1a82e05c44f8d2f787f7ae"
 },
 "nbformat": 3,
 "nbformat_minor": 0,
 "worksheets": [
  {
   "cells": [
    {
     "cell_type": "code",
     "collapsed": false,
     "input": [
      "import pandas as pd\n",
      "import numpy as np\n",
      "import matplotlib.pyplot as plt\n",
      "from sklearn.cross_validation import train_test_split\n",
      "from sklearn.linear_model import LogisticRegression\n",
      "from statsmodels.formula.api import Logit\n",
      "from sklearn.neighbors import KNeighborsClassifier\n",
      "from sklearn.metrics import accuracy_score\n",
      "from sklearn.learning_curve import learning_curve\n",
      "from sklearn.naive_bayes import GaussianNB\n",
      "from sklearn.svm import SVC\n",
      "from sklearn.tree import DecisionTreeClassifier\n",
      "from sklearn.ensemble import RandomForestClassifier\n",
      "from sklearn.cross_validation import cross_val_score\n",
      "import pymysql\n",
      "import seaborn as sn\n",
      "from sklearn.ensemble import GradientBoostingClassifier, RandomForestClassifier"
     ],
     "language": "python",
     "metadata": {},
     "outputs": [],
     "prompt_number": 2
    },
    {
     "cell_type": "code",
     "collapsed": false,
     "input": [
      "from sklearn.metrics import accuracy_score\n",
      "from sklearn.metrics import classification_report\n",
      "from sklearn.metrics import confusion_matrix\n",
      "from textblob import TextBlob"
     ],
     "language": "python",
     "metadata": {},
     "outputs": [],
     "prompt_number": 3
    },
    {
     "cell_type": "code",
     "collapsed": false,
     "input": [
      "###Starting with Logistic Regression in Stats Models to be able to evaluate the individual features\n",
      "import statsmodels.formula.api as sm\n",
      "import statsmodels.api as st\n",
      "from statsmodels.discrete.discrete_model import Logit"
     ],
     "language": "python",
     "metadata": {},
     "outputs": [],
     "prompt_number": 4
    },
    {
     "cell_type": "code",
     "collapsed": false,
     "input": [
      "import pickle"
     ],
     "language": "python",
     "metadata": {},
     "outputs": [],
     "prompt_number": 5
    },
    {
     "cell_type": "markdown",
     "metadata": {},
     "source": [
      "###Import data from SQL database into Pandas dataframe"
     ]
    },
    {
     "cell_type": "code",
     "collapsed": false,
     "input": [
      "db = pymysql.connect(host=\"104.236.210.7\",  #your cloud ip\n",
      "                     user='root',\n",
      "                     passwd='Colgate09*',\n",
      "                     db='donorschoose')\n",
      "\n",
      "cursor = db.cursor()\n",
      "\n",
      "projects_df = pd.read_sql('SELECT * FROM donorschoose_projects', db, index_col='_projectid')\n",
      "\n",
      "cursor.close()\n",
      "db.close()"
     ],
     "language": "python",
     "metadata": {},
     "outputs": [],
     "prompt_number": 5
    },
    {
     "cell_type": "markdown",
     "metadata": {},
     "source": [
      "####Pickle files to speed up reload (as opposed to continually pulling from SQL)"
     ]
    },
    {
     "cell_type": "code",
     "collapsed": false,
     "input": [
      "with open(\"DC_projects.pkl\", \"w\") as picklefile:\n",
      "    pickle.dump(projects_df, picklefile)"
     ],
     "language": "python",
     "metadata": {},
     "outputs": [],
     "prompt_number": 5
    },
    {
     "cell_type": "code",
     "collapsed": false,
     "input": [
      "with open(\"DC_projects.pkl\", \"r\") as picklefile:\n",
      "    projects_df = pickle.load(picklefile)"
     ],
     "language": "python",
     "metadata": {},
     "outputs": [],
     "prompt_number": 6
    },
    {
     "cell_type": "markdown",
     "metadata": {},
     "source": [
      "###Initial data cleaning"
     ]
    },
    {
     "cell_type": "markdown",
     "metadata": {},
     "source": [
      "####Replacing values with t & f so they are now 1 & 0 and can be used as model inputs"
     ]
    },
    {
     "cell_type": "code",
     "collapsed": false,
     "input": [
      "projects_df.replace(to_replace = (\"t\", \"f\"), value = (1, 0), inplace = True)"
     ],
     "language": "python",
     "metadata": {},
     "outputs": [],
     "prompt_number": 9
    },
    {
     "cell_type": "markdown",
     "metadata": {},
     "source": [
      "####Creating a price per student column (added .001 to both the total price and the students reached for smoothing to be able to insure that there weren't infinities)"
     ]
    },
    {
     "cell_type": "code",
     "collapsed": false,
     "input": [
      "##Initial Test\n",
      "print (projects_df.total_price_excluding_optional_support[10000]+.01)/ (projects_df.students_reached[10000] + .01)"
     ],
     "language": "python",
     "metadata": {},
     "outputs": [
      {
       "output_type": "stream",
       "stream": "stdout",
       "text": [
        "13.953355545\n"
       ]
      }
     ],
     "prompt_number": 7
    },
    {
     "cell_type": "code",
     "collapsed": false,
     "input": [
      "projects_df[\"price/student\"] = (projects_df[\"total_price_excluding_optional_support\"]+.001)/(projects_df[\"students_reached\"]+.001)"
     ],
     "language": "python",
     "metadata": {},
     "outputs": [],
     "prompt_number": 8
    },
    {
     "cell_type": "markdown",
     "metadata": {},
     "source": [
      "####Creating a month and year posted column"
     ]
    },
    {
     "cell_type": "code",
     "collapsed": false,
     "input": [
      "projects_df[\"date_posted\"] = pd.to_datetime(projects_df[\"date_posted\"])"
     ],
     "language": "python",
     "metadata": {},
     "outputs": [],
     "prompt_number": 9
    },
    {
     "cell_type": "code",
     "collapsed": false,
     "input": [
      "projects_df['month_posted']=projects_df['date_posted'].apply(lambda x: x.month)"
     ],
     "language": "python",
     "metadata": {},
     "outputs": [],
     "prompt_number": 10
    },
    {
     "cell_type": "code",
     "collapsed": false,
     "input": [
      "projects_df['year_posted']=projects_df['date_posted'].apply(lambda x: x.year)"
     ],
     "language": "python",
     "metadata": {},
     "outputs": [],
     "prompt_number": 11
    },
    {
     "cell_type": "markdown",
     "metadata": {},
     "source": [
      "###Exploratory Analysis of dataset"
     ]
    },
    {
     "cell_type": "markdown",
     "metadata": {},
     "source": [
      "####Analyze seasonality of requests"
     ]
    },
    {
     "cell_type": "code",
     "collapsed": false,
     "input": [
      "%matplotlib inline\n",
      "sn.barplot(projects_df.month_posted)\n",
      "plt.title(\"Projects per Month, All Months 2002-2014\")"
     ],
     "language": "python",
     "metadata": {},
     "outputs": [
      {
       "metadata": {},
       "output_type": "pyout",
       "prompt_number": 13,
       "text": [
        "<matplotlib.text.Text at 0x1a7e0b950>"
       ]
      },
      {
       "metadata": {},
       "output_type": "display_data",
       "png": "[encoded data removed]",
       "text": [
        "<matplotlib.figure.Figure at 0x1a7e1d8d0>"
       ]
      }
     ],
     "prompt_number": 13
    },
    {
     "cell_type": "markdown",
     "metadata": {},
     "source": [
      "Overall you can see the frequency of asks is highest in September, at the beginning of the school year, and lowest in June, at the end of the school year."
     ]
    },
    {
     "cell_type": "markdown",
     "metadata": {},
     "source": [
      "####Overall growth in number of Donor's Choose Projects"
     ]
    },
    {
     "cell_type": "code",
     "collapsed": false,
     "input": [
      "sn.barplot(projects_df.year_posted)"
     ],
     "language": "python",
     "metadata": {},
     "outputs": [
      {
       "metadata": {},
       "output_type": "pyout",
       "prompt_number": 16,
       "text": [
        "<matplotlib.axes._subplots.AxesSubplot at 0x1926959d0>"
       ]
      },
      {
       "metadata": {},
       "output_type": "display_data",
       "png": "[encoded data removed]",
       "text": [
        "<matplotlib.figure.Figure at 0x192695550>"
       ]
      }
     ],
     "prompt_number": 16
    },
    {
     "cell_type": "markdown",
     "metadata": {},
     "source": [
      "####Look at number of donors per project\n",
      "Filtered to look only at projects with fewer than 20 donors, large long tail of projects with a lot of donors"
     ]
    },
    {
     "cell_type": "code",
     "collapsed": false,
     "input": [
      "clean_donors = projects_df[(projects_df.num_donors <= 20)]"
     ],
     "language": "python",
     "metadata": {},
     "outputs": [],
     "prompt_number": 17
    },
    {
     "cell_type": "code",
     "collapsed": false,
     "input": [
      "plt.hist(clean_donors.num_donors)"
     ],
     "language": "python",
     "metadata": {},
     "outputs": [
      {
       "metadata": {},
       "output_type": "pyout",
       "prompt_number": 18,
       "text": [
        "(array([ 281280.,  196273.,  105802.,   64325.,   39510.,   24658.,\n",
        "          16357.,   11122.,    7448.,    7571.]),\n",
        " array([  0.,   2.,   4.,   6.,   8.,  10.,  12.,  14.,  16.,  18.,  20.]),\n",
        " <a list of 10 Patch objects>)"
       ]
      },
      {
       "metadata": {},
       "output_type": "display_data",
       "png": "[encoded data removed]",
       "text": [
        "<matplotlib.figure.Figure at 0x193face50>"
       ]
      }
     ],
     "prompt_number": 18
    },
    {
     "cell_type": "markdown",
     "metadata": {},
     "source": [
      "Large number of projects only have donations from 5 or fewer donors"
     ]
    },
    {
     "cell_type": "markdown",
     "metadata": {},
     "source": [
      "####Create specific dataframes which only include projects that were completed or expired\n",
      "Did not keep \"live\" projects in test set - may use for testing the accuracy of the model and see if I can verify if they were ultimately funded or not.\n",
      "Did not include \"reallocated\" projects because they are duplicative of the completed and expired set - \"reallocated\" means that the project expired, but was used to fund another project that succeeded. "
     ]
    },
    {
     "cell_type": "code",
     "collapsed": false,
     "input": [
      "funding_completed = projects_df[projects_df.funding_status == \"completed\"]\n",
      "funding_completed['funded'] = 1\n",
      "\n",
      "\n",
      "funding_expired = projects_df[projects_df.funding_status == \"expired\"]\n",
      "funding_expired['funded'] = 0"
     ],
     "language": "python",
     "metadata": {},
     "outputs": [],
     "prompt_number": 20
    },
    {
     "cell_type": "code",
     "collapsed": false,
     "input": [
      "funding_list = [funding_completed, funding_expired]\n",
      "funding_df = pd.concat(funding_list)"
     ],
     "language": "python",
     "metadata": {},
     "outputs": [],
     "prompt_number": 21
    },
    {
     "cell_type": "markdown",
     "metadata": {},
     "source": [
      "####Percentage of projects funded by time of year they are posted"
     ]
    },
    {
     "cell_type": "code",
     "collapsed": false,
     "input": [
      "groupby_month = funding_df.groupby(\"month_posted\")\n",
      "groupby_month_hist = groupby_month['funded'].mean()\n",
      "groupby_month_hist.plot(kind=\"bar\")\n",
      "plt.axis([-1, 12, 0, 1])\n",
      "\n",
      "plt.title('% of Projects Funded by Month')\n",
      "plt.xlabel('Month')\n",
      "plt.ylabel('% of Projects Funded')"
     ],
     "language": "python",
     "metadata": {},
     "outputs": [
      {
       "metadata": {},
       "output_type": "pyout",
       "prompt_number": 22,
       "text": [
        "<matplotlib.text.Text at 0x1a1833450>"
       ]
      },
      {
       "metadata": {},
       "output_type": "display_data",
       "png": "[encoded data removed]",
       "text": [
        "<matplotlib.figure.Figure at 0x194023e50>"
       ]
      }
     ],
     "prompt_number": 22
    },
    {
     "cell_type": "markdown",
     "metadata": {},
     "source": [
      "####Percentage of projects funded per year"
     ]
    },
    {
     "cell_type": "code",
     "collapsed": false,
     "input": [
      "groupby_year = funding_df.groupby(\"year_posted\")\n",
      "groupby_year_hist = groupby_year['funded'].mean()\n",
      "groupby_year_hist.plot(kind=\"bar\")\n",
      "\n",
      "plt.title('% of Projects Funded by Year')\n",
      "plt.xlabel('Year')\n",
      "plt.ylabel('% of Projects Funded')"
     ],
     "language": "python",
     "metadata": {},
     "outputs": [
      {
       "metadata": {},
       "output_type": "pyout",
       "prompt_number": 23,
       "text": [
        "<matplotlib.text.Text at 0x194223b90>"
       ]
      },
      {
       "metadata": {},
       "output_type": "display_data",
       "png": "[encoded data removed]",
       "text": [
        "<matplotlib.figure.Figure at 0x1940062d0>"
       ]
      }
     ],
     "prompt_number": 23
    },
    {
     "cell_type": "code",
     "collapsed": false,
     "input": [
      "groupby_year_funded = funding_completed.groupby(\"year_posted\")\n",
      "groupby_year_funded_hist = groupby_year_funded[\"funded\"].count()\n",
      "\n",
      "groupby_year_funded_hist.plot(kind = \"bar\")"
     ],
     "language": "python",
     "metadata": {},
     "outputs": [
      {
       "metadata": {},
       "output_type": "pyout",
       "prompt_number": 24,
       "text": [
        "<matplotlib.axes._subplots.AxesSubplot at 0x1a1128610>"
       ]
      },
      {
       "metadata": {},
       "output_type": "display_data",
       "png": "[encoded data removed]",
       "text": [
        "<matplotlib.figure.Figure at 0x194019d10>"
       ]
      }
     ],
     "prompt_number": 24
    },
    {
     "cell_type": "markdown",
     "metadata": {},
     "source": [
      "####Look at target audience for funding"
     ]
    },
    {
     "cell_type": "code",
     "collapsed": false,
     "input": [
      "sn.barplot(funding_df.grade_level)\n",
      "plt.xticks(rotation = 90)"
     ],
     "language": "python",
     "metadata": {},
     "outputs": [
      {
       "metadata": {},
       "output_type": "pyout",
       "prompt_number": 25,
       "text": [
        "(array([0, 1, 2, 3, 4]), <a list of 5 Text xticklabel objects>)"
       ]
      },
      {
       "metadata": {},
       "output_type": "display_data",
       "png": "[encoded data removed]",
       "text": [
        "<matplotlib.figure.Figure at 0x194019890>"
       ]
      }
     ],
     "prompt_number": 25
    },
    {
     "cell_type": "code",
     "collapsed": false,
     "input": [
      "sn.barplot(funding_df.primary_focus_subject)\n",
      "plt.xticks(rotation = 90)"
     ],
     "language": "python",
     "metadata": {},
     "outputs": [
      {
       "metadata": {},
       "output_type": "pyout",
       "prompt_number": 26,
       "text": [
        "(array([ 0,  1,  2,  3,  4,  5,  6,  7,  8,  9, 10, 11, 12, 13, 14, 15, 16,\n",
        "        17, 18, 19, 20, 21, 22, 23, 24, 25, 26, 27]),\n",
        " <a list of 28 Text xticklabel objects>)"
       ]
      },
      {
       "metadata": {},
       "output_type": "display_data",
       "png": "[encoded data removed]",
       "text": [
        "<matplotlib.figure.Figure at 0x1a1716e10>"
       ]
      }
     ],
     "prompt_number": 26
    },
    {
     "cell_type": "code",
     "collapsed": false,
     "input": [
      "sn.barplot(funding_df.primary_focus_area)\n",
      "plt.xticks(rotation = 90)"
     ],
     "language": "python",
     "metadata": {},
     "outputs": [
      {
       "metadata": {},
       "output_type": "pyout",
       "prompt_number": 27,
       "text": [
        "(array([0, 1, 2, 3, 4, 5, 6, 7]), <a list of 8 Text xticklabel objects>)"
       ]
      },
      {
       "metadata": {},
       "output_type": "display_data",
       "png": "[encoded data removed]",
       "text": [
        "<matplotlib.figure.Figure at 0x1a311a910>"
       ]
      }
     ],
     "prompt_number": 27
    },
    {
     "cell_type": "code",
     "collapsed": false,
     "input": [
      "sn.barplot(funding_df.resource_type)\n",
      "plt.xticks(rotation = 90)"
     ],
     "language": "python",
     "metadata": {},
     "outputs": [
      {
       "metadata": {},
       "output_type": "pyout",
       "prompt_number": 28,
       "text": [
        "(array([0, 1, 2, 3, 4, 5, 6]), <a list of 7 Text xticklabel objects>)"
       ]
      },
      {
       "metadata": {},
       "output_type": "display_data",
       "png": "[encoded data removed]",
       "text": [
        "<matplotlib.figure.Figure at 0x1a7c6b050>"
       ]
      }
     ],
     "prompt_number": 28
    },
    {
     "cell_type": "code",
     "collapsed": false,
     "input": [
      "sn.barplot(funding_df.poverty_level)\n",
      "plt.xticks(rotation = 90)"
     ],
     "language": "python",
     "metadata": {},
     "outputs": [
      {
       "metadata": {},
       "output_type": "pyout",
       "prompt_number": 29,
       "text": [
        "(array([0, 1, 2, 3]), <a list of 4 Text xticklabel objects>)"
       ]
      },
      {
       "metadata": {},
       "output_type": "display_data",
       "png": "[encoded data removed]",
       "text": [
        "<matplotlib.figure.Figure at 0x1a4005550>"
       ]
      }
     ],
     "prompt_number": 29
    },
    {
     "cell_type": "code",
     "collapsed": false,
     "input": [
      "sn.barplot(funding_df.teacher_prefix)"
     ],
     "language": "python",
     "metadata": {},
     "outputs": [
      {
       "metadata": {},
       "output_type": "pyout",
       "prompt_number": 32,
       "text": [
        "<matplotlib.axes._subplots.AxesSubplot at 0x1a2f76110>"
       ]
      },
      {
       "metadata": {},
       "output_type": "display_data",
       "png": "[encoded data removed]",
       "text": [
        "<matplotlib.figure.Figure at 0x1a2f92150>"
       ]
      }
     ],
     "prompt_number": 32
    },
    {
     "cell_type": "code",
     "collapsed": false,
     "input": [
      "sn.barplot(funding_df.school_metro)"
     ],
     "language": "python",
     "metadata": {},
     "outputs": [
      {
       "metadata": {},
       "output_type": "pyout",
       "prompt_number": 33,
       "text": [
        "<matplotlib.axes._subplots.AxesSubplot at 0x1a3daf690>"
       ]
      },
      {
       "metadata": {},
       "output_type": "display_data",
       "png": "[encoded data removed]",
       "text": [
        "<matplotlib.figure.Figure at 0x1a3db6c50>"
       ]
      }
     ],
     "prompt_number": 33
    },
    {
     "cell_type": "code",
     "collapsed": false,
     "input": [
      "sn.barplot(funding_df.resource_type)"
     ],
     "language": "python",
     "metadata": {},
     "outputs": [
      {
       "metadata": {},
       "output_type": "pyout",
       "prompt_number": 34,
       "text": [
        "<matplotlib.axes._subplots.AxesSubplot at 0x1a3cc0d50>"
       ]
      },
      {
       "metadata": {},
       "output_type": "display_data",
       "png": "[encoded data removed]",
       "text": [
        "<matplotlib.figure.Figure at 0x1a3f59850>"
       ]
      }
     ],
     "prompt_number": 34
    },
    {
     "cell_type": "code",
     "collapsed": false,
     "input": [
      "sn.barplot(funding_df.funding_status)\n",
      "plt.xticks(rotation = 90)"
     ],
     "language": "python",
     "metadata": {},
     "outputs": [
      {
       "metadata": {},
       "output_type": "pyout",
       "prompt_number": 30,
       "text": [
        "(array([0, 1]), <a list of 2 Text xticklabel objects>)"
       ]
      },
      {
       "metadata": {},
       "output_type": "display_data",
       "png": "[encoded data removed]",
       "text": [
        "<matplotlib.figure.Figure at 0x1a2f6a8d0>"
       ]
      }
     ],
     "prompt_number": 30
    },
    {
     "cell_type": "code",
     "collapsed": false,
     "input": [
      "funding_df.describe()"
     ],
     "language": "python",
     "metadata": {},
     "outputs": [
      {
       "html": [
        "<div style=\"max-height:1000px;max-width:1500px;overflow:auto;\">\n",
        "<table border=\"1\" class=\"dataframe\">\n",
        "  <thead>\n",
        "    <tr style=\"text-align: right;\">\n",
        "      <th></th>\n",
        "      <th>school_latitude</th>\n",
        "      <th>school_longitude</th>\n",
        "      <th>vendor_shipping_charges</th>\n",
        "      <th>sales_tax</th>\n",
        "      <th>payment_processing_charges</th>\n",
        "      <th>fulfillment_labor_materials</th>\n",
        "      <th>total_price_excluding_optional_support</th>\n",
        "      <th>total_price_including_optional_support</th>\n",
        "      <th>students_reached</th>\n",
        "      <th>total_donations</th>\n",
        "      <th>num_donors</th>\n",
        "      <th>price/student</th>\n",
        "      <th>month_posted</th>\n",
        "      <th>year_posted</th>\n",
        "      <th>funded</th>\n",
        "    </tr>\n",
        "  </thead>\n",
        "  <tbody>\n",
        "    <tr>\n",
        "      <th>count</th>\n",
        "      <td> 722823.000000</td>\n",
        "      <td> 722823.000000</td>\n",
        "      <td> 722823.000000</td>\n",
        "      <td> 722823.000000</td>\n",
        "      <td> 722823.000000</td>\n",
        "      <td> 722823.000000</td>\n",
        "      <td>   722823.000000</td>\n",
        "      <td>   722823.000000</td>\n",
        "      <td> 722823.000000</td>\n",
        "      <td> 722823.000000</td>\n",
        "      <td> 722823.000000</td>\n",
        "      <td> 7.228230e+05</td>\n",
        "      <td> 722823.000000</td>\n",
        "      <td> 722823.000000</td>\n",
        "      <td> 722823.000000</td>\n",
        "    </tr>\n",
        "    <tr>\n",
        "      <th>mean</th>\n",
        "      <td>     37.231095</td>\n",
        "      <td>    -93.499194</td>\n",
        "      <td>     17.774255</td>\n",
        "      <td>     15.831639</td>\n",
        "      <td>      7.151776</td>\n",
        "      <td>     26.412959</td>\n",
        "      <td>      550.926406</td>\n",
        "      <td>      654.498923</td>\n",
        "      <td>     96.594547</td>\n",
        "      <td>    391.662156</td>\n",
        "      <td>      4.421986</td>\n",
        "      <td> 3.299485e+03</td>\n",
        "      <td>      6.863967</td>\n",
        "      <td>   2011.033665</td>\n",
        "      <td>      0.712455</td>\n",
        "    </tr>\n",
        "    <tr>\n",
        "      <th>std</th>\n",
        "      <td>      4.720675</td>\n",
        "      <td>     17.806393</td>\n",
        "      <td>     63.788691</td>\n",
        "      <td>     47.445144</td>\n",
        "      <td>     17.295936</td>\n",
        "      <td>     10.011756</td>\n",
        "      <td>    12153.788860</td>\n",
        "      <td>    14819.948103</td>\n",
        "      <td>   2188.757481</td>\n",
        "      <td>    751.904858</td>\n",
        "      <td>      6.244494</td>\n",
        "      <td> 1.177932e+06</td>\n",
        "      <td>      3.495708</td>\n",
        "      <td>      2.382925</td>\n",
        "      <td>      0.452618</td>\n",
        "    </tr>\n",
        "    <tr>\n",
        "      <th>min</th>\n",
        "      <td>     18.249140</td>\n",
        "      <td>   -176.634989</td>\n",
        "      <td>      0.000000</td>\n",
        "      <td>      0.000000</td>\n",
        "      <td>      0.000000</td>\n",
        "      <td>      0.000000</td>\n",
        "      <td>        0.000000</td>\n",
        "      <td>        0.000000</td>\n",
        "      <td>      0.000000</td>\n",
        "      <td>      0.000000</td>\n",
        "      <td>      0.000000</td>\n",
        "      <td> 4.999750e-05</td>\n",
        "      <td>      1.000000</td>\n",
        "      <td>   2002.000000</td>\n",
        "      <td>      0.000000</td>\n",
        "    </tr>\n",
        "    <tr>\n",
        "      <th>25%</th>\n",
        "      <td>     34.026539</td>\n",
        "      <td>   -112.035370</td>\n",
        "      <td>      0.000000</td>\n",
        "      <td>      0.000000</td>\n",
        "      <td>      3.210000</td>\n",
        "      <td>     17.000000</td>\n",
        "      <td>      268.000000</td>\n",
        "      <td>      318.290000</td>\n",
        "      <td>     22.000000</td>\n",
        "      <td>      0.000000</td>\n",
        "      <td>      1.000000</td>\n",
        "      <td> 4.561663e+00</td>\n",
        "      <td>      4.000000</td>\n",
        "      <td>   2010.000000</td>\n",
        "      <td>      0.000000</td>\n",
        "    </tr>\n",
        "    <tr>\n",
        "      <th>50%</th>\n",
        "      <td>     37.653138</td>\n",
        "      <td>    -87.694710</td>\n",
        "      <td>     11.280000</td>\n",
        "      <td>      0.000000</td>\n",
        "      <td>      5.390000</td>\n",
        "      <td>     30.000000</td>\n",
        "      <td>      412.380000</td>\n",
        "      <td>      489.120000</td>\n",
        "      <td>     30.000000</td>\n",
        "      <td>    307.260000</td>\n",
        "      <td>      3.000000</td>\n",
        "      <td> 1.020268e+01</td>\n",
        "      <td>      8.000000</td>\n",
        "      <td>   2011.000000</td>\n",
        "      <td>      1.000000</td>\n",
        "    </tr>\n",
        "    <tr>\n",
        "      <th>75%</th>\n",
        "      <td>     40.759132</td>\n",
        "      <td>    -79.462768</td>\n",
        "      <td>     25.200000</td>\n",
        "      <td>     23.400000</td>\n",
        "      <td>      8.390000</td>\n",
        "      <td>     35.000000</td>\n",
        "      <td>      595.240000</td>\n",
        "      <td>      706.160000</td>\n",
        "      <td>    100.000000</td>\n",
        "      <td>    528.645000</td>\n",
        "      <td>      6.000000</td>\n",
        "      <td> 1.960288e+01</td>\n",
        "      <td>     10.000000</td>\n",
        "      <td>   2013.000000</td>\n",
        "      <td>      1.000000</td>\n",
        "    </tr>\n",
        "    <tr>\n",
        "      <th>max</th>\n",
        "      <td>     71.290646</td>\n",
        "      <td>    -66.628036</td>\n",
        "      <td>  38861.760000</td>\n",
        "      <td>  13797.780000</td>\n",
        "      <td>   9715.440000</td>\n",
        "      <td>     35.000000</td>\n",
        "      <td> 10250017.000000</td>\n",
        "      <td> 12500020.730000</td>\n",
        "      <td> 999999.000000</td>\n",
        "      <td> 244778.000000</td>\n",
        "      <td>    521.000000</td>\n",
        "      <td> 1.000000e+09</td>\n",
        "      <td>     12.000000</td>\n",
        "      <td>   2014.000000</td>\n",
        "      <td>      1.000000</td>\n",
        "    </tr>\n",
        "  </tbody>\n",
        "</table>\n",
        "</div>"
       ],
       "metadata": {},
       "output_type": "pyout",
       "prompt_number": 31,
       "text": [
        "       school_latitude  school_longitude  vendor_shipping_charges  \\\n",
        "count    722823.000000     722823.000000            722823.000000   \n",
        "mean         37.231095        -93.499194                17.774255   \n",
        "std           4.720675         17.806393                63.788691   \n",
        "min          18.249140       -176.634989                 0.000000   \n",
        "25%          34.026539       -112.035370                 0.000000   \n",
        "50%          37.653138        -87.694710                11.280000   \n",
        "75%          40.759132        -79.462768                25.200000   \n",
        "max          71.290646        -66.628036             38861.760000   \n",
        "\n",
        "           sales_tax  payment_processing_charges  fulfillment_labor_materials  \\\n",
        "count  722823.000000               722823.000000                722823.000000   \n",
        "mean       15.831639                    7.151776                    26.412959   \n",
        "std        47.445144                   17.295936                    10.011756   \n",
        "min         0.000000                    0.000000                     0.000000   \n",
        "25%         0.000000                    3.210000                    17.000000   \n",
        "50%         0.000000                    5.390000                    30.000000   \n",
        "75%        23.400000                    8.390000                    35.000000   \n",
        "max     13797.780000                 9715.440000                    35.000000   \n",
        "\n",
        "       total_price_excluding_optional_support  \\\n",
        "count                           722823.000000   \n",
        "mean                               550.926406   \n",
        "std                              12153.788860   \n",
        "min                                  0.000000   \n",
        "25%                                268.000000   \n",
        "50%                                412.380000   \n",
        "75%                                595.240000   \n",
        "max                           10250017.000000   \n",
        "\n",
        "       total_price_including_optional_support  students_reached  \\\n",
        "count                           722823.000000     722823.000000   \n",
        "mean                               654.498923         96.594547   \n",
        "std                              14819.948103       2188.757481   \n",
        "min                                  0.000000          0.000000   \n",
        "25%                                318.290000         22.000000   \n",
        "50%                                489.120000         30.000000   \n",
        "75%                                706.160000        100.000000   \n",
        "max                           12500020.730000     999999.000000   \n",
        "\n",
        "       total_donations     num_donors  price/student   month_posted  \\\n",
        "count    722823.000000  722823.000000   7.228230e+05  722823.000000   \n",
        "mean        391.662156       4.421986   3.299485e+03       6.863967   \n",
        "std         751.904858       6.244494   1.177932e+06       3.495708   \n",
        "min           0.000000       0.000000   4.999750e-05       1.000000   \n",
        "25%           0.000000       1.000000   4.561663e+00       4.000000   \n",
        "50%         307.260000       3.000000   1.020268e+01       8.000000   \n",
        "75%         528.645000       6.000000   1.960288e+01      10.000000   \n",
        "max      244778.000000     521.000000   1.000000e+09      12.000000   \n",
        "\n",
        "         year_posted         funded  \n",
        "count  722823.000000  722823.000000  \n",
        "mean     2011.033665       0.712455  \n",
        "std         2.382925       0.452618  \n",
        "min      2002.000000       0.000000  \n",
        "25%      2010.000000       0.000000  \n",
        "50%      2011.000000       1.000000  \n",
        "75%      2013.000000       1.000000  \n",
        "max      2014.000000       1.000000  "
       ]
      }
     ],
     "prompt_number": 31
    },
    {
     "cell_type": "code",
     "collapsed": false,
     "input": [
      "with open(\"funding_df.pkl\", \"w\") as picklefile:\n",
      "    pickle.dump(funding_df, picklefile)"
     ],
     "language": "python",
     "metadata": {},
     "outputs": [],
     "prompt_number": 27
    },
    {
     "cell_type": "markdown",
     "metadata": {},
     "source": [
      "####Look at donations by state"
     ]
    },
    {
     "cell_type": "code",
     "collapsed": false,
     "input": [
      "fig = plt.figure(figsize=(10,7))\n",
      "sn.barplot(funding_df.school_state)\n",
      "plt.xticks(rotation=90)"
     ],
     "language": "python",
     "metadata": {},
     "outputs": [
      {
       "metadata": {},
       "output_type": "pyout",
       "prompt_number": 35,
       "text": [
        "(array([ 0,  1,  2,  3,  4,  5,  6,  7,  8,  9, 10, 11, 12, 13, 14, 15, 16,\n",
        "        17, 18, 19, 20, 21, 22, 23, 24, 25, 26, 27, 28, 29, 30, 31, 32, 33,\n",
        "        34, 35, 36, 37, 38, 39, 40, 41, 42, 43, 44, 45, 46, 47, 48, 49, 50,\n",
        "        51]), <a list of 52 Text xticklabel objects>)"
       ]
      },
      {
       "metadata": {},
       "output_type": "display_data",
       "png": "[encoded data removed]",
       "text": [
        "<matplotlib.figure.Figure at 0x1a6f73f10>"
       ]
      }
     ],
     "prompt_number": 35
    },
    {
     "cell_type": "code",
     "collapsed": false,
     "input": [
      "fig = plt.figure(figsize=(10,7))\n",
      "plt.xticks(rotation=90)\n",
      "\n",
      "groupby_state = funding_df.groupby(\"school_state\")\n",
      "groupby_state_hist = groupby_state['funded'].mean()\n",
      "groupby_state_hist.plot(kind=\"bar\")\n",
      "\n",
      "plt.title('% of Projects Funded by State')\n",
      "plt.xlabel('State')\n",
      "plt.ylabel('% of Projects Funded')"
     ],
     "language": "python",
     "metadata": {},
     "outputs": [
      {
       "metadata": {},
       "output_type": "pyout",
       "prompt_number": 136,
       "text": [
        "<matplotlib.text.Text at 0x2cd5286d0>"
       ]
      },
      {
       "metadata": {},
       "output_type": "display_data",
       "png": "[encoded data removed]",
       "text": [
        "<matplotlib.figure.Figure at 0x288335e90>"
       ]
      }
     ],
     "prompt_number": 136
    },
    {
     "cell_type": "markdown",
     "metadata": {},
     "source": [
      "####Testing how to convert the \"school_charter\" column to insure it's numbers and not objects"
     ]
    },
    {
     "cell_type": "code",
     "collapsed": false,
     "input": [
      "test_df = funding_df.school_charter.convert_objects(convert_dates=False, convert_numeric=True)"
     ],
     "language": "python",
     "metadata": {},
     "outputs": [],
     "prompt_number": 34
    },
    {
     "cell_type": "code",
     "collapsed": false,
     "input": [
      "funding_df.school_charter = funding_df.school_charter.convert_objects(convert_dates=False, convert_numeric=True)"
     ],
     "language": "python",
     "metadata": {},
     "outputs": [],
     "prompt_number": 35
    },
    {
     "cell_type": "code",
     "collapsed": false,
     "input": [
      "len(funding_df)"
     ],
     "language": "python",
     "metadata": {},
     "outputs": [
      {
       "metadata": {},
       "output_type": "pyout",
       "prompt_number": 36,
       "text": [
        "722823"
       ]
      }
     ],
     "prompt_number": 36
    },
    {
     "cell_type": "code",
     "collapsed": false,
     "input": [
      "#pp.pprint(funding_df.columns)"
     ],
     "language": "python",
     "metadata": {},
     "outputs": [],
     "prompt_number": 37
    },
    {
     "cell_type": "code",
     "collapsed": false,
     "input": [
      "#funding_df.dtypes"
     ],
     "language": "python",
     "metadata": {},
     "outputs": [],
     "prompt_number": 38
    },
    {
     "cell_type": "markdown",
     "metadata": {},
     "source": [
      "####Cleaning up data types"
     ]
    },
    {
     "cell_type": "code",
     "collapsed": false,
     "input": [
      "funding_df.teacher_teach_for_america = funding_df.teacher_teach_for_america.convert_objects(convert_dates=False, convert_numeric=True)"
     ],
     "language": "python",
     "metadata": {},
     "outputs": [],
     "prompt_number": 37
    },
    {
     "cell_type": "markdown",
     "metadata": {},
     "source": [
      "####Creating list of features to test"
     ]
    },
    {
     "cell_type": "code",
     "collapsed": false,
     "input": [
      "numeric_feature_list = ['school_charter', 'school_magnet', 'school_year_round', \n",
      "                        'school_nlns', 'school_kipp', 'school_charter_ready_promise', 'teacher_teach_for_america',\n",
      "                        'teacher_ny_teaching_fellow','total_price_excluding_optional_support', \n",
      "                        'total_price_including_optional_support', 'students_reached', 'price/student', 'month_posted', 'year_posted']\n",
      "\n",
      "numeric_feature_list_2 = ['school_charter', 'school_magnet', 'school_year_round', \n",
      "                        'school_nlns', 'school_kipp', 'school_charter_ready_promise', 'teacher_teach_for_america',\n",
      "                        'teacher_ny_teaching_fellow','total_price_excluding_optional_support', \n",
      "                        'total_price_including_optional_support', 'students_reached', 'month_posted', 'year_posted']\n",
      "\n",
      "category_list = {\"numeric_features\": numeric_feature_list, \"numeric_feature_list_2\": numeric_feature_list_2}\n",
      "\n",
      "est1 = KNeighborsClassifier()\n",
      "est2 = LogisticRegression()\n",
      "est3 = GaussianNB()\n",
      "est4 = SVC(probability=True)\n",
      "est5 = DecisionTreeClassifier()\n",
      "est6 = RandomForestClassifier()\n",
      "est7 = GradientBoostingClassifier()\n",
      "\n",
      "estlist = [est1, est2, est3, est4, est5, est6, est7]\n",
      "Logistic_list = [est2]"
     ],
     "language": "python",
     "metadata": {},
     "outputs": [],
     "prompt_number": 40
    },
    {
     "cell_type": "markdown",
     "metadata": {},
     "source": [
      "###Looking at the statsmodels logistic regression to understand features "
     ]
    },
    {
     "cell_type": "code",
     "collapsed": false,
     "input": [
      "Y = funding_df['funded']\n",
      "X = funding_df[numeric_feature_list_2]\n",
      "X = st.add_constant(X)\n",
      "\n",
      "Y_train, Y_test, X_train, X_test = train_test_split(Y, X, test_size=.25)\n",
      "# print X_test\n",
      "\n",
      "logmodel = Logit(Y_train, X_train).fit()\n",
      "logmodel.summary()"
     ],
     "language": "python",
     "metadata": {},
     "outputs": [
      {
       "output_type": "stream",
       "stream": "stdout",
       "text": [
        "Optimization terminated successfully.\n",
        "         Current function value: 0.578400\n",
        "         Iterations 9\n"
       ]
      },
      {
       "html": [
        "<table class=\"simpletable\">\n",
        "<caption>Logit Regression Results</caption>\n",
        "<tr>\n",
        "  <th>Dep. Variable:</th>         <td>y</td>        <th>  No. Observations:  </th>   <td>542117</td>   \n",
        "</tr>\n",
        "<tr>\n",
        "  <th>Model:</th>               <td>Logit</td>      <th>  Df Residuals:      </th>   <td>542103</td>   \n",
        "</tr>\n",
        "<tr>\n",
        "  <th>Method:</th>               <td>MLE</td>       <th>  Df Model:          </th>   <td>    13</td>   \n",
        "</tr>\n",
        "<tr>\n",
        "  <th>Date:</th>          <td>Mon, 16 Mar 2015</td> <th>  Pseudo R-squ.:     </th>   <td>0.03595</td>  \n",
        "</tr>\n",
        "<tr>\n",
        "  <th>Time:</th>              <td>16:03:06</td>     <th>  Log-Likelihood:    </th> <td>-3.1356e+05</td>\n",
        "</tr>\n",
        "<tr>\n",
        "  <th>converged:</th>           <td>True</td>       <th>  LL-Null:           </th> <td>-3.2525e+05</td>\n",
        "</tr>\n",
        "<tr>\n",
        "  <th> </th>                      <td> </td>        <th>  LLR p-value:       </th>   <td> 0.000</td>   \n",
        "</tr>\n",
        "</table>\n",
        "<table class=\"simpletable\">\n",
        "<tr>\n",
        "    <td></td>       <th>coef</th>     <th>std err</th>      <th>z</th>      <th>P>|z|</th> <th>[95.0% Conf. Int.]</th> \n",
        "</tr>\n",
        "<tr>\n",
        "  <th>const</th> <td> -142.3863</td> <td>    3.371</td> <td>  -42.239</td> <td> 0.000</td> <td> -148.993  -135.779</td>\n",
        "</tr>\n",
        "<tr>\n",
        "  <th>x1</th>    <td>    0.1569</td> <td>    0.012</td> <td>   13.136</td> <td> 0.000</td> <td>    0.133     0.180</td>\n",
        "</tr>\n",
        "<tr>\n",
        "  <th>x2</th>    <td>    0.1849</td> <td>    0.011</td> <td>   16.931</td> <td> 0.000</td> <td>    0.163     0.206</td>\n",
        "</tr>\n",
        "<tr>\n",
        "  <th>x3</th>    <td>   -0.0289</td> <td>    0.016</td> <td>   -1.795</td> <td> 0.073</td> <td>   -0.060     0.003</td>\n",
        "</tr>\n",
        "<tr>\n",
        "  <th>x4</th>    <td>    0.5150</td> <td>    0.030</td> <td>   17.370</td> <td> 0.000</td> <td>    0.457     0.573</td>\n",
        "</tr>\n",
        "<tr>\n",
        "  <th>x5</th>    <td>    0.1611</td> <td>    0.046</td> <td>    3.485</td> <td> 0.000</td> <td>    0.071     0.252</td>\n",
        "</tr>\n",
        "<tr>\n",
        "  <th>x6</th>    <td>    0.4417</td> <td>    0.054</td> <td>    8.231</td> <td> 0.000</td> <td>    0.337     0.547</td>\n",
        "</tr>\n",
        "<tr>\n",
        "  <th>x7</th>    <td>    0.7347</td> <td>    0.016</td> <td>   44.991</td> <td> 0.000</td> <td>    0.703     0.767</td>\n",
        "</tr>\n",
        "<tr>\n",
        "  <th>x8</th>    <td>    0.8279</td> <td>    0.029</td> <td>   28.749</td> <td> 0.000</td> <td>    0.771     0.884</td>\n",
        "</tr>\n",
        "<tr>\n",
        "  <th>x9</th>    <td>    0.0027</td> <td>    0.000</td> <td>    7.290</td> <td> 0.000</td> <td>    0.002     0.003</td>\n",
        "</tr>\n",
        "<tr>\n",
        "  <th>x10</th>   <td>   -0.0028</td> <td>    0.000</td> <td>   -9.120</td> <td> 0.000</td> <td>   -0.003    -0.002</td>\n",
        "</tr>\n",
        "<tr>\n",
        "  <th>x11</th>   <td>-7.553e-05</td> <td> 1.84e-05</td> <td>   -4.111</td> <td> 0.000</td> <td>   -0.000 -3.95e-05</td>\n",
        "</tr>\n",
        "<tr>\n",
        "  <th>x12</th>   <td>    0.0629</td> <td>    0.001</td> <td>   71.478</td> <td> 0.000</td> <td>    0.061     0.065</td>\n",
        "</tr>\n",
        "<tr>\n",
        "  <th>x13</th>   <td>    0.0712</td> <td>    0.002</td> <td>   42.473</td> <td> 0.000</td> <td>    0.068     0.074</td>\n",
        "</tr>\n",
        "</table>"
       ],
       "metadata": {},
       "output_type": "pyout",
       "prompt_number": 41,
       "text": [
        "<class 'statsmodels.iolib.summary.Summary'>\n",
        "\"\"\"\n",
        "                           Logit Regression Results                           \n",
        "==============================================================================\n",
        "Dep. Variable:                      y   No. Observations:               542117\n",
        "Model:                          Logit   Df Residuals:                   542103\n",
        "Method:                           MLE   Df Model:                           13\n",
        "Date:                Mon, 16 Mar 2015   Pseudo R-squ.:                 0.03595\n",
        "Time:                        16:03:06   Log-Likelihood:            -3.1356e+05\n",
        "converged:                       True   LL-Null:                   -3.2525e+05\n",
        "                                        LLR p-value:                     0.000\n",
        "==============================================================================\n",
        "                 coef    std err          z      P>|z|      [95.0% Conf. Int.]\n",
        "------------------------------------------------------------------------------\n",
        "const       -142.3863      3.371    -42.239      0.000      -148.993  -135.779\n",
        "x1             0.1569      0.012     13.136      0.000         0.133     0.180\n",
        "x2             0.1849      0.011     16.931      0.000         0.163     0.206\n",
        "x3            -0.0289      0.016     -1.795      0.073        -0.060     0.003\n",
        "x4             0.5150      0.030     17.370      0.000         0.457     0.573\n",
        "x5             0.1611      0.046      3.485      0.000         0.071     0.252\n",
        "x6             0.4417      0.054      8.231      0.000         0.337     0.547\n",
        "x7             0.7347      0.016     44.991      0.000         0.703     0.767\n",
        "x8             0.8279      0.029     28.749      0.000         0.771     0.884\n",
        "x9             0.0027      0.000      7.290      0.000         0.002     0.003\n",
        "x10           -0.0028      0.000     -9.120      0.000        -0.003    -0.002\n",
        "x11        -7.553e-05   1.84e-05     -4.111      0.000        -0.000 -3.95e-05\n",
        "x12            0.0629      0.001     71.478      0.000         0.061     0.065\n",
        "x13            0.0712      0.002     42.473      0.000         0.068     0.074\n",
        "==============================================================================\n",
        "\"\"\""
       ]
      }
     ],
     "prompt_number": 41
    },
    {
     "cell_type": "markdown",
     "metadata": {},
     "source": [
      "####Create a classification function to experiment with different classifiers"
     ]
    },
    {
     "cell_type": "code",
     "collapsed": false,
     "input": [
      "def classification_function(df, cat_lst, model_lst):\n",
      "\n",
      "    #define a demographic variable and create a Y-variable dataframe\n",
      "    newy_df = pd.DataFrame()\n",
      "    newy_df['funded'] = df['funded']\n",
      "    newy_array = newy_df['funded'].values\n",
      "        \n",
      "    #define a set of categorical data and create an X-variable dataframe\n",
      "    newx_df = pd.DataFrame()\n",
      "    for catname, cat in cat_lst.iteritems():\n",
      "        #create new dataframe with the specific category list\n",
      "        newx_df = df[cat]\n",
      "         \n",
      "        for model in model_lst:\n",
      "            \n",
      "            model_name = str(model).split('(')[0]\n",
      "            accuracy_score = cross_val_score(model, newx_df, newy_array, scoring='accuracy')\n",
      "            precision_score = cross_val_score(model, newx_df, newy_array, scoring='precision')\n",
      "            recall_score = cross_val_score(model, newx_df, newy_array, scoring = 'recall')\n",
      "\n",
      "            print \"Category: \", catname\n",
      "            print \"Model: \", model_name\n",
      "            print \"\\t Accuracy Score: \", accuracy_score\n",
      "            print \"\\t Precision Score: \", precision_score\n",
      "            print \"\\t Recall Score: \", recall_score"
     ],
     "language": "python",
     "metadata": {},
     "outputs": [],
     "prompt_number": 38
    },
    {
     "cell_type": "code",
     "collapsed": false,
     "input": [
      "classification_function(funding_df, category_list, Logistic_list)"
     ],
     "language": "python",
     "metadata": {},
     "outputs": [
      {
       "output_type": "stream",
       "stream": "stdout",
       "text": [
        "Category:  numeric_features\n",
        "Model:  LogisticRegression\n",
        "\t Accuracy Score:  [ 0.70699587  0.71299613  0.70778617]\n",
        "\t Precision Score:  [ 0.72000547  0.71406676  0.71980272]\n",
        "\t Recall Score:  [ 0.96011301  0.9960212   0.965781  ]\n",
        "Category: "
       ]
      },
      {
       "output_type": "stream",
       "stream": "stdout",
       "text": [
        " numeric_feature_list_2\n",
        "Model:  LogisticRegression\n",
        "\t Accuracy Score:  [ 0.70173735  0.71318705  0.7085789 ]\n",
        "\t Precision Score:  [ 0.72000423  0.71408889  0.71968417]\n",
        "\t Recall Score:  [ 0.95130491  0.99635908  0.96799469]\n"
       ]
      }
     ],
     "prompt_number": 43
    },
    {
     "cell_type": "markdown",
     "metadata": {},
     "source": [
      "Only looking at the naturally numeric values didn't produce a very strong classifier - both feature sets had accuracy scores that were worse than a dummy predictor, which would predict every project got funded. "
     ]
    },
    {
     "cell_type": "markdown",
     "metadata": {},
     "source": [
      "####Importing Essay data to conduct sentiment analysis and identify other factors affecting the success or failure of projects"
     ]
    },
    {
     "cell_type": "code",
     "collapsed": false,
     "input": [
      "db = pymysql.connect(host=\"104.236.210.7\",  #your cloud ip\n",
      "                     user='root',\n",
      "                     passwd='Colgate09*',\n",
      "                     db='donorschoose')\n",
      "\n",
      "cursor = db.cursor()\n",
      "\n",
      "essays_df = pd.read_sql('SELECT * FROM edited_essays', db, index_col='_projectid')\n",
      "\n",
      "cursor.close()\n",
      "db.close()"
     ],
     "language": "python",
     "metadata": {},
     "outputs": [],
     "prompt_number": 39
    },
    {
     "cell_type": "code",
     "collapsed": false,
     "input": [
      "len(essays_df)"
     ],
     "language": "python",
     "metadata": {},
     "outputs": [
      {
       "metadata": {},
       "output_type": "pyout",
       "prompt_number": 40,
       "text": [
        "771929"
       ]
      }
     ],
     "prompt_number": 40
    },
    {
     "cell_type": "code",
     "collapsed": false,
     "input": [
      "with open(\"essays_df.pkl\", \"w\") as picklefile:\n",
      "    pickle.dump(essays_df, picklefile)"
     ],
     "language": "python",
     "metadata": {},
     "outputs": [],
     "prompt_number": 44
    },
    {
     "cell_type": "code",
     "collapsed": false,
     "input": [
      "sample_essays = essays_df[:500]"
     ],
     "language": "python",
     "metadata": {},
     "outputs": [],
     "prompt_number": 7
    },
    {
     "cell_type": "code",
     "collapsed": false,
     "input": [
      "sample_essays.index[0]"
     ],
     "language": "python",
     "metadata": {},
     "outputs": [
      {
       "metadata": {},
       "output_type": "pyout",
       "prompt_number": 124,
       "text": [
        "'\"\"\"e565fb42185c6e9f22806ad9d5ac8a77\"\"\"'"
       ]
      }
     ],
     "prompt_number": 124
    },
    {
     "cell_type": "code",
     "collapsed": false,
     "input": [
      "larger_sample_essays = essays_df[:5000]"
     ],
     "language": "python",
     "metadata": {},
     "outputs": [],
     "prompt_number": 57
    },
    {
     "cell_type": "markdown",
     "metadata": {},
     "source": [
      "####Function to evaluate the sentiment of each term and create a list of dictionaries with the information "
     ]
    },
    {
     "cell_type": "code",
     "collapsed": false,
     "input": [
      "def sentiment_function(df, column):\n",
      "    sentiment_list = []\n",
      "    for i in range(len(df)):\n",
      "        try:\n",
      "            decoded_text = (df[column][i]).decode('utf-8')\n",
      "            text_blob = TextBlob(decoded_text)\n",
      "            if text_blob:\n",
      "                polarity, subjectivity = text_blob.sentiment\n",
      "                polarity_column_name = \"%s polarity\" % column\n",
      "                subjectivity_column_name = \"%s subjectivity\" % column\n",
      "                sentiment = {\"_projectid\": df.index[i], polarity_column_name: polarity, subjectivity_column_name: subjectivity}\n",
      "                sentiment_list.append(sentiment)\n",
      "            else:\n",
      "                sentiment_null = {\"_projectid\": df.index[i], polarity_column_name: 0, subjectivity_column_name: 0.5}\n",
      "#                 print i, df[column][i] #decoded_text\n",
      "                sentiment_list.append(sentiment_null)\n",
      "        except:\n",
      "            print i\n",
      "    return sentiment_list"
     ],
     "language": "python",
     "metadata": {},
     "outputs": [],
     "prompt_number": 53
    },
    {
     "cell_type": "code",
     "collapsed": false,
     "input": [
      "need_sentiment_list = sentiment_function(sample_essays, \"need_statement\")"
     ],
     "language": "python",
     "metadata": {},
     "outputs": [],
     "prompt_number": 126
    },
    {
     "cell_type": "code",
     "collapsed": false,
     "input": [
      "need_sentiment_pd = pd.DataFrame(need_sentiment_list)"
     ],
     "language": "python",
     "metadata": {},
     "outputs": [],
     "prompt_number": 127
    },
    {
     "cell_type": "code",
     "collapsed": false,
     "input": [
      "#need_sentiment_pd.head()"
     ],
     "language": "python",
     "metadata": {},
     "outputs": [],
     "prompt_number": 129
    },
    {
     "cell_type": "code",
     "collapsed": false,
     "input": [
      "title_sentiment_list = sentiment_function(sample_essays, \"title\")"
     ],
     "language": "python",
     "metadata": {},
     "outputs": [],
     "prompt_number": 130
    },
    {
     "cell_type": "code",
     "collapsed": false,
     "input": [
      "title_sentiment_pd = pd.DataFrame(title_sentiment_list)\n",
      "title_sentiment_pd.describe()"
     ],
     "language": "python",
     "metadata": {},
     "outputs": [
      {
       "html": [
        "<div style=\"max-height:1000px;max-width:1500px;overflow:auto;\">\n",
        "<table border=\"1\" class=\"dataframe\">\n",
        "  <thead>\n",
        "    <tr style=\"text-align: right;\">\n",
        "      <th></th>\n",
        "      <th>title polarity</th>\n",
        "      <th>title subjectivity</th>\n",
        "    </tr>\n",
        "  </thead>\n",
        "  <tbody>\n",
        "    <tr>\n",
        "      <th>count</th>\n",
        "      <td> 500.000000</td>\n",
        "      <td> 500.000000</td>\n",
        "    </tr>\n",
        "    <tr>\n",
        "      <th>mean</th>\n",
        "      <td>   0.054519</td>\n",
        "      <td>   0.140275</td>\n",
        "    </tr>\n",
        "    <tr>\n",
        "      <th>std</th>\n",
        "      <td>   0.186887</td>\n",
        "      <td>   0.266591</td>\n",
        "    </tr>\n",
        "    <tr>\n",
        "      <th>min</th>\n",
        "      <td>  -0.800000</td>\n",
        "      <td>   0.000000</td>\n",
        "    </tr>\n",
        "    <tr>\n",
        "      <th>25%</th>\n",
        "      <td>   0.000000</td>\n",
        "      <td>   0.000000</td>\n",
        "    </tr>\n",
        "    <tr>\n",
        "      <th>50%</th>\n",
        "      <td>   0.000000</td>\n",
        "      <td>   0.000000</td>\n",
        "    </tr>\n",
        "    <tr>\n",
        "      <th>75%</th>\n",
        "      <td>   0.000000</td>\n",
        "      <td>   0.115625</td>\n",
        "    </tr>\n",
        "    <tr>\n",
        "      <th>max</th>\n",
        "      <td>   1.000000</td>\n",
        "      <td>   1.000000</td>\n",
        "    </tr>\n",
        "  </tbody>\n",
        "</table>\n",
        "</div>"
       ],
       "metadata": {},
       "output_type": "pyout",
       "prompt_number": 131,
       "text": [
        "       title polarity  title subjectivity\n",
        "count      500.000000          500.000000\n",
        "mean         0.054519            0.140275\n",
        "std          0.186887            0.266591\n",
        "min         -0.800000            0.000000\n",
        "25%          0.000000            0.000000\n",
        "50%          0.000000            0.000000\n",
        "75%          0.000000            0.115625\n",
        "max          1.000000            1.000000"
       ]
      }
     ],
     "prompt_number": 131
    },
    {
     "cell_type": "code",
     "collapsed": false,
     "input": [
      "short_des_sentiment_list = sentiment_function(sample_essays, \"short_description\")"
     ],
     "language": "python",
     "metadata": {},
     "outputs": [],
     "prompt_number": 132
    },
    {
     "cell_type": "code",
     "collapsed": false,
     "input": [
      "sentiment_df = pd.DataFrame(short_des_sentiment_list)\n",
      "sentiment_df.describe()"
     ],
     "language": "python",
     "metadata": {},
     "outputs": [
      {
       "html": [
        "<div style=\"max-height:1000px;max-width:1500px;overflow:auto;\">\n",
        "<table border=\"1\" class=\"dataframe\">\n",
        "  <thead>\n",
        "    <tr style=\"text-align: right;\">\n",
        "      <th></th>\n",
        "      <th>Index</th>\n",
        "      <th>need_statement Polarity</th>\n",
        "      <th>need_statement Subjectivity</th>\n",
        "      <th>short_description Polarity</th>\n",
        "      <th>short_description Subjectivity</th>\n",
        "      <th>title Polarity</th>\n",
        "      <th>title Subjectivity</th>\n",
        "    </tr>\n",
        "  </thead>\n",
        "  <tbody>\n",
        "    <tr>\n",
        "      <th>count</th>\n",
        "      <td> 1500.000000</td>\n",
        "      <td> 500.000000</td>\n",
        "      <td> 500.000000</td>\n",
        "      <td> 500.000000</td>\n",
        "      <td> 500.000000</td>\n",
        "      <td> 500.000000</td>\n",
        "      <td> 500.000000</td>\n",
        "    </tr>\n",
        "    <tr>\n",
        "      <th>mean</th>\n",
        "      <td>  249.500000</td>\n",
        "      <td>   0.066245</td>\n",
        "      <td>   0.194994</td>\n",
        "      <td>   0.104803</td>\n",
        "      <td>   0.306375</td>\n",
        "      <td>   0.054519</td>\n",
        "      <td>   0.140275</td>\n",
        "    </tr>\n",
        "    <tr>\n",
        "      <th>std</th>\n",
        "      <td>  144.385415</td>\n",
        "      <td>   0.184321</td>\n",
        "      <td>   0.288534</td>\n",
        "      <td>   0.166141</td>\n",
        "      <td>   0.269923</td>\n",
        "      <td>   0.186887</td>\n",
        "      <td>   0.266591</td>\n",
        "    </tr>\n",
        "    <tr>\n",
        "      <th>min</th>\n",
        "      <td>    0.000000</td>\n",
        "      <td>  -1.000000</td>\n",
        "      <td>   0.000000</td>\n",
        "      <td>  -0.520000</td>\n",
        "      <td>   0.000000</td>\n",
        "      <td>  -0.800000</td>\n",
        "      <td>   0.000000</td>\n",
        "    </tr>\n",
        "    <tr>\n",
        "      <th>25%</th>\n",
        "      <td>  124.750000</td>\n",
        "      <td>   0.000000</td>\n",
        "      <td>   0.000000</td>\n",
        "      <td>   0.000000</td>\n",
        "      <td>   0.000000</td>\n",
        "      <td>   0.000000</td>\n",
        "      <td>   0.000000</td>\n",
        "    </tr>\n",
        "    <tr>\n",
        "      <th>50%</th>\n",
        "      <td>  249.500000</td>\n",
        "      <td>   0.000000</td>\n",
        "      <td>   0.000000</td>\n",
        "      <td>   0.050000</td>\n",
        "      <td>   0.310511</td>\n",
        "      <td>   0.000000</td>\n",
        "      <td>   0.000000</td>\n",
        "    </tr>\n",
        "    <tr>\n",
        "      <th>75%</th>\n",
        "      <td>  374.250000</td>\n",
        "      <td>   0.054167</td>\n",
        "      <td>   0.400000</td>\n",
        "      <td>   0.200000</td>\n",
        "      <td>   0.514167</td>\n",
        "      <td>   0.000000</td>\n",
        "      <td>   0.115625</td>\n",
        "    </tr>\n",
        "    <tr>\n",
        "      <th>max</th>\n",
        "      <td>  499.000000</td>\n",
        "      <td>   0.800000</td>\n",
        "      <td>   1.000000</td>\n",
        "      <td>   1.000000</td>\n",
        "      <td>   1.000000</td>\n",
        "      <td>   1.000000</td>\n",
        "      <td>   1.000000</td>\n",
        "    </tr>\n",
        "  </tbody>\n",
        "</table>\n",
        "</div>"
       ],
       "metadata": {},
       "output_type": "pyout",
       "prompt_number": 46,
       "text": [
        "             Index  need_statement Polarity  need_statement Subjectivity  \\\n",
        "count  1500.000000               500.000000                   500.000000   \n",
        "mean    249.500000                 0.066245                     0.194994   \n",
        "std     144.385415                 0.184321                     0.288534   \n",
        "min       0.000000                -1.000000                     0.000000   \n",
        "25%     124.750000                 0.000000                     0.000000   \n",
        "50%     249.500000                 0.000000                     0.000000   \n",
        "75%     374.250000                 0.054167                     0.400000   \n",
        "max     499.000000                 0.800000                     1.000000   \n",
        "\n",
        "       short_description Polarity  short_description Subjectivity  \\\n",
        "count                  500.000000                      500.000000   \n",
        "mean                     0.104803                        0.306375   \n",
        "std                      0.166141                        0.269923   \n",
        "min                     -0.520000                        0.000000   \n",
        "25%                      0.000000                        0.000000   \n",
        "50%                      0.050000                        0.310511   \n",
        "75%                      0.200000                        0.514167   \n",
        "max                      1.000000                        1.000000   \n",
        "\n",
        "       title Polarity  title Subjectivity  \n",
        "count      500.000000          500.000000  \n",
        "mean         0.054519            0.140275  \n",
        "std          0.186887            0.266591  \n",
        "min         -0.800000            0.000000  \n",
        "25%          0.000000            0.000000  \n",
        "50%          0.000000            0.000000  \n",
        "75%          0.000000            0.115625  \n",
        "max          1.000000            1.000000  "
       ]
      }
     ],
     "prompt_number": 46
    },
    {
     "cell_type": "markdown",
     "metadata": {},
     "source": [
      "Looking at the whole set of Need Statements:"
     ]
    },
    {
     "cell_type": "code",
     "collapsed": false,
     "input": [
      "need_list = sentiment_function(larger_sample_essays, \"need_statement\")"
     ],
     "language": "python",
     "metadata": {},
     "outputs": [],
     "prompt_number": 104
    },
    {
     "cell_type": "code",
     "collapsed": false,
     "input": [
      "need_list_all = sentiment_function(essays_df, \"need_statement\")"
     ],
     "language": "python",
     "metadata": {},
     "outputs": [
      {
       "output_type": "stream",
       "stream": "stdout",
       "text": [
        "101624\n"
       ]
      }
     ],
     "prompt_number": 54
    },
    {
     "cell_type": "markdown",
     "metadata": {},
     "source": [
      "...And the whole set of Titles:"
     ]
    },
    {
     "cell_type": "code",
     "collapsed": false,
     "input": [
      "title_list_all = sentiment_function(essays_df, \"title\")"
     ],
     "language": "python",
     "metadata": {},
     "outputs": [],
     "prompt_number": 55
    },
    {
     "cell_type": "code",
     "collapsed": false,
     "input": [
      "len(title_list_all)"
     ],
     "language": "python",
     "metadata": {},
     "outputs": [
      {
       "metadata": {},
       "output_type": "pyout",
       "prompt_number": 56,
       "text": [
        "771929"
       ]
      }
     ],
     "prompt_number": 56
    },
    {
     "cell_type": "markdown",
     "metadata": {},
     "source": [
      "...And the whole set of short descriptions:"
     ]
    },
    {
     "cell_type": "code",
     "collapsed": false,
     "input": [
      "description_list_all = sentiment_function(essays_df, \"short_description\")"
     ],
     "language": "python",
     "metadata": {},
     "outputs": [
      {
       "output_type": "stream",
       "stream": "stdout",
       "text": [
        "54612\n",
        "95311"
       ]
      },
      {
       "output_type": "stream",
       "stream": "stdout",
       "text": [
        "\n",
        "161969"
       ]
      },
      {
       "output_type": "stream",
       "stream": "stdout",
       "text": [
        "\n",
        "163218"
       ]
      },
      {
       "output_type": "stream",
       "stream": "stdout",
       "text": [
        "\n",
        "168662"
       ]
      },
      {
       "output_type": "stream",
       "stream": "stdout",
       "text": [
        "\n",
        "243591"
       ]
      },
      {
       "output_type": "stream",
       "stream": "stdout",
       "text": [
        "\n"
       ]
      }
     ],
     "prompt_number": 59
    },
    {
     "cell_type": "code",
     "collapsed": false,
     "input": [
      "len(description_list_all)"
     ],
     "language": "python",
     "metadata": {},
     "outputs": [
      {
       "metadata": {},
       "output_type": "pyout",
       "prompt_number": 60,
       "text": [
        "771923"
       ]
      }
     ],
     "prompt_number": 60
    },
    {
     "cell_type": "code",
     "collapsed": false,
     "input": [
      "test_df = pd.DataFrame(title_list_all)"
     ],
     "language": "python",
     "metadata": {},
     "outputs": [],
     "prompt_number": 57
    },
    {
     "cell_type": "code",
     "collapsed": false,
     "input": [
      "test_df.head()"
     ],
     "language": "python",
     "metadata": {},
     "outputs": [
      {
       "html": [
        "<div style=\"max-height:1000px;max-width:1500px;overflow:auto;\">\n",
        "<table border=\"1\" class=\"dataframe\">\n",
        "  <thead>\n",
        "    <tr style=\"text-align: right;\">\n",
        "      <th></th>\n",
        "      <th>_projectid</th>\n",
        "      <th>title polarity</th>\n",
        "      <th>title subjectivity</th>\n",
        "    </tr>\n",
        "  </thead>\n",
        "  <tbody>\n",
        "    <tr>\n",
        "      <th>0</th>\n",
        "      <td> \"\"\"e565fb42185c6e9f22806ad9d5ac8a77\"\"\"</td>\n",
        "      <td> 0.0</td>\n",
        "      <td> 0.0</td>\n",
        "    </tr>\n",
        "    <tr>\n",
        "      <th>1</th>\n",
        "      <td> \"\"\"76108ed46f99f27beb4c605b69c92b07\"\"\"</td>\n",
        "      <td> 0.0</td>\n",
        "      <td> 0.0</td>\n",
        "    </tr>\n",
        "    <tr>\n",
        "      <th>2</th>\n",
        "      <td> \"\"\"2568882e4906849754bbe7246d01ed5e\"\"\"</td>\n",
        "      <td> 0.0</td>\n",
        "      <td> 0.0</td>\n",
        "    </tr>\n",
        "    <tr>\n",
        "      <th>3</th>\n",
        "      <td> \"\"\"e49f6d07f9da7086d2d823311639f479\"\"\"</td>\n",
        "      <td>-0.1</td>\n",
        "      <td> 0.1</td>\n",
        "    </tr>\n",
        "    <tr>\n",
        "      <th>4</th>\n",
        "      <td> \"\"\"548b161b4e808fb580075e03774da1b9\"\"\"</td>\n",
        "      <td> 0.0</td>\n",
        "      <td> 0.5</td>\n",
        "    </tr>\n",
        "  </tbody>\n",
        "</table>\n",
        "</div>"
       ],
       "metadata": {},
       "output_type": "pyout",
       "prompt_number": 58,
       "text": [
        "                               _projectid  title polarity  title subjectivity\n",
        "0  \"\"\"e565fb42185c6e9f22806ad9d5ac8a77\"\"\"             0.0                 0.0\n",
        "1  \"\"\"76108ed46f99f27beb4c605b69c92b07\"\"\"             0.0                 0.0\n",
        "2  \"\"\"2568882e4906849754bbe7246d01ed5e\"\"\"             0.0                 0.0\n",
        "3  \"\"\"e49f6d07f9da7086d2d823311639f479\"\"\"            -0.1                 0.1\n",
        "4  \"\"\"548b161b4e808fb580075e03774da1b9\"\"\"             0.0                 0.5"
       ]
      }
     ],
     "prompt_number": 58
    },
    {
     "cell_type": "code",
     "collapsed": false,
     "input": [
      "title_df = pd.DataFrame(title_list_all)\n",
      "description_df = pd.DataFrame(description_list_all)\n",
      "need_df = pd.DataFrame(need_list_all)"
     ],
     "language": "python",
     "metadata": {},
     "outputs": [],
     "prompt_number": 61
    },
    {
     "cell_type": "code",
     "collapsed": false,
     "input": [
      "title_df.head()"
     ],
     "language": "python",
     "metadata": {},
     "outputs": [
      {
       "html": [
        "<div style=\"max-height:1000px;max-width:1500px;overflow:auto;\">\n",
        "<table border=\"1\" class=\"dataframe\">\n",
        "  <thead>\n",
        "    <tr style=\"text-align: right;\">\n",
        "      <th></th>\n",
        "      <th>_projectid</th>\n",
        "      <th>title polarity</th>\n",
        "      <th>title subjectivity</th>\n",
        "    </tr>\n",
        "  </thead>\n",
        "  <tbody>\n",
        "    <tr>\n",
        "      <th>0</th>\n",
        "      <td> \"\"\"e565fb42185c6e9f22806ad9d5ac8a77\"\"\"</td>\n",
        "      <td> 0.0</td>\n",
        "      <td> 0.0</td>\n",
        "    </tr>\n",
        "    <tr>\n",
        "      <th>1</th>\n",
        "      <td> \"\"\"76108ed46f99f27beb4c605b69c92b07\"\"\"</td>\n",
        "      <td> 0.0</td>\n",
        "      <td> 0.0</td>\n",
        "    </tr>\n",
        "    <tr>\n",
        "      <th>2</th>\n",
        "      <td> \"\"\"2568882e4906849754bbe7246d01ed5e\"\"\"</td>\n",
        "      <td> 0.0</td>\n",
        "      <td> 0.0</td>\n",
        "    </tr>\n",
        "    <tr>\n",
        "      <th>3</th>\n",
        "      <td> \"\"\"e49f6d07f9da7086d2d823311639f479\"\"\"</td>\n",
        "      <td>-0.1</td>\n",
        "      <td> 0.1</td>\n",
        "    </tr>\n",
        "    <tr>\n",
        "      <th>4</th>\n",
        "      <td> \"\"\"548b161b4e808fb580075e03774da1b9\"\"\"</td>\n",
        "      <td> 0.0</td>\n",
        "      <td> 0.5</td>\n",
        "    </tr>\n",
        "  </tbody>\n",
        "</table>\n",
        "</div>"
       ],
       "metadata": {},
       "output_type": "pyout",
       "prompt_number": 62,
       "text": [
        "                               _projectid  title polarity  title subjectivity\n",
        "0  \"\"\"e565fb42185c6e9f22806ad9d5ac8a77\"\"\"             0.0                 0.0\n",
        "1  \"\"\"76108ed46f99f27beb4c605b69c92b07\"\"\"             0.0                 0.0\n",
        "2  \"\"\"2568882e4906849754bbe7246d01ed5e\"\"\"             0.0                 0.0\n",
        "3  \"\"\"e49f6d07f9da7086d2d823311639f479\"\"\"            -0.1                 0.1\n",
        "4  \"\"\"548b161b4e808fb580075e03774da1b9\"\"\"             0.0                 0.5"
       ]
      }
     ],
     "prompt_number": 62
    },
    {
     "cell_type": "code",
     "collapsed": false,
     "input": [
      "test_df = pd.merge(title_df, description_df, how=\"left\", on=\"_projectid\")"
     ],
     "language": "python",
     "metadata": {},
     "outputs": [],
     "prompt_number": 63
    },
    {
     "cell_type": "code",
     "collapsed": false,
     "input": [
      "test_df.head()"
     ],
     "language": "python",
     "metadata": {},
     "outputs": [
      {
       "html": [
        "<div style=\"max-height:1000px;max-width:1500px;overflow:auto;\">\n",
        "<table border=\"1\" class=\"dataframe\">\n",
        "  <thead>\n",
        "    <tr style=\"text-align: right;\">\n",
        "      <th></th>\n",
        "      <th>_projectid</th>\n",
        "      <th>title polarity</th>\n",
        "      <th>title subjectivity</th>\n",
        "      <th>short_description polarity</th>\n",
        "      <th>short_description subjectivity</th>\n",
        "    </tr>\n",
        "  </thead>\n",
        "  <tbody>\n",
        "    <tr>\n",
        "      <th>0</th>\n",
        "      <td> \"\"\"e565fb42185c6e9f22806ad9d5ac8a77\"\"\"</td>\n",
        "      <td> 0.0</td>\n",
        "      <td> 0.0</td>\n",
        "      <td> 0.10</td>\n",
        "      <td> 0.25</td>\n",
        "    </tr>\n",
        "    <tr>\n",
        "      <th>1</th>\n",
        "      <td> \"\"\"76108ed46f99f27beb4c605b69c92b07\"\"\"</td>\n",
        "      <td> 0.0</td>\n",
        "      <td> 0.0</td>\n",
        "      <td> 0.16</td>\n",
        "      <td> 0.54</td>\n",
        "    </tr>\n",
        "    <tr>\n",
        "      <th>2</th>\n",
        "      <td> \"\"\"2568882e4906849754bbe7246d01ed5e\"\"\"</td>\n",
        "      <td> 0.0</td>\n",
        "      <td> 0.0</td>\n",
        "      <td> 0.00</td>\n",
        "      <td> 0.00</td>\n",
        "    </tr>\n",
        "    <tr>\n",
        "      <th>3</th>\n",
        "      <td> \"\"\"e49f6d07f9da7086d2d823311639f479\"\"\"</td>\n",
        "      <td>-0.1</td>\n",
        "      <td> 0.1</td>\n",
        "      <td> 0.28</td>\n",
        "      <td> 0.67</td>\n",
        "    </tr>\n",
        "    <tr>\n",
        "      <th>4</th>\n",
        "      <td> \"\"\"548b161b4e808fb580075e03774da1b9\"\"\"</td>\n",
        "      <td> 0.0</td>\n",
        "      <td> 0.5</td>\n",
        "      <td> 0.00</td>\n",
        "      <td> 0.20</td>\n",
        "    </tr>\n",
        "  </tbody>\n",
        "</table>\n",
        "</div>"
       ],
       "metadata": {},
       "output_type": "pyout",
       "prompt_number": 64,
       "text": [
        "                               _projectid  title polarity  title subjectivity  \\\n",
        "0  \"\"\"e565fb42185c6e9f22806ad9d5ac8a77\"\"\"             0.0                 0.0   \n",
        "1  \"\"\"76108ed46f99f27beb4c605b69c92b07\"\"\"             0.0                 0.0   \n",
        "2  \"\"\"2568882e4906849754bbe7246d01ed5e\"\"\"             0.0                 0.0   \n",
        "3  \"\"\"e49f6d07f9da7086d2d823311639f479\"\"\"            -0.1                 0.1   \n",
        "4  \"\"\"548b161b4e808fb580075e03774da1b9\"\"\"             0.0                 0.5   \n",
        "\n",
        "   short_description polarity  short_description subjectivity  \n",
        "0                        0.10                            0.25  \n",
        "1                        0.16                            0.54  \n",
        "2                        0.00                            0.00  \n",
        "3                        0.28                            0.67  \n",
        "4                        0.00                            0.20  "
       ]
      }
     ],
     "prompt_number": 64
    },
    {
     "cell_type": "code",
     "collapsed": false,
     "input": [
      "sentiment_df = pd.merge(test_df, need_df, how=\"left\", on=\"_projectid\")"
     ],
     "language": "python",
     "metadata": {},
     "outputs": [],
     "prompt_number": 65
    },
    {
     "cell_type": "code",
     "collapsed": false,
     "input": [
      "sentiment_df.head()"
     ],
     "language": "python",
     "metadata": {},
     "outputs": [
      {
       "html": [
        "<div style=\"max-height:1000px;max-width:1500px;overflow:auto;\">\n",
        "<table border=\"1\" class=\"dataframe\">\n",
        "  <thead>\n",
        "    <tr style=\"text-align: right;\">\n",
        "      <th></th>\n",
        "      <th>_projectid</th>\n",
        "      <th>title polarity</th>\n",
        "      <th>title subjectivity</th>\n",
        "      <th>short_description polarity</th>\n",
        "      <th>short_description subjectivity</th>\n",
        "      <th>need_statement polarity</th>\n",
        "      <th>need_statement subjectivity</th>\n",
        "    </tr>\n",
        "  </thead>\n",
        "  <tbody>\n",
        "    <tr>\n",
        "      <th>0</th>\n",
        "      <td> \"\"\"e565fb42185c6e9f22806ad9d5ac8a77\"\"\"</td>\n",
        "      <td> 0.0</td>\n",
        "      <td> 0.0</td>\n",
        "      <td> 0.10</td>\n",
        "      <td> 0.25</td>\n",
        "      <td> 0.000000</td>\n",
        "      <td> 0.000000</td>\n",
        "    </tr>\n",
        "    <tr>\n",
        "      <th>1</th>\n",
        "      <td> \"\"\"76108ed46f99f27beb4c605b69c92b07\"\"\"</td>\n",
        "      <td> 0.0</td>\n",
        "      <td> 0.0</td>\n",
        "      <td> 0.16</td>\n",
        "      <td> 0.54</td>\n",
        "      <td> 0.500000</td>\n",
        "      <td> 0.500000</td>\n",
        "    </tr>\n",
        "    <tr>\n",
        "      <th>2</th>\n",
        "      <td> \"\"\"2568882e4906849754bbe7246d01ed5e\"\"\"</td>\n",
        "      <td> 0.0</td>\n",
        "      <td> 0.0</td>\n",
        "      <td> 0.00</td>\n",
        "      <td> 0.00</td>\n",
        "      <td> 0.000000</td>\n",
        "      <td> 0.000000</td>\n",
        "    </tr>\n",
        "    <tr>\n",
        "      <th>3</th>\n",
        "      <td> \"\"\"e49f6d07f9da7086d2d823311639f479\"\"\"</td>\n",
        "      <td>-0.1</td>\n",
        "      <td> 0.1</td>\n",
        "      <td> 0.28</td>\n",
        "      <td> 0.67</td>\n",
        "      <td> 0.000000</td>\n",
        "      <td> 0.000000</td>\n",
        "    </tr>\n",
        "    <tr>\n",
        "      <th>4</th>\n",
        "      <td> \"\"\"548b161b4e808fb580075e03774da1b9\"\"\"</td>\n",
        "      <td> 0.0</td>\n",
        "      <td> 0.5</td>\n",
        "      <td> 0.00</td>\n",
        "      <td> 0.20</td>\n",
        "      <td> 0.128788</td>\n",
        "      <td> 0.466667</td>\n",
        "    </tr>\n",
        "  </tbody>\n",
        "</table>\n",
        "</div>"
       ],
       "metadata": {},
       "output_type": "pyout",
       "prompt_number": 66,
       "text": [
        "                               _projectid  title polarity  title subjectivity  \\\n",
        "0  \"\"\"e565fb42185c6e9f22806ad9d5ac8a77\"\"\"             0.0                 0.0   \n",
        "1  \"\"\"76108ed46f99f27beb4c605b69c92b07\"\"\"             0.0                 0.0   \n",
        "2  \"\"\"2568882e4906849754bbe7246d01ed5e\"\"\"             0.0                 0.0   \n",
        "3  \"\"\"e49f6d07f9da7086d2d823311639f479\"\"\"            -0.1                 0.1   \n",
        "4  \"\"\"548b161b4e808fb580075e03774da1b9\"\"\"             0.0                 0.5   \n",
        "\n",
        "   short_description polarity  short_description subjectivity  \\\n",
        "0                        0.10                            0.25   \n",
        "1                        0.16                            0.54   \n",
        "2                        0.00                            0.00   \n",
        "3                        0.28                            0.67   \n",
        "4                        0.00                            0.20   \n",
        "\n",
        "   need_statement polarity  need_statement subjectivity  \n",
        "0                 0.000000                     0.000000  \n",
        "1                 0.500000                     0.500000  \n",
        "2                 0.000000                     0.000000  \n",
        "3                 0.000000                     0.000000  \n",
        "4                 0.128788                     0.466667  "
       ]
      }
     ],
     "prompt_number": 66
    },
    {
     "cell_type": "code",
     "collapsed": false,
     "input": [
      "with open(\"sentiment_df.pkl\", \"w\") as picklefile:\n",
      "    pickle.dump(sentiment_df, picklefile)"
     ],
     "language": "python",
     "metadata": {},
     "outputs": [],
     "prompt_number": 67
    },
    {
     "cell_type": "code",
     "collapsed": false,
     "input": [
      "funding_df.head()"
     ],
     "language": "python",
     "metadata": {},
     "outputs": [
      {
       "html": [
        "<div style=\"max-height:1000px;max-width:1500px;overflow:auto;\">\n",
        "<table border=\"1\" class=\"dataframe\">\n",
        "  <thead>\n",
        "    <tr style=\"text-align: right;\">\n",
        "      <th></th>\n",
        "      <th>_teacher_acctid</th>\n",
        "      <th>_schoolid</th>\n",
        "      <th>school_ncesid</th>\n",
        "      <th>school_latitude</th>\n",
        "      <th>school_longitude</th>\n",
        "      <th>school_city</th>\n",
        "      <th>school_state</th>\n",
        "      <th>school_zip</th>\n",
        "      <th>school_metro</th>\n",
        "      <th>school_district</th>\n",
        "      <th>...</th>\n",
        "      <th>eligible_almost_home_match</th>\n",
        "      <th>funding_status</th>\n",
        "      <th>date_posted</th>\n",
        "      <th>date_completed</th>\n",
        "      <th>date_thank_you_packet_mailed</th>\n",
        "      <th>date_expiration</th>\n",
        "      <th>price/student</th>\n",
        "      <th>month_posted</th>\n",
        "      <th>year_posted</th>\n",
        "      <th>funded</th>\n",
        "    </tr>\n",
        "    <tr>\n",
        "      <th>_projectid</th>\n",
        "      <th></th>\n",
        "      <th></th>\n",
        "      <th></th>\n",
        "      <th></th>\n",
        "      <th></th>\n",
        "      <th></th>\n",
        "      <th></th>\n",
        "      <th></th>\n",
        "      <th></th>\n",
        "      <th></th>\n",
        "      <th></th>\n",
        "      <th></th>\n",
        "      <th></th>\n",
        "      <th></th>\n",
        "      <th></th>\n",
        "      <th></th>\n",
        "      <th></th>\n",
        "      <th></th>\n",
        "      <th></th>\n",
        "      <th></th>\n",
        "      <th></th>\n",
        "    </tr>\n",
        "  </thead>\n",
        "  <tbody>\n",
        "    <tr>\n",
        "      <th>\"\"\"e565fb42185c6e9f22806ad9d5ac8a77\"\"\"</th>\n",
        "      <td> \"\"\"2e17c8c91cb58132d8103a9aa8797e80\"\"\"</td>\n",
        "      <td> \"\"\"45e7ddbdd7023f1eb65a6cc028d7414f\"\"\"</td>\n",
        "      <td> 360009001332</td>\n",
        "      <td> 40.841691</td>\n",
        "      <td>-73.875457</td>\n",
        "      <td>    Bronx</td>\n",
        "      <td> NY</td>\n",
        "      <td> 10460</td>\n",
        "      <td> urban</td>\n",
        "      <td> New York City Dept Of Ed</td>\n",
        "      <td>...</td>\n",
        "      <td> 0</td>\n",
        "      <td> completed</td>\n",
        "      <td>2007-03-08</td>\n",
        "      <td> 2007-03-08</td>\n",
        "      <td> 2007-03-08</td>\n",
        "      <td> 2003-12-31</td>\n",
        "      <td> 280021</td>\n",
        "      <td>  3</td>\n",
        "      <td> 2007</td>\n",
        "      <td> 1</td>\n",
        "    </tr>\n",
        "    <tr>\n",
        "      <th>\"\"\"76108ed46f99f27beb4c605b69c92b07\"\"\"</th>\n",
        "      <td> \"\"\"6b3721c9585633fa716e629ec501ff5a\"\"\"</td>\n",
        "      <td> \"\"\"45e7ddbdd7023f1eb65a6cc028d7414f\"\"\"</td>\n",
        "      <td> 360009001332</td>\n",
        "      <td> 40.841691</td>\n",
        "      <td>-73.875457</td>\n",
        "      <td>    Bronx</td>\n",
        "      <td> NY</td>\n",
        "      <td> 10460</td>\n",
        "      <td> urban</td>\n",
        "      <td> New York City Dept Of Ed</td>\n",
        "      <td>...</td>\n",
        "      <td> 0</td>\n",
        "      <td> completed</td>\n",
        "      <td>2002-11-11</td>\n",
        "      <td> 2002-12-06</td>\n",
        "      <td> 2002-12-06</td>\n",
        "      <td> 2003-12-31</td>\n",
        "      <td> 299951</td>\n",
        "      <td> 11</td>\n",
        "      <td> 2002</td>\n",
        "      <td> 1</td>\n",
        "    </tr>\n",
        "    <tr>\n",
        "      <th>\"\"\"2568882e4906849754bbe7246d01ed5e\"\"\"</th>\n",
        "      <td> \"\"\"ed55d66251be5810b38e1b2505b7673d\"\"\"</td>\n",
        "      <td> \"\"\"923a1f4850d4e09ad5b8d015ae988505\"\"\"</td>\n",
        "      <td> 360007702871</td>\n",
        "      <td> 40.742210</td>\n",
        "      <td>-74.002041</td>\n",
        "      <td> New York</td>\n",
        "      <td> NY</td>\n",
        "      <td> 10011</td>\n",
        "      <td> urban</td>\n",
        "      <td> New York City Dept Of Ed</td>\n",
        "      <td>...</td>\n",
        "      <td> 0</td>\n",
        "      <td> completed</td>\n",
        "      <td>2002-11-11</td>\n",
        "      <td> 2002-12-09</td>\n",
        "      <td> 2002-12-09</td>\n",
        "      <td> 2003-12-31</td>\n",
        "      <td> 290001</td>\n",
        "      <td> 11</td>\n",
        "      <td> 2002</td>\n",
        "      <td> 1</td>\n",
        "    </tr>\n",
        "    <tr>\n",
        "      <th>\"\"\"e49f6d07f9da7086d2d823311639f479\"\"\"</th>\n",
        "      <td> \"\"\"ba7ada7b8ef61280b6e8783b59625650\"\"\"</td>\n",
        "      <td> \"\"\"45e7ddbdd7023f1eb65a6cc028d7414f\"\"\"</td>\n",
        "      <td> 360009001332</td>\n",
        "      <td> 40.841691</td>\n",
        "      <td>-73.875457</td>\n",
        "      <td>    Bronx</td>\n",
        "      <td> NY</td>\n",
        "      <td> 10460</td>\n",
        "      <td> urban</td>\n",
        "      <td> New York City Dept Of Ed</td>\n",
        "      <td>...</td>\n",
        "      <td> 0</td>\n",
        "      <td> completed</td>\n",
        "      <td>2002-11-11</td>\n",
        "      <td> 2002-12-06</td>\n",
        "      <td> 2002-12-06</td>\n",
        "      <td> 2003-12-31</td>\n",
        "      <td> 348041</td>\n",
        "      <td> 11</td>\n",
        "      <td> 2002</td>\n",
        "      <td> 1</td>\n",
        "    </tr>\n",
        "    <tr>\n",
        "      <th>\"\"\"548b161b4e808fb580075e03774da1b9\"\"\"</th>\n",
        "      <td> \"\"\"58574f5ee5f3d74a4be12379f8097310\"\"\"</td>\n",
        "      <td> \"\"\"45e7ddbdd7023f1eb65a6cc028d7414f\"\"\"</td>\n",
        "      <td> 360009001332</td>\n",
        "      <td> 40.841691</td>\n",
        "      <td>-73.875457</td>\n",
        "      <td>    Bronx</td>\n",
        "      <td> NY</td>\n",
        "      <td> 10460</td>\n",
        "      <td> urban</td>\n",
        "      <td> New York City Dept Of Ed</td>\n",
        "      <td>...</td>\n",
        "      <td> 0</td>\n",
        "      <td> completed</td>\n",
        "      <td>2002-11-11</td>\n",
        "      <td> 2002-12-06</td>\n",
        "      <td> 2002-12-06</td>\n",
        "      <td> 2003-12-31</td>\n",
        "      <td> 297391</td>\n",
        "      <td> 11</td>\n",
        "      <td> 2002</td>\n",
        "      <td> 1</td>\n",
        "    </tr>\n",
        "  </tbody>\n",
        "</table>\n",
        "<p>5 rows \u00d7 47 columns</p>\n",
        "</div>"
       ],
       "metadata": {},
       "output_type": "pyout",
       "prompt_number": 70,
       "text": [
        "                                                               _teacher_acctid  \\\n",
        "_projectid                                                                       \n",
        "\"\"\"e565fb42185c6e9f22806ad9d5ac8a77\"\"\"  \"\"\"2e17c8c91cb58132d8103a9aa8797e80\"\"\"   \n",
        "\"\"\"76108ed46f99f27beb4c605b69c92b07\"\"\"  \"\"\"6b3721c9585633fa716e629ec501ff5a\"\"\"   \n",
        "\"\"\"2568882e4906849754bbe7246d01ed5e\"\"\"  \"\"\"ed55d66251be5810b38e1b2505b7673d\"\"\"   \n",
        "\"\"\"e49f6d07f9da7086d2d823311639f479\"\"\"  \"\"\"ba7ada7b8ef61280b6e8783b59625650\"\"\"   \n",
        "\"\"\"548b161b4e808fb580075e03774da1b9\"\"\"  \"\"\"58574f5ee5f3d74a4be12379f8097310\"\"\"   \n",
        "\n",
        "                                                                     _schoolid  \\\n",
        "_projectid                                                                       \n",
        "\"\"\"e565fb42185c6e9f22806ad9d5ac8a77\"\"\"  \"\"\"45e7ddbdd7023f1eb65a6cc028d7414f\"\"\"   \n",
        "\"\"\"76108ed46f99f27beb4c605b69c92b07\"\"\"  \"\"\"45e7ddbdd7023f1eb65a6cc028d7414f\"\"\"   \n",
        "\"\"\"2568882e4906849754bbe7246d01ed5e\"\"\"  \"\"\"923a1f4850d4e09ad5b8d015ae988505\"\"\"   \n",
        "\"\"\"e49f6d07f9da7086d2d823311639f479\"\"\"  \"\"\"45e7ddbdd7023f1eb65a6cc028d7414f\"\"\"   \n",
        "\"\"\"548b161b4e808fb580075e03774da1b9\"\"\"  \"\"\"45e7ddbdd7023f1eb65a6cc028d7414f\"\"\"   \n",
        "\n",
        "                                       school_ncesid  school_latitude  \\\n",
        "_projectid                                                              \n",
        "\"\"\"e565fb42185c6e9f22806ad9d5ac8a77\"\"\"  360009001332        40.841691   \n",
        "\"\"\"76108ed46f99f27beb4c605b69c92b07\"\"\"  360009001332        40.841691   \n",
        "\"\"\"2568882e4906849754bbe7246d01ed5e\"\"\"  360007702871        40.742210   \n",
        "\"\"\"e49f6d07f9da7086d2d823311639f479\"\"\"  360009001332        40.841691   \n",
        "\"\"\"548b161b4e808fb580075e03774da1b9\"\"\"  360009001332        40.841691   \n",
        "\n",
        "                                        school_longitude school_city  \\\n",
        "_projectid                                                             \n",
        "\"\"\"e565fb42185c6e9f22806ad9d5ac8a77\"\"\"        -73.875457       Bronx   \n",
        "\"\"\"76108ed46f99f27beb4c605b69c92b07\"\"\"        -73.875457       Bronx   \n",
        "\"\"\"2568882e4906849754bbe7246d01ed5e\"\"\"        -74.002041    New York   \n",
        "\"\"\"e49f6d07f9da7086d2d823311639f479\"\"\"        -73.875457       Bronx   \n",
        "\"\"\"548b161b4e808fb580075e03774da1b9\"\"\"        -73.875457       Bronx   \n",
        "\n",
        "                                       school_state school_zip school_metro  \\\n",
        "_projectid                                                                    \n",
        "\"\"\"e565fb42185c6e9f22806ad9d5ac8a77\"\"\"           NY      10460        urban   \n",
        "\"\"\"76108ed46f99f27beb4c605b69c92b07\"\"\"           NY      10460        urban   \n",
        "\"\"\"2568882e4906849754bbe7246d01ed5e\"\"\"           NY      10011        urban   \n",
        "\"\"\"e49f6d07f9da7086d2d823311639f479\"\"\"           NY      10460        urban   \n",
        "\"\"\"548b161b4e808fb580075e03774da1b9\"\"\"           NY      10460        urban   \n",
        "\n",
        "                                                 school_district   ...    \\\n",
        "_projectid                                                         ...     \n",
        "\"\"\"e565fb42185c6e9f22806ad9d5ac8a77\"\"\"  New York City Dept Of Ed   ...     \n",
        "\"\"\"76108ed46f99f27beb4c605b69c92b07\"\"\"  New York City Dept Of Ed   ...     \n",
        "\"\"\"2568882e4906849754bbe7246d01ed5e\"\"\"  New York City Dept Of Ed   ...     \n",
        "\"\"\"e49f6d07f9da7086d2d823311639f479\"\"\"  New York City Dept Of Ed   ...     \n",
        "\"\"\"548b161b4e808fb580075e03774da1b9\"\"\"  New York City Dept Of Ed   ...     \n",
        "\n",
        "                                       eligible_almost_home_match  \\\n",
        "_projectid                                                          \n",
        "\"\"\"e565fb42185c6e9f22806ad9d5ac8a77\"\"\"                          0   \n",
        "\"\"\"76108ed46f99f27beb4c605b69c92b07\"\"\"                          0   \n",
        "\"\"\"2568882e4906849754bbe7246d01ed5e\"\"\"                          0   \n",
        "\"\"\"e49f6d07f9da7086d2d823311639f479\"\"\"                          0   \n",
        "\"\"\"548b161b4e808fb580075e03774da1b9\"\"\"                          0   \n",
        "\n",
        "                                        funding_status  date_posted  \\\n",
        "_projectid                                                            \n",
        "\"\"\"e565fb42185c6e9f22806ad9d5ac8a77\"\"\"       completed   2007-03-08   \n",
        "\"\"\"76108ed46f99f27beb4c605b69c92b07\"\"\"       completed   2002-11-11   \n",
        "\"\"\"2568882e4906849754bbe7246d01ed5e\"\"\"       completed   2002-11-11   \n",
        "\"\"\"e49f6d07f9da7086d2d823311639f479\"\"\"       completed   2002-11-11   \n",
        "\"\"\"548b161b4e808fb580075e03774da1b9\"\"\"       completed   2002-11-11   \n",
        "\n",
        "                                        date_completed  \\\n",
        "_projectid                                               \n",
        "\"\"\"e565fb42185c6e9f22806ad9d5ac8a77\"\"\"      2007-03-08   \n",
        "\"\"\"76108ed46f99f27beb4c605b69c92b07\"\"\"      2002-12-06   \n",
        "\"\"\"2568882e4906849754bbe7246d01ed5e\"\"\"      2002-12-09   \n",
        "\"\"\"e49f6d07f9da7086d2d823311639f479\"\"\"      2002-12-06   \n",
        "\"\"\"548b161b4e808fb580075e03774da1b9\"\"\"      2002-12-06   \n",
        "\n",
        "                                        date_thank_you_packet_mailed  \\\n",
        "_projectid                                                             \n",
        "\"\"\"e565fb42185c6e9f22806ad9d5ac8a77\"\"\"                    2007-03-08   \n",
        "\"\"\"76108ed46f99f27beb4c605b69c92b07\"\"\"                    2002-12-06   \n",
        "\"\"\"2568882e4906849754bbe7246d01ed5e\"\"\"                    2002-12-09   \n",
        "\"\"\"e49f6d07f9da7086d2d823311639f479\"\"\"                    2002-12-06   \n",
        "\"\"\"548b161b4e808fb580075e03774da1b9\"\"\"                    2002-12-06   \n",
        "\n",
        "                                        date_expiration  price/student  \\\n",
        "_projectid                                                               \n",
        "\"\"\"e565fb42185c6e9f22806ad9d5ac8a77\"\"\"       2003-12-31         280021   \n",
        "\"\"\"76108ed46f99f27beb4c605b69c92b07\"\"\"       2003-12-31         299951   \n",
        "\"\"\"2568882e4906849754bbe7246d01ed5e\"\"\"       2003-12-31         290001   \n",
        "\"\"\"e49f6d07f9da7086d2d823311639f479\"\"\"       2003-12-31         348041   \n",
        "\"\"\"548b161b4e808fb580075e03774da1b9\"\"\"       2003-12-31         297391   \n",
        "\n",
        "                                       month_posted  year_posted  funded  \n",
        "_projectid                                                                \n",
        "\"\"\"e565fb42185c6e9f22806ad9d5ac8a77\"\"\"            3         2007       1  \n",
        "\"\"\"76108ed46f99f27beb4c605b69c92b07\"\"\"           11         2002       1  \n",
        "\"\"\"2568882e4906849754bbe7246d01ed5e\"\"\"           11         2002       1  \n",
        "\"\"\"e49f6d07f9da7086d2d823311639f479\"\"\"           11         2002       1  \n",
        "\"\"\"548b161b4e808fb580075e03774da1b9\"\"\"           11         2002       1  \n",
        "\n",
        "[5 rows x 47 columns]"
       ]
      }
     ],
     "prompt_number": 70
    },
    {
     "cell_type": "code",
     "collapsed": false,
     "input": [
      "funding_sentiment_df = pd.merge(funding_df, sentiment_df, how=\"left\", right_on=\"_projectid\", left_index=True)"
     ],
     "language": "python",
     "metadata": {},
     "outputs": [],
     "prompt_number": 72
    },
    {
     "cell_type": "code",
     "collapsed": false,
     "input": [
      "funding_sentiment_df.head()"
     ],
     "language": "python",
     "metadata": {},
     "outputs": [
      {
       "html": [
        "<div style=\"max-height:1000px;max-width:1500px;overflow:auto;\">\n",
        "<table border=\"1\" class=\"dataframe\">\n",
        "  <thead>\n",
        "    <tr style=\"text-align: right;\">\n",
        "      <th></th>\n",
        "      <th>_teacher_acctid</th>\n",
        "      <th>_schoolid</th>\n",
        "      <th>school_ncesid</th>\n",
        "      <th>school_latitude</th>\n",
        "      <th>school_longitude</th>\n",
        "      <th>school_city</th>\n",
        "      <th>school_state</th>\n",
        "      <th>school_zip</th>\n",
        "      <th>school_metro</th>\n",
        "      <th>school_district</th>\n",
        "      <th>...</th>\n",
        "      <th>month_posted</th>\n",
        "      <th>year_posted</th>\n",
        "      <th>funded</th>\n",
        "      <th>_projectid</th>\n",
        "      <th>title polarity</th>\n",
        "      <th>title subjectivity</th>\n",
        "      <th>short_description polarity</th>\n",
        "      <th>short_description subjectivity</th>\n",
        "      <th>need_statement polarity</th>\n",
        "      <th>need_statement subjectivity</th>\n",
        "    </tr>\n",
        "  </thead>\n",
        "  <tbody>\n",
        "    <tr>\n",
        "      <th>0</th>\n",
        "      <td> \"\"\"2e17c8c91cb58132d8103a9aa8797e80\"\"\"</td>\n",
        "      <td> \"\"\"45e7ddbdd7023f1eb65a6cc028d7414f\"\"\"</td>\n",
        "      <td> 360009001332</td>\n",
        "      <td> 40.841691</td>\n",
        "      <td>-73.875457</td>\n",
        "      <td>    Bronx</td>\n",
        "      <td> NY</td>\n",
        "      <td> 10460</td>\n",
        "      <td> urban</td>\n",
        "      <td> New York City Dept Of Ed</td>\n",
        "      <td>...</td>\n",
        "      <td>  3</td>\n",
        "      <td> 2007</td>\n",
        "      <td> 1</td>\n",
        "      <td> \"\"\"e565fb42185c6e9f22806ad9d5ac8a77\"\"\"</td>\n",
        "      <td> 0.0</td>\n",
        "      <td> 0.0</td>\n",
        "      <td> 0.10</td>\n",
        "      <td> 0.25</td>\n",
        "      <td> 0.000000</td>\n",
        "      <td> 0.000000</td>\n",
        "    </tr>\n",
        "    <tr>\n",
        "      <th>1</th>\n",
        "      <td> \"\"\"6b3721c9585633fa716e629ec501ff5a\"\"\"</td>\n",
        "      <td> \"\"\"45e7ddbdd7023f1eb65a6cc028d7414f\"\"\"</td>\n",
        "      <td> 360009001332</td>\n",
        "      <td> 40.841691</td>\n",
        "      <td>-73.875457</td>\n",
        "      <td>    Bronx</td>\n",
        "      <td> NY</td>\n",
        "      <td> 10460</td>\n",
        "      <td> urban</td>\n",
        "      <td> New York City Dept Of Ed</td>\n",
        "      <td>...</td>\n",
        "      <td> 11</td>\n",
        "      <td> 2002</td>\n",
        "      <td> 1</td>\n",
        "      <td> \"\"\"76108ed46f99f27beb4c605b69c92b07\"\"\"</td>\n",
        "      <td> 0.0</td>\n",
        "      <td> 0.0</td>\n",
        "      <td> 0.16</td>\n",
        "      <td> 0.54</td>\n",
        "      <td> 0.500000</td>\n",
        "      <td> 0.500000</td>\n",
        "    </tr>\n",
        "    <tr>\n",
        "      <th>2</th>\n",
        "      <td> \"\"\"ed55d66251be5810b38e1b2505b7673d\"\"\"</td>\n",
        "      <td> \"\"\"923a1f4850d4e09ad5b8d015ae988505\"\"\"</td>\n",
        "      <td> 360007702871</td>\n",
        "      <td> 40.742210</td>\n",
        "      <td>-74.002041</td>\n",
        "      <td> New York</td>\n",
        "      <td> NY</td>\n",
        "      <td> 10011</td>\n",
        "      <td> urban</td>\n",
        "      <td> New York City Dept Of Ed</td>\n",
        "      <td>...</td>\n",
        "      <td> 11</td>\n",
        "      <td> 2002</td>\n",
        "      <td> 1</td>\n",
        "      <td> \"\"\"2568882e4906849754bbe7246d01ed5e\"\"\"</td>\n",
        "      <td> 0.0</td>\n",
        "      <td> 0.0</td>\n",
        "      <td> 0.00</td>\n",
        "      <td> 0.00</td>\n",
        "      <td> 0.000000</td>\n",
        "      <td> 0.000000</td>\n",
        "    </tr>\n",
        "    <tr>\n",
        "      <th>3</th>\n",
        "      <td> \"\"\"ba7ada7b8ef61280b6e8783b59625650\"\"\"</td>\n",
        "      <td> \"\"\"45e7ddbdd7023f1eb65a6cc028d7414f\"\"\"</td>\n",
        "      <td> 360009001332</td>\n",
        "      <td> 40.841691</td>\n",
        "      <td>-73.875457</td>\n",
        "      <td>    Bronx</td>\n",
        "      <td> NY</td>\n",
        "      <td> 10460</td>\n",
        "      <td> urban</td>\n",
        "      <td> New York City Dept Of Ed</td>\n",
        "      <td>...</td>\n",
        "      <td> 11</td>\n",
        "      <td> 2002</td>\n",
        "      <td> 1</td>\n",
        "      <td> \"\"\"e49f6d07f9da7086d2d823311639f479\"\"\"</td>\n",
        "      <td>-0.1</td>\n",
        "      <td> 0.1</td>\n",
        "      <td> 0.28</td>\n",
        "      <td> 0.67</td>\n",
        "      <td> 0.000000</td>\n",
        "      <td> 0.000000</td>\n",
        "    </tr>\n",
        "    <tr>\n",
        "      <th>4</th>\n",
        "      <td> \"\"\"58574f5ee5f3d74a4be12379f8097310\"\"\"</td>\n",
        "      <td> \"\"\"45e7ddbdd7023f1eb65a6cc028d7414f\"\"\"</td>\n",
        "      <td> 360009001332</td>\n",
        "      <td> 40.841691</td>\n",
        "      <td>-73.875457</td>\n",
        "      <td>    Bronx</td>\n",
        "      <td> NY</td>\n",
        "      <td> 10460</td>\n",
        "      <td> urban</td>\n",
        "      <td> New York City Dept Of Ed</td>\n",
        "      <td>...</td>\n",
        "      <td> 11</td>\n",
        "      <td> 2002</td>\n",
        "      <td> 1</td>\n",
        "      <td> \"\"\"548b161b4e808fb580075e03774da1b9\"\"\"</td>\n",
        "      <td> 0.0</td>\n",
        "      <td> 0.5</td>\n",
        "      <td> 0.00</td>\n",
        "      <td> 0.20</td>\n",
        "      <td> 0.128788</td>\n",
        "      <td> 0.466667</td>\n",
        "    </tr>\n",
        "  </tbody>\n",
        "</table>\n",
        "<p>5 rows \u00d7 54 columns</p>\n",
        "</div>"
       ],
       "metadata": {},
       "output_type": "pyout",
       "prompt_number": 73,
       "text": [
        "                          _teacher_acctid  \\\n",
        "0  \"\"\"2e17c8c91cb58132d8103a9aa8797e80\"\"\"   \n",
        "1  \"\"\"6b3721c9585633fa716e629ec501ff5a\"\"\"   \n",
        "2  \"\"\"ed55d66251be5810b38e1b2505b7673d\"\"\"   \n",
        "3  \"\"\"ba7ada7b8ef61280b6e8783b59625650\"\"\"   \n",
        "4  \"\"\"58574f5ee5f3d74a4be12379f8097310\"\"\"   \n",
        "\n",
        "                                _schoolid school_ncesid  school_latitude  \\\n",
        "0  \"\"\"45e7ddbdd7023f1eb65a6cc028d7414f\"\"\"  360009001332        40.841691   \n",
        "1  \"\"\"45e7ddbdd7023f1eb65a6cc028d7414f\"\"\"  360009001332        40.841691   \n",
        "2  \"\"\"923a1f4850d4e09ad5b8d015ae988505\"\"\"  360007702871        40.742210   \n",
        "3  \"\"\"45e7ddbdd7023f1eb65a6cc028d7414f\"\"\"  360009001332        40.841691   \n",
        "4  \"\"\"45e7ddbdd7023f1eb65a6cc028d7414f\"\"\"  360009001332        40.841691   \n",
        "\n",
        "   school_longitude school_city school_state school_zip school_metro  \\\n",
        "0        -73.875457       Bronx           NY      10460        urban   \n",
        "1        -73.875457       Bronx           NY      10460        urban   \n",
        "2        -74.002041    New York           NY      10011        urban   \n",
        "3        -73.875457       Bronx           NY      10460        urban   \n",
        "4        -73.875457       Bronx           NY      10460        urban   \n",
        "\n",
        "            school_district             ...              month_posted  \\\n",
        "0  New York City Dept Of Ed             ...                         3   \n",
        "1  New York City Dept Of Ed             ...                        11   \n",
        "2  New York City Dept Of Ed             ...                        11   \n",
        "3  New York City Dept Of Ed             ...                        11   \n",
        "4  New York City Dept Of Ed             ...                        11   \n",
        "\n",
        "   year_posted  funded                              _projectid  \\\n",
        "0         2007       1  \"\"\"e565fb42185c6e9f22806ad9d5ac8a77\"\"\"   \n",
        "1         2002       1  \"\"\"76108ed46f99f27beb4c605b69c92b07\"\"\"   \n",
        "2         2002       1  \"\"\"2568882e4906849754bbe7246d01ed5e\"\"\"   \n",
        "3         2002       1  \"\"\"e49f6d07f9da7086d2d823311639f479\"\"\"   \n",
        "4         2002       1  \"\"\"548b161b4e808fb580075e03774da1b9\"\"\"   \n",
        "\n",
        "   title polarity  title subjectivity  short_description polarity  \\\n",
        "0             0.0                 0.0                        0.10   \n",
        "1             0.0                 0.0                        0.16   \n",
        "2             0.0                 0.0                        0.00   \n",
        "3            -0.1                 0.1                        0.28   \n",
        "4             0.0                 0.5                        0.00   \n",
        "\n",
        "  short_description subjectivity  need_statement polarity  \\\n",
        "0                           0.25                 0.000000   \n",
        "1                           0.54                 0.500000   \n",
        "2                           0.00                 0.000000   \n",
        "3                           0.67                 0.000000   \n",
        "4                           0.20                 0.128788   \n",
        "\n",
        "   need_statement subjectivity  \n",
        "0                     0.000000  \n",
        "1                     0.500000  \n",
        "2                     0.000000  \n",
        "3                     0.000000  \n",
        "4                     0.466667  \n",
        "\n",
        "[5 rows x 54 columns]"
       ]
      }
     ],
     "prompt_number": 73
    },
    {
     "cell_type": "code",
     "collapsed": false,
     "input": [
      "len(funding_sentiment_df)"
     ],
     "language": "python",
     "metadata": {},
     "outputs": [
      {
       "metadata": {},
       "output_type": "pyout",
       "prompt_number": 74,
       "text": [
        "722823"
       ]
      }
     ],
     "prompt_number": 74
    },
    {
     "cell_type": "code",
     "collapsed": false,
     "input": [
      "with open(\"funding_sentiment_df.pkl\", \"w\") as picklefile:\n",
      "    pickle.dump(funding_sentiment_df, picklefile)"
     ],
     "language": "python",
     "metadata": {},
     "outputs": [],
     "prompt_number": 76
    },
    {
     "cell_type": "code",
     "collapsed": false,
     "input": [
      "funding_sentiment_df.describe()"
     ],
     "language": "python",
     "metadata": {},
     "outputs": [
      {
       "html": [
        "<div style=\"max-height:1000px;max-width:1500px;overflow:auto;\">\n",
        "<table border=\"1\" class=\"dataframe\">\n",
        "  <thead>\n",
        "    <tr style=\"text-align: right;\">\n",
        "      <th></th>\n",
        "      <th>school_latitude</th>\n",
        "      <th>school_longitude</th>\n",
        "      <th>school_charter</th>\n",
        "      <th>school_magnet</th>\n",
        "      <th>school_year_round</th>\n",
        "      <th>school_nlns</th>\n",
        "      <th>school_kipp</th>\n",
        "      <th>school_charter_ready_promise</th>\n",
        "      <th>teacher_teach_for_america</th>\n",
        "      <th>teacher_ny_teaching_fellow</th>\n",
        "      <th>...</th>\n",
        "      <th>price/student</th>\n",
        "      <th>month_posted</th>\n",
        "      <th>year_posted</th>\n",
        "      <th>funded</th>\n",
        "      <th>title polarity</th>\n",
        "      <th>title subjectivity</th>\n",
        "      <th>short_description polarity</th>\n",
        "      <th>short_description subjectivity</th>\n",
        "      <th>need_statement polarity</th>\n",
        "      <th>need_statement subjectivity</th>\n",
        "    </tr>\n",
        "  </thead>\n",
        "  <tbody>\n",
        "    <tr>\n",
        "      <th>count</th>\n",
        "      <td> 722823.000000</td>\n",
        "      <td> 722823.000000</td>\n",
        "      <td> 722823.000000</td>\n",
        "      <td> 722823.000000</td>\n",
        "      <td> 722823.000000</td>\n",
        "      <td> 722823.000000</td>\n",
        "      <td> 722823.000000</td>\n",
        "      <td> 722823.000000</td>\n",
        "      <td> 722823.000000</td>\n",
        "      <td> 722823.000000</td>\n",
        "      <td>...</td>\n",
        "      <td> 7.228230e+05</td>\n",
        "      <td> 722823.000000</td>\n",
        "      <td> 722823.000000</td>\n",
        "      <td> 722823.000000</td>\n",
        "      <td> 722823.000000</td>\n",
        "      <td> 722823.000000</td>\n",
        "      <td> 722817.000000</td>\n",
        "      <td> 722817.000000</td>\n",
        "      <td> 722822.000000</td>\n",
        "      <td> 722822.000000</td>\n",
        "    </tr>\n",
        "    <tr>\n",
        "      <th>mean</th>\n",
        "      <td>     37.231095</td>\n",
        "      <td>    -93.499194</td>\n",
        "      <td>      0.090371</td>\n",
        "      <td>      0.092649</td>\n",
        "      <td>      0.037102</td>\n",
        "      <td>      0.014175</td>\n",
        "      <td>      0.006433</td>\n",
        "      <td>      0.004601</td>\n",
        "      <td>      0.055282</td>\n",
        "      <td>      0.016391</td>\n",
        "      <td>...</td>\n",
        "      <td> 3.299485e+03</td>\n",
        "      <td>      6.863967</td>\n",
        "      <td>   2011.033665</td>\n",
        "      <td>      0.712455</td>\n",
        "      <td>      0.079172</td>\n",
        "      <td>      0.164977</td>\n",
        "      <td>      0.150805</td>\n",
        "      <td>      0.368982</td>\n",
        "      <td>      0.097613</td>\n",
        "      <td>      0.260043</td>\n",
        "    </tr>\n",
        "    <tr>\n",
        "      <th>std</th>\n",
        "      <td>      4.720675</td>\n",
        "      <td>     17.806393</td>\n",
        "      <td>      0.286712</td>\n",
        "      <td>      0.289940</td>\n",
        "      <td>      0.189011</td>\n",
        "      <td>      0.118212</td>\n",
        "      <td>      0.079948</td>\n",
        "      <td>      0.067677</td>\n",
        "      <td>      0.228530</td>\n",
        "      <td>      0.126975</td>\n",
        "      <td>...</td>\n",
        "      <td> 1.177932e+06</td>\n",
        "      <td>      3.495708</td>\n",
        "      <td>      2.382925</td>\n",
        "      <td>      0.452618</td>\n",
        "      <td>      0.221076</td>\n",
        "      <td>      0.282551</td>\n",
        "      <td>      0.232798</td>\n",
        "      <td>      0.284928</td>\n",
        "      <td>      0.214756</td>\n",
        "      <td>      0.297387</td>\n",
        "    </tr>\n",
        "    <tr>\n",
        "      <th>min</th>\n",
        "      <td>     18.249140</td>\n",
        "      <td>   -176.634989</td>\n",
        "      <td>      0.000000</td>\n",
        "      <td>      0.000000</td>\n",
        "      <td>      0.000000</td>\n",
        "      <td>      0.000000</td>\n",
        "      <td>      0.000000</td>\n",
        "      <td>      0.000000</td>\n",
        "      <td>      0.000000</td>\n",
        "      <td>      0.000000</td>\n",
        "      <td>...</td>\n",
        "      <td> 4.999750e-05</td>\n",
        "      <td>      1.000000</td>\n",
        "      <td>   2002.000000</td>\n",
        "      <td>      0.000000</td>\n",
        "      <td>     -1.000000</td>\n",
        "      <td>      0.000000</td>\n",
        "      <td>     -1.000000</td>\n",
        "      <td>      0.000000</td>\n",
        "      <td>     -1.000000</td>\n",
        "      <td>      0.000000</td>\n",
        "    </tr>\n",
        "    <tr>\n",
        "      <th>25%</th>\n",
        "      <td>     34.026539</td>\n",
        "      <td>   -112.035370</td>\n",
        "      <td>      0.000000</td>\n",
        "      <td>      0.000000</td>\n",
        "      <td>      0.000000</td>\n",
        "      <td>      0.000000</td>\n",
        "      <td>      0.000000</td>\n",
        "      <td>      0.000000</td>\n",
        "      <td>      0.000000</td>\n",
        "      <td>      0.000000</td>\n",
        "      <td>...</td>\n",
        "      <td> 4.561663e+00</td>\n",
        "      <td>      4.000000</td>\n",
        "      <td>   2010.000000</td>\n",
        "      <td>      0.000000</td>\n",
        "      <td>      0.000000</td>\n",
        "      <td>      0.000000</td>\n",
        "      <td>      0.000000</td>\n",
        "      <td>      0.000000</td>\n",
        "      <td>      0.000000</td>\n",
        "      <td>      0.000000</td>\n",
        "    </tr>\n",
        "    <tr>\n",
        "      <th>50%</th>\n",
        "      <td>     37.653138</td>\n",
        "      <td>    -87.694710</td>\n",
        "      <td>      0.000000</td>\n",
        "      <td>      0.000000</td>\n",
        "      <td>      0.000000</td>\n",
        "      <td>      0.000000</td>\n",
        "      <td>      0.000000</td>\n",
        "      <td>      0.000000</td>\n",
        "      <td>      0.000000</td>\n",
        "      <td>      0.000000</td>\n",
        "      <td>...</td>\n",
        "      <td> 1.020268e+01</td>\n",
        "      <td>      8.000000</td>\n",
        "      <td>   2011.000000</td>\n",
        "      <td>      1.000000</td>\n",
        "      <td>      0.000000</td>\n",
        "      <td>      0.000000</td>\n",
        "      <td>      0.100000</td>\n",
        "      <td>      0.400000</td>\n",
        "      <td>      0.000000</td>\n",
        "      <td>      0.100000</td>\n",
        "    </tr>\n",
        "    <tr>\n",
        "      <th>75%</th>\n",
        "      <td>     40.759132</td>\n",
        "      <td>    -79.462768</td>\n",
        "      <td>      0.000000</td>\n",
        "      <td>      0.000000</td>\n",
        "      <td>      0.000000</td>\n",
        "      <td>      0.000000</td>\n",
        "      <td>      0.000000</td>\n",
        "      <td>      0.000000</td>\n",
        "      <td>      0.000000</td>\n",
        "      <td>      0.000000</td>\n",
        "      <td>...</td>\n",
        "      <td> 1.960288e+01</td>\n",
        "      <td>     10.000000</td>\n",
        "      <td>   2013.000000</td>\n",
        "      <td>      1.000000</td>\n",
        "      <td>      0.000000</td>\n",
        "      <td>      0.300000</td>\n",
        "      <td>      0.300000</td>\n",
        "      <td>      0.566667</td>\n",
        "      <td>      0.195328</td>\n",
        "      <td>      0.500000</td>\n",
        "    </tr>\n",
        "    <tr>\n",
        "      <th>max</th>\n",
        "      <td>     71.290646</td>\n",
        "      <td>    -66.628036</td>\n",
        "      <td>      1.000000</td>\n",
        "      <td>      1.000000</td>\n",
        "      <td>      1.000000</td>\n",
        "      <td>      1.000000</td>\n",
        "      <td>      1.000000</td>\n",
        "      <td>      1.000000</td>\n",
        "      <td>      1.000000</td>\n",
        "      <td>      1.000000</td>\n",
        "      <td>...</td>\n",
        "      <td> 1.000000e+09</td>\n",
        "      <td>     12.000000</td>\n",
        "      <td>   2014.000000</td>\n",
        "      <td>      1.000000</td>\n",
        "      <td>      1.000000</td>\n",
        "      <td>      1.000000</td>\n",
        "      <td>      1.000000</td>\n",
        "      <td>      1.000000</td>\n",
        "      <td>      1.000000</td>\n",
        "      <td>      1.000000</td>\n",
        "    </tr>\n",
        "  </tbody>\n",
        "</table>\n",
        "<p>8 rows \u00d7 30 columns</p>\n",
        "</div>"
       ],
       "metadata": {},
       "output_type": "pyout",
       "prompt_number": 75,
       "text": [
        "       school_latitude  school_longitude  school_charter  school_magnet  \\\n",
        "count    722823.000000     722823.000000   722823.000000  722823.000000   \n",
        "mean         37.231095        -93.499194        0.090371       0.092649   \n",
        "std           4.720675         17.806393        0.286712       0.289940   \n",
        "min          18.249140       -176.634989        0.000000       0.000000   \n",
        "25%          34.026539       -112.035370        0.000000       0.000000   \n",
        "50%          37.653138        -87.694710        0.000000       0.000000   \n",
        "75%          40.759132        -79.462768        0.000000       0.000000   \n",
        "max          71.290646        -66.628036        1.000000       1.000000   \n",
        "\n",
        "       school_year_round    school_nlns    school_kipp  \\\n",
        "count      722823.000000  722823.000000  722823.000000   \n",
        "mean            0.037102       0.014175       0.006433   \n",
        "std             0.189011       0.118212       0.079948   \n",
        "min             0.000000       0.000000       0.000000   \n",
        "25%             0.000000       0.000000       0.000000   \n",
        "50%             0.000000       0.000000       0.000000   \n",
        "75%             0.000000       0.000000       0.000000   \n",
        "max             1.000000       1.000000       1.000000   \n",
        "\n",
        "       school_charter_ready_promise  teacher_teach_for_america  \\\n",
        "count                 722823.000000              722823.000000   \n",
        "mean                       0.004601                   0.055282   \n",
        "std                        0.067677                   0.228530   \n",
        "min                        0.000000                   0.000000   \n",
        "25%                        0.000000                   0.000000   \n",
        "50%                        0.000000                   0.000000   \n",
        "75%                        0.000000                   0.000000   \n",
        "max                        1.000000                   1.000000   \n",
        "\n",
        "       teacher_ny_teaching_fellow             ...               price/student  \\\n",
        "count               722823.000000             ...                7.228230e+05   \n",
        "mean                     0.016391             ...                3.299485e+03   \n",
        "std                      0.126975             ...                1.177932e+06   \n",
        "min                      0.000000             ...                4.999750e-05   \n",
        "25%                      0.000000             ...                4.561663e+00   \n",
        "50%                      0.000000             ...                1.020268e+01   \n",
        "75%                      0.000000             ...                1.960288e+01   \n",
        "max                      1.000000             ...                1.000000e+09   \n",
        "\n",
        "        month_posted    year_posted         funded  title polarity  \\\n",
        "count  722823.000000  722823.000000  722823.000000   722823.000000   \n",
        "mean        6.863967    2011.033665       0.712455        0.079172   \n",
        "std         3.495708       2.382925       0.452618        0.221076   \n",
        "min         1.000000    2002.000000       0.000000       -1.000000   \n",
        "25%         4.000000    2010.000000       0.000000        0.000000   \n",
        "50%         8.000000    2011.000000       1.000000        0.000000   \n",
        "75%        10.000000    2013.000000       1.000000        0.000000   \n",
        "max        12.000000    2014.000000       1.000000        1.000000   \n",
        "\n",
        "       title subjectivity  short_description polarity  \\\n",
        "count       722823.000000               722817.000000   \n",
        "mean             0.164977                    0.150805   \n",
        "std              0.282551                    0.232798   \n",
        "min              0.000000                   -1.000000   \n",
        "25%              0.000000                    0.000000   \n",
        "50%              0.000000                    0.100000   \n",
        "75%              0.300000                    0.300000   \n",
        "max              1.000000                    1.000000   \n",
        "\n",
        "       short_description subjectivity  need_statement polarity  \\\n",
        "count                   722817.000000            722822.000000   \n",
        "mean                         0.368982                 0.097613   \n",
        "std                          0.284928                 0.214756   \n",
        "min                          0.000000                -1.000000   \n",
        "25%                          0.000000                 0.000000   \n",
        "50%                          0.400000                 0.000000   \n",
        "75%                          0.566667                 0.195328   \n",
        "max                          1.000000                 1.000000   \n",
        "\n",
        "       need_statement subjectivity  \n",
        "count                722822.000000  \n",
        "mean                      0.260043  \n",
        "std                       0.297387  \n",
        "min                       0.000000  \n",
        "25%                       0.000000  \n",
        "50%                       0.100000  \n",
        "75%                       0.500000  \n",
        "max                       1.000000  \n",
        "\n",
        "[8 rows x 30 columns]"
       ]
      }
     ],
     "prompt_number": 75
    },
    {
     "cell_type": "code",
     "collapsed": false,
     "input": [
      "len(funding_sentiment_df)"
     ],
     "language": "python",
     "metadata": {},
     "outputs": [
      {
       "metadata": {},
       "output_type": "pyout",
       "prompt_number": 83,
       "text": [
        "722823"
       ]
      }
     ],
     "prompt_number": 83
    },
    {
     "cell_type": "markdown",
     "metadata": {},
     "source": [
      "####Look at distribution of sentiment "
     ]
    },
    {
     "cell_type": "code",
     "collapsed": false,
     "input": [
      "fig = plt.figure(figsize=(10,7))\n",
      "plt.xticks(rotation=90)\n",
      "\n",
      "groupby_state_text = funding_sentiment_df.groupby(\"school_state\")\n",
      "groupby_state_text_hist = groupby_state_text[\"short_description polarity\"].mean()\n",
      "groupby_state_text_hist.plot(kind = \"bar\")"
     ],
     "language": "python",
     "metadata": {},
     "outputs": [
      {
       "metadata": {},
       "output_type": "pyout",
       "prompt_number": 148,
       "text": [
        "<matplotlib.axes._subplots.AxesSubplot at 0x19fb8e350>"
       ]
      },
      {
       "metadata": {},
       "output_type": "display_data",
       "png": "[encoded data removed]",
       "text": [
        "<matplotlib.figure.Figure at 0x197057c90>"
       ]
      }
     ],
     "prompt_number": 148
    },
    {
     "cell_type": "code",
     "collapsed": false,
     "input": [
      "fig = plt.figure(figsize=(10,7))\n",
      "plt.xticks(rotation=90)\n",
      "\n",
      "groupby_state_text = funding_sentiment_df.groupby(\"school_state\")\n",
      "groupby_state_text_hist = groupby_state_text[\"short_description subjectivity\"].mean()\n",
      "groupby_state_text_hist.plot(kind = \"bar\")"
     ],
     "language": "python",
     "metadata": {},
     "outputs": [
      {
       "metadata": {},
       "output_type": "pyout",
       "prompt_number": 149,
       "text": [
        "<matplotlib.axes._subplots.AxesSubplot at 0x19f129110>"
       ]
      },
      {
       "metadata": {},
       "output_type": "display_data",
       "png": "[encoded data removed]",
       "text": [
        "<matplotlib.figure.Figure at 0x19f4ab3d0>"
       ]
      }
     ],
     "prompt_number": 149
    },
    {
     "cell_type": "code",
     "collapsed": false,
     "input": [
      "test_df = funding_sentiment_df.dropna()"
     ],
     "language": "python",
     "metadata": {},
     "outputs": [],
     "prompt_number": 86
    },
    {
     "cell_type": "code",
     "collapsed": false,
     "input": [
      "len(test_df)"
     ],
     "language": "python",
     "metadata": {},
     "outputs": [
      {
       "metadata": {},
       "output_type": "pyout",
       "prompt_number": 87,
       "text": [
        "466738"
       ]
      }
     ],
     "prompt_number": 87
    },
    {
     "cell_type": "code",
     "collapsed": false,
     "input": [
      "numeric_only_df = funding_sentiment_df[numeric_feature_list_3]"
     ],
     "language": "python",
     "metadata": {},
     "outputs": [],
     "prompt_number": 94
    },
    {
     "cell_type": "code",
     "collapsed": false,
     "input": [
      "numeric_test = numeric_only_df.dropna()"
     ],
     "language": "python",
     "metadata": {},
     "outputs": [],
     "prompt_number": 95
    },
    {
     "cell_type": "code",
     "collapsed": false,
     "input": [
      "len(numeric_test)"
     ],
     "language": "python",
     "metadata": {},
     "outputs": [
      {
       "metadata": {},
       "output_type": "pyout",
       "prompt_number": 96,
       "text": [
        "722816"
       ]
      }
     ],
     "prompt_number": 96
    },
    {
     "cell_type": "markdown",
     "metadata": {},
     "source": [
      "##EXPLORATION OF DATA TO BUILD A MODEL TO PREDICT FUNDING OR NOT FUNDING"
     ]
    },
    {
     "cell_type": "code",
     "collapsed": false,
     "input": [
      "numeric_feature_list_3 = ['school_charter', 'school_magnet', 'school_year_round', \n",
      "                        'school_nlns', 'school_kipp', 'school_charter_ready_promise', \n",
      "                        'teacher_teach_for_america',\n",
      "                        'teacher_ny_teaching_fellow','total_price_excluding_optional_support', \n",
      "                        'students_reached', \n",
      "                        'month_posted', 'year_posted',\n",
      "                        'title polarity', 'title subjectivity', 'short_description polarity', \n",
      "                        'short_description subjectivity', 'need_statement polarity', \n",
      "                        'need_statement subjectivity']"
     ],
     "language": "python",
     "metadata": {},
     "outputs": [],
     "prompt_number": 129
    },
    {
     "cell_type": "code",
     "collapsed": false,
     "input": [
      "funding_sentiment_df.dtypes"
     ],
     "language": "python",
     "metadata": {},
     "outputs": [
      {
       "metadata": {},
       "output_type": "pyout",
       "prompt_number": 81,
       "text": [
        "_teacher_acctid                                   object\n",
        "_schoolid                                         object\n",
        "school_ncesid                                     object\n",
        "school_latitude                                  float64\n",
        "school_longitude                                 float64\n",
        "school_city                                       object\n",
        "school_state                                      object\n",
        "school_zip                                        object\n",
        "school_metro                                      object\n",
        "school_district                                   object\n",
        "school_county                                     object\n",
        "school_charter                                     int64\n",
        "school_magnet                                      int64\n",
        "school_year_round                                  int64\n",
        "school_nlns                                        int64\n",
        "school_kipp                                        int64\n",
        "school_charter_ready_promise                       int64\n",
        "teacher_prefix                                    object\n",
        "teacher_teach_for_america                          int64\n",
        "teacher_ny_teaching_fellow                         int64\n",
        "primary_focus_subject                             object\n",
        "primary_focus_area                                object\n",
        "secondary_focus_subject                           object\n",
        "secondary_focus_area                              object\n",
        "resource_type                                     object\n",
        "poverty_level                                     object\n",
        "grade_level                                       object\n",
        "vendor_shipping_charges                          float64\n",
        "sales_tax                                        float64\n",
        "payment_processing_charges                       float64\n",
        "fulfillment_labor_materials                      float64\n",
        "total_price_excluding_optional_support           float64\n",
        "total_price_including_optional_support           float64\n",
        "students_reached                                   int64\n",
        "total_donations                                  float64\n",
        "num_donors                                         int64\n",
        "eligible_double_your_impact_match                 object\n",
        "eligible_almost_home_match                         int64\n",
        "funding_status                                    object\n",
        "date_posted                               datetime64[ns]\n",
        "date_completed                                    object\n",
        "date_thank_you_packet_mailed                      object\n",
        "date_expiration                                   object\n",
        "price/student                                    float64\n",
        "month_posted                                     float64\n",
        "year_posted                                      float64\n",
        "funded                                             int64\n",
        "_projectid                                        object\n",
        "title polarity                                   float64\n",
        "title subjectivity                               float64\n",
        "short_description polarity                       float64\n",
        "short_description subjectivity                   float64\n",
        "need_statement polarity                          float64\n",
        "need_statement subjectivity                      float64\n",
        "Length: 54, dtype: object"
       ]
      }
     ],
     "prompt_number": 81
    },
    {
     "cell_type": "code",
     "collapsed": false,
     "input": [
      "Y = numeric_test['funded']\n",
      "X = numeric_test[numeric_feature_list_3]\n",
      "X = st.add_constant(X)\n",
      "\n",
      "# Y_train, Y_test, X_train, X_test = train_test_split(Y, X, test_size=.25)\n",
      "# print X_test\n",
      "\n",
      "logmodel = Logit(Y, X).fit()\n",
      "logmodel.summary()"
     ],
     "language": "python",
     "metadata": {},
     "outputs": [
      {
       "output_type": "stream",
       "stream": "stdout",
       "text": [
        "Optimization terminated successfully.\n",
        "         Current function value: 0.578404\n",
        "         Iterations 9\n"
       ]
      },
      {
       "html": [
        "<table class=\"simpletable\">\n",
        "<caption>Logit Regression Results</caption>\n",
        "<tr>\n",
        "  <th>Dep. Variable:</th>      <td>funded</td>      <th>  No. Observations:  </th>   <td>722816</td>   \n",
        "</tr>\n",
        "<tr>\n",
        "  <th>Model:</th>               <td>Logit</td>      <th>  Df Residuals:      </th>   <td>722796</td>   \n",
        "</tr>\n",
        "<tr>\n",
        "  <th>Method:</th>               <td>MLE</td>       <th>  Df Model:          </th>   <td>    19</td>   \n",
        "</tr>\n",
        "<tr>\n",
        "  <th>Date:</th>          <td>Wed, 18 Mar 2015</td> <th>  Pseudo R-squ.:     </th>   <td>0.03589</td>  \n",
        "</tr>\n",
        "<tr>\n",
        "  <th>Time:</th>              <td>14:40:48</td>     <th>  Log-Likelihood:    </th> <td>-4.1808e+05</td>\n",
        "</tr>\n",
        "<tr>\n",
        "  <th>converged:</th>           <td>True</td>       <th>  LL-Null:           </th> <td>-4.3364e+05</td>\n",
        "</tr>\n",
        "<tr>\n",
        "  <th> </th>                      <td> </td>        <th>  LLR p-value:       </th>   <td> 0.000</td>   \n",
        "</tr>\n",
        "</table>\n",
        "<table class=\"simpletable\">\n",
        "<tr>\n",
        "                     <td></td>                       <th>coef</th>     <th>std err</th>      <th>z</th>      <th>P>|z|</th> <th>[95.0% Conf. Int.]</th> \n",
        "</tr>\n",
        "<tr>\n",
        "  <th>const</th>                                  <td> -140.3777</td> <td>    2.920</td> <td>  -48.078</td> <td> 0.000</td> <td> -146.100  -134.655</td>\n",
        "</tr>\n",
        "<tr>\n",
        "  <th>school_charter</th>                         <td>    0.1530</td> <td>    0.010</td> <td>   14.812</td> <td> 0.000</td> <td>    0.133     0.173</td>\n",
        "</tr>\n",
        "<tr>\n",
        "  <th>school_magnet</th>                          <td>    0.1894</td> <td>    0.009</td> <td>   20.021</td> <td> 0.000</td> <td>    0.171     0.208</td>\n",
        "</tr>\n",
        "<tr>\n",
        "  <th>school_year_round</th>                      <td>   -0.0218</td> <td>    0.014</td> <td>   -1.562</td> <td> 0.118</td> <td>   -0.049     0.006</td>\n",
        "</tr>\n",
        "<tr>\n",
        "  <th>school_nlns</th>                            <td>    0.5150</td> <td>    0.026</td> <td>   19.953</td> <td> 0.000</td> <td>    0.464     0.566</td>\n",
        "</tr>\n",
        "<tr>\n",
        "  <th>school_kipp</th>                            <td>    0.1679</td> <td>    0.040</td> <td>    4.198</td> <td> 0.000</td> <td>    0.089     0.246</td>\n",
        "</tr>\n",
        "<tr>\n",
        "  <th>school_charter_ready_promise</th>           <td>    0.3718</td> <td>    0.046</td> <td>    8.162</td> <td> 0.000</td> <td>    0.282     0.461</td>\n",
        "</tr>\n",
        "<tr>\n",
        "  <th>teacher_teach_for_america</th>              <td>    0.7472</td> <td>    0.014</td> <td>   52.678</td> <td> 0.000</td> <td>    0.719     0.775</td>\n",
        "</tr>\n",
        "<tr>\n",
        "  <th>teacher_ny_teaching_fellow</th>             <td>    0.8303</td> <td>    0.025</td> <td>   33.287</td> <td> 0.000</td> <td>    0.781     0.879</td>\n",
        "</tr>\n",
        "<tr>\n",
        "  <th>total_price_excluding_optional_support</th> <td>    0.0031</td> <td>    0.000</td> <td>    9.802</td> <td> 0.000</td> <td>    0.002     0.004</td>\n",
        "</tr>\n",
        "<tr>\n",
        "  <th>total_price_including_optional_support</th> <td>   -0.0032</td> <td>    0.000</td> <td>  -11.892</td> <td> 0.000</td> <td>   -0.004    -0.003</td>\n",
        "</tr>\n",
        "<tr>\n",
        "  <th>students_reached</th>                       <td> -9.16e-07</td> <td>  1.2e-06</td> <td>   -0.765</td> <td> 0.444</td> <td>-3.26e-06  1.43e-06</td>\n",
        "</tr>\n",
        "<tr>\n",
        "  <th>month_posted</th>                           <td>    0.0627</td> <td>    0.001</td> <td>   82.241</td> <td> 0.000</td> <td>    0.061     0.064</td>\n",
        "</tr>\n",
        "<tr>\n",
        "  <th>year_posted</th>                            <td>    0.0702</td> <td>    0.001</td> <td>   48.342</td> <td> 0.000</td> <td>    0.067     0.073</td>\n",
        "</tr>\n",
        "<tr>\n",
        "  <th>title polarity</th>                         <td>   -0.0342</td> <td>    0.015</td> <td>   -2.288</td> <td> 0.022</td> <td>   -0.064    -0.005</td>\n",
        "</tr>\n",
        "<tr>\n",
        "  <th>title subjectivity</th>                     <td>    0.0752</td> <td>    0.012</td> <td>    6.417</td> <td> 0.000</td> <td>    0.052     0.098</td>\n",
        "</tr>\n",
        "<tr>\n",
        "  <th>short_description polarity</th>             <td>   -0.0103</td> <td>    0.013</td> <td>   -0.795</td> <td> 0.427</td> <td>   -0.036     0.015</td>\n",
        "</tr>\n",
        "<tr>\n",
        "  <th>short_description subjectivity</th>         <td>   -0.0305</td> <td>    0.011</td> <td>   -2.870</td> <td> 0.004</td> <td>   -0.051    -0.010</td>\n",
        "</tr>\n",
        "<tr>\n",
        "  <th>need_statement polarity</th>                <td>   -0.0276</td> <td>    0.015</td> <td>   -1.887</td> <td> 0.059</td> <td>   -0.056     0.001</td>\n",
        "</tr>\n",
        "<tr>\n",
        "  <th>need_statement subjectivity</th>            <td>    0.0202</td> <td>    0.011</td> <td>    1.920</td> <td> 0.055</td> <td>   -0.000     0.041</td>\n",
        "</tr>\n",
        "</table>"
       ],
       "metadata": {},
       "output_type": "pyout",
       "prompt_number": 98,
       "text": [
        "<class 'statsmodels.iolib.summary.Summary'>\n",
        "\"\"\"\n",
        "                           Logit Regression Results                           \n",
        "==============================================================================\n",
        "Dep. Variable:                 funded   No. Observations:               722816\n",
        "Model:                          Logit   Df Residuals:                   722796\n",
        "Method:                           MLE   Df Model:                           19\n",
        "Date:                Wed, 18 Mar 2015   Pseudo R-squ.:                 0.03589\n",
        "Time:                        14:40:48   Log-Likelihood:            -4.1808e+05\n",
        "converged:                       True   LL-Null:                   -4.3364e+05\n",
        "                                        LLR p-value:                     0.000\n",
        "==========================================================================================================\n",
        "                                             coef    std err          z      P>|z|      [95.0% Conf. Int.]\n",
        "----------------------------------------------------------------------------------------------------------\n",
        "const                                   -140.3777      2.920    -48.078      0.000      -146.100  -134.655\n",
        "school_charter                             0.1530      0.010     14.812      0.000         0.133     0.173\n",
        "school_magnet                              0.1894      0.009     20.021      0.000         0.171     0.208\n",
        "school_year_round                         -0.0218      0.014     -1.562      0.118        -0.049     0.006\n",
        "school_nlns                                0.5150      0.026     19.953      0.000         0.464     0.566\n",
        "school_kipp                                0.1679      0.040      4.198      0.000         0.089     0.246\n",
        "school_charter_ready_promise               0.3718      0.046      8.162      0.000         0.282     0.461\n",
        "teacher_teach_for_america                  0.7472      0.014     52.678      0.000         0.719     0.775\n",
        "teacher_ny_teaching_fellow                 0.8303      0.025     33.287      0.000         0.781     0.879\n",
        "total_price_excluding_optional_support     0.0031      0.000      9.802      0.000         0.002     0.004\n",
        "total_price_including_optional_support    -0.0032      0.000    -11.892      0.000        -0.004    -0.003\n",
        "students_reached                        -9.16e-07    1.2e-06     -0.765      0.444     -3.26e-06  1.43e-06\n",
        "month_posted                               0.0627      0.001     82.241      0.000         0.061     0.064\n",
        "year_posted                                0.0702      0.001     48.342      0.000         0.067     0.073\n",
        "title polarity                            -0.0342      0.015     -2.288      0.022        -0.064    -0.005\n",
        "title subjectivity                         0.0752      0.012      6.417      0.000         0.052     0.098\n",
        "short_description polarity                -0.0103      0.013     -0.795      0.427        -0.036     0.015\n",
        "short_description subjectivity            -0.0305      0.011     -2.870      0.004        -0.051    -0.010\n",
        "need_statement polarity                   -0.0276      0.015     -1.887      0.059        -0.056     0.001\n",
        "need_statement subjectivity                0.0202      0.011      1.920      0.055        -0.000     0.041\n",
        "==========================================================================================================\n",
        "\"\"\""
       ]
      }
     ],
     "prompt_number": 98
    }
   ],
   "metadata": {}
  }
 ]
}