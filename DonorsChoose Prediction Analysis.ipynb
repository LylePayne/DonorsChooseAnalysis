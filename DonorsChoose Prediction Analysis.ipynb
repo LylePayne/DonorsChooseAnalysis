{
 "metadata": {
  "name": "",
  "signature": "sha256:9c963f330ab51a9aa75759a7134f855d45fb8474018a72a5ebba0ebd87b6829d"
 },
 "nbformat": 3,
 "nbformat_minor": 0,
 "worksheets": [
  {
   "cells": [
    {
     "cell_type": "code",
     "collapsed": false,
     "input": [
      "import pandas as pd\n",
      "import numpy as np\n",
      "import matplotlib.pyplot as plt\n",
      "from sklearn.cross_validation import train_test_split\n",
      "from sklearn.linear_model import LogisticRegression\n",
      "from statsmodels.formula.api import Logit\n",
      "from sklearn.neighbors import KNeighborsClassifier\n",
      "from sklearn.metrics import accuracy_score\n",
      "from sklearn.metrics import classification_report\n",
      "from sklearn.metrics import confusion_matrix\n",
      "from sklearn.learning_curve import learning_curve\n",
      "from sklearn.naive_bayes import GaussianNB\n",
      "from sklearn.svm import SVC\n",
      "from sklearn.tree import DecisionTreeClassifier\n",
      "from sklearn.ensemble import RandomForestClassifier\n",
      "from sklearn.cross_validation import cross_val_score\n",
      "import pymysql\n",
      "import seaborn as sn\n",
      "from sklearn.ensemble import GradientBoostingClassifier, RandomForestClassifier\n",
      "from textblob import TextBlob\n",
      "import statsmodels.formula.api as sm\n",
      "import statsmodels.api as st\n",
      "from statsmodels.discrete.discrete_model import Logit\n",
      "import pickle\n",
      "\n",
      "from sklearn.metrics import roc_curve, auc\n",
      "from sklearn.cross_validation import StratifiedKFold\n",
      "\n",
      "from sklearn.metrics import precision_score\n",
      "from sklearn.metrics import accuracy_score\n",
      "from sklearn.metrics import recall_score\n",
      "from sklearn.metrics import f1_score\n",
      "from sklearn.metrics import confusion_matrix\n",
      "from sklearn.metrics import classification_report\n",
      "\n",
      "from sklearn.preprocessing import scale"
     ],
     "language": "python",
     "metadata": {},
     "outputs": [],
     "prompt_number": 1
    },
    {
     "cell_type": "code",
     "collapsed": false,
     "input": [
      "from sklearn.preprocessing import binarize\n",
      "from sklearn import preprocessing"
     ],
     "language": "python",
     "metadata": {},
     "outputs": [],
     "prompt_number": 2
    },
    {
     "cell_type": "code",
     "collapsed": false,
     "input": [
      "with open(\"funding_sentiment_df.pkl\", \"r\") as picklefile:\n",
      "    funding_sentiment_df = pickle.load(picklefile)"
     ],
     "language": "python",
     "metadata": {},
     "outputs": [],
     "prompt_number": 3
    },
    {
     "cell_type": "code",
     "collapsed": false,
     "input": [
      "# funding_sentiment_df.head()"
     ],
     "language": "python",
     "metadata": {},
     "outputs": [],
     "prompt_number": 4
    },
    {
     "cell_type": "code",
     "collapsed": false,
     "input": [
      "import pprint as pp\n",
      "# funding_sentiment_df.dtypes"
     ],
     "language": "python",
     "metadata": {},
     "outputs": [],
     "prompt_number": 5
    },
    {
     "cell_type": "code",
     "collapsed": false,
     "input": [
      "len(funding_sentiment_df)"
     ],
     "language": "python",
     "metadata": {},
     "outputs": [
      {
       "metadata": {},
       "output_type": "pyout",
       "prompt_number": 6,
       "text": [
        "722823"
       ]
      }
     ],
     "prompt_number": 6
    },
    {
     "cell_type": "markdown",
     "metadata": {},
     "source": [
      "####Adding dummy variables where necessary"
     ]
    },
    {
     "cell_type": "markdown",
     "metadata": {},
     "source": [
      "####poverty dummies"
     ]
    },
    {
     "cell_type": "code",
     "collapsed": false,
     "input": [
      "# dummy_pov_df = pd.get_dummies(funding_sentiment_df, columns=\"poverty_level\")\n",
      "\n",
      "dummy_pov_df = pd.concat([funding_sentiment_df, pd.get_dummies(funding_sentiment_df['poverty_level'])], axis = 1)\n",
      "#setting axis = 1 means adding columns, not rows"
     ],
     "language": "python",
     "metadata": {},
     "outputs": [],
     "prompt_number": 7
    },
    {
     "cell_type": "code",
     "collapsed": false,
     "input": [
      "len(dummy_pov_df)"
     ],
     "language": "python",
     "metadata": {},
     "outputs": [
      {
       "metadata": {},
       "output_type": "pyout",
       "prompt_number": 8,
       "text": [
        "722823"
       ]
      }
     ],
     "prompt_number": 8
    },
    {
     "cell_type": "markdown",
     "metadata": {},
     "source": [
      "####resource type dummies"
     ]
    },
    {
     "cell_type": "code",
     "collapsed": false,
     "input": [
      "test = dummy_pov_df[:100]"
     ],
     "language": "python",
     "metadata": {},
     "outputs": [],
     "prompt_number": 9
    },
    {
     "cell_type": "code",
     "collapsed": false,
     "input": [
      "test.loc[~test['resource_type'].isin(['Books', 'Other', 'Supplies', 'Technology', 'Trips', 'Visitors']),\n",
      "         'resource_type']=\"None\""
     ],
     "language": "python",
     "metadata": {},
     "outputs": [],
     "prompt_number": 11
    },
    {
     "cell_type": "code",
     "collapsed": false,
     "input": [
      "dummy_pov_df.loc[~dummy_pov_df['resource_type'].isin(['Books', 'Other', 'Supplies', 'Technology', 'Trips', 'Visitors']),\n",
      "         'resource_type']= None"
     ],
     "language": "python",
     "metadata": {},
     "outputs": [],
     "prompt_number": 12
    },
    {
     "cell_type": "code",
     "collapsed": false,
     "input": [
      "%matplotlib inline\n",
      "sn.barplot(dummy_pov_df.resource_type)"
     ],
     "language": "python",
     "metadata": {},
     "outputs": [
      {
       "metadata": {},
       "output_type": "pyout",
       "prompt_number": 13,
       "text": [
        "<matplotlib.axes._subplots.AxesSubplot at 0x15b1e5e90>"
       ]
      },
      {
       "metadata": {},
       "output_type": "display_data",
       "png": "[encoded data removed]",
       "text": [
        "<matplotlib.figure.Figure at 0x16de4a3d0>"
       ]
      }
     ],
     "prompt_number": 13
    },
    {
     "cell_type": "code",
     "collapsed": false,
     "input": [
      "dummy_df = pd.concat([dummy_pov_df, pd.get_dummies(dummy_pov_df['resource_type'])], axis=1)"
     ],
     "language": "python",
     "metadata": {},
     "outputs": [],
     "prompt_number": 14
    },
    {
     "cell_type": "markdown",
     "metadata": {},
     "source": [
      "####school metro dummies"
     ]
    },
    {
     "cell_type": "code",
     "collapsed": false,
     "input": [
      "dummy_df.loc[~dummy_df[\"school_metro\"].isin([\"rural\", \"suburban\", \"urban\"]), \"school_metro\"] = None"
     ],
     "language": "python",
     "metadata": {},
     "outputs": [],
     "prompt_number": 15
    },
    {
     "cell_type": "code",
     "collapsed": false,
     "input": [
      "sn.barplot(dummy_df.school_metro)"
     ],
     "language": "python",
     "metadata": {},
     "outputs": [
      {
       "metadata": {},
       "output_type": "pyout",
       "prompt_number": 16,
       "text": [
        "<matplotlib.axes._subplots.AxesSubplot at 0x12b6eb8d0>"
       ]
      },
      {
       "metadata": {},
       "output_type": "display_data",
       "png": "[encoded data removed]",
       "text": [
        "<matplotlib.figure.Figure at 0x12b6530d0>"
       ]
      }
     ],
     "prompt_number": 16
    },
    {
     "cell_type": "markdown",
     "metadata": {},
     "source": [
      "####resource dummies"
     ]
    },
    {
     "cell_type": "code",
     "collapsed": false,
     "input": [
      "dummy_df_2 = pd.concat([dummy_df, pd.get_dummies(dummy_df['school_metro'])], axis=1)"
     ],
     "language": "python",
     "metadata": {},
     "outputs": [],
     "prompt_number": 17
    },
    {
     "cell_type": "markdown",
     "metadata": {},
     "source": [
      "####mr mrs dummies"
     ]
    },
    {
     "cell_type": "code",
     "collapsed": false,
     "input": [
      "sn.barplot(dummy_df_2.teacher_prefix)"
     ],
     "language": "python",
     "metadata": {},
     "outputs": [
      {
       "metadata": {},
       "output_type": "pyout",
       "prompt_number": 18,
       "text": [
        "<matplotlib.axes._subplots.AxesSubplot at 0x17e536790>"
       ]
      },
      {
       "metadata": {},
       "output_type": "display_data",
       "png": "[encoded data removed]",
       "text": [
        "<matplotlib.figure.Figure at 0x16c9d4650>"
       ]
      }
     ],
     "prompt_number": 18
    },
    {
     "cell_type": "code",
     "collapsed": false,
     "input": [
      "dummy_df_2.loc[~dummy_df_2[\"teacher_prefix\"].isin([\"Dr.\", \"Mr.\", \"Mr. & Mrs.\", \"Mrs.\", \"Ms.\"]), \"teacher_prefix\"] = None"
     ],
     "language": "python",
     "metadata": {},
     "outputs": [],
     "prompt_number": 19
    },
    {
     "cell_type": "code",
     "collapsed": false,
     "input": [
      "sn.barplot(dummy_df_2.teacher_prefix)"
     ],
     "language": "python",
     "metadata": {},
     "outputs": [
      {
       "metadata": {},
       "output_type": "pyout",
       "prompt_number": 20,
       "text": [
        "<matplotlib.axes._subplots.AxesSubplot at 0x18131efd0>"
       ]
      },
      {
       "metadata": {},
       "output_type": "display_data",
       "png": "[encoded data removed]",
       "text": [
        "<matplotlib.figure.Figure at 0x1c7ad7310>"
       ]
      }
     ],
     "prompt_number": 20
    },
    {
     "cell_type": "code",
     "collapsed": false,
     "input": [
      "dummy_df_3 = pd.concat([dummy_df_2, pd.get_dummies(dummy_df_2['teacher_prefix'])], axis=1)"
     ],
     "language": "python",
     "metadata": {},
     "outputs": [],
     "prompt_number": 21
    },
    {
     "cell_type": "markdown",
     "metadata": {},
     "source": [
      "####Getting dummy data for the grade level"
     ]
    },
    {
     "cell_type": "code",
     "collapsed": false,
     "input": [
      "sn.barplot(dummy_df_3.grade_level)"
     ],
     "language": "python",
     "metadata": {},
     "outputs": [
      {
       "metadata": {},
       "output_type": "pyout",
       "prompt_number": 22,
       "text": [
        "<matplotlib.axes._subplots.AxesSubplot at 0x17fdd1c50>"
       ]
      },
      {
       "metadata": {},
       "output_type": "display_data",
       "png": "[encoded data removed]",
       "text": [
        "<matplotlib.figure.Figure at 0x1807a5110>"
       ]
      }
     ],
     "prompt_number": 22
    },
    {
     "cell_type": "code",
     "collapsed": false,
     "input": [
      "dummy_df_3.loc[~dummy_df_3[\"grade_level\"].isin([\"Grades 3-5\", \"Grades 6-8\", \"Grades 9-12\", \"Grades PreK-2\"]), \"grade_level\"] = None"
     ],
     "language": "python",
     "metadata": {},
     "outputs": [],
     "prompt_number": 23
    },
    {
     "cell_type": "code",
     "collapsed": false,
     "input": [
      "dummy_df_4 = pd.concat([dummy_df_3, pd.get_dummies(dummy_df_3['grade_level'])], axis = 1)"
     ],
     "language": "python",
     "metadata": {},
     "outputs": [],
     "prompt_number": 24
    },
    {
     "cell_type": "code",
     "collapsed": false,
     "input": [
      "# len(dummy_df_4)"
     ],
     "language": "python",
     "metadata": {},
     "outputs": [],
     "prompt_number": 25
    },
    {
     "cell_type": "code",
     "collapsed": false,
     "input": [
      "sn.barplot(dummy_df_4.primary_focus_area)\n",
      "plt.xticks(rotation = 90)"
     ],
     "language": "python",
     "metadata": {},
     "outputs": [
      {
       "metadata": {},
       "output_type": "pyout",
       "prompt_number": 26,
       "text": [
        "(array([0, 1, 2, 3, 4, 5, 6, 7]), <a list of 8 Text xticklabel objects>)"
       ]
      },
      {
       "metadata": {},
       "output_type": "display_data",
       "png": "[encoded data removed]",
       "text": [
        "<matplotlib.figure.Figure at 0x17f503ed0>"
       ]
      }
     ],
     "prompt_number": 26
    },
    {
     "cell_type": "code",
     "collapsed": false,
     "input": [
      "dummy_df_4.loc[~dummy_df_4[\"primary_focus_area\"].isin([\"Applied Learning\", \"Health & Sports\", \"History & Civics\", \"Literacy & Language\", \"Math & Science\", \"Music & The Arts\", \"Special Needs\"]), \"primary_focus_area\"] = None"
     ],
     "language": "python",
     "metadata": {},
     "outputs": [],
     "prompt_number": 27
    },
    {
     "cell_type": "code",
     "collapsed": false,
     "input": [
      "sn.barplot(dummy_df_4.primary_focus_area)\n",
      "plt.xticks(rotation=90)"
     ],
     "language": "python",
     "metadata": {},
     "outputs": [
      {
       "metadata": {},
       "output_type": "pyout",
       "prompt_number": 28,
       "text": [
        "(array([0, 1, 2, 3, 4, 5, 6, 7]), <a list of 8 Text xticklabel objects>)"
       ]
      },
      {
       "metadata": {},
       "output_type": "display_data",
       "png": "[encoded data removed]",
       "text": [
        "<matplotlib.figure.Figure at 0x17d9aa850>"
       ]
      }
     ],
     "prompt_number": 28
    },
    {
     "cell_type": "code",
     "collapsed": false,
     "input": [
      "dummy_df_5 = pd.concat([dummy_df_4, pd.get_dummies(dummy_df_4[\"primary_focus_area\"])], axis=1)"
     ],
     "language": "python",
     "metadata": {},
     "outputs": [],
     "prompt_number": 29
    },
    {
     "cell_type": "code",
     "collapsed": false,
     "input": [
      "sn.barplot(dummy_df_5.primary_focus_subject)\n",
      "plt.xticks(rotation=90)"
     ],
     "language": "python",
     "metadata": {},
     "outputs": [
      {
       "metadata": {},
       "output_type": "pyout",
       "prompt_number": 30,
       "text": [
        "(array([ 0,  1,  2,  3,  4,  5,  6,  7,  8,  9, 10, 11, 12, 13, 14, 15, 16,\n",
        "        17, 18, 19, 20, 21, 22, 23, 24, 25, 26, 27]),\n",
        " <a list of 28 Text xticklabel objects>)"
       ]
      },
      {
       "metadata": {},
       "output_type": "display_data",
       "png": "[encoded data removed]",
       "text": [
        "<matplotlib.figure.Figure at 0x156877490>"
       ]
      }
     ],
     "prompt_number": 30
    },
    {
     "cell_type": "code",
     "collapsed": false,
     "input": [
      "sn.barplot(dummy_df_5.secondary_focus_area)\n",
      "plt.xticks(rotation=90)"
     ],
     "language": "python",
     "metadata": {},
     "outputs": [
      {
       "metadata": {},
       "output_type": "pyout",
       "prompt_number": 31,
       "text": [
        "(array([0, 1, 2, 3, 4, 5, 6, 7]), <a list of 8 Text xticklabel objects>)"
       ]
      },
      {
       "metadata": {},
       "output_type": "display_data",
       "png": "[encoded data removed]",
       "text": [
        "<matplotlib.figure.Figure at 0x1255b9150>"
       ]
      }
     ],
     "prompt_number": 31
    },
    {
     "cell_type": "code",
     "collapsed": false,
     "input": [
      "import random"
     ],
     "language": "python",
     "metadata": {},
     "outputs": [],
     "prompt_number": 32
    },
    {
     "cell_type": "code",
     "collapsed": false,
     "input": [
      "dummy_sample = dummy_df_5.loc[np.random.choice(dummy_df_5.index, 5000, replace=False)]"
     ],
     "language": "python",
     "metadata": {},
     "outputs": [],
     "prompt_number": 33
    },
    {
     "cell_type": "code",
     "collapsed": false,
     "input": [
      "dummy_sample[\"funded\"].mean()"
     ],
     "language": "python",
     "metadata": {},
     "outputs": [
      {
       "metadata": {},
       "output_type": "pyout",
       "prompt_number": 34,
       "text": [
        "0.71479999999999999"
       ]
      }
     ],
     "prompt_number": 34
    },
    {
     "cell_type": "code",
     "collapsed": false,
     "input": [
      "dummy_small_sample =dummy_df_5.loc[np.random.choice(dummy_df_5.index, 200, replace=False)]"
     ],
     "language": "python",
     "metadata": {},
     "outputs": [],
     "prompt_number": 35
    },
    {
     "cell_type": "code",
     "collapsed": false,
     "input": [
      "dummy_df_5[\"funded\"].mean()"
     ],
     "language": "python",
     "metadata": {},
     "outputs": [
      {
       "metadata": {},
       "output_type": "pyout",
       "prompt_number": 36,
       "text": [
        "0.71245519304172666"
       ]
      }
     ],
     "prompt_number": 36
    },
    {
     "cell_type": "code",
     "collapsed": false,
     "input": [
      "feature_list_less3 = ['funded', 'school_charter', 'school_magnet', 'school_year_round', \n",
      "                'school_nlns', 'school_kipp', 'school_charter_ready_promise', \n",
      "                'teacher_teach_for_america',\n",
      "                'teacher_ny_teaching_fellow',\n",
      "                'month_posted', 'year_posted', 'price/student']\n",
      "\n",
      "feature_list_less2 = ['funded', 'school_charter', 'school_magnet', 'school_year_round', \n",
      "                'school_nlns', 'school_kipp', 'school_charter_ready_promise', \n",
      "                'teacher_teach_for_america',\n",
      "                'teacher_ny_teaching_fellow','total_price_excluding_optional_support', \n",
      "                'month_posted', 'year_posted', 'price/student']\n",
      "\n",
      "feature_list_less1 = ['funded', 'school_charter', 'school_magnet', 'school_year_round', \n",
      "                'school_nlns', 'school_kipp', 'school_charter_ready_promise', \n",
      "                'teacher_teach_for_america',\n",
      "                'teacher_ny_teaching_fellow','total_price_excluding_optional_support', \n",
      "                'students_reached', 'month_posted', 'year_posted',\n",
      "                'title polarity', 'title subjectivity']\n",
      "\n",
      "feature_list_0 = ['funded', 'school_charter', 'school_magnet', 'school_year_round', \n",
      "                'school_nlns', 'school_kipp', 'school_charter_ready_promise', \n",
      "                'teacher_teach_for_america',\n",
      "                'teacher_ny_teaching_fellow','total_price_excluding_optional_support', \n",
      "                'students_reached', 'month_posted', 'year_posted',\n",
      "                'title polarity', 'title subjectivity', 'short_description polarity', \n",
      "                'short_description subjectivity']\n",
      "\n",
      "feature_list_1 = ['funded', 'school_charter', 'school_magnet', 'school_year_round', \n",
      "                'school_nlns', 'school_kipp', 'school_charter_ready_promise', \n",
      "                'teacher_teach_for_america',\n",
      "                'teacher_ny_teaching_fellow','total_price_excluding_optional_support', \n",
      "                'students_reached', 'month_posted', 'year_posted',\n",
      "                'title polarity', 'title subjectivity', 'short_description polarity', \n",
      "                'short_description subjectivity', 'need_statement polarity', \n",
      "                'need_statement subjectivity']\n",
      "\n",
      "feature_list_2 = ['funded', 'school_charter', 'school_magnet', 'school_year_round', \n",
      "                'school_nlns', 'school_kipp', 'school_charter_ready_promise', \n",
      "                'teacher_teach_for_america',\n",
      "                'teacher_ny_teaching_fellow','total_price_excluding_optional_support', \n",
      "                'students_reached', 'month_posted', 'year_posted',\n",
      "                'title polarity', 'title subjectivity', 'short_description polarity', \n",
      "                'short_description subjectivity', 'need_statement polarity', \n",
      "                'need_statement subjectivity', 'high poverty', 'highest poverty', 'low poverty']\n",
      "\n",
      "feature_list_3 = ['funded', 'school_charter', 'school_magnet', 'school_year_round', \n",
      "                'school_nlns', 'school_kipp', 'school_charter_ready_promise', \n",
      "                'teacher_teach_for_america',\n",
      "                'teacher_ny_teaching_fellow','total_price_excluding_optional_support', \n",
      "                'students_reached', 'month_posted', 'year_posted',\n",
      "                'title polarity', 'title subjectivity', 'short_description polarity', \n",
      "                'short_description subjectivity', 'need_statement polarity', \n",
      "                'need_statement subjectivity', 'high poverty', 'highest poverty', 'low poverty',\n",
      "                'Books', 'Other', 'Supplies', 'Technology', 'Trips', 'Visitors']\n",
      "\n",
      "feature_list_4 = ['funded', 'school_charter', 'school_magnet', 'school_year_round', \n",
      "                'school_nlns', 'school_kipp', 'school_charter_ready_promise', \n",
      "                'teacher_teach_for_america',\n",
      "                'teacher_ny_teaching_fellow','total_price_excluding_optional_support', \n",
      "                'students_reached', 'month_posted', 'year_posted',\n",
      "                'title polarity', 'title subjectivity', 'short_description polarity', \n",
      "                'short_description subjectivity', 'need_statement polarity', \n",
      "                'need_statement subjectivity', 'high poverty', 'highest poverty', 'low poverty',\n",
      "                'Books', 'Other', 'Supplies', 'Technology', 'Trips', 'Visitors', 'rural', \n",
      "                'suburban', 'urban']\n",
      "\n",
      "feature_list_5 = ['funded', 'school_charter', 'school_magnet', 'school_year_round', \n",
      "                'school_nlns', 'school_kipp', 'school_charter_ready_promise', \n",
      "                'teacher_teach_for_america',\n",
      "                'teacher_ny_teaching_fellow','total_price_excluding_optional_support']\n",
      "\n",
      "feature_list_6 = ['funded', 'school_charter', 'school_magnet', 'school_year_round', \n",
      "                'school_nlns', 'school_kipp', 'school_charter_ready_promise', \n",
      "                'teacher_teach_for_america',\n",
      "                'teacher_ny_teaching_fellow','total_price_excluding_optional_support', \n",
      "                'students_reached', 'month_posted', 'year_posted',\n",
      "                'title polarity', 'title subjectivity', 'short_description polarity', \n",
      "                'short_description subjectivity', 'need_statement polarity', \n",
      "                'need_statement subjectivity', 'high poverty', 'highest poverty', 'low poverty',\n",
      "                'Books', 'Other', 'Supplies', 'Technology', 'Trips', 'Visitors', 'rural', \n",
      "                'suburban', 'urban', \"Dr.\", \"Mr.\", \"Mr. & Mrs.\", \"Mrs.\", \"Ms.\"]\n",
      "\n",
      "feature_list_7 = ['funded', 'school_charter', 'school_magnet', 'school_year_round', \n",
      "                'school_nlns', 'school_kipp', 'school_charter_ready_promise', \n",
      "                'teacher_teach_for_america',\n",
      "                'teacher_ny_teaching_fellow','total_price_excluding_optional_support', \n",
      "                'students_reached', 'month_posted', 'year_posted',\n",
      "                'title polarity', 'title subjectivity', 'short_description polarity', \n",
      "                'short_description subjectivity', 'need_statement polarity', \n",
      "                'need_statement subjectivity', 'high poverty', 'highest poverty', 'low poverty',\n",
      "                'Books', 'Other', 'Supplies', 'Technology', 'Trips', 'Visitors', 'rural', \n",
      "                'suburban', 'urban', \"Dr.\", \"Mr.\", \"Mr. & Mrs.\", \"Mrs.\", \"Ms.\",\n",
      "                \"Grades 3-5\", \"Grades 6-8\", \"Grades 9-12\", \"Grades PreK-2\"]\n",
      "\n",
      "feature_list_8 = ['funded', 'school_charter', 'school_magnet', 'school_year_round', \n",
      "                'school_nlns', 'school_kipp', 'school_charter_ready_promise', \n",
      "                'teacher_teach_for_america',\n",
      "                'teacher_ny_teaching_fellow','total_price_excluding_optional_support', \n",
      "                'students_reached', 'month_posted', 'year_posted',\n",
      "                'title polarity', 'title subjectivity', 'short_description polarity', \n",
      "                'short_description subjectivity', 'need_statement polarity', \n",
      "                'need_statement subjectivity', 'high poverty', 'highest poverty', 'low poverty',\n",
      "                'Books', 'Other', 'Supplies', 'Technology', 'Trips', 'Visitors', 'rural', \n",
      "                'suburban', 'urban', \n",
      "                \"Applied Learning\", \"Health & Sports\", \"History & Civics\", \n",
      "                \"Literacy & Language\", \"Math & Science\", \"Music & The Arts\", \n",
      "                \"Special Needs\"]\n",
      "\n",
      "\n",
      "category_dict = {\"FLless2\": feature_list_less2, \"FLless1\": feature_list_less1,\n",
      "                 \"FL0\": feature_list_0, \"FL1\": feature_list_1, \n",
      "                 \"FL2\": feature_list_2, \"FL3\": feature_list_3,\n",
      "                 \"FL4\": feature_list_4, \"FL5\": feature_list_5,\n",
      "                 \"FL6\": feature_list_6, \"FL7\": feature_list_7,\n",
      "                 \"FL8\": feature_list_8}\n",
      "\n",
      "category_dict_2 = {\"FL4\": feature_list_4, \"FL5\": feature_list_5,\n",
      "                    \"FL6\": feature_list_6, \"FL7\": feature_list_7,\n",
      "                    \"FL8\": feature_list_8}\n",
      "\n",
      "category_dict_3 = {\"FLless2\": feature_list_less2, \"FL5\": feature_list_5,\n",
      "                   \"FL2\": feature_list_2, \"FL7\": feature_list_7,\n",
      "                   \"FL8\": feature_list_8, \"Updated List\": updated_feature_list}\n",
      "\n",
      "est1 = KNeighborsClassifier()\n",
      "est2 = LogisticRegression()\n",
      "est3 = GaussianNB()\n",
      "est4 = SVC(probability=True)\n",
      "est5 = DecisionTreeClassifier()\n",
      "est6 = RandomForestClassifier()\n",
      "est7 = GradientBoostingClassifier()\n",
      "\n",
      "estlist = [est1, est2, est3, est4, est5, est6, est7]\n",
      "estlist2 = [est1, est2, est3]\n",
      "estlist3 = [est2, est4, est7]\n",
      "estlist4 = [est2, est7]\n",
      "estlist5 = [est2]"
     ],
     "language": "python",
     "metadata": {},
     "outputs": [],
     "prompt_number": 39
    },
    {
     "cell_type": "markdown",
     "metadata": {},
     "source": [
      "####Start Looking at different classifiers to predict success or not"
     ]
    },
    {
     "cell_type": "code",
     "collapsed": false,
     "input": [
      "def classification_function(df, cat_list, est_list):\n",
      "    \n",
      "    #Create category specific dataframe\n",
      "    new_df = pd.DataFrame()\n",
      "    for catname, cat in cat_list.iteritems():\n",
      "        new_df = df[cat]\n",
      "        new_df = new_df.dropna(axis=0)\n",
      "    \n",
      "        #Define Y-variable dataframe\n",
      "        y_df = pd.DataFrame()\n",
      "        y_df['funded'] = new_df['funded']\n",
      "#         print y_df\n",
      "        y_array = y_df['funded'].values\n",
      "        \n",
      "        #define a set of categorical data and create an X-variable dataframe\n",
      "        new_cat_list = cat[1:]\n",
      "        x_df = pd.DataFrame()\n",
      "        x_df = new_df[new_cat_list]\n",
      "        x_scaled = preprocessing.scale(x_df)\n",
      "\n",
      "        for model in est_list:\n",
      "        \n",
      "            model_name = str(model).split('(')[0]\n",
      "            \n",
      "            accuracy_score = cross_val_score(model, x_scaled, y_array, scoring = 'accuracy').mean()\n",
      "            precision_score = cross_val_score(model, x_scaled, y_array, scoring = 'precision').mean()\n",
      "            recall_score = cross_val_score(model, x_scaled, y_array, scoring = 'recall').mean()\n",
      "\n",
      "            print \"Category: \", catname\n",
      "            print \"Model: \", model_name\n",
      "            print \"\\t Accuracy Score: \", accuracy_score\n",
      "            print \"\\t Precision Score: \", precision_score\n",
      "            print \"\\t Recall Score: \", recall_score"
     ],
     "language": "python",
     "metadata": {},
     "outputs": [],
     "prompt_number": 40
    },
    {
     "cell_type": "code",
     "collapsed": false,
     "input": [
      "###Looking at the impact of the updated category list\n",
      "classification_function(dummy_df_5, category_dict_3, estlist3)"
     ],
     "language": "python",
     "metadata": {},
     "outputs": []
    },
    {
     "cell_type": "code",
     "collapsed": false,
     "input": [
      "classification_function(dummy_sample, category_dict, estlist3)"
     ],
     "language": "python",
     "metadata": {},
     "outputs": [
      {
       "output_type": "stream",
       "stream": "stdout",
       "text": [
        "Category:  FL8\n",
        "Model:  LogisticRegression\n",
        "\t Accuracy Score:  0.719999217443\n",
        "\t Precision Score:  0.728077098064\n",
        "\t Recall Score:  0.964376590331\n",
        "Category: "
       ]
      },
      {
       "output_type": "stream",
       "stream": "stdout",
       "text": [
        " FL8\n",
        "Model:  SVC\n",
        "\t Accuracy Score:  0.711399376787\n",
        "\t Precision Score:  0.713585631654\n",
        "\t Recall Score:  0.988973706531\n",
        "Category: "
       ]
      },
      {
       "output_type": "stream",
       "stream": "stdout",
       "text": [
        " FL8\n",
        "Model:  GradientBoostingClassifier\n",
        "\t Accuracy Score:  0.720400457724\n",
        "\t Precision Score:  0.736465981357\n",
        "\t Recall Score:  0.941758552446\n",
        "Category: "
       ]
      },
      {
       "output_type": "stream",
       "stream": "stdout",
       "text": [
        " FL1\n",
        "Model:  LogisticRegression\n",
        "\t Accuracy Score:  0.709999776755\n",
        "\t Precision Score:  0.715296237602\n",
        "\t Recall Score:  0.98020921685\n",
        "Category: "
       ]
      },
      {
       "output_type": "stream",
       "stream": "stdout",
       "text": [
        " FL1\n",
        "Model:  SVC\n",
        "\t Accuracy Score:  0.708800136731\n",
        "\t Precision Score:  0.709314318092\n",
        "\t Recall Score:  0.996890019791\n",
        "Category: "
       ]
      },
      {
       "output_type": "stream",
       "stream": "stdout",
       "text": [
        " FL1\n",
        "Model:  GradientBoostingClassifier\n",
        "\t Accuracy Score:  0.709999176635\n",
        "\t Precision Score:  0.72420174146\n",
        "\t Recall Score:  0.953350296862\n",
        "Category: "
       ]
      },
      {
       "output_type": "stream",
       "stream": "stdout",
       "text": [
        " FL0\n",
        "Model:  LogisticRegression\n",
        "\t Accuracy Score:  0.709999776755\n",
        "\t Precision Score:  0.715296237602\n",
        "\t Recall Score:  0.98020921685\n",
        "Category: "
       ]
      },
      {
       "output_type": "stream",
       "stream": "stdout",
       "text": [
        " FL0\n",
        "Model:  SVC\n",
        "\t Accuracy Score:  0.708600416771\n",
        "\t Precision Score:  0.70933933922\n",
        "\t Recall Score:  0.996324568844\n",
        "Category: "
       ]
      },
      {
       "output_type": "stream",
       "stream": "stdout",
       "text": [
        " FL0\n",
        "Model:  GradientBoostingClassifier\n",
        "\t Accuracy Score:  0.706199336363\n",
        "\t Precision Score:  0.722101684975\n",
        "\t Recall Score:  0.950240316653\n",
        "Category: "
       ]
      },
      {
       "output_type": "stream",
       "stream": "stdout",
       "text": [
        " FL3\n",
        "Model:  LogisticRegression\n",
        "\t Accuracy Score:  0.711399376787\n",
        "\t Precision Score:  0.718224936475\n",
        "\t Recall Score:  0.974271981906\n",
        "Category: "
       ]
      },
      {
       "output_type": "stream",
       "stream": "stdout",
       "text": [
        " FL3\n",
        "Model:  SVC\n",
        "\t Accuracy Score:  0.709199936723\n",
        "\t Precision Score:  0.710872810811\n",
        "\t Recall Score:  0.992649137687\n",
        "Category: "
       ]
      },
      {
       "output_type": "stream",
       "stream": "stdout",
       "text": [
        " FL3\n",
        "Model:  GradientBoostingClassifier\n",
        "\t Accuracy Score:  0.712598776763\n",
        "\t Precision Score:  0.729966185759\n",
        "\t Recall Score:  0.944020356234\n",
        "Category: "
       ]
      },
      {
       "output_type": "stream",
       "stream": "stdout",
       "text": [
        " FL2\n",
        "Model:  LogisticRegression\n",
        "\t Accuracy Score:  0.710999816843\n",
        "\t Precision Score:  0.716387088723\n",
        "\t Recall Score:  0.979078314956\n",
        "Category: "
       ]
      },
      {
       "output_type": "stream",
       "stream": "stdout",
       "text": [
        " FL2\n",
        "Model:  SVC\n",
        "\t Accuracy Score:  0.710000136827\n",
        "\t Precision Score:  0.710853367035\n",
        "\t Recall Score:  0.994628216002\n",
        "Category: "
       ]
      },
      {
       "output_type": "stream",
       "stream": "stdout",
       "text": [
        " FL2\n",
        "Model:  GradientBoostingClassifier\n",
        "\t Accuracy Score:  0.714398776907\n",
        "\t Precision Score:  0.729172727321\n",
        "\t Recall Score:  0.94769578739\n",
        "Category: "
       ]
      },
      {
       "output_type": "stream",
       "stream": "stdout",
       "text": [
        " FL5\n",
        "Model:  LogisticRegression\n",
        "\t Accuracy Score:  0.706800416627\n",
        "\t Precision Score:  0.712503555334\n",
        "\t Recall Score:  0.981622844218\n",
        "Category: "
       ]
      },
      {
       "output_type": "stream",
       "stream": "stdout",
       "text": [
        " FL5\n",
        "Model:  SVC\n",
        "\t Accuracy Score:  0.706599856499\n",
        "\t Precision Score:  0.70800171932\n",
        "\t Recall Score:  0.99604184337\n",
        "Category: "
       ]
      },
      {
       "output_type": "stream",
       "stream": "stdout",
       "text": [
        " FL5\n",
        "Model:  GradientBoostingClassifier\n",
        "\t Accuracy Score:  0.702198935963\n",
        "\t Precision Score:  0.711130699733\n",
        "\t Recall Score:  0.975120158326\n",
        "Category: "
       ]
      },
      {
       "output_type": "stream",
       "stream": "stdout",
       "text": [
        " FL4\n",
        "Model:  LogisticRegression\n",
        "\t Accuracy Score:  0.715198856987\n",
        "\t Precision Score:  0.722216579597\n",
        "\t Recall Score:  0.970879276223\n",
        "Category: "
       ]
      },
      {
       "output_type": "stream",
       "stream": "stdout",
       "text": [
        " FL4\n",
        "Model:  SVC\n",
        "\t Accuracy Score:  0.709999776755\n",
        "\t Precision Score:  0.71230978226\n",
        "\t Recall Score:  0.989821882952\n",
        "Category: "
       ]
      },
      {
       "output_type": "stream",
       "stream": "stdout",
       "text": [
        " FL4\n",
        "Model:  GradientBoostingClassifier\n",
        "\t Accuracy Score:  0.718798617227\n",
        "\t Precision Score:  0.733954098621\n",
        "\t Recall Score:  0.944868532655\n",
        "Category: "
       ]
      },
      {
       "output_type": "stream",
       "stream": "stdout",
       "text": [
        " FL7\n",
        "Model:  LogisticRegression\n",
        "\t Accuracy Score:  0.718198257107\n",
        "\t Precision Score:  0.724476784197\n",
        "\t Recall Score:  0.970879276223\n",
        "Category: "
       ]
      },
      {
       "output_type": "stream",
       "stream": "stdout",
       "text": [
        " FL7\n",
        "Model:  SVC\n",
        "\t Accuracy Score:  0.713400177107\n",
        "\t Precision Score:  0.71461536119\n",
        "\t Recall Score:  0.990387333899\n",
        "Category: "
       ]
      },
      {
       "output_type": "stream",
       "stream": "stdout",
       "text": [
        " FL7\n",
        "Model:  GradientBoostingClassifier\n",
        "\t Accuracy Score:  0.716399817275\n",
        "\t Precision Score:  0.733674298011\n",
        "\t Recall Score:  0.940062199604\n",
        "Category: "
       ]
      },
      {
       "output_type": "stream",
       "stream": "stdout",
       "text": [
        " FL6\n",
        "Model:  LogisticRegression\n",
        "\t Accuracy Score:  0.717997937027\n",
        "\t Precision Score:  0.724148157323\n",
        "\t Recall Score:  0.97144472717\n",
        "Category: "
       ]
      },
      {
       "output_type": "stream",
       "stream": "stdout",
       "text": [
        " FL6\n",
        "Model:  SVC\n",
        "\t Accuracy Score:  0.713399937059\n",
        "\t Precision Score:  0.714434421509\n",
        "\t Recall Score:  0.990952784846\n",
        "Category: "
       ]
      },
      {
       "output_type": "stream",
       "stream": "stdout",
       "text": [
        " FL6\n",
        "Model:  GradientBoostingClassifier\n",
        "\t Accuracy Score:  0.718999897499\n",
        "\t Precision Score:  0.735528180753\n",
        "\t Recall Score:  0.941475826972\n",
        "Category: "
       ]
      },
      {
       "output_type": "stream",
       "stream": "stdout",
       "text": [
        " FLless1\n",
        "Model:  LogisticRegression\n",
        "\t Accuracy Score:  0.710399936819\n",
        "\t Precision Score:  0.715417078173\n",
        "\t Recall Score:  0.980774667798\n",
        "Category: "
       ]
      },
      {
       "output_type": "stream",
       "stream": "stdout",
       "text": [
        " FLless1\n",
        "Model:  SVC\n",
        "\t Accuracy Score:  0.707800456715\n",
        "\t Precision Score:  0.708937127163\n",
        "\t Recall Score:  0.995759117897\n",
        "Category: "
       ]
      },
      {
       "output_type": "stream",
       "stream": "stdout",
       "text": [
        " FLless1\n",
        "Model:  GradientBoostingClassifier\n",
        "\t Accuracy Score:  0.709798376459\n",
        "\t Precision Score:  0.724325763105\n",
        "\t Recall Score:  0.953067571388\n",
        "Category: "
       ]
      },
      {
       "output_type": "stream",
       "stream": "stdout",
       "text": [
        " FLless2\n",
        "Model:  LogisticRegression\n",
        "\t Accuracy Score:  0.710800216907\n",
        "\t Precision Score:  0.715703165094\n",
        "\t Recall Score:  0.980774667798\n",
        "Category: "
       ]
      },
      {
       "output_type": "stream",
       "stream": "stdout",
       "text": [
        " FLless2\n",
        "Model:  SVC\n",
        "\t Accuracy Score:  0.708800256755\n",
        "\t Precision Score:  0.70965109312\n",
        "\t Recall Score:  0.995759117897\n",
        "Category: "
       ]
      },
      {
       "output_type": "stream",
       "stream": "stdout",
       "text": [
        " FLless2\n",
        "Model:  GradientBoostingClassifier\n",
        "\t Accuracy Score:  0.713999577035\n",
        "\t Precision Score:  0.726780099714\n",
        "\t Recall Score:  0.954198473282\n"
       ]
      }
     ],
     "prompt_number": 237
    },
    {
     "cell_type": "code",
     "collapsed": false,
     "input": [
      "classification_function(dummy_sample, category_dict_3, estlist5)"
     ],
     "language": "python",
     "metadata": {},
     "outputs": [
      {
       "output_type": "stream",
       "stream": "stdout",
       "text": [
        "Category:  FL5\n",
        "Model:  LogisticRegression\n",
        "\t Accuracy Score:  0.707000376635\n",
        "\t Precision Score:  0.7123903176\n",
        "\t Recall Score:  0.982471020639\n",
        "Category: "
       ]
      },
      {
       "output_type": "stream",
       "stream": "stdout",
       "text": [
        " FLless2\n",
        "Model:  LogisticRegression\n",
        "\t Accuracy Score:  0.708000176675\n",
        "\t Precision Score:  0.713692909901\n",
        "\t Recall Score:  0.982471020639\n"
       ]
      }
     ],
     "prompt_number": 190
    },
    {
     "cell_type": "code",
     "collapsed": false,
     "input": [
      "classification_function(dummy_sample, category_dict_3, estlist4)"
     ],
     "language": "python",
     "metadata": {},
     "outputs": [
      {
       "output_type": "stream",
       "stream": "stdout",
       "text": [
        "Category:  FL5\n",
        "Model:  LogisticRegression\n",
        "\t Accuracy Score:  0.707000376635\n",
        "\t Precision Score:  0.7123903176\n",
        "\t Recall Score:  0.982471020639\n",
        "Category: "
       ]
      },
      {
       "output_type": "stream",
       "stream": "stdout",
       "text": [
        " FL5\n",
        "Model:  GradientBoostingClassifier\n",
        "\t Accuracy Score:  0.702198935963\n",
        "\t Precision Score:  0.711130699733\n",
        "\t Recall Score:  0.975120158326\n",
        "Category: "
       ]
      },
      {
       "output_type": "stream",
       "stream": "stdout",
       "text": [
        " FLless2\n",
        "Model:  LogisticRegression\n",
        "\t Accuracy Score:  0.708800136731\n",
        "\t Precision Score:  0.714418210818\n",
        "\t Recall Score:  0.980491942324\n",
        "Category: "
       ]
      },
      {
       "output_type": "stream",
       "stream": "stdout",
       "text": [
        " FLless2\n",
        "Model:  GradientBoostingClassifier\n",
        "\t Accuracy Score:  0.708799536611\n",
        "\t Precision Score:  0.723272365279\n",
        "\t Recall Score:  0.953067571388\n"
       ]
      }
     ],
     "prompt_number": 115
    },
    {
     "cell_type": "code",
     "collapsed": false,
     "input": [
      "#classification_function(dummy_df_5, category_dict_3, estlist4)"
     ],
     "language": "python",
     "metadata": {},
     "outputs": [],
     "prompt_number": 210
    },
    {
     "cell_type": "code",
     "collapsed": false,
     "input": [
      "dummy_sample[\"funded\"].mean()"
     ],
     "language": "python",
     "metadata": {},
     "outputs": [
      {
       "metadata": {},
       "output_type": "pyout",
       "prompt_number": 113,
       "text": [
        "0.70740000000000003"
       ]
      }
     ],
     "prompt_number": 113
    },
    {
     "cell_type": "markdown",
     "metadata": {},
     "source": [
      "###Looking at StatsModels to look at each feature significance"
     ]
    },
    {
     "cell_type": "code",
     "collapsed": false,
     "input": [
      "def statslogistic(df, catlist):\n",
      "    new_df = pd.DataFrame()\n",
      "    new_df = df[catlist]\n",
      "    new_df = new_df.dropna()\n",
      "    \n",
      "    Y = new_df[\"funded\"]\n",
      "    \n",
      "    new_cat_list = catlist[1:]\n",
      "    X = new_df[new_cat_list]\n",
      "    X_scaled = preprocessing.scale(X)\n",
      "    X_scaled = st.add_constant(X)\n",
      "    \n",
      "    logmodel = Logit(Y, X_scaled).fit()\n",
      "    print logmodel.summary()"
     ],
     "language": "python",
     "metadata": {},
     "outputs": [],
     "prompt_number": 238
    },
    {
     "cell_type": "code",
     "collapsed": false,
     "input": [
      "statslogistic(dummy_df_5, feature_list_5)"
     ],
     "language": "python",
     "metadata": {},
     "outputs": [
      {
       "output_type": "stream",
       "stream": "stdout",
       "text": [
        "Optimization terminated successfully.\n",
        "         Current function value: 0.586444\n",
        "         Iterations 8\n",
        "                           Logit Regression Results                           \n",
        "==============================================================================\n",
        "Dep. Variable:                 funded   No. Observations:               722823\n",
        "Model:                          Logit   Df Residuals:                   722813\n",
        "Method:                           MLE   Df Model:                            9\n",
        "Date:                Sun, 22 Mar 2015   Pseudo R-squ.:                 0.02249\n",
        "Time:                        19:22:57   Log-Likelihood:            -4.2390e+05\n",
        "converged:                       True   LL-Null:                   -4.3365e+05\n",
        "                                        LLR p-value:                     0.000\n",
        "==========================================================================================================\n",
        "                                             coef    std err          z      P>|z|      [95.0% Conf. Int.]\n",
        "----------------------------------------------------------------------------------------------------------\n",
        "const                                      1.1544      0.004    270.751      0.000         1.146     1.163\n",
        "school_charter                             0.1875      0.010     18.294      0.000         0.167     0.208\n",
        "school_magnet                              0.1506      0.009     16.088      0.000         0.132     0.169\n",
        "school_year_round                         -0.0487      0.014     -3.516      0.000        -0.076    -0.022\n",
        "school_nlns                                0.4304      0.026     16.855      0.000         0.380     0.480\n",
        "school_kipp                                0.1820      0.040      4.591      0.000         0.104     0.260\n",
        "school_charter_ready_promise               0.2992      0.045      6.620      0.000         0.211     0.388\n",
        "teacher_teach_for_america                  0.6945      0.014     49.473      0.000         0.667     0.722\n",
        "teacher_ny_teaching_fellow                 0.6829      0.025     27.864      0.000         0.635     0.731\n",
        "total_price_excluding_optional_support    -0.0006   5.78e-06   -104.372      0.000        -0.001    -0.001\n",
        "=========================================================================================================="
       ]
      },
      {
       "output_type": "stream",
       "stream": "stdout",
       "text": [
        "\n"
       ]
      }
     ],
     "prompt_number": 239
    },
    {
     "cell_type": "code",
     "collapsed": false,
     "input": [
      "statslogistic(dummy_df_5, feature_list_less2)"
     ],
     "language": "python",
     "metadata": {},
     "outputs": [
      {
       "output_type": "stream",
       "stream": "stdout",
       "text": [
        "Optimization terminated successfully.\n",
        "         Current function value: 0.578037\n",
        "         Iterations 9\n",
        "                           Logit Regression Results                           \n",
        "==============================================================================\n",
        "Dep. Variable:                 funded   No. Observations:               722823\n",
        "Model:                          Logit   Df Residuals:                   722810\n",
        "Method:                           MLE   Df Model:                           12\n",
        "Date:                Sun, 22 Mar 2015   Pseudo R-squ.:                 0.03651\n",
        "Time:                        19:23:22   Log-Likelihood:            -4.1782e+05\n",
        "converged:                       True   LL-Null:                   -4.3365e+05\n",
        "                                        LLR p-value:                     0.000\n",
        "==========================================================================================================\n",
        "                                             coef    std err          z      P>|z|      [95.0% Conf. Int.]\n",
        "----------------------------------------------------------------------------------------------------------\n",
        "const                                   -166.7472      2.251    -74.070      0.000      -171.159  -162.335\n",
        "school_charter                             0.1544      0.010     14.937      0.000         0.134     0.175\n",
        "school_magnet                              0.1902      0.009     20.107      0.000         0.172     0.209\n",
        "school_year_round                         -0.0191      0.014     -1.365      0.172        -0.046     0.008\n",
        "school_nlns                                0.5149      0.026     19.961      0.000         0.464     0.565\n",
        "school_kipp                                0.1749      0.040      4.370      0.000         0.096     0.253\n",
        "school_charter_ready_promise               0.3835      0.046      8.414      0.000         0.294     0.473\n",
        "teacher_teach_for_america                  0.7449      0.014     52.567      0.000         0.717     0.773\n",
        "teacher_ny_teaching_fellow                 0.8272      0.025     33.231      0.000         0.778     0.876\n",
        "total_price_excluding_optional_support    -0.0007   6.06e-06   -113.046      0.000        -0.001    -0.001\n",
        "month_posted                               0.0640      0.001     84.344      0.000         0.062     0.065\n",
        "year_posted                                0.0833      0.001     74.410      0.000         0.081     0.085\n",
        "price/student                           6.837e-07   6.39e-09    106.999      0.000      6.71e-07  6.96e-07\n",
        "=========================================================================================================="
       ]
      },
      {
       "output_type": "stream",
       "stream": "stdout",
       "text": [
        "\n"
       ]
      }
     ],
     "prompt_number": 240
    },
    {
     "cell_type": "code",
     "collapsed": false,
     "input": [
      "test_df = pd.DataFrame()\n",
      "test_cat_list = feature_list_8[1:]\n",
      "test_df = dummy_df_5[test_cat_list]\n",
      "print len(test_df)"
     ],
     "language": "python",
     "metadata": {},
     "outputs": [
      {
       "output_type": "stream",
       "stream": "stdout",
       "text": [
        "722823\n"
       ]
      }
     ],
     "prompt_number": 133
    },
    {
     "cell_type": "code",
     "collapsed": false,
     "input": [
      "test_df = test_df.dropna()\n",
      "print len(test_df)"
     ],
     "language": "python",
     "metadata": {},
     "outputs": [
      {
       "output_type": "stream",
       "stream": "stdout",
       "text": [
        "722816\n"
       ]
      }
     ],
     "prompt_number": 134
    },
    {
     "cell_type": "code",
     "collapsed": false,
     "input": [
      "statslogistic(dummy_df_5, feature_list_7)"
     ],
     "language": "python",
     "metadata": {},
     "outputs": [
      {
       "output_type": "stream",
       "stream": "stdout",
       "text": [
        "Warning: Maximum number of iterations has been exceeded.\n",
        "         Current function value: 0.567922\n",
        "         Iterations: 35\n",
        "                           Logit Regression Results                           \n",
        "==============================================================================\n",
        "Dep. Variable:                 funded   No. Observations:               722816\n",
        "Model:                          Logit   Df Residuals:                   722776\n",
        "Method:                           MLE   Df Model:                           39\n",
        "Date:                Sun, 22 Mar 2015   Pseudo R-squ.:                 0.05336\n",
        "Time:                        19:24:31   Log-Likelihood:            -4.1050e+05\n",
        "converged:                      False   LL-Null:                   -4.3364e+05\n",
        "                                        LLR p-value:                     0.000\n",
        "==========================================================================================================\n",
        "                                             coef    std err          z      P>|z|      [95.0% Conf. Int.]\n",
        "----------------------------------------------------------------------------------------------------------\n",
        "const                                   -197.9085      2.469    -80.166      0.000      -202.747  -193.070\n",
        "school_charter                             0.0454      0.011      4.308      0.000         0.025     0.066\n",
        "school_magnet                              0.0183      0.010      1.864      0.062        -0.001     0.037\n",
        "school_year_round                         -0.0320      0.014     -2.263      0.024        -0.060    -0.004\n",
        "school_nlns                                0.2799      0.026     10.745      0.000         0.229     0.331\n",
        "school_kipp                                0.0886      0.040      2.202      0.028         0.010     0.167\n",
        "school_charter_ready_promise               0.2609      0.046      5.702      0.000         0.171     0.351\n",
        "teacher_teach_for_america                  0.5452      0.015     37.569      0.000         0.517     0.574\n",
        "teacher_ny_teaching_fellow                 0.5496      0.025     21.768      0.000         0.500     0.599\n",
        "total_price_excluding_optional_support    -0.0006   6.21e-06    -99.576      0.000        -0.001    -0.001\n",
        "students_reached                        -1.11e-06   1.24e-06     -0.895      0.371     -3.54e-06  1.32e-06\n",
        "month_posted                               0.0664      0.001     86.497      0.000         0.065     0.068\n",
        "year_posted                                0.0988      0.001     85.816      0.000         0.097     0.101\n",
        "title polarity                            -0.0389      0.015     -2.576      0.010        -0.069    -0.009\n",
        "title subjectivity                         0.0237      0.012      2.000      0.045         0.000     0.047\n",
        "short_description polarity                -0.0094      0.013     -0.710      0.478        -0.035     0.016\n",
        "short_description subjectivity            -0.0432      0.011     -4.019      0.000        -0.064    -0.022\n",
        "need_statement polarity                   -0.0247      0.015     -1.675      0.094        -0.054     0.004\n",
        "need_statement subjectivity               -0.0112      0.011     -1.057      0.291        -0.032     0.010\n",
        "high poverty                               0.0104      0.009      1.208      0.227        -0.006     0.027\n",
        "highest poverty                            0.1814      0.008     22.411      0.000         0.166     0.197\n",
        "low poverty                                0.1814      0.018     10.014      0.000         0.146     0.217\n",
        "Books                                      0.6613      0.317      2.089      0.037         0.041     1.282\n",
        "Other                                      0.3415      0.317      1.079      0.281        -0.279     0.962\n",
        "Supplies                                   0.5261      0.316      1.662      0.096        -0.094     1.146\n",
        "Technology                                 0.1190      0.316      0.376      0.707        -0.501     0.739\n",
        "Trips                                      1.3455      0.319      4.224      0.000         0.721     1.970\n",
        "Visitors                                   0.7410      0.324      2.287      0.022         0.106     1.376\n",
        "rural                                     -0.1283      0.010    -12.435      0.000        -0.149    -0.108\n",
        "suburban                                   0.1244      0.009     13.513      0.000         0.106     0.142\n",
        "urban                                      0.3435      0.009     39.912      0.000         0.327     0.360\n",
        "Dr.                                       -0.0002      0.658     -0.000      1.000        -1.290     1.289\n",
        "Mr.                                       -0.4377      0.621     -0.705      0.481        -1.654     0.779\n",
        "Mr. & Mrs.                                21.3109   5.29e+04      0.000      1.000     -1.04e+05  1.04e+05\n",
        "Mrs.                                      -0.6603      0.621     -1.064      0.287        -1.877     0.556\n",
        "Ms.                                       -0.5424      0.621     -0.874      0.382        -1.759     0.674\n",
        "Grades 3-5                                -0.1392      0.524     -0.265      0.791        -1.167     0.889\n",
        "Grades 6-8                                -0.1558      0.524     -0.297      0.766        -1.184     0.872\n",
        "Grades 9-12                                0.0297      0.524      0.057      0.955        -0.998     1.057\n",
        "Grades PreK-2                             -0.1221      0.524     -0.233      0.816        -1.150     0.906\n",
        "=========================================================================================================="
       ]
      },
      {
       "output_type": "stream",
       "stream": "stdout",
       "text": [
        "\n"
       ]
      },
      {
       "output_type": "stream",
       "stream": "stderr",
       "text": [
        "/usr/local/lib/python2.7/site-packages/statsmodels/base/model.py:466: ConvergenceWarning: Maximum Likelihood optimization failed to converge. Check mle_retvals\n",
        "  \"Check mle_retvals\", ConvergenceWarning)\n"
       ]
      }
     ],
     "prompt_number": 241
    },
    {
     "cell_type": "code",
     "collapsed": false,
     "input": [
      "##Took out everything that wasn't significant - e.g. score over .35\n",
      "updated_feature_list = ['funded', 'school_charter', 'school_magnet', 'school_year_round', \n",
      "                'school_nlns', 'school_kipp', 'school_charter_ready_promise', \n",
      "                'teacher_teach_for_america', 'price/student',\n",
      "                'teacher_ny_teaching_fellow','total_price_excluding_optional_support', \n",
      "                'month_posted', 'year_posted',\n",
      "                'title polarity', 'title subjectivity',  \n",
      "                'short_description subjectivity',\n",
      "                'high poverty', 'highest poverty', 'low poverty',\n",
      "                'rural', 'suburban', 'urban', \n",
      "                \"Applied Learning\", \"Health & Sports\", \"History & Civics\", \n",
      "                \"Literacy & Language\", \"Math & Science\", \"Music & The Arts\", \n",
      "                \"Special Needs\"]"
     ],
     "language": "python",
     "metadata": {},
     "outputs": [],
     "prompt_number": 38
    },
    {
     "cell_type": "code",
     "collapsed": false,
     "input": [
      "statslogistic(dummy_df_5, updated_feature_list)"
     ],
     "language": "python",
     "metadata": {},
     "outputs": [
      {
       "output_type": "stream",
       "stream": "stdout",
       "text": [
        "Optimization terminated successfully.\n",
        "         Current function value: 0.571035\n",
        "         Iterations 8\n",
        "                           Logit Regression Results                           \n",
        "==============================================================================\n",
        "Dep. Variable:                 funded   No. Observations:               722817\n",
        "Model:                          Logit   Df Residuals:                   722788\n",
        "Method:                           MLE   Df Model:                           28\n",
        "Date:                Sun, 22 Mar 2015   Pseudo R-squ.:                 0.04818\n",
        "Time:                        22:22:07   Log-Likelihood:            -4.1275e+05\n",
        "converged:                       True   LL-Null:                   -4.3364e+05\n",
        "                                        LLR p-value:                     0.000\n",
        "==========================================================================================================\n",
        "                                             coef    std err          z      P>|z|      [95.0% Conf. Int.]\n",
        "----------------------------------------------------------------------------------------------------------\n",
        "const                                   -181.1655      2.325    -77.909      0.000      -185.723  -176.608\n",
        "school_charter                             0.0661      0.010      6.302      0.000         0.046     0.087\n",
        "school_magnet                              0.0291      0.010      2.993      0.003         0.010     0.048\n",
        "school_year_round                         -0.0389      0.014     -2.761      0.006        -0.066    -0.011\n",
        "school_nlns                                0.3217      0.026     12.379      0.000         0.271     0.373\n",
        "school_kipp                                0.1156      0.040      2.879      0.004         0.037     0.194\n",
        "school_charter_ready_promise               0.3303      0.046      7.221      0.000         0.241     0.420\n",
        "teacher_teach_for_america                  0.6436      0.014     44.893      0.000         0.615     0.672\n",
        "price/student                           7.238e-07   6.54e-09    110.664      0.000      7.11e-07  7.37e-07\n",
        "teacher_ny_teaching_fellow                 0.6197      0.025     24.650      0.000         0.570     0.669\n",
        "total_price_excluding_optional_support    -0.0007    6.2e-06   -116.941      0.000        -0.001    -0.001\n",
        "month_posted                               0.0652      0.001     85.198      0.000         0.064     0.067\n",
        "year_posted                                0.0899      0.001     78.560      0.000         0.088     0.092\n",
        "title polarity                            -0.0342      0.015     -2.274      0.023        -0.064    -0.005\n",
        "title subjectivity                         0.0812      0.012      6.880      0.000         0.058     0.104\n",
        "short_description subjectivity            -0.0291      0.009     -3.084      0.002        -0.048    -0.011\n",
        "high poverty                               0.0423      0.009      4.945      0.000         0.026     0.059\n",
        "highest poverty                            0.2339      0.008     29.072      0.000         0.218     0.250\n",
        "low poverty                                0.1699      0.018      9.405      0.000         0.134     0.205\n",
        "rural                                     -0.1422      0.010    -13.840      0.000        -0.162    -0.122\n",
        "suburban                                   0.1282      0.009     13.991      0.000         0.110     0.146\n",
        "urban                                      0.3639      0.009     42.593      0.000         0.347     0.381\n",
        "Applied Learning                           0.7441      0.327      2.276      0.023         0.103     1.385\n",
        "Health & Sports                            0.9722      0.327      2.972      0.003         0.331     1.613\n",
        "History & Civics                           0.9847      0.327      3.012      0.003         0.344     1.626\n",
        "Literacy & Language                        0.8284      0.327      2.535      0.011         0.188     1.469\n",
        "Math & Science                             1.1165      0.327      3.417      0.001         0.476     1.757\n",
        "Music & The Arts                           1.1905      0.327      3.642      0.000         0.550     1.831\n",
        "Special Needs                              0.8482      0.327      2.595      0.009         0.207     1.489\n",
        "=========================================================================================================="
       ]
      },
      {
       "output_type": "stream",
       "stream": "stdout",
       "text": [
        "\n"
       ]
      }
     ],
     "prompt_number": 250
    },
    {
     "cell_type": "code",
     "collapsed": false,
     "input": [
      "def threshold_function(df, cat_list, est_list):\n",
      "    \n",
      "    #Create category specific dataframe\n",
      "    new_df = pd.DataFrame()\n",
      "    for catname, cat in cat_list.iteritems():\n",
      "        new_df = df[cat]\n",
      "        new_df = new_df.dropna(axis=0)\n",
      "    \n",
      "        #Define Y-variable dataframe\n",
      "        y_df = pd.DataFrame()\n",
      "        y_df['funded'] = new_df['funded']\n",
      "        y_array = y_df['funded'].values\n",
      "        \n",
      "        #define a set of categorical data and create an X-variable dataframe\n",
      "        new_cat_list = cat[1:]\n",
      "        x_df = pd.DataFrame()\n",
      "        x_df = new_df[new_cat_list]\n",
      "\n",
      "        for model in est_list:\n",
      "        \n",
      "            model_name = str(model).split('(')[0]\n",
      "            \n",
      "            Y_train, Y_test, X_train, X_test = train_test_split(y_df, x_df, test_size = .25)\n",
      "            \n",
      "            model.fit(X_train, Y_train)\n",
      "            probas = model.fit(X_train, Y_train).predict_proba(X_test)\n",
      "            \n",
      "            print probas\n",
      "#             Yp = model.predict(X_test)\n",
      "            \n",
      "            \n",
      "#             acc_score = accuracy_score(Y_test, Yp)\n",
      "#             print \"Accuracy Score: \", acc_score"
     ],
     "language": "python",
     "metadata": {},
     "outputs": [],
     "prompt_number": 222
    },
    {
     "cell_type": "code",
     "collapsed": false,
     "input": [
      "threshold_function(dummy_small_sample, category_dict_3, estlist5)"
     ],
     "language": "python",
     "metadata": {},
     "outputs": []
    },
    {
     "cell_type": "code",
     "collapsed": false,
     "input": [],
     "language": "python",
     "metadata": {},
     "outputs": []
    }
   ],
   "metadata": {}
  }
 ]
}