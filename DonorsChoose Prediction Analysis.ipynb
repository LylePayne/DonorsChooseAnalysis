{
 "metadata": {
  "name": "",
  "signature": "sha256:3d39ae74805352638c3679551996feedef12907db94bfeea1b4435a606221a4b"
 },
 "nbformat": 3,
 "nbformat_minor": 0,
 "worksheets": [
  {
   "cells": [
    {
     "cell_type": "code",
     "collapsed": false,
     "input": [
      "import pandas as pd\n",
      "import numpy as np\n",
      "import matplotlib.pyplot as plt\n",
      "from sklearn.cross_validation import train_test_split\n",
      "from sklearn.linear_model import LogisticRegression\n",
      "from statsmodels.formula.api import Logit\n",
      "from sklearn.neighbors import KNeighborsClassifier\n",
      "from sklearn.metrics import accuracy_score\n",
      "from sklearn.metrics import classification_report\n",
      "from sklearn.metrics import confusion_matrix\n",
      "from sklearn.learning_curve import learning_curve\n",
      "from sklearn.naive_bayes import GaussianNB\n",
      "from sklearn.svm import SVC\n",
      "from sklearn.tree import DecisionTreeClassifier\n",
      "from sklearn.ensemble import RandomForestClassifier\n",
      "from sklearn.cross_validation import cross_val_score\n",
      "import pymysql\n",
      "import seaborn as sn\n",
      "from sklearn.ensemble import GradientBoostingClassifier, RandomForestClassifier\n",
      "from textblob import TextBlob\n",
      "import statsmodels.formula.api as sm\n",
      "import statsmodels.api as st\n",
      "from statsmodels.discrete.discrete_model import Logit\n",
      "import pickle\n",
      "\n",
      "from sklearn.metrics import roc_curve, auc\n",
      "from sklearn.cross_validation import StratifiedKFold\n",
      "\n",
      "from sklearn.metrics import precision_score\n",
      "from sklearn.metrics import accuracy_score\n",
      "from sklearn.metrics import recall_score\n",
      "from sklearn.metrics import f1_score\n",
      "from sklearn.metrics import confusion_matrix\n",
      "from sklearn.metrics import classification_report\n",
      "\n",
      "from sklearn.preprocessing import scale"
     ],
     "language": "python",
     "metadata": {},
     "outputs": [],
     "prompt_number": 1
    },
    {
     "cell_type": "code",
     "collapsed": false,
     "input": [
      "from sklearn.preprocessing import binarize\n",
      "from sklearn import preprocessing\n",
      "import pprint as pp"
     ],
     "language": "python",
     "metadata": {},
     "outputs": [],
     "prompt_number": 4
    },
    {
     "cell_type": "code",
     "collapsed": false,
     "input": [
      "with open(\"funding_sentiment_df.pkl\", \"r\") as picklefile:\n",
      "    funding_sentiment_df = pickle.load(picklefile)"
     ],
     "language": "python",
     "metadata": {},
     "outputs": [],
     "prompt_number": 3
    },
    {
     "cell_type": "code",
     "collapsed": false,
     "input": [
      "# funding_sentiment_df.head()"
     ],
     "language": "python",
     "metadata": {},
     "outputs": [],
     "prompt_number": 4
    },
    {
     "cell_type": "code",
     "collapsed": false,
     "input": [
      "len(funding_sentiment_df)"
     ],
     "language": "python",
     "metadata": {},
     "outputs": [
      {
       "metadata": {},
       "output_type": "pyout",
       "prompt_number": 5,
       "text": [
        "722823"
       ]
      }
     ],
     "prompt_number": 5
    },
    {
     "cell_type": "code",
     "collapsed": false,
     "input": [
      "funding_sentiment_df.describe()"
     ],
     "language": "python",
     "metadata": {},
     "outputs": [
      {
       "html": [
        "<div style=\"max-height:1000px;max-width:1500px;overflow:auto;\">\n",
        "<table border=\"1\" class=\"dataframe\">\n",
        "  <thead>\n",
        "    <tr style=\"text-align: right;\">\n",
        "      <th></th>\n",
        "      <th>school_latitude</th>\n",
        "      <th>school_longitude</th>\n",
        "      <th>school_charter</th>\n",
        "      <th>school_magnet</th>\n",
        "      <th>school_year_round</th>\n",
        "      <th>school_nlns</th>\n",
        "      <th>school_kipp</th>\n",
        "      <th>school_charter_ready_promise</th>\n",
        "      <th>teacher_teach_for_america</th>\n",
        "      <th>teacher_ny_teaching_fellow</th>\n",
        "      <th>...</th>\n",
        "      <th>price/student</th>\n",
        "      <th>month_posted</th>\n",
        "      <th>year_posted</th>\n",
        "      <th>funded</th>\n",
        "      <th>title polarity</th>\n",
        "      <th>title subjectivity</th>\n",
        "      <th>short_description polarity</th>\n",
        "      <th>short_description subjectivity</th>\n",
        "      <th>need_statement polarity</th>\n",
        "      <th>need_statement subjectivity</th>\n",
        "    </tr>\n",
        "  </thead>\n",
        "  <tbody>\n",
        "    <tr>\n",
        "      <th>count</th>\n",
        "      <td> 722823.000000</td>\n",
        "      <td> 722823.000000</td>\n",
        "      <td> 722823.000000</td>\n",
        "      <td> 722823.000000</td>\n",
        "      <td> 722823.000000</td>\n",
        "      <td> 722823.000000</td>\n",
        "      <td> 722823.000000</td>\n",
        "      <td> 722823.000000</td>\n",
        "      <td> 722823.000000</td>\n",
        "      <td> 722823.000000</td>\n",
        "      <td>...</td>\n",
        "      <td> 7.228230e+05</td>\n",
        "      <td> 722823.000000</td>\n",
        "      <td> 722823.000000</td>\n",
        "      <td> 722823.000000</td>\n",
        "      <td> 722823.000000</td>\n",
        "      <td> 722823.000000</td>\n",
        "      <td> 722817.000000</td>\n",
        "      <td> 722817.000000</td>\n",
        "      <td> 722822.000000</td>\n",
        "      <td> 722822.000000</td>\n",
        "    </tr>\n",
        "    <tr>\n",
        "      <th>mean</th>\n",
        "      <td>     37.231095</td>\n",
        "      <td>    -93.499194</td>\n",
        "      <td>      0.090371</td>\n",
        "      <td>      0.092649</td>\n",
        "      <td>      0.037102</td>\n",
        "      <td>      0.014175</td>\n",
        "      <td>      0.006433</td>\n",
        "      <td>      0.004601</td>\n",
        "      <td>      0.055282</td>\n",
        "      <td>      0.016391</td>\n",
        "      <td>...</td>\n",
        "      <td> 3.299485e+03</td>\n",
        "      <td>      6.863967</td>\n",
        "      <td>   2011.033665</td>\n",
        "      <td>      0.712455</td>\n",
        "      <td>      0.079172</td>\n",
        "      <td>      0.164977</td>\n",
        "      <td>      0.150805</td>\n",
        "      <td>      0.368982</td>\n",
        "      <td>      0.097613</td>\n",
        "      <td>      0.260043</td>\n",
        "    </tr>\n",
        "    <tr>\n",
        "      <th>std</th>\n",
        "      <td>      4.720675</td>\n",
        "      <td>     17.806393</td>\n",
        "      <td>      0.286712</td>\n",
        "      <td>      0.289940</td>\n",
        "      <td>      0.189011</td>\n",
        "      <td>      0.118212</td>\n",
        "      <td>      0.079948</td>\n",
        "      <td>      0.067677</td>\n",
        "      <td>      0.228530</td>\n",
        "      <td>      0.126975</td>\n",
        "      <td>...</td>\n",
        "      <td> 1.177932e+06</td>\n",
        "      <td>      3.495708</td>\n",
        "      <td>      2.382925</td>\n",
        "      <td>      0.452618</td>\n",
        "      <td>      0.221076</td>\n",
        "      <td>      0.282551</td>\n",
        "      <td>      0.232798</td>\n",
        "      <td>      0.284928</td>\n",
        "      <td>      0.214756</td>\n",
        "      <td>      0.297387</td>\n",
        "    </tr>\n",
        "    <tr>\n",
        "      <th>min</th>\n",
        "      <td>     18.249140</td>\n",
        "      <td>   -176.634989</td>\n",
        "      <td>      0.000000</td>\n",
        "      <td>      0.000000</td>\n",
        "      <td>      0.000000</td>\n",
        "      <td>      0.000000</td>\n",
        "      <td>      0.000000</td>\n",
        "      <td>      0.000000</td>\n",
        "      <td>      0.000000</td>\n",
        "      <td>      0.000000</td>\n",
        "      <td>...</td>\n",
        "      <td> 4.999750e-05</td>\n",
        "      <td>      1.000000</td>\n",
        "      <td>   2002.000000</td>\n",
        "      <td>      0.000000</td>\n",
        "      <td>     -1.000000</td>\n",
        "      <td>      0.000000</td>\n",
        "      <td>     -1.000000</td>\n",
        "      <td>      0.000000</td>\n",
        "      <td>     -1.000000</td>\n",
        "      <td>      0.000000</td>\n",
        "    </tr>\n",
        "    <tr>\n",
        "      <th>25%</th>\n",
        "      <td>     34.026539</td>\n",
        "      <td>   -112.035370</td>\n",
        "      <td>      0.000000</td>\n",
        "      <td>      0.000000</td>\n",
        "      <td>      0.000000</td>\n",
        "      <td>      0.000000</td>\n",
        "      <td>      0.000000</td>\n",
        "      <td>      0.000000</td>\n",
        "      <td>      0.000000</td>\n",
        "      <td>      0.000000</td>\n",
        "      <td>...</td>\n",
        "      <td> 4.561663e+00</td>\n",
        "      <td>      4.000000</td>\n",
        "      <td>   2010.000000</td>\n",
        "      <td>      0.000000</td>\n",
        "      <td>      0.000000</td>\n",
        "      <td>      0.000000</td>\n",
        "      <td>      0.000000</td>\n",
        "      <td>      0.000000</td>\n",
        "      <td>      0.000000</td>\n",
        "      <td>      0.000000</td>\n",
        "    </tr>\n",
        "    <tr>\n",
        "      <th>50%</th>\n",
        "      <td>     37.653138</td>\n",
        "      <td>    -87.694710</td>\n",
        "      <td>      0.000000</td>\n",
        "      <td>      0.000000</td>\n",
        "      <td>      0.000000</td>\n",
        "      <td>      0.000000</td>\n",
        "      <td>      0.000000</td>\n",
        "      <td>      0.000000</td>\n",
        "      <td>      0.000000</td>\n",
        "      <td>      0.000000</td>\n",
        "      <td>...</td>\n",
        "      <td> 1.020268e+01</td>\n",
        "      <td>      8.000000</td>\n",
        "      <td>   2011.000000</td>\n",
        "      <td>      1.000000</td>\n",
        "      <td>      0.000000</td>\n",
        "      <td>      0.000000</td>\n",
        "      <td>      0.100000</td>\n",
        "      <td>      0.400000</td>\n",
        "      <td>      0.000000</td>\n",
        "      <td>      0.100000</td>\n",
        "    </tr>\n",
        "    <tr>\n",
        "      <th>75%</th>\n",
        "      <td>     40.759132</td>\n",
        "      <td>    -79.462768</td>\n",
        "      <td>      0.000000</td>\n",
        "      <td>      0.000000</td>\n",
        "      <td>      0.000000</td>\n",
        "      <td>      0.000000</td>\n",
        "      <td>      0.000000</td>\n",
        "      <td>      0.000000</td>\n",
        "      <td>      0.000000</td>\n",
        "      <td>      0.000000</td>\n",
        "      <td>...</td>\n",
        "      <td> 1.960288e+01</td>\n",
        "      <td>     10.000000</td>\n",
        "      <td>   2013.000000</td>\n",
        "      <td>      1.000000</td>\n",
        "      <td>      0.000000</td>\n",
        "      <td>      0.300000</td>\n",
        "      <td>      0.300000</td>\n",
        "      <td>      0.566667</td>\n",
        "      <td>      0.195328</td>\n",
        "      <td>      0.500000</td>\n",
        "    </tr>\n",
        "    <tr>\n",
        "      <th>max</th>\n",
        "      <td>     71.290646</td>\n",
        "      <td>    -66.628036</td>\n",
        "      <td>      1.000000</td>\n",
        "      <td>      1.000000</td>\n",
        "      <td>      1.000000</td>\n",
        "      <td>      1.000000</td>\n",
        "      <td>      1.000000</td>\n",
        "      <td>      1.000000</td>\n",
        "      <td>      1.000000</td>\n",
        "      <td>      1.000000</td>\n",
        "      <td>...</td>\n",
        "      <td> 1.000000e+09</td>\n",
        "      <td>     12.000000</td>\n",
        "      <td>   2014.000000</td>\n",
        "      <td>      1.000000</td>\n",
        "      <td>      1.000000</td>\n",
        "      <td>      1.000000</td>\n",
        "      <td>      1.000000</td>\n",
        "      <td>      1.000000</td>\n",
        "      <td>      1.000000</td>\n",
        "      <td>      1.000000</td>\n",
        "    </tr>\n",
        "  </tbody>\n",
        "</table>\n",
        "<p>8 rows \u00d7 30 columns</p>\n",
        "</div>"
       ],
       "metadata": {},
       "output_type": "pyout",
       "prompt_number": 39,
       "text": [
        "       school_latitude  school_longitude  school_charter  school_magnet  \\\n",
        "count    722823.000000     722823.000000   722823.000000  722823.000000   \n",
        "mean         37.231095        -93.499194        0.090371       0.092649   \n",
        "std           4.720675         17.806393        0.286712       0.289940   \n",
        "min          18.249140       -176.634989        0.000000       0.000000   \n",
        "25%          34.026539       -112.035370        0.000000       0.000000   \n",
        "50%          37.653138        -87.694710        0.000000       0.000000   \n",
        "75%          40.759132        -79.462768        0.000000       0.000000   \n",
        "max          71.290646        -66.628036        1.000000       1.000000   \n",
        "\n",
        "       school_year_round    school_nlns    school_kipp  \\\n",
        "count      722823.000000  722823.000000  722823.000000   \n",
        "mean            0.037102       0.014175       0.006433   \n",
        "std             0.189011       0.118212       0.079948   \n",
        "min             0.000000       0.000000       0.000000   \n",
        "25%             0.000000       0.000000       0.000000   \n",
        "50%             0.000000       0.000000       0.000000   \n",
        "75%             0.000000       0.000000       0.000000   \n",
        "max             1.000000       1.000000       1.000000   \n",
        "\n",
        "       school_charter_ready_promise  teacher_teach_for_america  \\\n",
        "count                 722823.000000              722823.000000   \n",
        "mean                       0.004601                   0.055282   \n",
        "std                        0.067677                   0.228530   \n",
        "min                        0.000000                   0.000000   \n",
        "25%                        0.000000                   0.000000   \n",
        "50%                        0.000000                   0.000000   \n",
        "75%                        0.000000                   0.000000   \n",
        "max                        1.000000                   1.000000   \n",
        "\n",
        "       teacher_ny_teaching_fellow             ...               price/student  \\\n",
        "count               722823.000000             ...                7.228230e+05   \n",
        "mean                     0.016391             ...                3.299485e+03   \n",
        "std                      0.126975             ...                1.177932e+06   \n",
        "min                      0.000000             ...                4.999750e-05   \n",
        "25%                      0.000000             ...                4.561663e+00   \n",
        "50%                      0.000000             ...                1.020268e+01   \n",
        "75%                      0.000000             ...                1.960288e+01   \n",
        "max                      1.000000             ...                1.000000e+09   \n",
        "\n",
        "        month_posted    year_posted         funded  title polarity  \\\n",
        "count  722823.000000  722823.000000  722823.000000   722823.000000   \n",
        "mean        6.863967    2011.033665       0.712455        0.079172   \n",
        "std         3.495708       2.382925       0.452618        0.221076   \n",
        "min         1.000000    2002.000000       0.000000       -1.000000   \n",
        "25%         4.000000    2010.000000       0.000000        0.000000   \n",
        "50%         8.000000    2011.000000       1.000000        0.000000   \n",
        "75%        10.000000    2013.000000       1.000000        0.000000   \n",
        "max        12.000000    2014.000000       1.000000        1.000000   \n",
        "\n",
        "       title subjectivity  short_description polarity  \\\n",
        "count       722823.000000               722817.000000   \n",
        "mean             0.164977                    0.150805   \n",
        "std              0.282551                    0.232798   \n",
        "min              0.000000                   -1.000000   \n",
        "25%              0.000000                    0.000000   \n",
        "50%              0.000000                    0.100000   \n",
        "75%              0.300000                    0.300000   \n",
        "max              1.000000                    1.000000   \n",
        "\n",
        "       short_description subjectivity  need_statement polarity  \\\n",
        "count                   722817.000000            722822.000000   \n",
        "mean                         0.368982                 0.097613   \n",
        "std                          0.284928                 0.214756   \n",
        "min                          0.000000                -1.000000   \n",
        "25%                          0.000000                 0.000000   \n",
        "50%                          0.400000                 0.000000   \n",
        "75%                          0.566667                 0.195328   \n",
        "max                          1.000000                 1.000000   \n",
        "\n",
        "       need_statement subjectivity  \n",
        "count                722822.000000  \n",
        "mean                      0.260043  \n",
        "std                       0.297387  \n",
        "min                       0.000000  \n",
        "25%                       0.000000  \n",
        "50%                       0.100000  \n",
        "75%                       0.500000  \n",
        "max                       1.000000  \n",
        "\n",
        "[8 rows x 30 columns]"
       ]
      }
     ],
     "prompt_number": 39
    },
    {
     "cell_type": "markdown",
     "metadata": {},
     "source": [
      "####Adding dummy variables where necessary"
     ]
    },
    {
     "cell_type": "markdown",
     "metadata": {},
     "source": [
      "####poverty dummies"
     ]
    },
    {
     "cell_type": "code",
     "collapsed": false,
     "input": [
      "# dummy_pov_df = pd.get_dummies(funding_sentiment_df, columns=\"poverty_level\")\n",
      "\n",
      "dummy_pov_df = pd.concat([funding_sentiment_df, pd.get_dummies(funding_sentiment_df['poverty_level'])], axis = 1)\n",
      "#setting axis = 1 means adding columns, not rows"
     ],
     "language": "python",
     "metadata": {},
     "outputs": [],
     "prompt_number": 6
    },
    {
     "cell_type": "code",
     "collapsed": false,
     "input": [
      "len(dummy_pov_df)"
     ],
     "language": "python",
     "metadata": {},
     "outputs": [
      {
       "metadata": {},
       "output_type": "pyout",
       "prompt_number": 7,
       "text": [
        "722823"
       ]
      }
     ],
     "prompt_number": 7
    },
    {
     "cell_type": "markdown",
     "metadata": {},
     "source": [
      "####resource type dummies"
     ]
    },
    {
     "cell_type": "code",
     "collapsed": false,
     "input": [
      "test = dummy_pov_df[:100]"
     ],
     "language": "python",
     "metadata": {},
     "outputs": [],
     "prompt_number": 8
    },
    {
     "cell_type": "code",
     "collapsed": false,
     "input": [
      "test.loc[~test['resource_type'].isin(['Books', 'Other', 'Supplies', 'Technology', 'Trips', 'Visitors']),\n",
      "         'resource_type']=\"None\""
     ],
     "language": "python",
     "metadata": {},
     "outputs": [],
     "prompt_number": 10
    },
    {
     "cell_type": "code",
     "collapsed": false,
     "input": [
      "###For any category not in the list, the label becomes \"None\"\n",
      "dummy_pov_df.loc[~dummy_pov_df['resource_type'].isin(['Books', 'Other', 'Supplies', 'Technology', 'Trips', 'Visitors']),\n",
      "         'resource_type']= None"
     ],
     "language": "python",
     "metadata": {},
     "outputs": [],
     "prompt_number": 11
    },
    {
     "cell_type": "code",
     "collapsed": false,
     "input": [
      "%matplotlib inline\n",
      "sn.barplot(dummy_pov_df.resource_type)"
     ],
     "language": "python",
     "metadata": {},
     "outputs": [
      {
       "metadata": {},
       "output_type": "pyout",
       "prompt_number": 12,
       "text": [
        "<matplotlib.axes._subplots.AxesSubplot at 0x16f3b1850>"
       ]
      },
      {
       "metadata": {},
       "output_type": "display_data",
       "png": "[encoded data removed]",
       "text": [
        "<matplotlib.figure.Figure at 0x173ff1310>"
       ]
      }
     ],
     "prompt_number": 12
    },
    {
     "cell_type": "code",
     "collapsed": false,
     "input": [
      "dummy_df = pd.concat([dummy_pov_df, pd.get_dummies(dummy_pov_df['resource_type'])], axis=1)"
     ],
     "language": "python",
     "metadata": {},
     "outputs": [],
     "prompt_number": 13
    },
    {
     "cell_type": "markdown",
     "metadata": {},
     "source": [
      "####school metro dummies"
     ]
    },
    {
     "cell_type": "code",
     "collapsed": false,
     "input": [
      "dummy_df.loc[~dummy_df[\"school_metro\"].isin([\"rural\", \"suburban\", \"urban\"]), \"school_metro\"] = None"
     ],
     "language": "python",
     "metadata": {},
     "outputs": [],
     "prompt_number": 14
    },
    {
     "cell_type": "code",
     "collapsed": false,
     "input": [
      "sn.barplot(dummy_df.school_metro)"
     ],
     "language": "python",
     "metadata": {},
     "outputs": [
      {
       "metadata": {},
       "output_type": "pyout",
       "prompt_number": 15,
       "text": [
        "<matplotlib.axes._subplots.AxesSubplot at 0x1315e09d0>"
       ]
      },
      {
       "metadata": {},
       "output_type": "display_data",
       "png": "[encoded data removed]",
       "text": [
        "<matplotlib.figure.Figure at 0x1854bebd0>"
       ]
      }
     ],
     "prompt_number": 15
    },
    {
     "cell_type": "code",
     "collapsed": false,
     "input": [
      "dummy_df_2 = pd.concat([dummy_df, pd.get_dummies(dummy_df['school_metro'])], axis=1)"
     ],
     "language": "python",
     "metadata": {},
     "outputs": [],
     "prompt_number": 16
    },
    {
     "cell_type": "markdown",
     "metadata": {},
     "source": [
      "####mr mrs dummies"
     ]
    },
    {
     "cell_type": "code",
     "collapsed": false,
     "input": [
      "sn.barplot(dummy_df_2.teacher_prefix)"
     ],
     "language": "python",
     "metadata": {},
     "outputs": [
      {
       "metadata": {},
       "output_type": "pyout",
       "prompt_number": 17,
       "text": [
        "<matplotlib.axes._subplots.AxesSubplot at 0x184f51450>"
       ]
      },
      {
       "metadata": {},
       "output_type": "display_data",
       "png": "[encoded data removed]",
       "text": [
        "<matplotlib.figure.Figure at 0x183cc8250>"
       ]
      }
     ],
     "prompt_number": 17
    },
    {
     "cell_type": "code",
     "collapsed": false,
     "input": [
      "dummy_df_2.loc[~dummy_df_2[\"teacher_prefix\"].isin([\"Dr.\", \"Mr.\", \"Mr. & Mrs.\", \"Mrs.\", \"Ms.\"]), \"teacher_prefix\"] = None"
     ],
     "language": "python",
     "metadata": {},
     "outputs": [],
     "prompt_number": 18
    },
    {
     "cell_type": "code",
     "collapsed": false,
     "input": [
      "sn.barplot(dummy_df_2.teacher_prefix)"
     ],
     "language": "python",
     "metadata": {},
     "outputs": [
      {
       "metadata": {},
       "output_type": "pyout",
       "prompt_number": 19,
       "text": [
        "<matplotlib.axes._subplots.AxesSubplot at 0x1842b9310>"
       ]
      },
      {
       "metadata": {},
       "output_type": "display_data",
       "png": "[encoded data removed]",
       "text": [
        "<matplotlib.figure.Figure at 0x1860a2290>"
       ]
      }
     ],
     "prompt_number": 19
    },
    {
     "cell_type": "code",
     "collapsed": false,
     "input": [
      "dummy_df_3 = pd.concat([dummy_df_2, pd.get_dummies(dummy_df_2['teacher_prefix'])], axis=1)"
     ],
     "language": "python",
     "metadata": {},
     "outputs": [],
     "prompt_number": 20
    },
    {
     "cell_type": "markdown",
     "metadata": {},
     "source": [
      "####Getting dummy data for the grade level"
     ]
    },
    {
     "cell_type": "code",
     "collapsed": false,
     "input": [
      "sn.barplot(dummy_df_3.grade_level)"
     ],
     "language": "python",
     "metadata": {},
     "outputs": [
      {
       "metadata": {},
       "output_type": "pyout",
       "prompt_number": 21,
       "text": [
        "<matplotlib.axes._subplots.AxesSubplot at 0x1863ffc90>"
       ]
      },
      {
       "metadata": {},
       "output_type": "display_data",
       "png": "[encoded data removed]",
       "text": [
        "<matplotlib.figure.Figure at 0x183d42490>"
       ]
      }
     ],
     "prompt_number": 21
    },
    {
     "cell_type": "code",
     "collapsed": false,
     "input": [
      "dummy_df_3.loc[~dummy_df_3[\"grade_level\"].isin([\"Grades 3-5\", \"Grades 6-8\", \"Grades 9-12\", \"Grades PreK-2\"]), \"grade_level\"] = None"
     ],
     "language": "python",
     "metadata": {},
     "outputs": [],
     "prompt_number": 22
    },
    {
     "cell_type": "code",
     "collapsed": false,
     "input": [
      "dummy_df_4 = pd.concat([dummy_df_3, pd.get_dummies(dummy_df_3['grade_level'])], axis = 1)"
     ],
     "language": "python",
     "metadata": {},
     "outputs": [],
     "prompt_number": 23
    },
    {
     "cell_type": "code",
     "collapsed": false,
     "input": [
      "# len(dummy_df_4)"
     ],
     "language": "python",
     "metadata": {},
     "outputs": [],
     "prompt_number": 24
    },
    {
     "cell_type": "code",
     "collapsed": false,
     "input": [
      "sn.barplot(dummy_df_4.primary_focus_area)\n",
      "plt.xticks(rotation = 90)"
     ],
     "language": "python",
     "metadata": {},
     "outputs": [
      {
       "metadata": {},
       "output_type": "pyout",
       "prompt_number": 25,
       "text": [
        "(array([0, 1, 2, 3, 4, 5, 6, 7]), <a list of 8 Text xticklabel objects>)"
       ]
      },
      {
       "metadata": {},
       "output_type": "display_data",
       "png": "[encoded data removed]",
       "text": [
        "<matplotlib.figure.Figure at 0x184428210>"
       ]
      }
     ],
     "prompt_number": 25
    },
    {
     "cell_type": "code",
     "collapsed": false,
     "input": [
      "dummy_df_4.loc[~dummy_df_4[\"primary_focus_area\"].isin([\"Applied Learning\", \"Health & Sports\", \"History & Civics\", \"Literacy & Language\", \"Math & Science\", \"Music & The Arts\", \"Special Needs\"]), \"primary_focus_area\"] = None"
     ],
     "language": "python",
     "metadata": {},
     "outputs": [],
     "prompt_number": 26
    },
    {
     "cell_type": "code",
     "collapsed": false,
     "input": [
      "sn.barplot(dummy_df_4.primary_focus_area)\n",
      "plt.xticks(rotation=90)"
     ],
     "language": "python",
     "metadata": {},
     "outputs": [
      {
       "metadata": {},
       "output_type": "pyout",
       "prompt_number": 27,
       "text": [
        "(array([0, 1, 2, 3, 4, 5, 6, 7]), <a list of 8 Text xticklabel objects>)"
       ]
      },
      {
       "metadata": {},
       "output_type": "display_data",
       "png": "[encoded data removed]",
       "text": [
        "<matplotlib.figure.Figure at 0x15afe0210>"
       ]
      }
     ],
     "prompt_number": 27
    },
    {
     "cell_type": "code",
     "collapsed": false,
     "input": [
      "dummy_df_5 = pd.concat([dummy_df_4, pd.get_dummies(dummy_df_4[\"primary_focus_area\"])], axis=1)"
     ],
     "language": "python",
     "metadata": {},
     "outputs": [],
     "prompt_number": 42
    },
    {
     "cell_type": "code",
     "collapsed": false,
     "input": [
      "len(dummy_df_5)"
     ],
     "language": "python",
     "metadata": {},
     "outputs": [
      {
       "metadata": {},
       "output_type": "pyout",
       "prompt_number": 43,
       "text": [
        "722823"
       ]
      }
     ],
     "prompt_number": 43
    },
    {
     "cell_type": "markdown",
     "metadata": {},
     "source": [
      "####dummying the month variable"
     ]
    },
    {
     "cell_type": "code",
     "collapsed": false,
     "input": [
      "dummy_df_6 = pd.concat([dummy_df_5, pd.get_dummies(dummy_df_5[\"month_posted\"])], axis=1)"
     ],
     "language": "python",
     "metadata": {},
     "outputs": [],
     "prompt_number": 45
    },
    {
     "cell_type": "markdown",
     "metadata": {},
     "source": [
      "####dummying the primary focus subject"
     ]
    },
    {
     "cell_type": "code",
     "collapsed": false,
     "input": [
      "null_test = dummy_df_6[(dummy_df_6.primary_focus_subject==\"\")]\n",
      "len(null_test)"
     ],
     "language": "python",
     "metadata": {},
     "outputs": [
      {
       "metadata": {},
       "output_type": "pyout",
       "prompt_number": 87,
       "text": [
        "40"
       ]
      }
     ],
     "prompt_number": 87
    },
    {
     "cell_type": "code",
     "collapsed": false,
     "input": [
      "##Test to see if I could remove empty cells with notnull - didn't work.\n",
      "test_dummy_df_6 = dummy_df_6[pd.notnull(dummy_df_6['primary_focus_subject'])]"
     ],
     "language": "python",
     "metadata": {},
     "outputs": [],
     "prompt_number": 79
    },
    {
     "cell_type": "code",
     "collapsed": false,
     "input": [
      "##Dummying the primary focus subject\n",
      "dummy_df_7 = pd.concat([dummy_df_6, pd.get_dummies(dummy_df_6[\"primary_focus_subject\"])], axis=1)"
     ],
     "language": "python",
     "metadata": {},
     "outputs": [],
     "prompt_number": 88
    },
    {
     "cell_type": "markdown",
     "metadata": {},
     "source": [
      "####Create a variable looking to see if the secondary subject was filled in or not"
     ]
    },
    {
     "cell_type": "code",
     "collapsed": false,
     "input": [
      "null_subject = dummy_df_7[(dummy_df_7.secondary_focus_subject==\"\")]\n",
      "len(null_subject)"
     ],
     "language": "python",
     "metadata": {},
     "outputs": [
      {
       "metadata": {},
       "output_type": "pyout",
       "prompt_number": 116,
       "text": [
        "224842"
       ]
      }
     ],
     "prompt_number": 116
    },
    {
     "cell_type": "code",
     "collapsed": false,
     "input": [
      "no_second_focus_df = dummy_df_7[dummy_df_7.secondary_focus_area==\"\"]\n",
      "no_second_focus_df[\"second_focus\"] = 0\n",
      "\n",
      "yes_second_focus_df = dummy_df_7[dummy_df_7.secondary_focus_area!=\"\"]\n",
      "yes_second_focus_df[\"second_focus\"] = 1"
     ],
     "language": "python",
     "metadata": {},
     "outputs": [],
     "prompt_number": 119
    },
    {
     "cell_type": "code",
     "collapsed": false,
     "input": [
      "secondary_list = [no_second_focus_df, yes_second_focus_df]\n",
      "dummy_df_8 = pd.concat(secondary_list)"
     ],
     "language": "python",
     "metadata": {},
     "outputs": [],
     "prompt_number": 120
    },
    {
     "cell_type": "code",
     "collapsed": false,
     "input": [
      "dummy_df_8.columns"
     ],
     "language": "python",
     "metadata": {},
     "outputs": [
      {
       "metadata": {},
       "output_type": "pyout",
       "prompt_number": 121,
       "text": [
        "Index([u'_teacher_acctid', u'_schoolid', u'school_ncesid', u'school_latitude', u'school_longitude', u'school_city', u'school_state', u'school_zip', u'school_metro', u'school_district', u'school_county', u'school_charter', u'school_magnet', u'school_year_round', u'school_nlns', u'school_kipp', u'school_charter_ready_promise', u'teacher_prefix', u'teacher_teach_for_america', u'teacher_ny_teaching_fellow', u'primary_focus_subject', u'primary_focus_area', u'secondary_focus_subject', u'secondary_focus_area', u'resource_type', u'poverty_level', u'grade_level', u'vendor_shipping_charges', u'sales_tax', u'payment_processing_charges', u'fulfillment_labor_materials', u'total_price_excluding_optional_support', u'total_price_including_optional_support', u'students_reached', u'total_donations', u'num_donors', u'eligible_double_your_impact_match', u'eligible_almost_home_match', u'funding_status', u'date_posted', u'date_completed', u'date_thank_you_packet_mailed', u'date_expiration', u'price/student', u'month_posted', u'year_posted', u'funded', u'_projectid', u'title polarity', u'title subjectivity', u'short_description polarity', u'short_description subjectivity', u'need_statement polarity', u'need_statement subjectivity', u'high poverty', u'highest poverty', u'low poverty', u'moderate poverty', u'Books', u'Other', u'Supplies', u'Technology', u'Trips', u'Visitors', u'rural', u'suburban', u'urban', u'Dr.', u'Mr.', u'Mr. & Mrs.', u'Mrs.', u'Ms.', u'Grades 3-5', u'Grades 6-8', u'Grades 9-12', u'Grades PreK-2', u'Applied Learning', u'Health & Sports', u'History & Civics', u'Literacy & Language', u'Math & Science', u'Music & The Arts', u'Special Needs', 1.0, 2.0, 3.0, 4.0, 5.0, 6.0, 7.0, 8.0, 9.0, 10.0, 11.0, 12.0, u'', u'Applied Sciences', u'Character Education', u'Civics & Government', u'College & Career Prep', ...], dtype='object')"
       ]
      }
     ],
     "prompt_number": 121
    },
    {
     "cell_type": "code",
     "collapsed": false,
     "input": [
      "# groupby_subject = dummy_df_7.groupby([\"primary_focus_subject\"]).count()\n",
      "# print groupby_subject"
     ],
     "language": "python",
     "metadata": {},
     "outputs": [],
     "prompt_number": 100
    },
    {
     "cell_type": "code",
     "collapsed": false,
     "input": [
      "dummy_df_5.primary_focus_subject\n",
      "sn.barplot(dummy_df_5.primary_focus_subject)\n",
      "plt.xticks(rotation=90)"
     ],
     "language": "python",
     "metadata": {},
     "outputs": [
      {
       "metadata": {},
       "output_type": "pyout",
       "prompt_number": 95,
       "text": [
        "(array([ 0,  1,  2,  3,  4,  5,  6,  7,  8,  9, 10, 11, 12, 13, 14, 15, 16,\n",
        "        17, 18, 19, 20, 21, 22, 23, 24, 25, 26, 27]),\n",
        " <a list of 28 Text xticklabel objects>)"
       ]
      },
      {
       "metadata": {},
       "output_type": "display_data",
       "png": "[encoded data removed]",
       "text": [
        "<matplotlib.figure.Figure at 0x15bc39610>"
       ]
      }
     ],
     "prompt_number": 95
    },
    {
     "cell_type": "code",
     "collapsed": false,
     "input": [
      "sn.barplot(dummy_df_5.secondary_focus_subject)\n",
      "plt.xticks(rotation=90)"
     ],
     "language": "python",
     "metadata": {},
     "outputs": [
      {
       "metadata": {},
       "output_type": "pyout",
       "prompt_number": 77,
       "text": [
        "(array([ 0,  1,  2,  3,  4,  5,  6,  7,  8,  9, 10, 11, 12, 13, 14, 15, 16,\n",
        "        17, 18, 19, 20, 21, 22, 23, 24, 25, 26, 27]),\n",
        " <a list of 28 Text xticklabel objects>)"
       ]
      },
      {
       "metadata": {},
       "output_type": "display_data",
       "png": "[encoded data removed]",
       "text": [
        "<matplotlib.figure.Figure at 0x1076b8790>"
       ]
      }
     ],
     "prompt_number": 77
    },
    {
     "cell_type": "code",
     "collapsed": false,
     "input": [
      "sn.barplot(dummy_df_5.secondary_focus_area)\n",
      "plt.xticks(rotation=90)"
     ],
     "language": "python",
     "metadata": {},
     "outputs": [
      {
       "metadata": {},
       "output_type": "pyout",
       "prompt_number": 30,
       "text": [
        "(array([0, 1, 2, 3, 4, 5, 6, 7]), <a list of 8 Text xticklabel objects>)"
       ]
      },
      {
       "metadata": {},
       "output_type": "display_data",
       "png": "[encoded data removed]",
       "text": [
        "<matplotlib.figure.Figure at 0x15b919ad0>"
       ]
      }
     ],
     "prompt_number": 30
    },
    {
     "cell_type": "code",
     "collapsed": false,
     "input": [
      "import random"
     ],
     "language": "python",
     "metadata": {},
     "outputs": [],
     "prompt_number": 31
    },
    {
     "cell_type": "code",
     "collapsed": false,
     "input": [
      "dummy_sample = dummy_df_8.loc[np.random.choice(dummy_df_8.index, 5000, replace=False)]"
     ],
     "language": "python",
     "metadata": {},
     "outputs": [],
     "prompt_number": 123
    },
    {
     "cell_type": "code",
     "collapsed": false,
     "input": [
      "dummy_sample[\"funded\"].mean()"
     ],
     "language": "python",
     "metadata": {},
     "outputs": [
      {
       "metadata": {},
       "output_type": "pyout",
       "prompt_number": 124,
       "text": [
        "0.71660000000000001"
       ]
      }
     ],
     "prompt_number": 124
    },
    {
     "cell_type": "code",
     "collapsed": false,
     "input": [
      "dummy_sample[\"Social Sciences\"].mean()"
     ],
     "language": "python",
     "metadata": {},
     "outputs": [
      {
       "metadata": {},
       "output_type": "pyout",
       "prompt_number": 106,
       "text": [
        "0.014800000000000001"
       ]
      }
     ],
     "prompt_number": 106
    },
    {
     "cell_type": "code",
     "collapsed": false,
     "input": [
      "dummy_small_sample =dummy_df_5.loc[np.random.choice(dummy_df_5.index, 200, replace=False)]"
     ],
     "language": "python",
     "metadata": {},
     "outputs": [],
     "prompt_number": 35
    },
    {
     "cell_type": "code",
     "collapsed": false,
     "input": [
      "dummy_df_5[\"funded\"].mean()"
     ],
     "language": "python",
     "metadata": {},
     "outputs": [
      {
       "metadata": {},
       "output_type": "pyout",
       "prompt_number": 34,
       "text": [
        "0.71245519304172666"
       ]
      }
     ],
     "prompt_number": 34
    },
    {
     "cell_type": "code",
     "collapsed": false,
     "input": [
      "feature_list_less3 = ['funded', 'school_charter', 'school_magnet', 'school_year_round', \n",
      "                'school_nlns', 'school_kipp', 'school_charter_ready_promise', \n",
      "                'teacher_teach_for_america',\n",
      "                'teacher_ny_teaching_fellow',\n",
      "                'price/student', 1.0, 2.0, 3.0, 4.0, 5.0, 7.0, 8.0, 9.0, 10.0, 11.0, 12.0]\n",
      "\n",
      "feature_list_less2 = ['funded', 'school_charter', 'school_magnet', 'school_year_round', \n",
      "                'school_nlns', 'school_kipp', 'school_charter_ready_promise', \n",
      "                'teacher_teach_for_america',\n",
      "                'teacher_ny_teaching_fellow','total_price_excluding_optional_support', \n",
      "                'price/student', 1.0, 2.0, 3.0, 4.0, 5.0, 7.0, 8.0, 9.0, 10.0, 11.0, 12.0]\n",
      "\n",
      "feature_list_less1 = ['funded', 'school_charter', 'school_magnet', 'school_year_round', \n",
      "                'school_nlns', 'school_kipp', 'school_charter_ready_promise', \n",
      "                'teacher_teach_for_america',\n",
      "                'teacher_ny_teaching_fellow','total_price_excluding_optional_support', \n",
      "                'students_reached', 'title polarity', 'title subjectivity',\n",
      "                1.0, 2.0, 3.0, 4.0, 5.0, 7.0, 8.0, 9.0, 10.0, 11.0, 12.0]\n",
      "\n",
      "feature_list_0 = ['funded', 'school_charter', 'school_magnet', 'school_year_round', \n",
      "                'school_nlns', 'school_kipp', 'school_charter_ready_promise', \n",
      "                'teacher_teach_for_america',\n",
      "                'teacher_ny_teaching_fellow','total_price_excluding_optional_support', \n",
      "                'students_reached',\n",
      "                'title polarity', 'title subjectivity', 'short_description polarity', \n",
      "                'short_description subjectivity', 1.0, 2.0, 3.0, 4.0, 5.0, 7.0,\n",
      "                8.0, 9.0, 10.0, 11.0, 12.0]\n",
      "\n",
      "feature_list_1 = ['funded', 'school_charter', 'school_magnet', 'school_year_round', \n",
      "                'school_nlns', 'school_kipp', 'school_charter_ready_promise', \n",
      "                'teacher_teach_for_america',\n",
      "                'teacher_ny_teaching_fellow','total_price_excluding_optional_support', \n",
      "                'students_reached', 'title polarity', 'title subjectivity', \n",
      "                'short_description polarity', \n",
      "                'short_description subjectivity', 'need_statement polarity', \n",
      "                'need_statement subjectivity',\n",
      "                1.0, 2.0, 3.0, 4.0, 5.0, 7.0, 8.0, 9.0, 10.0, 11.0, 12.0]\n",
      "\n",
      "feature_list_2 = ['funded', 'school_charter', 'school_magnet', 'school_year_round', \n",
      "                'school_nlns', 'school_kipp', 'school_charter_ready_promise', \n",
      "                'teacher_teach_for_america',\n",
      "                'teacher_ny_teaching_fellow','total_price_excluding_optional_support', \n",
      "                'students_reached', 'title polarity', 'title subjectivity', 'short_description polarity', \n",
      "                'short_description subjectivity', 'need_statement polarity', \n",
      "                'need_statement subjectivity', 'high poverty', 'highest poverty', 'low poverty',\n",
      "                1.0, 2.0, 3.0, 4.0, 5.0, 7.0, 8.0, 9.0, 10.0, 11.0, 12.0]\n",
      "\n",
      "feature_list_3 = ['funded', 'school_charter', 'school_magnet', 'school_year_round', \n",
      "                'school_nlns', 'school_kipp', 'school_charter_ready_promise', \n",
      "                'teacher_teach_for_america',\n",
      "                'teacher_ny_teaching_fellow','total_price_excluding_optional_support', \n",
      "                'students_reached', 'title polarity', 'title subjectivity', 'short_description polarity', \n",
      "                'short_description subjectivity', 'need_statement polarity', \n",
      "                'need_statement subjectivity', 'high poverty', 'highest poverty', 'low poverty',\n",
      "                'Books', 'Other', 'Supplies', 'Technology', 'Trips', 'Visitors',\n",
      "                1.0, 2.0, 3.0, 4.0, 5.0, 7.0, 8.0, 9.0, 10.0, 11.0, 12.0]\n",
      "\n",
      "feature_list_4 = ['funded', 'school_charter', 'school_magnet', 'school_year_round', \n",
      "                'school_nlns', 'school_kipp', 'school_charter_ready_promise', \n",
      "                'teacher_teach_for_america',\n",
      "                'teacher_ny_teaching_fellow','total_price_excluding_optional_support', \n",
      "                'students_reached','title polarity', 'title subjectivity', 'short_description polarity', \n",
      "                'short_description subjectivity', 'need_statement polarity', \n",
      "                'need_statement subjectivity', 'high poverty', 'highest poverty', 'low poverty',\n",
      "                'Books', 'Other', 'Supplies', 'Technology', 'Trips', 'Visitors', 'rural', \n",
      "                'suburban', 'urban',\n",
      "                1.0, 2.0, 3.0, 4.0, 5.0, 7.0, 8.0, 9.0, 10.0, 11.0, 12.0]\n",
      "\n",
      "feature_list_5 = ['funded', 'school_charter', 'school_magnet', 'school_year_round', \n",
      "                'school_nlns', 'school_kipp', 'school_charter_ready_promise', \n",
      "                'teacher_teach_for_america',\n",
      "                'teacher_ny_teaching_fellow','total_price_excluding_optional_support',\n",
      "                1.0, 2.0, 3.0, 4.0, 5.0, 7.0, 8.0, 9.0, 10.0, 11.0, 12.0]\n",
      "\n",
      "feature_list_6 = ['funded', 'school_charter', 'school_magnet', 'school_year_round', \n",
      "                'school_nlns', 'school_kipp', 'school_charter_ready_promise', \n",
      "                'teacher_teach_for_america',\n",
      "                'teacher_ny_teaching_fellow','total_price_excluding_optional_support', \n",
      "                'students_reached', 'title polarity', 'title subjectivity', 'short_description polarity', \n",
      "                'short_description subjectivity', 'need_statement polarity', \n",
      "                'need_statement subjectivity', 'high poverty', 'highest poverty', 'low poverty',\n",
      "                'Books', 'Other', 'Supplies', 'Technology', 'Trips', 'Visitors', 'rural', \n",
      "                'suburban', 'urban', \"Dr.\", \"Mr.\", \"Mr. & Mrs.\", \"Mrs.\", \"Ms.\",\n",
      "                1.0, 2.0, 3.0, 4.0, 5.0, 7.0, 8.0, 9.0, 10.0, 11.0, 12.0]\n",
      "\n",
      "feature_list_7 = ['funded', 'school_charter', 'school_magnet', 'school_year_round', \n",
      "                'school_nlns', 'school_kipp', 'school_charter_ready_promise', \n",
      "                'teacher_teach_for_america',\n",
      "                'teacher_ny_teaching_fellow','total_price_excluding_optional_support', \n",
      "                'students_reached', 'title polarity', 'title subjectivity', 'short_description polarity', \n",
      "                'short_description subjectivity', 'need_statement polarity', \n",
      "                'need_statement subjectivity', 'high poverty', 'highest poverty', 'low poverty',\n",
      "                'Books', 'Other', 'Supplies', 'Technology', 'Trips', 'Visitors', 'rural', \n",
      "                'suburban', 'urban', \"Dr.\", \"Mr.\", \"Mr. & Mrs.\", \"Mrs.\", \"Ms.\",\n",
      "                \"Grades 3-5\", \"Grades 6-8\", \"Grades 9-12\", \"Grades PreK-2\",\n",
      "                1.0, 2.0, 3.0, 4.0, 5.0, 7.0, 8.0, 9.0, 10.0, 11.0, 12.0]\n",
      "\n",
      "feature_list_8 = ['funded', 'school_charter', 'school_magnet', 'school_year_round', \n",
      "                'school_nlns', 'school_kipp', 'school_charter_ready_promise', \n",
      "                'teacher_teach_for_america',\n",
      "                'teacher_ny_teaching_fellow','total_price_excluding_optional_support', \n",
      "                'students_reached', 'title polarity', 'title subjectivity', 'short_description polarity', \n",
      "                'short_description subjectivity', 'need_statement polarity', \n",
      "                'need_statement subjectivity', 'high poverty', 'highest poverty', 'low poverty',\n",
      "                'Books', 'Other', 'Supplies', 'Technology', 'Trips', 'Visitors', 'rural', \n",
      "                'suburban', 'urban', \"Dr.\", \"Mr.\", \"Mr. & Mrs.\", \"Mrs.\", \"Ms.\",\n",
      "                \"Grades 3-5\", \"Grades 6-8\", \"Grades 9-12\", \"Grades PreK-2\",\n",
      "                \"Applied Learning\", \"Health & Sports\", \"History & Civics\", \n",
      "                \"Literacy & Language\", \"Math & Science\", \"Music & The Arts\", \n",
      "                \"Special Needs\", 1.0, 2.0, 3.0, 4.0, 5.0, 7.0, 8.0, 9.0, 10.0, 11.0, 12.0, \n",
      "                \"Applied Sciences\", \"Character Education\", \"Civics & Government\", \n",
      "                \"College & Career Prep\", \"Community Service\",\n",
      "                \"ESL\", \"Early Development\", \"Economics\", \"Environmental Science\", \"Extracurricular\",\n",
      "                \"Foreign Languages\", \"Gym & Fitness\", \"Health & Life Science\",\n",
      "                \"Health & Life Science\", \n",
      "                \"Health & Wellness\", \"History & Geography\", \"Literacy\", \"Literature & Writing\", \n",
      "                \"Mathematics\", \"Music\", \"Nutrition\", \"Other\",\n",
      "                \"Parent Involvement\", \"Performing Arts\", \"Social Sciences\",\n",
      "                \"Special Needs\", \"Sports\", \"Visual Arts\", \"second_focus\"]\n",
      "\n",
      "\n",
      "category_dict = {\"FLless2\": feature_list_less2, \"FLless1\": feature_list_less1,\n",
      "                 \"FL0\": feature_list_0, \"FL1\": feature_list_1, \n",
      "                 \"FL2\": feature_list_2, \"FL3\": feature_list_3,\n",
      "                 \"FL4\": feature_list_4, \"FL5\": feature_list_5,\n",
      "                 \"FL6\": feature_list_6, \"FL7\": feature_list_7,\n",
      "                 \"FL8\": feature_list_8}\n",
      "\n",
      "category_dict_2 = {\"FL4\": feature_list_4, \"FL5\": feature_list_5,\n",
      "                    \"FL6\": feature_list_6, \"FL7\": feature_list_7,\n",
      "                    \"FL8\": feature_list_8}\n",
      "\n",
      "category_dict_3 = {\"FLless2\": feature_list_less2, \"FL5\": feature_list_5,\n",
      "                   \"FL2\": feature_list_2, \"FL7\": feature_list_7,\n",
      "                   \"FL8\": feature_list_8, \"Updated List\": updated_feature_list}\n",
      "\n",
      "category_dict_4 = {\"FL8\": feature_list_8, \"Updated List\": updated_feature_list}\n",
      "\n",
      "est1 = KNeighborsClassifier()\n",
      "est2 = LogisticRegression()\n",
      "est3 = GaussianNB()\n",
      "est4 = SVC(probability=True)\n",
      "est5 = DecisionTreeClassifier()\n",
      "est6 = RandomForestClassifier()\n",
      "est7 = GradientBoostingClassifier()\n",
      "\n",
      "estlist = [est1, est2, est3, est4, est5, est6, est7]\n",
      "estlist2 = [est1, est2, est3]\n",
      "estlist3 = [est2, est4, est7]\n",
      "estlist4 = [est2, est7]\n",
      "estlist5 = [est2]"
     ],
     "language": "python",
     "metadata": {},
     "outputs": [],
     "prompt_number": 126
    },
    {
     "cell_type": "markdown",
     "metadata": {},
     "source": [
      "####Start Looking at different classifiers to predict success or not"
     ]
    },
    {
     "cell_type": "code",
     "collapsed": false,
     "input": [
      "def classification_function(df, cat_list, est_list):\n",
      "    \n",
      "    #Create category specific dataframe\n",
      "    new_df = pd.DataFrame()\n",
      "    for catname, cat in cat_list.iteritems():\n",
      "        new_df = df[cat]\n",
      "        new_df = new_df.dropna(axis=0)\n",
      "    \n",
      "        #Define Y-variable dataframe\n",
      "        y_df = pd.DataFrame()\n",
      "        y_df['funded'] = new_df['funded']\n",
      "#         print y_df\n",
      "        y_array = y_df['funded'].values\n",
      "        \n",
      "        #define a set of categorical data and create an X-variable dataframe\n",
      "        new_cat_list = cat[1:]\n",
      "        x_df = pd.DataFrame()\n",
      "        x_df = new_df[new_cat_list]\n",
      "        x_scaled = preprocessing.scale(x_df)\n",
      "\n",
      "        for model in est_list:\n",
      "        \n",
      "            model_name = str(model).split('(')[0]\n",
      "            \n",
      "            accuracy_score = cross_val_score(model, x_scaled, y_array, scoring = 'accuracy').mean()\n",
      "            precision_score = cross_val_score(model, x_scaled, y_array, scoring = 'precision').mean()\n",
      "            recall_score = cross_val_score(model, x_scaled, y_array, scoring = 'recall').mean()\n",
      "\n",
      "            print \"Category: \", catname\n",
      "            print \"Model: \", model_name\n",
      "            print \"\\t Accuracy Score: \", accuracy_score\n",
      "            print \"\\t Precision Score: \", precision_score\n",
      "            print \"\\t Recall Score: \", recall_score"
     ],
     "language": "python",
     "metadata": {},
     "outputs": [],
     "prompt_number": 127
    },
    {
     "cell_type": "code",
     "collapsed": false,
     "input": [
      "classification_function(dummy_sample, category_dict_4, estlist3)"
     ],
     "language": "python",
     "metadata": {},
     "outputs": [
      {
       "output_type": "stream",
       "stream": "stdout",
       "text": [
        "Category:  FL8\n",
        "Model:  LogisticRegression\n",
        "\t Accuracy Score:  0.715141005412\n",
        "\t Precision Score:  0.731661119285\n",
        "\t Recall Score:  0.951423785595\n",
        "Category: "
       ]
      },
      {
       "output_type": "stream",
       "stream": "stdout",
       "text": [
        " FL8\n",
        "Model:  SVC\n",
        "\t Accuracy Score:  0.716343405989\n",
        "\t Precision Score:  0.718413214189\n",
        "\t Recall Score:  0.993579006142\n",
        "Category: "
       ]
      },
      {
       "output_type": "stream",
       "stream": "stdout",
       "text": [
        " FL8\n",
        "Model:  GradientBoostingClassifier\n",
        "\t Accuracy Score:  0.712941445324\n",
        "\t Precision Score:  0.730332333081\n",
        "\t Recall Score:  0.949469570073\n",
        "Category: "
       ]
      },
      {
       "output_type": "stream",
       "stream": "stdout",
       "text": [
        " Updated List\n",
        "Model:  LogisticRegression\n",
        "\t Accuracy Score:  0.714942965789\n",
        "\t Precision Score:  0.725582424173\n",
        "\t Recall Score:  0.968453378001\n",
        "Category: "
       ]
      },
      {
       "output_type": "stream",
       "stream": "stdout",
       "text": [
        " Updated List\n",
        "Model:  SVC\n",
        "\t Accuracy Score:  0.714542565677\n",
        "\t Precision Score:  0.718073632501\n",
        "\t Recall Score:  0.990508096036\n",
        "Category: "
       ]
      },
      {
       "output_type": "stream",
       "stream": "stdout",
       "text": [
        " Updated List\n",
        "Model:  GradientBoostingClassifier\n",
        "\t Accuracy Score:  0.710940284932\n",
        "\t Precision Score:  0.729476861894\n",
        "\t Recall Score:  0.947794528197\n"
       ]
      }
     ],
     "prompt_number": 125
    },
    {
     "cell_type": "markdown",
     "metadata": {},
     "source": [
      "###Looking at StatsModels to look at each feature significance"
     ]
    },
    {
     "cell_type": "code",
     "collapsed": false,
     "input": [
      "def statslogistic(df, catlist):\n",
      "    new_df = pd.DataFrame()\n",
      "    new_df = df[catlist]\n",
      "    new_df = new_df.dropna()\n",
      "    \n",
      "    Y = new_df[\"funded\"]\n",
      "    \n",
      "    new_cat_list = catlist[1:]\n",
      "    X = new_df[new_cat_list]\n",
      "    X_scaled = preprocessing.scale(X)\n",
      "    X_scaled = st.add_constant(X)\n",
      "    \n",
      "    logmodel = Logit(Y, X_scaled).fit(maxiter=250)\n",
      "    print logmodel.summary()"
     ],
     "language": "python",
     "metadata": {},
     "outputs": [],
     "prompt_number": 143
    },
    {
     "cell_type": "code",
     "collapsed": false,
     "input": [
      "##Took out everything that wasn't significant - e.g. score over .35\n",
      "updated_feature_list = ['funded', 'school_charter', 'school_year_round', \n",
      "                'school_nlns', 'school_charter_ready_promise', \n",
      "                'teacher_teach_for_america', 'total_price_excluding_optional_support',\n",
      "                'price/student','teacher_ny_teaching_fellow', \n",
      "                1.0, 2.0, 3.0, 5.0, 7.0, 8.0, 9.0, 10.0, 11.0, 12.0,\n",
      "                'title polarity', 'title subjectivity',\n",
      "                'high poverty', 'highest poverty', 'low poverty',\n",
      "                'rural', 'suburban', 'urban', \n",
      "                \"Applied Learning\", \n",
      "                \"Music & The Arts\", \n",
      "                \"Character Education\", \n",
      "                \"College & Career Prep\", \"Community Service\",\n",
      "                \"ESL\", \"Early Development\", \"Economics\", \"Extracurricular\",\n",
      "                \"Foreign Languages\", \"Literacy\", \"Literature & Writing\",\n",
      "                \"Music\", \"Performing Arts\"]\n",
      "\n",
      "Second_set_list = [\"Applied Sciences\", \"Character Education\", \"Civics & Government\", \n",
      "                \"College & Career Prep\", \"Community Service\",\n",
      "                \"ESL\", \"Early Development\", \"Economics\", \"Environmental Science\", \"Extracurricular\",\n",
      "                \"Foreign Languages\", \"Gym & Fitness\", \"Health & Life Science\",\n",
      "                \"Health & Life Science\", \"Health & Wellness\", \"History & Geography\", \"Literacy\", \"Literature & Writing\", \n",
      "                \"Mathematics\", \"Music\", \"Nutrition\", \"Other\",\n",
      "                \"Parent Involvement\", \"Performing Arts\", \"Social Sciences\",\n",
      "                \"Sports\", \"Visual Arts\", \"second_focus\"]"
     ],
     "language": "python",
     "metadata": {},
     "outputs": [],
     "prompt_number": 181
    },
    {
     "cell_type": "code",
     "collapsed": false,
     "input": [
      "statslogistic(dummy_df_8, updated_feature_list)"
     ],
     "language": "python",
     "metadata": {},
     "outputs": [
      {
       "output_type": "stream",
       "stream": "stdout",
       "text": [
        "Optimization terminated successfully.\n",
        "         Current function value: 0.572766\n",
        "         Iterations 7\n",
        "                           Logit Regression Results                           \n",
        "==============================================================================\n",
        "Dep. Variable:                 funded   No. Observations:               722823\n",
        "Model:                          Logit   Df Residuals:                   722782\n",
        "Method:                           MLE   Df Model:                           40\n",
        "Date:                Wed, 25 Mar 2015   Pseudo R-squ.:                 0.04529\n",
        "Time:                        16:50:53   Log-Likelihood:            -4.1401e+05\n",
        "converged:                       True   LL-Null:                   -4.3365e+05\n",
        "                                        LLR p-value:                     0.000\n",
        "==========================================================================================================\n",
        "                                             coef    std err          z      P>|z|      [95.0% Conf. Int.]\n",
        "----------------------------------------------------------------------------------------------------------\n",
        "const                                      0.7096      0.013     54.606      0.000         0.684     0.735\n",
        "school_charter                             0.1145      0.010     11.290      0.000         0.095     0.134\n",
        "school_year_round                         -0.0698      0.014     -4.973      0.000        -0.097    -0.042\n",
        "school_nlns                                0.2615      0.026     10.096      0.000         0.211     0.312\n",
        "school_charter_ready_promise               0.3023      0.046      6.628      0.000         0.213     0.392\n",
        "teacher_teach_for_america                  0.5971      0.014     41.976      0.000         0.569     0.625\n",
        "total_price_excluding_optional_support    -0.0007   6.07e-06   -111.500      0.000        -0.001    -0.001\n",
        "price/student                           6.734e-07   6.53e-09    103.206      0.000      6.61e-07  6.86e-07\n",
        "teacher_ny_teaching_fellow                 0.4732      0.025     18.979      0.000         0.424     0.522\n",
        "1.0                                        0.1281      0.012     11.047      0.000         0.105     0.151\n",
        "2.0                                       -0.0788      0.012     -6.795      0.000        -0.102    -0.056\n",
        "3.0                                        0.0407      0.012      3.470      0.001         0.018     0.064\n",
        "5.0                                        0.0776      0.013      5.869      0.000         0.052     0.104\n",
        "7.0                                        0.1984      0.013     15.341      0.000         0.173     0.224\n",
        "8.0                                        0.5411      0.011     47.803      0.000         0.519     0.563\n",
        "9.0                                        0.6951      0.011     63.928      0.000         0.674     0.716\n",
        "10.0                                       0.5350      0.011     47.408      0.000         0.513     0.557\n",
        "11.0                                       0.3938      0.012     32.413      0.000         0.370     0.418\n",
        "12.0                                       0.4675      0.012     37.813      0.000         0.443     0.492\n",
        "title polarity                            -0.0351      0.015     -2.333      0.020        -0.065    -0.006\n",
        "title subjectivity                         0.0803      0.012      6.827      0.000         0.057     0.103\n",
        "high poverty                               0.0249      0.009      2.918      0.004         0.008     0.042\n",
        "highest poverty                            0.2081      0.008     25.932      0.000         0.192     0.224\n",
        "low poverty                                0.1524      0.018      8.441      0.000         0.117     0.188\n",
        "rural                                     -0.1451      0.010    -14.144      0.000        -0.165    -0.125\n",
        "suburban                                   0.1513      0.009     16.542      0.000         0.133     0.169\n",
        "urban                                      0.3428      0.008     40.620      0.000         0.326     0.359\n",
        "Applied Learning                          -0.5946      0.017    -34.018      0.000        -0.629    -0.560\n",
        "Music & The Arts                           0.0369      0.014      2.720      0.007         0.010     0.064\n",
        "Character Education                        0.4982      0.028     17.654      0.000         0.443     0.554\n",
        "College & Career Prep                      0.4791      0.032     15.198      0.000         0.417     0.541\n",
        "Community Service                          0.4813      0.060      8.017      0.000         0.364     0.599\n",
        "ESL                                       -0.3897      0.022    -17.860      0.000        -0.432    -0.347\n",
        "Early Development                          0.2207      0.024      9.093      0.000         0.173     0.268\n",
        "Economics                                  0.4362      0.055      7.977      0.000         0.329     0.543\n",
        "Extracurricular                            0.4055      0.043      9.410      0.000         0.321     0.490\n",
        "Foreign Languages                         -0.3255      0.030    -10.997      0.000        -0.384    -0.268\n",
        "Literacy                                  -0.1989      0.007    -30.420      0.000        -0.212    -0.186\n",
        "Literature & Writing                      -0.2101      0.009    -24.309      0.000        -0.227    -0.193\n",
        "Music                                      0.2343      0.021     11.233      0.000         0.193     0.275\n",
        "Performing Arts                            0.1257      0.028      4.542      0.000         0.071     0.180\n",
        "=========================================================================================================="
       ]
      },
      {
       "output_type": "stream",
       "stream": "stdout",
       "text": [
        "\n"
       ]
      }
     ],
     "prompt_number": 182
    },
    {
     "cell_type": "code",
     "collapsed": false,
     "input": [
      "statslogistic(dummy_df_8, feature_list_8)"
     ],
     "language": "python",
     "metadata": {},
     "outputs": []
    },
    {
     "cell_type": "code",
     "collapsed": false,
     "input": [
      "test_df = pd.DataFrame()\n",
      "test_cat_list = feature_list_8[1:]\n",
      "test_df = dummy_df_5[test_cat_list]\n",
      "print len(test_df)"
     ],
     "language": "python",
     "metadata": {},
     "outputs": [
      {
       "output_type": "stream",
       "stream": "stdout",
       "text": [
        "722823\n"
       ]
      }
     ],
     "prompt_number": 133
    },
    {
     "cell_type": "code",
     "collapsed": false,
     "input": [
      "test_df = test_df.dropna()\n",
      "print len(test_df)"
     ],
     "language": "python",
     "metadata": {},
     "outputs": [
      {
       "output_type": "stream",
       "stream": "stdout",
       "text": [
        "722816\n"
       ]
      }
     ],
     "prompt_number": 134
    },
    {
     "cell_type": "code",
     "collapsed": false,
     "input": [
      "statslogistic(dummy_df_5, updated_feature_list)"
     ],
     "language": "python",
     "metadata": {},
     "outputs": []
    },
    {
     "cell_type": "code",
     "collapsed": false,
     "input": [
      "def threshold_function(df, cat_list, est_list):\n",
      "    \n",
      "    #Create category specific dataframe\n",
      "    new_df = pd.DataFrame()\n",
      "    for catname, cat in cat_list.iteritems():\n",
      "        new_df = df[cat]\n",
      "        new_df = new_df.dropna(axis=0)\n",
      "    \n",
      "        #Define Y-variable dataframe\n",
      "        y_df = pd.DataFrame()\n",
      "        y_df['funded'] = new_df['funded']\n",
      "        y_array = y_df['funded'].values\n",
      "        \n",
      "        #define a set of categorical data and create an X-variable dataframe\n",
      "        new_cat_list = cat[1:]\n",
      "        x_df = pd.DataFrame()\n",
      "        x_df = new_df[new_cat_list]\n",
      "\n",
      "        for model in est_list:\n",
      "        \n",
      "            model_name = str(model).split('(')[0]\n",
      "            \n",
      "            Y_train, Y_test, X_train, X_test = train_test_split(y_df, x_df, test_size = .25)\n",
      "            \n",
      "            model.fit(X_train, Y_train)\n",
      "            probas = model.fit(X_train, Y_train).predict_proba(X_test)\n",
      "            \n",
      "            print probas\n",
      "#             Yp = model.predict(X_test)\n",
      "            \n",
      "            \n",
      "#             acc_score = accuracy_score(Y_test, Yp)\n",
      "#             print \"Accuracy Score: \", acc_score"
     ],
     "language": "python",
     "metadata": {},
     "outputs": [],
     "prompt_number": 222
    },
    {
     "cell_type": "code",
     "collapsed": false,
     "input": [
      "threshold_function(dummy_small_sample, category_dict_3, estlist5)"
     ],
     "language": "python",
     "metadata": {},
     "outputs": []
    },
    {
     "cell_type": "code",
     "collapsed": false,
     "input": [
      "####Threshold function:\n",
      "\n",
      "def threshold(y, thres = 0.4):\n",
      "    return int(y >= thres)\n",
      "\n",
      "y_pred = map(threshold, logmodel.predict(X))\n",
      "\n",
      "print accuracy_score(Y, y_pred)\n",
      "print precision_score(Y, y_pred)\n",
      "print recall_score(Y, y_pred)"
     ],
     "language": "python",
     "metadata": {},
     "outputs": []
    }
   ],
   "metadata": {}
  }
 ]
}