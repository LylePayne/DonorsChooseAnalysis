{
 "metadata": {
  "name": "",
  "signature": "sha256:7e78eda04e414ad77181e056fd731916f7815fdef8cfa1d2ec28a68b16ef9d3e"
 },
 "nbformat": 3,
 "nbformat_minor": 0,
 "worksheets": [
  {
   "cells": [
    {
     "cell_type": "code",
     "collapsed": false,
     "input": [
      "import pandas as pd\n",
      "import numpy as np\n",
      "import matplotlib.pyplot as plt\n",
      "from sklearn.cross_validation import train_test_split\n",
      "from sklearn.linear_model import LogisticRegression\n",
      "from statsmodels.formula.api import Logit\n",
      "from sklearn.neighbors import KNeighborsClassifier\n",
      "from sklearn.metrics import accuracy_score\n",
      "from sklearn.metrics import classification_report\n",
      "from sklearn.metrics import confusion_matrix\n",
      "from sklearn.learning_curve import learning_curve\n",
      "from sklearn.naive_bayes import GaussianNB\n",
      "from sklearn.svm import SVC\n",
      "from sklearn.tree import DecisionTreeClassifier\n",
      "from sklearn.ensemble import RandomForestClassifier\n",
      "from sklearn.cross_validation import cross_val_score\n",
      "import pymysql\n",
      "import seaborn as sn\n",
      "from sklearn.ensemble import GradientBoostingClassifier, RandomForestClassifier\n",
      "from textblob import TextBlob\n",
      "import statsmodels.formula.api as sm\n",
      "import statsmodels.api as st\n",
      "from statsmodels.discrete.discrete_model import Logit\n",
      "import pickle"
     ],
     "language": "python",
     "metadata": {},
     "outputs": [],
     "prompt_number": 1
    },
    {
     "cell_type": "code",
     "collapsed": false,
     "input": [
      "with open(\"funding_sentiment_df.pkl\", \"r\") as picklefile:\n",
      "    funding_sentiment_df = pickle.load(picklefile)"
     ],
     "language": "python",
     "metadata": {},
     "outputs": [],
     "prompt_number": 2
    },
    {
     "cell_type": "code",
     "collapsed": false,
     "input": [
      "funding_sentiment_df.head()"
     ],
     "language": "python",
     "metadata": {},
     "outputs": [
      {
       "html": [
        "<div style=\"max-height:1000px;max-width:1500px;overflow:auto;\">\n",
        "<table border=\"1\" class=\"dataframe\">\n",
        "  <thead>\n",
        "    <tr style=\"text-align: right;\">\n",
        "      <th></th>\n",
        "      <th>_teacher_acctid</th>\n",
        "      <th>_schoolid</th>\n",
        "      <th>school_ncesid</th>\n",
        "      <th>school_latitude</th>\n",
        "      <th>school_longitude</th>\n",
        "      <th>school_city</th>\n",
        "      <th>school_state</th>\n",
        "      <th>school_zip</th>\n",
        "      <th>school_metro</th>\n",
        "      <th>school_district</th>\n",
        "      <th>...</th>\n",
        "      <th>month_posted</th>\n",
        "      <th>year_posted</th>\n",
        "      <th>funded</th>\n",
        "      <th>_projectid</th>\n",
        "      <th>title polarity</th>\n",
        "      <th>title subjectivity</th>\n",
        "      <th>short_description polarity</th>\n",
        "      <th>short_description subjectivity</th>\n",
        "      <th>need_statement polarity</th>\n",
        "      <th>need_statement subjectivity</th>\n",
        "    </tr>\n",
        "  </thead>\n",
        "  <tbody>\n",
        "    <tr>\n",
        "      <th>0</th>\n",
        "      <td> \"\"\"2e17c8c91cb58132d8103a9aa8797e80\"\"\"</td>\n",
        "      <td> \"\"\"45e7ddbdd7023f1eb65a6cc028d7414f\"\"\"</td>\n",
        "      <td> 360009001332</td>\n",
        "      <td> 40.841691</td>\n",
        "      <td>-73.875457</td>\n",
        "      <td>    Bronx</td>\n",
        "      <td> NY</td>\n",
        "      <td> 10460</td>\n",
        "      <td> urban</td>\n",
        "      <td> New York City Dept Of Ed</td>\n",
        "      <td>...</td>\n",
        "      <td>  3</td>\n",
        "      <td> 2007</td>\n",
        "      <td> 1</td>\n",
        "      <td> \"\"\"e565fb42185c6e9f22806ad9d5ac8a77\"\"\"</td>\n",
        "      <td> 0.0</td>\n",
        "      <td> 0.0</td>\n",
        "      <td> 0.10</td>\n",
        "      <td> 0.25</td>\n",
        "      <td> 0.000000</td>\n",
        "      <td> 0.000000</td>\n",
        "    </tr>\n",
        "    <tr>\n",
        "      <th>1</th>\n",
        "      <td> \"\"\"6b3721c9585633fa716e629ec501ff5a\"\"\"</td>\n",
        "      <td> \"\"\"45e7ddbdd7023f1eb65a6cc028d7414f\"\"\"</td>\n",
        "      <td> 360009001332</td>\n",
        "      <td> 40.841691</td>\n",
        "      <td>-73.875457</td>\n",
        "      <td>    Bronx</td>\n",
        "      <td> NY</td>\n",
        "      <td> 10460</td>\n",
        "      <td> urban</td>\n",
        "      <td> New York City Dept Of Ed</td>\n",
        "      <td>...</td>\n",
        "      <td> 11</td>\n",
        "      <td> 2002</td>\n",
        "      <td> 1</td>\n",
        "      <td> \"\"\"76108ed46f99f27beb4c605b69c92b07\"\"\"</td>\n",
        "      <td> 0.0</td>\n",
        "      <td> 0.0</td>\n",
        "      <td> 0.16</td>\n",
        "      <td> 0.54</td>\n",
        "      <td> 0.500000</td>\n",
        "      <td> 0.500000</td>\n",
        "    </tr>\n",
        "    <tr>\n",
        "      <th>2</th>\n",
        "      <td> \"\"\"ed55d66251be5810b38e1b2505b7673d\"\"\"</td>\n",
        "      <td> \"\"\"923a1f4850d4e09ad5b8d015ae988505\"\"\"</td>\n",
        "      <td> 360007702871</td>\n",
        "      <td> 40.742210</td>\n",
        "      <td>-74.002041</td>\n",
        "      <td> New York</td>\n",
        "      <td> NY</td>\n",
        "      <td> 10011</td>\n",
        "      <td> urban</td>\n",
        "      <td> New York City Dept Of Ed</td>\n",
        "      <td>...</td>\n",
        "      <td> 11</td>\n",
        "      <td> 2002</td>\n",
        "      <td> 1</td>\n",
        "      <td> \"\"\"2568882e4906849754bbe7246d01ed5e\"\"\"</td>\n",
        "      <td> 0.0</td>\n",
        "      <td> 0.0</td>\n",
        "      <td> 0.00</td>\n",
        "      <td> 0.00</td>\n",
        "      <td> 0.000000</td>\n",
        "      <td> 0.000000</td>\n",
        "    </tr>\n",
        "    <tr>\n",
        "      <th>3</th>\n",
        "      <td> \"\"\"ba7ada7b8ef61280b6e8783b59625650\"\"\"</td>\n",
        "      <td> \"\"\"45e7ddbdd7023f1eb65a6cc028d7414f\"\"\"</td>\n",
        "      <td> 360009001332</td>\n",
        "      <td> 40.841691</td>\n",
        "      <td>-73.875457</td>\n",
        "      <td>    Bronx</td>\n",
        "      <td> NY</td>\n",
        "      <td> 10460</td>\n",
        "      <td> urban</td>\n",
        "      <td> New York City Dept Of Ed</td>\n",
        "      <td>...</td>\n",
        "      <td> 11</td>\n",
        "      <td> 2002</td>\n",
        "      <td> 1</td>\n",
        "      <td> \"\"\"e49f6d07f9da7086d2d823311639f479\"\"\"</td>\n",
        "      <td>-0.1</td>\n",
        "      <td> 0.1</td>\n",
        "      <td> 0.28</td>\n",
        "      <td> 0.67</td>\n",
        "      <td> 0.000000</td>\n",
        "      <td> 0.000000</td>\n",
        "    </tr>\n",
        "    <tr>\n",
        "      <th>4</th>\n",
        "      <td> \"\"\"58574f5ee5f3d74a4be12379f8097310\"\"\"</td>\n",
        "      <td> \"\"\"45e7ddbdd7023f1eb65a6cc028d7414f\"\"\"</td>\n",
        "      <td> 360009001332</td>\n",
        "      <td> 40.841691</td>\n",
        "      <td>-73.875457</td>\n",
        "      <td>    Bronx</td>\n",
        "      <td> NY</td>\n",
        "      <td> 10460</td>\n",
        "      <td> urban</td>\n",
        "      <td> New York City Dept Of Ed</td>\n",
        "      <td>...</td>\n",
        "      <td> 11</td>\n",
        "      <td> 2002</td>\n",
        "      <td> 1</td>\n",
        "      <td> \"\"\"548b161b4e808fb580075e03774da1b9\"\"\"</td>\n",
        "      <td> 0.0</td>\n",
        "      <td> 0.5</td>\n",
        "      <td> 0.00</td>\n",
        "      <td> 0.20</td>\n",
        "      <td> 0.128788</td>\n",
        "      <td> 0.466667</td>\n",
        "    </tr>\n",
        "  </tbody>\n",
        "</table>\n",
        "<p>5 rows \u00d7 54 columns</p>\n",
        "</div>"
       ],
       "metadata": {},
       "output_type": "pyout",
       "prompt_number": 3,
       "text": [
        "                          _teacher_acctid  \\\n",
        "0  \"\"\"2e17c8c91cb58132d8103a9aa8797e80\"\"\"   \n",
        "1  \"\"\"6b3721c9585633fa716e629ec501ff5a\"\"\"   \n",
        "2  \"\"\"ed55d66251be5810b38e1b2505b7673d\"\"\"   \n",
        "3  \"\"\"ba7ada7b8ef61280b6e8783b59625650\"\"\"   \n",
        "4  \"\"\"58574f5ee5f3d74a4be12379f8097310\"\"\"   \n",
        "\n",
        "                                _schoolid school_ncesid  school_latitude  \\\n",
        "0  \"\"\"45e7ddbdd7023f1eb65a6cc028d7414f\"\"\"  360009001332        40.841691   \n",
        "1  \"\"\"45e7ddbdd7023f1eb65a6cc028d7414f\"\"\"  360009001332        40.841691   \n",
        "2  \"\"\"923a1f4850d4e09ad5b8d015ae988505\"\"\"  360007702871        40.742210   \n",
        "3  \"\"\"45e7ddbdd7023f1eb65a6cc028d7414f\"\"\"  360009001332        40.841691   \n",
        "4  \"\"\"45e7ddbdd7023f1eb65a6cc028d7414f\"\"\"  360009001332        40.841691   \n",
        "\n",
        "   school_longitude school_city school_state school_zip school_metro  \\\n",
        "0        -73.875457       Bronx           NY      10460        urban   \n",
        "1        -73.875457       Bronx           NY      10460        urban   \n",
        "2        -74.002041    New York           NY      10011        urban   \n",
        "3        -73.875457       Bronx           NY      10460        urban   \n",
        "4        -73.875457       Bronx           NY      10460        urban   \n",
        "\n",
        "            school_district             ...              month_posted  \\\n",
        "0  New York City Dept Of Ed             ...                         3   \n",
        "1  New York City Dept Of Ed             ...                        11   \n",
        "2  New York City Dept Of Ed             ...                        11   \n",
        "3  New York City Dept Of Ed             ...                        11   \n",
        "4  New York City Dept Of Ed             ...                        11   \n",
        "\n",
        "   year_posted  funded                              _projectid  \\\n",
        "0         2007       1  \"\"\"e565fb42185c6e9f22806ad9d5ac8a77\"\"\"   \n",
        "1         2002       1  \"\"\"76108ed46f99f27beb4c605b69c92b07\"\"\"   \n",
        "2         2002       1  \"\"\"2568882e4906849754bbe7246d01ed5e\"\"\"   \n",
        "3         2002       1  \"\"\"e49f6d07f9da7086d2d823311639f479\"\"\"   \n",
        "4         2002       1  \"\"\"548b161b4e808fb580075e03774da1b9\"\"\"   \n",
        "\n",
        "   title polarity  title subjectivity  short_description polarity  \\\n",
        "0             0.0                 0.0                        0.10   \n",
        "1             0.0                 0.0                        0.16   \n",
        "2             0.0                 0.0                        0.00   \n",
        "3            -0.1                 0.1                        0.28   \n",
        "4             0.0                 0.5                        0.00   \n",
        "\n",
        "  short_description subjectivity  need_statement polarity  \\\n",
        "0                           0.25                 0.000000   \n",
        "1                           0.54                 0.500000   \n",
        "2                           0.00                 0.000000   \n",
        "3                           0.67                 0.000000   \n",
        "4                           0.20                 0.128788   \n",
        "\n",
        "   need_statement subjectivity  \n",
        "0                     0.000000  \n",
        "1                     0.500000  \n",
        "2                     0.000000  \n",
        "3                     0.000000  \n",
        "4                     0.466667  \n",
        "\n",
        "[5 rows x 54 columns]"
       ]
      }
     ],
     "prompt_number": 3
    },
    {
     "cell_type": "code",
     "collapsed": false,
     "input": [
      "import pprint as pp\n",
      "funding_sentiment_df.dtypes"
     ],
     "language": "python",
     "metadata": {},
     "outputs": [
      {
       "metadata": {},
       "output_type": "pyout",
       "prompt_number": 90,
       "text": [
        "_teacher_acctid                                   object\n",
        "_schoolid                                         object\n",
        "school_ncesid                                     object\n",
        "school_latitude                                  float64\n",
        "school_longitude                                 float64\n",
        "school_city                                       object\n",
        "school_state                                      object\n",
        "school_zip                                        object\n",
        "school_metro                                      object\n",
        "school_district                                   object\n",
        "school_county                                     object\n",
        "school_charter                                     int64\n",
        "school_magnet                                      int64\n",
        "school_year_round                                  int64\n",
        "school_nlns                                        int64\n",
        "school_kipp                                        int64\n",
        "school_charter_ready_promise                       int64\n",
        "teacher_prefix                                    object\n",
        "teacher_teach_for_america                          int64\n",
        "teacher_ny_teaching_fellow                         int64\n",
        "primary_focus_subject                             object\n",
        "primary_focus_area                                object\n",
        "secondary_focus_subject                           object\n",
        "secondary_focus_area                              object\n",
        "resource_type                                     object\n",
        "poverty_level                                     object\n",
        "grade_level                                       object\n",
        "vendor_shipping_charges                          float64\n",
        "sales_tax                                        float64\n",
        "payment_processing_charges                       float64\n",
        "fulfillment_labor_materials                      float64\n",
        "total_price_excluding_optional_support           float64\n",
        "total_price_including_optional_support           float64\n",
        "students_reached                                   int64\n",
        "total_donations                                  float64\n",
        "num_donors                                         int64\n",
        "eligible_double_your_impact_match                 object\n",
        "eligible_almost_home_match                         int64\n",
        "funding_status                                    object\n",
        "date_posted                               datetime64[ns]\n",
        "date_completed                                    object\n",
        "date_thank_you_packet_mailed                      object\n",
        "date_expiration                                   object\n",
        "price/student                                    float64\n",
        "month_posted                                     float64\n",
        "year_posted                                      float64\n",
        "funded                                             int64\n",
        "_projectid                                        object\n",
        "title polarity                                   float64\n",
        "title subjectivity                               float64\n",
        "short_description polarity                       float64\n",
        "short_description subjectivity                   float64\n",
        "need_statement polarity                          float64\n",
        "need_statement subjectivity                      float64\n",
        "Length: 54, dtype: object"
       ]
      }
     ],
     "prompt_number": 90
    },
    {
     "cell_type": "code",
     "collapsed": false,
     "input": [
      "len(funding_sentiment_df)"
     ],
     "language": "python",
     "metadata": {},
     "outputs": [
      {
       "metadata": {},
       "output_type": "pyout",
       "prompt_number": 13,
       "text": [
        "722823"
       ]
      }
     ],
     "prompt_number": 13
    },
    {
     "cell_type": "markdown",
     "metadata": {},
     "source": [
      "####Adding dummy variables where necessary"
     ]
    },
    {
     "cell_type": "markdown",
     "metadata": {},
     "source": [
      "####poverty dummies"
     ]
    },
    {
     "cell_type": "code",
     "collapsed": false,
     "input": [
      "# dummy_pov_df = pd.get_dummies(funding_sentiment_df, columns=\"poverty_level\")\n",
      "\n",
      "dummy_pov_df = pd.concat([funding_sentiment_df, pd.get_dummies(funding_sentiment_df['poverty_level'])], axis = 1)\n",
      "#setting axis = 1 means adding columns, not rows"
     ],
     "language": "python",
     "metadata": {},
     "outputs": [],
     "prompt_number": 3
    },
    {
     "cell_type": "code",
     "collapsed": false,
     "input": [
      "len(dummy_pov_df)"
     ],
     "language": "python",
     "metadata": {},
     "outputs": [
      {
       "metadata": {},
       "output_type": "pyout",
       "prompt_number": 14,
       "text": [
        "722823"
       ]
      }
     ],
     "prompt_number": 14
    },
    {
     "cell_type": "markdown",
     "metadata": {},
     "source": [
      "####resource type dummies"
     ]
    },
    {
     "cell_type": "code",
     "collapsed": false,
     "input": [
      "test = dummy_pov_df[:100]"
     ],
     "language": "python",
     "metadata": {},
     "outputs": [],
     "prompt_number": 4
    },
    {
     "cell_type": "code",
     "collapsed": false,
     "input": [
      "test.loc[~test['resource_type'].isin(['Books', 'Other', 'Supplies', 'Technology', 'Trips', 'Visitors']),\n",
      "         'resource_type']=\"None\""
     ],
     "language": "python",
     "metadata": {},
     "outputs": [],
     "prompt_number": 6
    },
    {
     "cell_type": "code",
     "collapsed": false,
     "input": [
      "dummy_pov_df.loc[~dummy_pov_df['resource_type'].isin(['Books', 'Other', 'Supplies', 'Technology', 'Trips', 'Visitors']),\n",
      "         'resource_type']= None"
     ],
     "language": "python",
     "metadata": {},
     "outputs": [],
     "prompt_number": 44
    },
    {
     "cell_type": "code",
     "collapsed": false,
     "input": [
      "%matplotlib inline\n",
      "sn.barplot(dummy_pov_df.resource_type)"
     ],
     "language": "python",
     "metadata": {},
     "outputs": [
      {
       "metadata": {},
       "output_type": "pyout",
       "prompt_number": 45,
       "text": [
        "<matplotlib.axes._subplots.AxesSubplot at 0x17d68ec10>"
       ]
      },
      {
       "metadata": {},
       "output_type": "display_data",
       "png": "[encoded data removed]",
       "text": [
        "<matplotlib.figure.Figure at 0x1802d7110>"
       ]
      }
     ],
     "prompt_number": 45
    },
    {
     "cell_type": "code",
     "collapsed": false,
     "input": [
      "dummy_df = pd.concat([dummy_pov_df, pd.get_dummies(dummy_pov_df['resource_type'])], axis=1)"
     ],
     "language": "python",
     "metadata": {},
     "outputs": [],
     "prompt_number": 49
    },
    {
     "cell_type": "markdown",
     "metadata": {},
     "source": [
      "####school metro dummies"
     ]
    },
    {
     "cell_type": "code",
     "collapsed": false,
     "input": [
      "dummy_df.loc[~dummy_df[\"school_metro\"].isin([\"rural\", \"suburban\", \"urban\"]), \"school_metro\"] = None"
     ],
     "language": "python",
     "metadata": {},
     "outputs": [],
     "prompt_number": 63
    },
    {
     "cell_type": "code",
     "collapsed": false,
     "input": [
      "sn.barplot(dummy_df.school_metro)"
     ],
     "language": "python",
     "metadata": {},
     "outputs": [
      {
       "metadata": {},
       "output_type": "pyout",
       "prompt_number": 64,
       "text": [
        "<matplotlib.axes._subplots.AxesSubplot at 0x12b0c4490>"
       ]
      },
      {
       "metadata": {},
       "output_type": "display_data",
       "png": "[encoded data removed]",
       "text": [
        "<matplotlib.figure.Figure at 0x15671f690>"
       ]
      }
     ],
     "prompt_number": 64
    },
    {
     "cell_type": "markdown",
     "metadata": {},
     "source": [
      "####resource dummies"
     ]
    },
    {
     "cell_type": "code",
     "collapsed": false,
     "input": [
      "dummy_df_2 = pd.concat([dummy_df, pd.get_dummies(dummy_df['school_metro'])], axis=1)"
     ],
     "language": "python",
     "metadata": {},
     "outputs": [],
     "prompt_number": 65
    },
    {
     "cell_type": "markdown",
     "metadata": {},
     "source": [
      "####mr mrs dummies"
     ]
    },
    {
     "cell_type": "code",
     "collapsed": false,
     "input": [
      "sn.barplot(dummy_df_2.teacher_prefix)"
     ],
     "language": "python",
     "metadata": {},
     "outputs": [
      {
       "metadata": {},
       "output_type": "pyout",
       "prompt_number": 66,
       "text": [
        "<matplotlib.axes._subplots.AxesSubplot at 0x155cae550>"
       ]
      },
      {
       "metadata": {},
       "output_type": "display_data",
       "png": "[encoded data removed]",
       "text": [
        "<matplotlib.figure.Figure at 0x153d51190>"
       ]
      }
     ],
     "prompt_number": 66
    },
    {
     "cell_type": "code",
     "collapsed": false,
     "input": [
      "dummy_df_2.loc[~dummy_df_2[\"teacher_prefix\"].isin([\"Dr.\", \"Mr.\", \"Mr. & Mrs.\", \"Mrs.\", \"Ms.\"]), \"teacher_prefix\"] = None"
     ],
     "language": "python",
     "metadata": {},
     "outputs": [],
     "prompt_number": 67
    },
    {
     "cell_type": "code",
     "collapsed": false,
     "input": [
      "sn.barplot(dummy_df_2.teacher_prefix)"
     ],
     "language": "python",
     "metadata": {},
     "outputs": [
      {
       "metadata": {},
       "output_type": "pyout",
       "prompt_number": 68,
       "text": [
        "<matplotlib.axes._subplots.AxesSubplot at 0x15588f310>"
       ]
      },
      {
       "metadata": {},
       "output_type": "display_data",
       "png": "[encoded data removed]",
       "text": [
        "<matplotlib.figure.Figure at 0x1558a2490>"
       ]
      }
     ],
     "prompt_number": 68
    },
    {
     "cell_type": "code",
     "collapsed": false,
     "input": [
      "dummy_df_3 = pd.concat([dummy_df_2, pd.get_dummies(dummy_df_2['teacher_prefix'])], axis=1)"
     ],
     "language": "python",
     "metadata": {},
     "outputs": [],
     "prompt_number": 69
    },
    {
     "cell_type": "markdown",
     "metadata": {},
     "source": [
      "####Getting dummy data for the grade level"
     ]
    },
    {
     "cell_type": "code",
     "collapsed": false,
     "input": [
      "sn.barplot(dummy_df_3.grade_level)"
     ],
     "language": "python",
     "metadata": {},
     "outputs": [
      {
       "metadata": {},
       "output_type": "pyout",
       "prompt_number": 78,
       "text": [
        "<matplotlib.axes._subplots.AxesSubplot at 0x15442f910>"
       ]
      },
      {
       "metadata": {},
       "output_type": "display_data",
       "png": "[encoded data removed]",
       "text": [
        "<matplotlib.figure.Figure at 0x154d47450>"
       ]
      }
     ],
     "prompt_number": 78
    },
    {
     "cell_type": "code",
     "collapsed": false,
     "input": [
      "dummy_df_3.loc[~dummy_df_3[\"grade_level\"].isin([\"Grades 3-5\", \"Grades 6-8\", \"Grades 9-12\", \"Grades PreK-2\"]), \"grade_level\"] = None"
     ],
     "language": "python",
     "metadata": {},
     "outputs": [],
     "prompt_number": 79
    },
    {
     "cell_type": "code",
     "collapsed": false,
     "input": [
      "dummy_df_4 = pd.concat([dummy_df_3, pd.get_dummies(dummy_df_3['grade_level'])], axis = 1)"
     ],
     "language": "python",
     "metadata": {},
     "outputs": [],
     "prompt_number": 80
    },
    {
     "cell_type": "code",
     "collapsed": false,
     "input": [
      "sn.barplot(dummy_df_4.primary_focus_area)\n",
      "plt.xticks(rotation = 90)"
     ],
     "language": "python",
     "metadata": {},
     "outputs": [
      {
       "metadata": {},
       "output_type": "pyout",
       "prompt_number": 93,
       "text": [
        "(array([0, 1, 2, 3, 4, 5, 6, 7]), <a list of 8 Text xticklabel objects>)"
       ]
      },
      {
       "metadata": {},
       "output_type": "display_data",
       "png": "[encoded data removed]",
       "text": [
        "<matplotlib.figure.Figure at 0x156886f50>"
       ]
      }
     ],
     "prompt_number": 93
    },
    {
     "cell_type": "code",
     "collapsed": false,
     "input": [],
     "language": "python",
     "metadata": {},
     "outputs": []
    },
    {
     "cell_type": "code",
     "collapsed": false,
     "input": [
      "import random"
     ],
     "language": "python",
     "metadata": {},
     "outputs": [],
     "prompt_number": 83
    },
    {
     "cell_type": "code",
     "collapsed": false,
     "input": [
      "dummy_sample = dummy_df_4.loc[np.random.choice(dummy_df_4.index, 5000, replace=False)]"
     ],
     "language": "python",
     "metadata": {},
     "outputs": [],
     "prompt_number": 84
    },
    {
     "cell_type": "code",
     "collapsed": false,
     "input": [
      "# dummy_sample.head()"
     ],
     "language": "python",
     "metadata": {},
     "outputs": [],
     "prompt_number": 72
    },
    {
     "cell_type": "code",
     "collapsed": false,
     "input": [
      "feature_list_less2 = ['funded', 'school_charter', 'school_magnet', 'school_year_round', \n",
      "                'school_nlns', 'school_kipp', 'school_charter_ready_promise', \n",
      "                'teacher_teach_for_america',\n",
      "                'teacher_ny_teaching_fellow','total_price_excluding_optional_support', \n",
      "                'students_reached', 'month_posted', 'year_posted']\n",
      "\n",
      "feature_list_less1 = ['funded', 'school_charter', 'school_magnet', 'school_year_round', \n",
      "                'school_nlns', 'school_kipp', 'school_charter_ready_promise', \n",
      "                'teacher_teach_for_america',\n",
      "                'teacher_ny_teaching_fellow','total_price_excluding_optional_support', \n",
      "                'students_reached', 'month_posted', 'year_posted',\n",
      "                'title polarity', 'title subjectivity']\n",
      "\n",
      "feature_list_0 = ['funded', 'school_charter', 'school_magnet', 'school_year_round', \n",
      "                'school_nlns', 'school_kipp', 'school_charter_ready_promise', \n",
      "                'teacher_teach_for_america',\n",
      "                'teacher_ny_teaching_fellow','total_price_excluding_optional_support', \n",
      "                'students_reached', 'month_posted', 'year_posted',\n",
      "                'title polarity', 'title subjectivity', 'short_description polarity', \n",
      "                'short_description subjectivity']\n",
      "\n",
      "feature_list_1 = ['funded', 'school_charter', 'school_magnet', 'school_year_round', \n",
      "                'school_nlns', 'school_kipp', 'school_charter_ready_promise', \n",
      "                'teacher_teach_for_america',\n",
      "                'teacher_ny_teaching_fellow','total_price_excluding_optional_support', \n",
      "                'students_reached', 'month_posted', 'year_posted',\n",
      "                'title polarity', 'title subjectivity', 'short_description polarity', \n",
      "                'short_description subjectivity', 'need_statement polarity', \n",
      "                'need_statement subjectivity']\n",
      "\n",
      "feature_list_2 = ['funded', 'school_charter', 'school_magnet', 'school_year_round', \n",
      "                'school_nlns', 'school_kipp', 'school_charter_ready_promise', \n",
      "                'teacher_teach_for_america',\n",
      "                'teacher_ny_teaching_fellow','total_price_excluding_optional_support', \n",
      "                'students_reached', 'month_posted', 'year_posted',\n",
      "                'title polarity', 'title subjectivity', 'short_description polarity', \n",
      "                'short_description subjectivity', 'need_statement polarity', \n",
      "                'need_statement subjectivity', 'high poverty', 'highest poverty', 'low poverty']\n",
      "\n",
      "feature_list_3 = ['funded', 'school_charter', 'school_magnet', 'school_year_round', \n",
      "                'school_nlns', 'school_kipp', 'school_charter_ready_promise', \n",
      "                'teacher_teach_for_america',\n",
      "                'teacher_ny_teaching_fellow','total_price_excluding_optional_support', \n",
      "                'students_reached', 'month_posted', 'year_posted',\n",
      "                'title polarity', 'title subjectivity', 'short_description polarity', \n",
      "                'short_description subjectivity', 'need_statement polarity', \n",
      "                'need_statement subjectivity', 'high poverty', 'highest poverty', 'low poverty',\n",
      "                'Books', 'Other', 'Supplies', 'Technology', 'Trips', 'Visitors']\n",
      "\n",
      "feature_list_4 = ['funded', 'school_charter', 'school_magnet', 'school_year_round', \n",
      "                'school_nlns', 'school_kipp', 'school_charter_ready_promise', \n",
      "                'teacher_teach_for_america',\n",
      "                'teacher_ny_teaching_fellow','total_price_excluding_optional_support', \n",
      "                'students_reached', 'month_posted', 'year_posted',\n",
      "                'title polarity', 'title subjectivity', 'short_description polarity', \n",
      "                'short_description subjectivity', 'need_statement polarity', \n",
      "                'need_statement subjectivity', 'high poverty', 'highest poverty', 'low poverty',\n",
      "                'Books', 'Other', 'Supplies', 'Technology', 'Trips', 'Visitors', 'rural', \n",
      "                'suburban', 'urban']\n",
      "\n",
      "feature_list_5 = ['funded', 'school_charter', 'school_magnet', 'school_year_round', \n",
      "                'school_nlns', 'school_kipp', 'school_charter_ready_promise', \n",
      "                'teacher_teach_for_america',\n",
      "                'teacher_ny_teaching_fellow','total_price_excluding_optional_support']\n",
      "\n",
      "feature_list_6 = ['funded', 'school_charter', 'school_magnet', 'school_year_round', \n",
      "                'school_nlns', 'school_kipp', 'school_charter_ready_promise', \n",
      "                'teacher_teach_for_america',\n",
      "                'teacher_ny_teaching_fellow','total_price_excluding_optional_support', \n",
      "                'students_reached', 'month_posted', 'year_posted',\n",
      "                'title polarity', 'title subjectivity', 'short_description polarity', \n",
      "                'short_description subjectivity', 'need_statement polarity', \n",
      "                'need_statement subjectivity', 'high poverty', 'highest poverty', 'low poverty',\n",
      "                'Books', 'Other', 'Supplies', 'Technology', 'Trips', 'Visitors', 'rural', \n",
      "                'suburban', 'urban', \"Dr.\", \"Mr.\", \"Mr. & Mrs.\", \"Mrs.\", \"Ms.\"]\n",
      "\n",
      "feature_list_7 = ['funded', 'school_charter', 'school_magnet', 'school_year_round', \n",
      "                'school_nlns', 'school_kipp', 'school_charter_ready_promise', \n",
      "                'teacher_teach_for_america',\n",
      "                'teacher_ny_teaching_fellow','total_price_excluding_optional_support', \n",
      "                'students_reached', 'month_posted', 'year_posted',\n",
      "                'title polarity', 'title subjectivity', 'short_description polarity', \n",
      "                'short_description subjectivity', 'need_statement polarity', \n",
      "                'need_statement subjectivity', 'high poverty', 'highest poverty', 'low poverty',\n",
      "                'Books', 'Other', 'Supplies', 'Technology', 'Trips', 'Visitors', 'rural', \n",
      "                'suburban', 'urban', \"Dr.\", \"Mr.\", \"Mr. & Mrs.\", \"Mrs.\", \"Ms.\",\n",
      "                \"Grades 3-5\", \"Grades 6-8\", \"Grades 9-12\", \"Grades PreK-2\"]\n",
      "\n",
      "\n",
      "category_dict = {\"FL0\": feature_list_0, \"FL1\": feature_list_1, \n",
      "                 \"FL2\": feature_list_2, \"FL3\": feature_list_3,\n",
      "                 \"FL4\": feature_list_4, \"FL5\": feature_list_5,\n",
      "                 \"FL6\": feature_list_6}\n",
      "\n",
      "category_dict_2 = {\"FL3\": feature_list_3,\n",
      "                    \"FL4\": feature_list_4, \"FL5\": feature_list_5,\n",
      "                    \"FL6\": feature_list_6, \"FL7\": feature_list_7}\n",
      "\n",
      "# est1 = KNeighborsClassifier()\n",
      "est2 = LogisticRegression()\n",
      "# est3 = GaussianNB()\n",
      "est4 = SVC(probability=True)\n",
      "# est5 = DecisionTreeClassifier()\n",
      "# est6 = RandomForestClassifier()\n",
      "est7 = GradientBoostingClassifier()\n",
      "\n",
      "estlist = [est1, est2, est4, est6, est7]\n",
      "estlist2 = [est1, est2, est3]\n",
      "estlist3 = [est2, est4, est7]\n",
      "estlist4 = [est2, est7]"
     ],
     "language": "python",
     "metadata": {},
     "outputs": [],
     "prompt_number": 81
    },
    {
     "cell_type": "markdown",
     "metadata": {},
     "source": [
      "####Start Looking at different classifiers to predict success or not"
     ]
    },
    {
     "cell_type": "code",
     "collapsed": false,
     "input": [
      "def classification_function(df, cat_list, est_list):\n",
      "    \n",
      "    #Create category specific dataframe\n",
      "    new_df = pd.DataFrame()\n",
      "    for catname, cat in cat_list.iteritems():\n",
      "#         print cat\n",
      "        new_df = df[cat]\n",
      "#         print new_df.columns\n",
      "        new_df = new_df.dropna(axis=0)\n",
      "#         print type(new_df)\n",
      "#         print new_df.columns\n",
      "#         print new_df.columns\n",
      "    \n",
      "        #Define Y-variable dataframe\n",
      "        y_df = pd.DataFrame()\n",
      "        y_df['funded'] = new_df['funded']\n",
      "        y_array = y_df['funded'].values\n",
      "        \n",
      "        #define a set of categorical data and create an X-variable dataframe\n",
      "        new_cat_list = cat[1:]\n",
      "        x_df = pd.DataFrame()\n",
      "        x_df = new_df[new_cat_list]\n",
      "        #x_df.dropna(axis=1)\n",
      "#         print x_df.describe()\n",
      "\n",
      "        for model in est_list:\n",
      "        \n",
      "            model_name = str(model).split('(')[0]\n",
      "            accuracy_score = cross_val_score(model, x_df, y_array, scoring='accuracy').mean()\n",
      "            precision_score = cross_val_score(model, x_df, y_array, scoring='precision').mean()\n",
      "            recall_score = cross_val_score(model, x_df, y_array, scoring = 'recall').mean()\n",
      "\n",
      "            print \"Category: \", catname\n",
      "            print \"Model: \", model_name\n",
      "            print \"\\t Accuracy Score: \", accuracy_score\n",
      "            print \"\\t Precision Score: \", precision_score\n",
      "            print \"\\t Recall Score: \", recall_score"
     ],
     "language": "python",
     "metadata": {},
     "outputs": [],
     "prompt_number": 82
    },
    {
     "cell_type": "code",
     "collapsed": false,
     "input": [
      "classification_function(dummy_sample, category_dict_2, estlist4)"
     ],
     "language": "python",
     "metadata": {},
     "outputs": [
      {
       "output_type": "stream",
       "stream": "stdout",
       "text": [
        "Category:  FL3\n",
        "Model:  LogisticRegression\n",
        "\t Accuracy Score:  0.719600737716\n",
        "\t Precision Score:  0.72474240322\n",
        "\t Recall Score:  0.983009362872\n",
        "Category: "
       ]
      },
      {
       "output_type": "stream",
       "stream": "stdout",
       "text": [
        " FL3\n",
        "Model:  GradientBoostingClassifier\n",
        "\t Accuracy Score:  0.725599898028\n",
        "\t Precision Score:  0.73906778488\n",
        "\t Recall Score:  0.954875576157\n",
        "Category: "
       ]
      },
      {
       "output_type": "stream",
       "stream": "stdout",
       "text": [
        " FL5\n",
        "Model:  LogisticRegression\n",
        "\t Accuracy Score:  0.720400217676\n",
        "\t Precision Score:  0.723595280414\n",
        "\t Recall Score:  0.988022359876\n",
        "Category: "
       ]
      },
      {
       "output_type": "stream",
       "stream": "stdout",
       "text": [
        " FL5\n",
        "Model:  GradientBoostingClassifier\n",
        "\t Accuracy Score:  0.718400377548\n",
        "\t Precision Score:  0.725787959886\n",
        "\t Recall Score:  0.976880374478\n",
        "Category: "
       ]
      },
      {
       "output_type": "stream",
       "stream": "stdout",
       "text": [
        " FL4\n",
        "Model:  LogisticRegression\n",
        "\t Accuracy Score:  0.719199497435\n",
        "\t Precision Score:  0.726124245156\n",
        "\t Recall Score:  0.977714632177\n",
        "Category: "
       ]
      },
      {
       "output_type": "stream",
       "stream": "stdout",
       "text": [
        " FL4\n",
        "Model:  GradientBoostingClassifier\n",
        "\t Accuracy Score:  0.72380037798\n",
        "\t Precision Score:  0.738530204026\n",
        "\t Recall Score:  0.950975543653\n",
        "Category: "
       ]
      },
      {
       "output_type": "stream",
       "stream": "stdout",
       "text": [
        " FL7\n",
        "Model:  LogisticRegression\n",
        "\t Accuracy Score:  0.716599657259\n",
        "\t Precision Score:  0.725000820516\n",
        "\t Recall Score:  0.975207900837\n",
        "Category: "
       ]
      },
      {
       "output_type": "stream",
       "stream": "stdout",
       "text": [
        " FL7\n",
        "Model:  GradientBoostingClassifier\n",
        "\t Accuracy Score:  0.723400698012\n",
        "\t Precision Score:  0.739390124087\n",
        "\t Recall Score:  0.947077141013\n",
        "Category: "
       ]
      },
      {
       "output_type": "stream",
       "stream": "stdout",
       "text": [
        " FL6\n",
        "Model:  LogisticRegression\n",
        "\t Accuracy Score:  0.717799657355\n",
        "\t Precision Score:  0.725158093069\n",
        "\t Recall Score:  0.977436391052\n",
        "Category: "
       ]
      },
      {
       "output_type": "stream",
       "stream": "stdout",
       "text": [
        " FL6\n",
        "Model:  GradientBoostingClassifier\n",
        "\t Accuracy Score:  0.722199377651\n",
        "\t Precision Score:  0.738864939279\n",
        "\t Recall Score:  0.95181003419\n"
       ]
      }
     ],
     "prompt_number": 85
    },
    {
     "cell_type": "code",
     "collapsed": false,
     "input": [
      "dummy_sample[\"funded\"].mean()"
     ],
     "language": "python",
     "metadata": {},
     "outputs": [
      {
       "metadata": {},
       "output_type": "pyout",
       "prompt_number": 77,
       "text": [
        "0.72499999999999998"
       ]
      }
     ],
     "prompt_number": 77
    },
    {
     "cell_type": "code",
     "collapsed": false,
     "input": [],
     "language": "python",
     "metadata": {},
     "outputs": []
    }
   ],
   "metadata": {}
  }
 ]
}