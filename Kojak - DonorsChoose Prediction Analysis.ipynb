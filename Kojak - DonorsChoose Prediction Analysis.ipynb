{
 "metadata": {
  "name": "",
  "signature": "sha256:bd866b0c8c0581f6b7ccea255d2e86737c2a5231c383bd3b89dc2103287f3905"
 },
 "nbformat": 3,
 "nbformat_minor": 0,
 "worksheets": [
  {
   "cells": [
    {
     "cell_type": "code",
     "collapsed": false,
     "input": [
      "import pandas as pd\n",
      "import numpy as np\n",
      "import matplotlib.pyplot as plt\n",
      "from sklearn.cross_validation import train_test_split\n",
      "from sklearn.linear_model import LogisticRegression\n",
      "from statsmodels.formula.api import Logit\n",
      "from sklearn.neighbors import KNeighborsClassifier\n",
      "from sklearn.metrics import accuracy_score\n",
      "from sklearn.metrics import classification_report\n",
      "from sklearn.metrics import confusion_matrix\n",
      "from sklearn.learning_curve import learning_curve\n",
      "from sklearn.naive_bayes import GaussianNB\n",
      "from sklearn.svm import SVC\n",
      "from sklearn.tree import DecisionTreeClassifier\n",
      "from sklearn.ensemble import RandomForestClassifier\n",
      "from sklearn.cross_validation import cross_val_score\n",
      "import pymysql\n",
      "import seaborn as sn\n",
      "from sklearn.ensemble import GradientBoostingClassifier, RandomForestClassifier\n",
      "from textblob import TextBlob\n",
      "import statsmodels.formula.api as sm\n",
      "import statsmodels.api as st\n",
      "from statsmodels.discrete.discrete_model import Logit\n",
      "import pickle\n",
      "\n",
      "from sklearn.metrics import roc_curve, auc\n",
      "from sklearn.cross_validation import StratifiedKFold\n",
      "\n",
      "from sklearn.metrics import precision_score\n",
      "from sklearn.metrics import accuracy_score\n",
      "from sklearn.metrics import recall_score\n",
      "from sklearn.metrics import f1_score\n",
      "from sklearn.metrics import confusion_matrix\n",
      "from sklearn.metrics import classification_report\n",
      "\n",
      "from sklearn.preprocessing import scale"
     ],
     "language": "python",
     "metadata": {},
     "outputs": [],
     "prompt_number": 4
    },
    {
     "cell_type": "code",
     "collapsed": false,
     "input": [
      "from sklearn.preprocessing import binarize\n",
      "from sklearn import preprocessing\n",
      "import pprint as pp"
     ],
     "language": "python",
     "metadata": {},
     "outputs": [],
     "prompt_number": 5
    },
    {
     "cell_type": "code",
     "collapsed": false,
     "input": [
      "with open(\"funding_sentiment_df.pkl\", \"r\") as picklefile:\n",
      "    funding_sentiment_df = pickle.load(picklefile)"
     ],
     "language": "python",
     "metadata": {},
     "outputs": [],
     "prompt_number": 6
    },
    {
     "cell_type": "code",
     "collapsed": false,
     "input": [
      "# funding_sentiment_df.head()"
     ],
     "language": "python",
     "metadata": {},
     "outputs": [],
     "prompt_number": 7
    },
    {
     "cell_type": "code",
     "collapsed": false,
     "input": [
      "len(funding_sentiment_df)"
     ],
     "language": "python",
     "metadata": {},
     "outputs": [
      {
       "metadata": {},
       "output_type": "pyout",
       "prompt_number": 8,
       "text": [
        "722858"
       ]
      }
     ],
     "prompt_number": 8
    },
    {
     "cell_type": "code",
     "collapsed": false,
     "input": [
      "funding_sentiment_df.describe()"
     ],
     "language": "python",
     "metadata": {},
     "outputs": [
      {
       "html": [
        "<div style=\"max-height:1000px;max-width:1500px;overflow:auto;\">\n",
        "<table border=\"1\" class=\"dataframe\">\n",
        "  <thead>\n",
        "    <tr style=\"text-align: right;\">\n",
        "      <th></th>\n",
        "      <th>school_latitude</th>\n",
        "      <th>school_longitude</th>\n",
        "      <th>school_charter</th>\n",
        "      <th>school_magnet</th>\n",
        "      <th>school_year_round</th>\n",
        "      <th>school_nlns</th>\n",
        "      <th>school_kipp</th>\n",
        "      <th>school_charter_ready_promise</th>\n",
        "      <th>teacher_teach_for_america</th>\n",
        "      <th>teacher_ny_teaching_fellow</th>\n",
        "      <th>...</th>\n",
        "      <th>funded</th>\n",
        "      <th>TitleLength</th>\n",
        "      <th>DescriptionLength</th>\n",
        "      <th>NeedLength</th>\n",
        "      <th>title polarity</th>\n",
        "      <th>title subjectivity</th>\n",
        "      <th>short_description polarity</th>\n",
        "      <th>short_description subjectivity</th>\n",
        "      <th>need_statement polarity</th>\n",
        "      <th>need_statement subjectivity</th>\n",
        "    </tr>\n",
        "  </thead>\n",
        "  <tbody>\n",
        "    <tr>\n",
        "      <th>count</th>\n",
        "      <td> 722858.000000</td>\n",
        "      <td> 722858.000000</td>\n",
        "      <td> 722858.000000</td>\n",
        "      <td> 722858.000000</td>\n",
        "      <td> 722858.000000</td>\n",
        "      <td> 722858.000000</td>\n",
        "      <td> 722858.000000</td>\n",
        "      <td> 722858.000000</td>\n",
        "      <td> 722858.000000</td>\n",
        "      <td> 722858.000000</td>\n",
        "      <td>...</td>\n",
        "      <td> 722858.000000</td>\n",
        "      <td> 722857.000000</td>\n",
        "      <td> 722857.000000</td>\n",
        "      <td> 722857.000000</td>\n",
        "      <td> 722857.000000</td>\n",
        "      <td> 722857.000000</td>\n",
        "      <td> 722857.000000</td>\n",
        "      <td> 722857.000000</td>\n",
        "      <td> 722857.000000</td>\n",
        "      <td> 722857.000000</td>\n",
        "    </tr>\n",
        "    <tr>\n",
        "      <th>mean</th>\n",
        "      <td>     37.231221</td>\n",
        "      <td>    -93.498323</td>\n",
        "      <td>      0.090391</td>\n",
        "      <td>      0.092645</td>\n",
        "      <td>      0.037100</td>\n",
        "      <td>      0.014174</td>\n",
        "      <td>      0.006452</td>\n",
        "      <td>      0.004601</td>\n",
        "      <td>      0.055299</td>\n",
        "      <td>      0.016393</td>\n",
        "      <td>...</td>\n",
        "      <td>      0.712457</td>\n",
        "      <td>     33.762545</td>\n",
        "      <td>    212.942754</td>\n",
        "      <td>    124.752210</td>\n",
        "      <td>      0.082450</td>\n",
        "      <td>      0.169728</td>\n",
        "      <td>      0.189630</td>\n",
        "      <td>      0.465526</td>\n",
        "      <td>      0.075536</td>\n",
        "      <td>      0.262869</td>\n",
        "    </tr>\n",
        "    <tr>\n",
        "      <th>std</th>\n",
        "      <td>      4.720600</td>\n",
        "      <td>     17.806405</td>\n",
        "      <td>      0.286742</td>\n",
        "      <td>      0.289934</td>\n",
        "      <td>      0.189007</td>\n",
        "      <td>      0.118209</td>\n",
        "      <td>      0.080066</td>\n",
        "      <td>      0.067676</td>\n",
        "      <td>      0.228562</td>\n",
        "      <td>      0.126982</td>\n",
        "      <td>...</td>\n",
        "      <td>      0.452617</td>\n",
        "      <td>     13.214922</td>\n",
        "      <td>     46.211468</td>\n",
        "      <td>     64.910211</td>\n",
        "      <td>      0.224911</td>\n",
        "      <td>      0.284626</td>\n",
        "      <td>      0.213710</td>\n",
        "      <td>      0.213558</td>\n",
        "      <td>      0.196473</td>\n",
        "      <td>      0.273892</td>\n",
        "    </tr>\n",
        "    <tr>\n",
        "      <th>min</th>\n",
        "      <td>     18.249140</td>\n",
        "      <td>   -176.634989</td>\n",
        "      <td>      0.000000</td>\n",
        "      <td>      0.000000</td>\n",
        "      <td>      0.000000</td>\n",
        "      <td>      0.000000</td>\n",
        "      <td>      0.000000</td>\n",
        "      <td>      0.000000</td>\n",
        "      <td>      0.000000</td>\n",
        "      <td>      0.000000</td>\n",
        "      <td>...</td>\n",
        "      <td>      0.000000</td>\n",
        "      <td>      0.000000</td>\n",
        "      <td>      0.000000</td>\n",
        "      <td>      0.000000</td>\n",
        "      <td>     -1.000000</td>\n",
        "      <td>      0.000000</td>\n",
        "      <td>     -1.000000</td>\n",
        "      <td>      0.000000</td>\n",
        "      <td>     -1.000000</td>\n",
        "      <td>      0.000000</td>\n",
        "    </tr>\n",
        "    <tr>\n",
        "      <th>25%</th>\n",
        "      <td>     34.026634</td>\n",
        "      <td>   -112.035324</td>\n",
        "      <td>      0.000000</td>\n",
        "      <td>      0.000000</td>\n",
        "      <td>      0.000000</td>\n",
        "      <td>      0.000000</td>\n",
        "      <td>      0.000000</td>\n",
        "      <td>      0.000000</td>\n",
        "      <td>      0.000000</td>\n",
        "      <td>      0.000000</td>\n",
        "      <td>...</td>\n",
        "      <td>      0.000000</td>\n",
        "      <td>     23.000000</td>\n",
        "      <td>    197.000000</td>\n",
        "      <td>     83.000000</td>\n",
        "      <td>      0.000000</td>\n",
        "      <td>      0.000000</td>\n",
        "      <td>      0.029167</td>\n",
        "      <td>      0.340000</td>\n",
        "      <td>      0.000000</td>\n",
        "      <td>      0.000000</td>\n",
        "    </tr>\n",
        "    <tr>\n",
        "      <th>50%</th>\n",
        "      <td>     37.653138</td>\n",
        "      <td>    -87.694458</td>\n",
        "      <td>      0.000000</td>\n",
        "      <td>      0.000000</td>\n",
        "      <td>      0.000000</td>\n",
        "      <td>      0.000000</td>\n",
        "      <td>      0.000000</td>\n",
        "      <td>      0.000000</td>\n",
        "      <td>      0.000000</td>\n",
        "      <td>      0.000000</td>\n",
        "      <td>...</td>\n",
        "      <td>      1.000000</td>\n",
        "      <td>     32.000000</td>\n",
        "      <td>    200.000000</td>\n",
        "      <td>    115.000000</td>\n",
        "      <td>      0.000000</td>\n",
        "      <td>      0.000000</td>\n",
        "      <td>      0.183929</td>\n",
        "      <td>      0.479167</td>\n",
        "      <td>      0.000000</td>\n",
        "      <td>      0.206667</td>\n",
        "    </tr>\n",
        "    <tr>\n",
        "      <th>75%</th>\n",
        "      <td>     40.759132</td>\n",
        "      <td>    -79.461447</td>\n",
        "      <td>      0.000000</td>\n",
        "      <td>      0.000000</td>\n",
        "      <td>      0.000000</td>\n",
        "      <td>      0.000000</td>\n",
        "      <td>      0.000000</td>\n",
        "      <td>      0.000000</td>\n",
        "      <td>      0.000000</td>\n",
        "      <td>      0.000000</td>\n",
        "      <td>...</td>\n",
        "      <td>      1.000000</td>\n",
        "      <td>     43.000000</td>\n",
        "      <td>    223.000000</td>\n",
        "      <td>    156.000000</td>\n",
        "      <td>      0.000000</td>\n",
        "      <td>      0.300000</td>\n",
        "      <td>      0.325000</td>\n",
        "      <td>      0.600000</td>\n",
        "      <td>      0.136364</td>\n",
        "      <td>      0.500000</td>\n",
        "    </tr>\n",
        "    <tr>\n",
        "      <th>max</th>\n",
        "      <td>     71.290646</td>\n",
        "      <td>    -66.628036</td>\n",
        "      <td>      1.000000</td>\n",
        "      <td>      1.000000</td>\n",
        "      <td>      1.000000</td>\n",
        "      <td>      1.000000</td>\n",
        "      <td>      1.000000</td>\n",
        "      <td>      1.000000</td>\n",
        "      <td>      1.000000</td>\n",
        "      <td>      1.000000</td>\n",
        "      <td>...</td>\n",
        "      <td>      1.000000</td>\n",
        "      <td>    322.000000</td>\n",
        "      <td>   1750.000000</td>\n",
        "      <td>   4352.000000</td>\n",
        "      <td>      1.000000</td>\n",
        "      <td>      1.000000</td>\n",
        "      <td>      1.000000</td>\n",
        "      <td>      1.000000</td>\n",
        "      <td>      1.000000</td>\n",
        "      <td>      1.000000</td>\n",
        "    </tr>\n",
        "  </tbody>\n",
        "</table>\n",
        "<p>8 rows \u00d7 34 columns</p>\n",
        "</div>"
       ],
       "metadata": {},
       "output_type": "pyout",
       "prompt_number": 9,
       "text": [
        "       school_latitude  school_longitude  school_charter  school_magnet  \\\n",
        "count    722858.000000     722858.000000   722858.000000  722858.000000   \n",
        "mean         37.231221        -93.498323        0.090391       0.092645   \n",
        "std           4.720600         17.806405        0.286742       0.289934   \n",
        "min          18.249140       -176.634989        0.000000       0.000000   \n",
        "25%          34.026634       -112.035324        0.000000       0.000000   \n",
        "50%          37.653138        -87.694458        0.000000       0.000000   \n",
        "75%          40.759132        -79.461447        0.000000       0.000000   \n",
        "max          71.290646        -66.628036        1.000000       1.000000   \n",
        "\n",
        "       school_year_round    school_nlns    school_kipp  \\\n",
        "count      722858.000000  722858.000000  722858.000000   \n",
        "mean            0.037100       0.014174       0.006452   \n",
        "std             0.189007       0.118209       0.080066   \n",
        "min             0.000000       0.000000       0.000000   \n",
        "25%             0.000000       0.000000       0.000000   \n",
        "50%             0.000000       0.000000       0.000000   \n",
        "75%             0.000000       0.000000       0.000000   \n",
        "max             1.000000       1.000000       1.000000   \n",
        "\n",
        "       school_charter_ready_promise  teacher_teach_for_america  \\\n",
        "count                 722858.000000              722858.000000   \n",
        "mean                       0.004601                   0.055299   \n",
        "std                        0.067676                   0.228562   \n",
        "min                        0.000000                   0.000000   \n",
        "25%                        0.000000                   0.000000   \n",
        "50%                        0.000000                   0.000000   \n",
        "75%                        0.000000                   0.000000   \n",
        "max                        1.000000                   1.000000   \n",
        "\n",
        "       teacher_ny_teaching_fellow             ...                      funded  \\\n",
        "count               722858.000000             ...               722858.000000   \n",
        "mean                     0.016393             ...                    0.712457   \n",
        "std                      0.126982             ...                    0.452617   \n",
        "min                      0.000000             ...                    0.000000   \n",
        "25%                      0.000000             ...                    0.000000   \n",
        "50%                      0.000000             ...                    1.000000   \n",
        "75%                      0.000000             ...                    1.000000   \n",
        "max                      1.000000             ...                    1.000000   \n",
        "\n",
        "         TitleLength  DescriptionLength     NeedLength  title polarity  \\\n",
        "count  722857.000000      722857.000000  722857.000000   722857.000000   \n",
        "mean       33.762545         212.942754     124.752210        0.082450   \n",
        "std        13.214922          46.211468      64.910211        0.224911   \n",
        "min         0.000000           0.000000       0.000000       -1.000000   \n",
        "25%        23.000000         197.000000      83.000000        0.000000   \n",
        "50%        32.000000         200.000000     115.000000        0.000000   \n",
        "75%        43.000000         223.000000     156.000000        0.000000   \n",
        "max       322.000000        1750.000000    4352.000000        1.000000   \n",
        "\n",
        "       title subjectivity  short_description polarity  \\\n",
        "count       722857.000000               722857.000000   \n",
        "mean             0.169728                    0.189630   \n",
        "std              0.284626                    0.213710   \n",
        "min              0.000000                   -1.000000   \n",
        "25%              0.000000                    0.029167   \n",
        "50%              0.000000                    0.183929   \n",
        "75%              0.300000                    0.325000   \n",
        "max              1.000000                    1.000000   \n",
        "\n",
        "       short_description subjectivity  need_statement polarity  \\\n",
        "count                   722857.000000            722857.000000   \n",
        "mean                         0.465526                 0.075536   \n",
        "std                          0.213558                 0.196473   \n",
        "min                          0.000000                -1.000000   \n",
        "25%                          0.340000                 0.000000   \n",
        "50%                          0.479167                 0.000000   \n",
        "75%                          0.600000                 0.136364   \n",
        "max                          1.000000                 1.000000   \n",
        "\n",
        "       need_statement subjectivity  \n",
        "count                722857.000000  \n",
        "mean                      0.262869  \n",
        "std                       0.273892  \n",
        "min                       0.000000  \n",
        "25%                       0.000000  \n",
        "50%                       0.206667  \n",
        "75%                       0.500000  \n",
        "max                       1.000000  \n",
        "\n",
        "[8 rows x 34 columns]"
       ]
      }
     ],
     "prompt_number": 9
    },
    {
     "cell_type": "markdown",
     "metadata": {},
     "source": [
      "####Adding dummy variables where necessary"
     ]
    },
    {
     "cell_type": "markdown",
     "metadata": {},
     "source": [
      "####poverty dummies"
     ]
    },
    {
     "cell_type": "code",
     "collapsed": false,
     "input": [
      "# dummy_pov_df = pd.get_dummies(funding_sentiment_df, columns=\"poverty_level\")\n",
      "\n",
      "dummy_pov_df = pd.concat([funding_sentiment_df, pd.get_dummies(funding_sentiment_df['poverty_level'])], axis = 1)\n",
      "#setting axis = 1 means adding columns, not rows"
     ],
     "language": "python",
     "metadata": {},
     "outputs": [],
     "prompt_number": 10
    },
    {
     "cell_type": "code",
     "collapsed": false,
     "input": [
      "len(dummy_pov_df)"
     ],
     "language": "python",
     "metadata": {},
     "outputs": [
      {
       "metadata": {},
       "output_type": "pyout",
       "prompt_number": 11,
       "text": [
        "722858"
       ]
      }
     ],
     "prompt_number": 11
    },
    {
     "cell_type": "markdown",
     "metadata": {},
     "source": [
      "####resource type dummies"
     ]
    },
    {
     "cell_type": "code",
     "collapsed": false,
     "input": [
      "%matplotlib inline\n",
      "sn.barplot(dummy_pov_df.resource_type)"
     ],
     "language": "python",
     "metadata": {},
     "outputs": [
      {
       "metadata": {},
       "output_type": "pyout",
       "prompt_number": 12,
       "text": [
        "<matplotlib.axes._subplots.AxesSubplot at 0x10be9aa10>"
       ]
      },
      {
       "metadata": {},
       "output_type": "display_data",
       "png": "[encoded data removed]",
       "text": [
        "<matplotlib.figure.Figure at 0x10be9a710>"
       ]
      }
     ],
     "prompt_number": 12
    },
    {
     "cell_type": "code",
     "collapsed": false,
     "input": [
      "test = dummy_pov_df[:100]"
     ],
     "language": "python",
     "metadata": {},
     "outputs": [],
     "prompt_number": 8
    },
    {
     "cell_type": "code",
     "collapsed": false,
     "input": [
      "test.loc[~test['resource_type'].isin(['Books', 'Other', 'Supplies', 'Technology', 'Trips', 'Visitors']),\n",
      "         'resource_type']=\"None\""
     ],
     "language": "python",
     "metadata": {},
     "outputs": [],
     "prompt_number": 10
    },
    {
     "cell_type": "code",
     "collapsed": false,
     "input": [
      "###For any category not in the list, the label becomes \"None\"\n",
      "dummy_pov_df.loc[~dummy_pov_df['resource_type'].isin(['Books', 'Other', 'Supplies', 'Technology', 'Trips', 'Visitors']),\n",
      "         'resource_type']= None"
     ],
     "language": "python",
     "metadata": {},
     "outputs": [],
     "prompt_number": 13
    },
    {
     "cell_type": "code",
     "collapsed": false,
     "input": [
      "dummy_df = pd.concat([dummy_pov_df, pd.get_dummies(dummy_pov_df['resource_type'])], axis=1)"
     ],
     "language": "python",
     "metadata": {},
     "outputs": [],
     "prompt_number": 14
    },
    {
     "cell_type": "markdown",
     "metadata": {},
     "source": [
      "####school metro dummies"
     ]
    },
    {
     "cell_type": "code",
     "collapsed": false,
     "input": [
      "dummy_df.loc[~dummy_df[\"school_metro\"].isin([\"rural\", \"suburban\", \"urban\"]), \"school_metro\"] = None"
     ],
     "language": "python",
     "metadata": {},
     "outputs": [],
     "prompt_number": 15
    },
    {
     "cell_type": "code",
     "collapsed": false,
     "input": [
      "sn.barplot(dummy_df.school_metro)"
     ],
     "language": "python",
     "metadata": {},
     "outputs": [
      {
       "metadata": {},
       "output_type": "pyout",
       "prompt_number": 16,
       "text": [
        "<matplotlib.axes._subplots.AxesSubplot at 0x172c0d290>"
       ]
      },
      {
       "metadata": {},
       "output_type": "display_data",
       "png": "[encoded data removed]",
       "text": [
        "<matplotlib.figure.Figure at 0x1724ddfd0>"
       ]
      }
     ],
     "prompt_number": 16
    },
    {
     "cell_type": "code",
     "collapsed": false,
     "input": [
      "dummy_df_2 = pd.concat([dummy_df, pd.get_dummies(dummy_df['school_metro'])], axis=1)"
     ],
     "language": "python",
     "metadata": {},
     "outputs": [],
     "prompt_number": 17
    },
    {
     "cell_type": "markdown",
     "metadata": {},
     "source": [
      "####mr mrs dummies"
     ]
    },
    {
     "cell_type": "code",
     "collapsed": false,
     "input": [
      "sn.barplot(dummy_df_2.teacher_prefix)"
     ],
     "language": "python",
     "metadata": {},
     "outputs": [
      {
       "metadata": {},
       "output_type": "pyout",
       "prompt_number": 18,
       "text": [
        "<matplotlib.axes._subplots.AxesSubplot at 0x15f471610>"
       ]
      },
      {
       "metadata": {},
       "output_type": "display_data",
       "png": "[encoded data removed]",
       "text": [
        "<matplotlib.figure.Figure at 0x15e5df090>"
       ]
      }
     ],
     "prompt_number": 18
    },
    {
     "cell_type": "code",
     "collapsed": false,
     "input": [
      "dummy_df_2.loc[~dummy_df_2[\"teacher_prefix\"].isin([\"Dr.\", \"Mr.\", \"Mr. & Mrs.\", \"Mrs.\", \"Ms.\"]), \"teacher_prefix\"] = None"
     ],
     "language": "python",
     "metadata": {},
     "outputs": [],
     "prompt_number": 19
    },
    {
     "cell_type": "code",
     "collapsed": false,
     "input": [
      "sn.barplot(dummy_df_2.teacher_prefix)"
     ],
     "language": "python",
     "metadata": {},
     "outputs": [
      {
       "metadata": {},
       "output_type": "pyout",
       "prompt_number": 20,
       "text": [
        "<matplotlib.axes._subplots.AxesSubplot at 0x1c485f610>"
       ]
      },
      {
       "metadata": {},
       "output_type": "display_data",
       "png": "[encoded data removed]",
       "text": [
        "<matplotlib.figure.Figure at 0x1c5ef6190>"
       ]
      }
     ],
     "prompt_number": 20
    },
    {
     "cell_type": "code",
     "collapsed": false,
     "input": [
      "dummy_df_3 = pd.concat([dummy_df_2, pd.get_dummies(dummy_df_2['teacher_prefix'])], axis=1)"
     ],
     "language": "python",
     "metadata": {},
     "outputs": [],
     "prompt_number": 21
    },
    {
     "cell_type": "markdown",
     "metadata": {},
     "source": [
      "####Getting dummy data for the grade level"
     ]
    },
    {
     "cell_type": "code",
     "collapsed": false,
     "input": [
      "sn.barplot(dummy_df_3.grade_level)"
     ],
     "language": "python",
     "metadata": {},
     "outputs": [
      {
       "metadata": {},
       "output_type": "pyout",
       "prompt_number": 22,
       "text": [
        "<matplotlib.axes._subplots.AxesSubplot at 0x1b69ffdd0>"
       ]
      },
      {
       "metadata": {},
       "output_type": "display_data",
       "png": "[encoded data removed]",
       "text": [
        "<matplotlib.figure.Figure at 0x1d0272f50>"
       ]
      }
     ],
     "prompt_number": 22
    },
    {
     "cell_type": "code",
     "collapsed": false,
     "input": [
      "dummy_df_3.loc[~dummy_df_3[\"grade_level\"].isin([\"Grades 3-5\", \"Grades 6-8\", \"Grades 9-12\", \"Grades PreK-2\"]), \"grade_level\"] = None"
     ],
     "language": "python",
     "metadata": {},
     "outputs": [],
     "prompt_number": 23
    },
    {
     "cell_type": "code",
     "collapsed": false,
     "input": [
      "dummy_df_4 = pd.concat([dummy_df_3, pd.get_dummies(dummy_df_3['grade_level'])], axis = 1)"
     ],
     "language": "python",
     "metadata": {},
     "outputs": [],
     "prompt_number": 24
    },
    {
     "cell_type": "code",
     "collapsed": false,
     "input": [
      "len(dummy_df_4)"
     ],
     "language": "python",
     "metadata": {},
     "outputs": [
      {
       "metadata": {},
       "output_type": "pyout",
       "prompt_number": 25,
       "text": [
        "722858"
       ]
      }
     ],
     "prompt_number": 25
    },
    {
     "cell_type": "code",
     "collapsed": false,
     "input": [
      "sn.barplot(dummy_df_4.primary_focus_area)\n",
      "plt.xticks(rotation = 90)"
     ],
     "language": "python",
     "metadata": {},
     "outputs": [
      {
       "metadata": {},
       "output_type": "pyout",
       "prompt_number": 26,
       "text": [
        "(array([0, 1, 2, 3, 4, 5, 6, 7]), <a list of 8 Text xticklabel objects>)"
       ]
      },
      {
       "metadata": {},
       "output_type": "display_data",
       "png": "[encoded data removed]",
       "text": [
        "<matplotlib.figure.Figure at 0x1bda18cd0>"
       ]
      }
     ],
     "prompt_number": 26
    },
    {
     "cell_type": "code",
     "collapsed": false,
     "input": [
      "dummy_df_4.loc[~dummy_df_4[\"primary_focus_area\"].isin([\"Applied Learning\", \"Health & Sports\", \"History & Civics\", \"Literacy & Language\", \"Math & Science\", \"Music & The Arts\", \"Special Needs\"]), \"primary_focus_area\"] = None"
     ],
     "language": "python",
     "metadata": {},
     "outputs": [],
     "prompt_number": 27
    },
    {
     "cell_type": "code",
     "collapsed": false,
     "input": [
      "sn.barplot(dummy_df_4.primary_focus_area)\n",
      "plt.xticks(rotation=90)"
     ],
     "language": "python",
     "metadata": {},
     "outputs": [
      {
       "metadata": {},
       "output_type": "pyout",
       "prompt_number": 28,
       "text": [
        "(array([0, 1, 2, 3, 4, 5, 6, 7]), <a list of 8 Text xticklabel objects>)"
       ]
      },
      {
       "metadata": {},
       "output_type": "display_data",
       "png": "[encoded data removed]",
       "text": [
        "<matplotlib.figure.Figure at 0x1d06f7950>"
       ]
      }
     ],
     "prompt_number": 28
    },
    {
     "cell_type": "code",
     "collapsed": false,
     "input": [
      "dummy_df_5 = pd.concat([dummy_df_4, pd.get_dummies(dummy_df_4[\"primary_focus_area\"])], axis=1)"
     ],
     "language": "python",
     "metadata": {},
     "outputs": [],
     "prompt_number": 29
    },
    {
     "cell_type": "code",
     "collapsed": false,
     "input": [
      "len(dummy_df_5)"
     ],
     "language": "python",
     "metadata": {},
     "outputs": [
      {
       "metadata": {},
       "output_type": "pyout",
       "prompt_number": 30,
       "text": [
        "722858"
       ]
      }
     ],
     "prompt_number": 30
    },
    {
     "cell_type": "markdown",
     "metadata": {},
     "source": [
      "####dummying the month variable"
     ]
    },
    {
     "cell_type": "code",
     "collapsed": false,
     "input": [
      "dummy_df_6 = pd.concat([dummy_df_5, pd.get_dummies(dummy_df_5[\"month_posted\"])], axis=1)"
     ],
     "language": "python",
     "metadata": {},
     "outputs": [],
     "prompt_number": 31
    },
    {
     "cell_type": "markdown",
     "metadata": {},
     "source": [
      "####dummying the primary focus subject"
     ]
    },
    {
     "cell_type": "code",
     "collapsed": false,
     "input": [
      "sn.barplot(dummy_df_6.primary_focus_subject)\n",
      "plt.xticks(rotation=90)"
     ],
     "language": "python",
     "metadata": {},
     "outputs": [
      {
       "metadata": {},
       "output_type": "pyout",
       "prompt_number": 32,
       "text": [
        "(array([ 0,  1,  2,  3,  4,  5,  6,  7,  8,  9, 10, 11, 12, 13, 14, 15, 16,\n",
        "        17, 18, 19, 20, 21, 22, 23, 24, 25, 26, 27]),\n",
        " <a list of 28 Text xticklabel objects>)"
       ]
      },
      {
       "metadata": {},
       "output_type": "display_data",
       "png": "[encoded data removed]",
       "text": [
        "<matplotlib.figure.Figure at 0x1b29b0fd0>"
       ]
      }
     ],
     "prompt_number": 32
    },
    {
     "cell_type": "code",
     "collapsed": false,
     "input": [
      "##Renaming the \"Special Needs\" as they are also called \"Special Needs\" in the primary focus area\n",
      "# test.loc[~test['resource_type'].isin(['Books', 'Other', 'Supplies', 'Technology', 'Trips', 'Visitors']),\n",
      "#          'resource_type']=\"None\"\n",
      "\n",
      "\n",
      "dummy_df_6.loc[dummy_df_6['primary_focus_subject'].isin([\"Special Needs\"]),'primary_focus_subject']=\"Special Needs Focus\""
     ],
     "language": "python",
     "metadata": {},
     "outputs": [],
     "prompt_number": 34
    },
    {
     "cell_type": "code",
     "collapsed": false,
     "input": [
      "sn.barplot(dummy_df_6.primary_focus_subject)\n",
      "plt.xticks(rotation=90)"
     ],
     "language": "python",
     "metadata": {},
     "outputs": [
      {
       "metadata": {},
       "output_type": "pyout",
       "prompt_number": 36,
       "text": [
        "(array([ 0,  1,  2,  3,  4,  5,  6,  7,  8,  9, 10, 11, 12, 13, 14, 15, 16,\n",
        "        17, 18, 19, 20, 21, 22, 23, 24, 25, 26, 27]),\n",
        " <a list of 28 Text xticklabel objects>)"
       ]
      },
      {
       "metadata": {},
       "output_type": "display_data",
       "png": "[encoded data removed]",
       "text": [
        "<matplotlib.figure.Figure at 0x1b937da50>"
       ]
      }
     ],
     "prompt_number": 36
    },
    {
     "cell_type": "code",
     "collapsed": false,
     "input": [
      "##Test to see if I could remove empty cells with notnull - didn't work.\n",
      "test_dummy_df_6 = dummy_df_6[pd.notnull(dummy_df_6['primary_focus_subject'])]"
     ],
     "language": "python",
     "metadata": {},
     "outputs": [],
     "prompt_number": 79
    },
    {
     "cell_type": "code",
     "collapsed": false,
     "input": [
      "##Dummying the primary focus subject\n",
      "dummy_df_7 = pd.concat([dummy_df_6, pd.get_dummies(dummy_df_6[\"primary_focus_subject\"])], axis=1)"
     ],
     "language": "python",
     "metadata": {},
     "outputs": [],
     "prompt_number": 37
    },
    {
     "cell_type": "markdown",
     "metadata": {},
     "source": [
      "####Create a variable looking to see if the secondary subject was filled in or not"
     ]
    },
    {
     "cell_type": "code",
     "collapsed": false,
     "input": [
      "null_subject = dummy_df_7[(dummy_df_7.secondary_focus_subject==\"\")]\n",
      "len(null_subject)"
     ],
     "language": "python",
     "metadata": {},
     "outputs": [
      {
       "metadata": {},
       "output_type": "pyout",
       "prompt_number": 116,
       "text": [
        "224842"
       ]
      }
     ],
     "prompt_number": 116
    },
    {
     "cell_type": "code",
     "collapsed": false,
     "input": [
      "no_second_focus_df = dummy_df_7[dummy_df_7.secondary_focus_area==\"\"]\n",
      "no_second_focus_df[\"second_focus\"] = 0\n",
      "\n",
      "yes_second_focus_df = dummy_df_7[dummy_df_7.secondary_focus_area!=\"\"]\n",
      "yes_second_focus_df[\"second_focus\"] = 1"
     ],
     "language": "python",
     "metadata": {},
     "outputs": [],
     "prompt_number": 39
    },
    {
     "cell_type": "code",
     "collapsed": false,
     "input": [
      "# yes_second_focus_df.head()"
     ],
     "language": "python",
     "metadata": {},
     "outputs": [],
     "prompt_number": 41
    },
    {
     "cell_type": "code",
     "collapsed": false,
     "input": [
      "secondary_list = [no_second_focus_df, yes_second_focus_df]\n",
      "dummy_df_8 = pd.concat(secondary_list)"
     ],
     "language": "python",
     "metadata": {},
     "outputs": [],
     "prompt_number": 42
    },
    {
     "cell_type": "code",
     "collapsed": false,
     "input": [
      "dummy_df_8.columns"
     ],
     "language": "python",
     "metadata": {},
     "outputs": [
      {
       "metadata": {},
       "output_type": "pyout",
       "prompt_number": 43,
       "text": [
        "Index([u'_teacher_acctid_x', u'_schoolid', u'school_ncesid', u'school_latitude', u'school_longitude', u'school_city', u'school_state', u'school_zip', u'school_metro', u'school_district', u'school_county', u'school_charter', u'school_magnet', u'school_year_round', u'school_nlns', u'school_kipp', u'school_charter_ready_promise', u'teacher_prefix', u'teacher_teach_for_america', u'teacher_ny_teaching_fellow', u'primary_focus_subject', u'primary_focus_area', u'secondary_focus_subject', u'secondary_focus_area', u'resource_type', u'poverty_level', u'grade_level', u'vendor_shipping_charges', u'sales_tax', u'payment_processing_charges', u'fulfillment_labor_materials', u'total_price_excluding_optional_support', u'total_price_including_optional_support', u'students_reached', u'total_donations', u'num_donors', u'eligible_double_your_impact_match', u'eligible_almost_home_match', u'funding_status', u'date_posted', u'date_completed', u'date_thank_you_packet_mailed', u'date_expiration', u'price/student', u'month_posted', u'year_posted', u'funded', u'_teacher_acctid_y', u'title', u'short_description', u'need_statement', u'TitleLength', u'DescriptionLength', u'NeedLength', u'_projectid', u'title polarity', u'title subjectivity', u'short_description polarity', u'short_description subjectivity', u'need_statement polarity', u'need_statement subjectivity', u'high poverty', u'highest poverty', u'low poverty', u'moderate poverty', u'Books', u'Other', u'Supplies', u'Technology', u'Trips', u'Visitors', u'rural', u'suburban', u'urban', u'Dr.', u'Mr.', u'Mr. & Mrs.', u'Mrs.', u'Ms.', u'Grades 3-5', u'Grades 6-8', u'Grades 9-12', u'Grades PreK-2', u'Applied Learning', u'Health & Sports', u'History & Civics', u'Literacy & Language', u'Math & Science', u'Music & The Arts', u'Special Needs', 1, 2, 3, 4, 5, 6, 7, 8, 9, 10, ...], dtype='object')"
       ]
      }
     ],
     "prompt_number": 43
    },
    {
     "cell_type": "code",
     "collapsed": false,
     "input": [
      "# groupby_subject = dummy_df_7.groupby([\"primary_focus_subject\"]).count()\n",
      "# print groupby_subject"
     ],
     "language": "python",
     "metadata": {},
     "outputs": [],
     "prompt_number": 100
    },
    {
     "cell_type": "code",
     "collapsed": false,
     "input": [
      "import random"
     ],
     "language": "python",
     "metadata": {},
     "outputs": [],
     "prompt_number": 44
    },
    {
     "cell_type": "code",
     "collapsed": false,
     "input": [
      "dummy_sample = dummy_df_8.loc[np.random.choice(dummy_df_8.index, 5000, replace=False)]"
     ],
     "language": "python",
     "metadata": {},
     "outputs": [],
     "prompt_number": 45
    },
    {
     "cell_type": "code",
     "collapsed": false,
     "input": [
      "dummy_sample[\"funded\"].mean()"
     ],
     "language": "python",
     "metadata": {},
     "outputs": [
      {
       "metadata": {},
       "output_type": "pyout",
       "prompt_number": 46,
       "text": [
        "0.72599999999999998"
       ]
      }
     ],
     "prompt_number": 46
    },
    {
     "cell_type": "code",
     "collapsed": false,
     "input": [
      "dummy_sample[\"Social Sciences\"].mean()"
     ],
     "language": "python",
     "metadata": {},
     "outputs": [
      {
       "metadata": {},
       "output_type": "pyout",
       "prompt_number": 47,
       "text": [
        "0.0146"
       ]
      }
     ],
     "prompt_number": 47
    },
    {
     "cell_type": "code",
     "collapsed": false,
     "input": [
      "feature_list_less3 = ['funded', 'school_charter', 'school_magnet', 'school_year_round', \n",
      "                'school_nlns', 'school_kipp', 'school_charter_ready_promise', \n",
      "                'teacher_teach_for_america',\n",
      "                'teacher_ny_teaching_fellow',\n",
      "                'price/student', 1.0, 2.0, 3.0, 4.0, 5.0, 7.0, 8.0, 9.0, 10.0, 11.0, 12.0]\n",
      "\n",
      "feature_list_less2 = ['funded', 'school_charter', 'school_magnet', 'school_year_round', \n",
      "                'school_nlns', 'school_kipp', 'school_charter_ready_promise', \n",
      "                'teacher_teach_for_america',\n",
      "                'teacher_ny_teaching_fellow','total_price_excluding_optional_support', \n",
      "                'price/student', 1.0, 2.0, 3.0, 4.0, 5.0, 7.0, 8.0, 9.0, 10.0, 11.0, 12.0]\n",
      "\n",
      "feature_list_less1 = ['funded', 'school_charter', 'school_magnet', 'school_year_round', \n",
      "                'school_nlns', 'school_kipp', 'school_charter_ready_promise', \n",
      "                'teacher_teach_for_america',\n",
      "                'teacher_ny_teaching_fellow','total_price_excluding_optional_support', \n",
      "                'students_reached', 'title polarity', 'title subjectivity',\n",
      "                1.0, 2.0, 3.0, 4.0, 5.0, 7.0, 8.0, 9.0, 10.0, 11.0, 12.0]\n",
      "\n",
      "feature_list_0 = ['funded', 'school_charter', 'school_magnet', 'school_year_round', \n",
      "                'school_nlns', 'school_kipp', 'school_charter_ready_promise', \n",
      "                'teacher_teach_for_america',\n",
      "                'teacher_ny_teaching_fellow','total_price_excluding_optional_support', \n",
      "                'students_reached',\n",
      "                'title polarity', 'title subjectivity', 'short_description polarity', \n",
      "                'short_description subjectivity', 1.0, 2.0, 3.0, 4.0, 5.0, 7.0,\n",
      "                8.0, 9.0, 10.0, 11.0, 12.0]\n",
      "\n",
      "feature_list_1 = ['funded', 'school_charter', 'school_magnet', 'school_year_round', \n",
      "                'school_nlns', 'school_kipp', 'school_charter_ready_promise', \n",
      "                'teacher_teach_for_america',\n",
      "                'teacher_ny_teaching_fellow','total_price_excluding_optional_support', \n",
      "                'students_reached', 'title polarity', 'title subjectivity', \n",
      "                'short_description polarity', \n",
      "                'short_description subjectivity', 'need_statement polarity', \n",
      "                'need_statement subjectivity',\n",
      "                1.0, 2.0, 3.0, 4.0, 5.0, 7.0, 8.0, 9.0, 10.0, 11.0, 12.0]\n",
      "\n",
      "feature_list_2 = ['funded', 'school_charter', 'school_magnet', 'school_year_round', \n",
      "                'school_nlns', 'school_kipp', 'school_charter_ready_promise', \n",
      "                'teacher_teach_for_america',\n",
      "                'teacher_ny_teaching_fellow','total_price_excluding_optional_support', \n",
      "                'students_reached', 'title polarity', 'title subjectivity', 'short_description polarity', \n",
      "                'short_description subjectivity', 'need_statement polarity', \n",
      "                'need_statement subjectivity', 'high poverty', 'highest poverty', 'low poverty',\n",
      "                1.0, 2.0, 3.0, 4.0, 5.0, 7.0, 8.0, 9.0, 10.0, 11.0, 12.0]\n",
      "\n",
      "feature_list_3 = ['funded', 'school_charter', 'school_magnet', 'school_year_round', \n",
      "                'school_nlns', 'school_kipp', 'school_charter_ready_promise', \n",
      "                'teacher_teach_for_america',\n",
      "                'teacher_ny_teaching_fellow','total_price_excluding_optional_support', \n",
      "                'students_reached', 'title polarity', 'title subjectivity', 'short_description polarity', \n",
      "                'short_description subjectivity', 'need_statement polarity', \n",
      "                'need_statement subjectivity', 'high poverty', 'highest poverty', 'low poverty',\n",
      "                'Books', 'Other', 'Supplies', 'Technology', 'Trips', 'Visitors',\n",
      "                1.0, 2.0, 3.0, 4.0, 5.0, 7.0, 8.0, 9.0, 10.0, 11.0, 12.0]\n",
      "\n",
      "feature_list_4 = ['funded', 'school_charter', 'school_magnet', 'school_year_round', \n",
      "                'school_nlns', 'school_kipp', 'school_charter_ready_promise', \n",
      "                'teacher_teach_for_america',\n",
      "                'teacher_ny_teaching_fellow','total_price_excluding_optional_support', \n",
      "                'students_reached','title polarity', 'title subjectivity', 'short_description polarity', \n",
      "                'short_description subjectivity', 'need_statement polarity', \n",
      "                'need_statement subjectivity', 'high poverty', 'highest poverty', 'low poverty',\n",
      "                'Books', 'Other', 'Supplies', 'Technology', 'Trips', 'Visitors', 'rural', \n",
      "                'suburban', 'urban',\n",
      "                1.0, 2.0, 3.0, 4.0, 5.0, 7.0, 8.0, 9.0, 10.0, 11.0, 12.0]\n",
      "\n",
      "feature_list_5 = ['funded', 'school_charter', 'school_magnet', 'school_year_round', \n",
      "                'school_nlns', 'school_kipp', 'school_charter_ready_promise', \n",
      "                'teacher_teach_for_america',\n",
      "                'teacher_ny_teaching_fellow','total_price_excluding_optional_support',\n",
      "                1.0, 2.0, 3.0, 4.0, 5.0, 7.0, 8.0, 9.0, 10.0, 11.0, 12.0]\n",
      "\n",
      "feature_list_6 = ['funded', 'school_charter', 'school_magnet', 'school_year_round', \n",
      "                'school_nlns', 'school_kipp', 'school_charter_ready_promise', \n",
      "                'teacher_teach_for_america',\n",
      "                'teacher_ny_teaching_fellow','total_price_excluding_optional_support', \n",
      "                'students_reached', 'title polarity', 'title subjectivity', 'short_description polarity', \n",
      "                'short_description subjectivity', 'need_statement polarity', \n",
      "                'need_statement subjectivity', 'high poverty', 'highest poverty', 'low poverty',\n",
      "                'Books', 'Other', 'Supplies', 'Technology', 'Trips', 'Visitors', 'rural', \n",
      "                'suburban', 'urban', \"Dr.\", \"Mr.\", \"Mr. & Mrs.\", \"Mrs.\", \"Ms.\",\n",
      "                1.0, 2.0, 3.0, 4.0, 5.0, 7.0, 8.0, 9.0, 10.0, 11.0, 12.0]\n",
      "\n",
      "feature_list_7 = ['funded', 'school_charter', 'school_magnet', 'school_year_round', \n",
      "                'school_nlns', 'school_kipp', 'school_charter_ready_promise', \n",
      "                'teacher_teach_for_america',\n",
      "                'teacher_ny_teaching_fellow','total_price_excluding_optional_support', \n",
      "                'students_reached', 'title polarity', 'title subjectivity', 'short_description polarity', \n",
      "                'short_description subjectivity', 'need_statement polarity', \n",
      "                'need_statement subjectivity', 'high poverty', 'highest poverty', 'low poverty',\n",
      "                'Trips', 'rural', \n",
      "                'suburban', 'urban', \"Dr.\", \"Mr.\", \"Mr. & Mrs.\", \"Mrs.\", \"Ms.\",\n",
      "                \"Grades 3-5\", \"Grades 6-8\", \"Grades 9-12\", \"Grades PreK-2\",\n",
      "                1.0, 2.0, 3.0, 4.0, 5.0, 7.0, 8.0, 9.0, 10.0, 11.0, 12.0]\n",
      "\n",
      "feature_list_8 = ['funded', 'school_charter', 'school_year_round', \n",
      "                'school_nlns', 'school_kipp', 'school_charter_ready_promise', \n",
      "                'teacher_teach_for_america',\n",
      "                'teacher_ny_teaching_fellow','total_price_excluding_optional_support', \n",
      "                'students_reached', \"price/student\",\n",
      "                \"TitleLength\", \"DescriptionLength\", \"NeedLength\",\n",
      "                'title polarity', 'short_description subjectivity', 'need_statement polarity', \n",
      "                'need_statement subjectivity', 'high poverty', 'highest poverty', 'low poverty',\n",
      "                'Books', 'Other', 'Supplies', 'Technology', 'Trips', 'Visitors', 'rural', \n",
      "                'suburban', 'urban', \"Applied Learning\", \"Health & Sports\", \"History & Civics\", \n",
      "                \"Literacy & Language\", \"Math & Science\", \"Music & The Arts\", \n",
      "                \"Special Needs\", 1.0, 2.0, 3.0, 4.0, 5.0, 7.0, 8.0, 9.0, 10.0, 11.0, 12.0]\n",
      "\n",
      "feature_list_extended = [\"Applied Sciences\", \"Character Education\", \"Civics & Government\", \n",
      "                \"College & Career Prep\", \"Community Service\",\n",
      "                \"ESL\", \"Early Development\", \"Economics\", \"Environmental Science\", \"Extracurricular\",\n",
      "                \"Foreign Languages\", \"Gym & Fitness\", \"Health & Life Science\",\n",
      "                \"Health & Life Science\", \n",
      "                \"Health & Wellness\", \"History & Geography\", \"Literacy\", \"Literature & Writing\", \n",
      "                \"Mathematics\", \"Music\", \"Nutrition\", \"Other\",\n",
      "                \"Parent Involvement\", \"Performing Arts\", \"Social Sciences\",\n",
      "                \"Sports\", \"Special Needs Focus\", \"Visual Arts\", \"second_focus\"]\n",
      "\n",
      "\n",
      "category_dict = {\"FLless2\": feature_list_less2, \"FLless1\": feature_list_less1,\n",
      "                 \"FL0\": feature_list_0, \"FL1\": feature_list_1, \n",
      "                 \"FL2\": feature_list_2, \"FL3\": feature_list_3,\n",
      "                 \"FL4\": feature_list_4, \"FL5\": feature_list_5,\n",
      "                 \"FL6\": feature_list_6, \"FL7\": feature_list_7,\n",
      "                 \"FL8\": feature_list_8}\n",
      "\n",
      "category_dict_2 = {\"FL4\": feature_list_4, \"FL5\": feature_list_5,\n",
      "                    \"FL6\": feature_list_6, \"FL7\": feature_list_7,\n",
      "                    \"FL8\": feature_list_8}\n",
      "\n",
      "category_dict_3 = {\"FLless2\": feature_list_less2, \"FL5\": feature_list_5,\n",
      "                   \"FL2\": feature_list_2, \"FL7\": feature_list_7,\n",
      "                   \"FL8\": feature_list_8, \"Updated List\": updated_feature_list}\n",
      "\n",
      "category_dict_4 = {\"FL8\": feature_list_8, \"Updated List\": updated_feature_list}\n",
      "\n",
      "category_dict_5 = {\"Updated List\": updated_feature_list}\n",
      "\n",
      "category_dict_6 = {\"FL8\": feature_list_8, \"FL9\": feature_list_9,\n",
      "                   \"FL10\": feature_list_10}\n",
      "\n",
      "est1 = KNeighborsClassifier()\n",
      "est2 = LogisticRegression()\n",
      "est3 = GaussianNB()\n",
      "est4 = SVC(probability=True)\n",
      "est5 = DecisionTreeClassifier()\n",
      "est6 = RandomForestClassifier()\n",
      "est7 = GradientBoostingClassifier(learning_rate=0.02, max_depth=4, max_features=0.1, \n",
      "                                  min_samples_leaf=9, n_estimators=500, subsample=1)\n",
      "\n",
      "estlist = [est1, est2, est3, est4, est5, est6, est7]\n",
      "estlist2 = [est1, est2, est3]\n",
      "estlist3 = [est2, est4, est7]\n",
      "estlist4 = [est2, est7]\n",
      "estlist5 = [est2]"
     ],
     "language": "python",
     "metadata": {},
     "outputs": [],
     "prompt_number": 118
    },
    {
     "cell_type": "markdown",
     "metadata": {},
     "source": [
      "####Start Looking at different classifiers to predict success or not"
     ]
    },
    {
     "cell_type": "code",
     "collapsed": false,
     "input": [
      "def classification_function(df, cat_list, est_list):\n",
      "    \n",
      "    #Create category specific dataframe\n",
      "    new_df = pd.DataFrame()\n",
      "    for catname, cat in cat_list.iteritems():\n",
      "        new_df = df[cat]\n",
      "        new_df = new_df.dropna(axis=0)\n",
      "    \n",
      "        #Define Y-variable dataframe\n",
      "        y_df = pd.DataFrame()\n",
      "        y_df['funded'] = new_df['funded']\n",
      "#         print y_df\n",
      "        y_array = y_df['funded'].values\n",
      "        \n",
      "        # Switch zeros and ones, 1 is NOT FUNDED now\n",
      "#         y_array = np.abs(y_array - 1)\n",
      "        \n",
      "        #define a set of categorical data and create an X-variable dataframe\n",
      "        new_cat_list = cat[1:]\n",
      "        x_df = pd.DataFrame()\n",
      "        x_df = new_df[new_cat_list]\n",
      "        x_scaled = preprocessing.scale(x_df)\n",
      "\n",
      "        for model in est_list:\n",
      "        \n",
      "            model_name = str(model).split('(')[0]\n",
      "            \n",
      "            accuracy_score = cross_val_score(model, x_scaled, y_array, scoring = 'accuracy').mean()\n",
      "            precision_score = cross_val_score(model, x_scaled, y_array, scoring = 'precision').mean()\n",
      "            recall_score = cross_val_score(model, x_scaled, y_array, scoring = 'recall').mean()\n",
      "\n",
      "            print \"Category: \", catname\n",
      "            print \"Model: \", model_name\n",
      "            print \"\\t Accuracy Score: \", accuracy_score\n",
      "            print \"\\t Precision Score: \", precision_score\n",
      "            print \"\\t Recall Score: \", recall_score"
     ],
     "language": "python",
     "metadata": {},
     "outputs": [],
     "prompt_number": 119
    },
    {
     "cell_type": "code",
     "collapsed": false,
     "input": [
      "classification_function(dummy_sample, category_dict_6, estlist3)"
     ],
     "language": "python",
     "metadata": {},
     "outputs": [
      {
       "output_type": "stream",
       "stream": "stdout",
       "text": [
        "Category:  FL9\n",
        "Model:  LogisticRegression\n",
        "\t Accuracy Score:  0.726000418164\n",
        "\t Precision Score:  0.726725827358\n",
        "\t Recall Score:  0.997796143251\n",
        "Category: "
       ]
      },
      {
       "output_type": "stream",
       "stream": "stdout",
       "text": [
        " FL9\n",
        "Model:  SVC\n",
        "\t Accuracy Score:  0.7244007381\n",
        "\t Precision Score:  0.726560175896\n",
        "\t Recall Score:  0.99476584022\n",
        "Category: "
       ]
      },
      {
       "output_type": "stream",
       "stream": "stdout",
       "text": [
        " FL9\n",
        "Model:  GradientBoostingClassifier\n",
        "\t Accuracy Score:  0.725199978012\n",
        "\t Precision Score:  0.726433696301\n",
        "\t Recall Score:  0.997520661157\n",
        "Category: "
       ]
      },
      {
       "output_type": "stream",
       "stream": "stdout",
       "text": [
        " FL8\n",
        "Model:  LogisticRegression\n",
        "\t Accuracy Score:  0.731200938684\n",
        "\t Precision Score:  0.740230131504\n",
        "\t Recall Score:  0.970247933884\n",
        "Category: "
       ]
      },
      {
       "output_type": "stream",
       "stream": "stdout",
       "text": [
        " FL8\n",
        "Model:  SVC\n",
        "\t Accuracy Score:  0.733400378748\n",
        "\t Precision Score:  0.733771059913\n",
        "\t Recall Score:  0.993112947658\n",
        "Category: "
       ]
      },
      {
       "output_type": "stream",
       "stream": "stdout",
       "text": [
        " FL8\n",
        "Model:  GradientBoostingClassifier\n",
        "\t Accuracy Score:  0.741400099332\n",
        "\t Precision Score:  0.747316409802\n",
        "\t Recall Score:  0.973553719008\n",
        "Category: "
       ]
      },
      {
       "output_type": "stream",
       "stream": "stdout",
       "text": [
        " FL10\n",
        "Model:  LogisticRegression\n",
        "\t Accuracy Score:  0.726200378172\n",
        "\t Precision Score:  0.726507932837\n",
        "\t Recall Score:  0.998898071625\n",
        "Category: "
       ]
      },
      {
       "output_type": "stream",
       "stream": "stdout",
       "text": [
        " FL10\n",
        "Model:  SVC\n",
        "\t Accuracy Score:  0.724400618076\n",
        "\t Precision Score:  0.726104351212\n",
        "\t Recall Score:  0.996143250689\n",
        "Category: "
       ]
      },
      {
       "output_type": "stream",
       "stream": "stdout",
       "text": [
        " FL10\n",
        "Model:  GradientBoostingClassifier\n",
        "\t Accuracy Score:  0.725000378076\n",
        "\t Precision Score:  0.725851669914\n",
        "\t Recall Score:  0.997796143251\n"
       ]
      }
     ],
     "prompt_number": 120
    },
    {
     "cell_type": "markdown",
     "metadata": {},
     "source": [
      "####Using Grid Search to optimize the classifiers"
     ]
    },
    {
     "cell_type": "code",
     "collapsed": false,
     "input": [
      "from sklearn import datasets\n",
      "from sklearn.cross_validation import train_test_split\n",
      "from sklearn.grid_search import GridSearchCV\n",
      "\n",
      "##Create a dataframe with only the features we want to look at\n",
      "new_df = dummy_sample[feature_list_8]\n",
      "new_df = new_df.dropna()\n",
      "cat_list = feature_list_8[1:]\n",
      "x_df = new_df[cat_list]\n",
      "\n",
      "y = np.asarray(new_df.funded)\n",
      "\n",
      "ytrain, ytest, xtrain, xtest = train_test_split(y, x_df, test_size = .25)\n",
      "print len(ytrain)\n",
      "print len(xtrain)\n",
      "\n",
      "param_grid = {'learning_rate': [0.02, 0.01, 0.005],\n",
      "              'max_depth': [2, 3, 4],\n",
      "              'min_samples_leaf': [1, 3, 5, 9],\n",
      "              'max_features': [0.3, 0.1, 0.05],\n",
      "              'n_estimators': [500, 1000, 2000],\n",
      "              'subsample': [.5, 1]\n",
      "              }\n",
      "est = GradientBoostingClassifier()\n",
      "\n",
      "grid_search_cv = GridSearchCV(est, param_grid).fit(xtrain, ytrain)\n",
      "\n",
      "grid_search_cv.best_params_"
     ],
     "language": "python",
     "metadata": {},
     "outputs": [
      {
       "output_type": "stream",
       "stream": "stdout",
       "text": [
        "3750\n",
        "3750\n"
       ]
      },
      {
       "metadata": {},
       "output_type": "pyout",
       "prompt_number": 117,
       "text": [
        "{'learning_rate': 0.02,\n",
        " 'max_depth': 4,\n",
        " 'max_features': 0.1,\n",
        " 'min_samples_leaf': 9,\n",
        " 'n_estimators': 500,\n",
        " 'subsample': 1}"
       ]
      }
     ],
     "prompt_number": 117
    },
    {
     "cell_type": "markdown",
     "metadata": {},
     "source": [
      "###Looking at StatsModels to look at each feature significance"
     ]
    },
    {
     "cell_type": "code",
     "collapsed": false,
     "input": [
      "def statslogistic(df, catlist):\n",
      "    new_df = pd.DataFrame()\n",
      "    new_df = df[catlist]\n",
      "    new_df = new_df.dropna()\n",
      "    \n",
      "    Y = new_df[\"funded\"]\n",
      "    \n",
      "    new_cat_list = catlist[1:]\n",
      "    X = new_df[new_cat_list]\n",
      "    X_scaled = preprocessing.scale(X)\n",
      "    X_scaled = st.add_constant(X)\n",
      "    \n",
      "    logmodel = Logit(Y, X_scaled).fit_regularized(maxiter=350)\n",
      "    print logmodel.summary()"
     ],
     "language": "python",
     "metadata": {},
     "outputs": [],
     "prompt_number": 64
    },
    {
     "cell_type": "code",
     "collapsed": false,
     "input": [
      "##Took out everything that wasn't significant - e.g. score over .35\n",
      "updated_feature_list = ['funded', 'school_charter', 'school_year_round', \n",
      "                'school_nlns', 'school_charter_ready_promise', \n",
      "                'teacher_teach_for_america', 'total_price_excluding_optional_support',\n",
      "                'price/student','teacher_ny_teaching_fellow', \n",
      "                1.0, 2.0, 3.0, 5.0, 7.0, 8.0, 9.0, 10.0, 11.0, 12.0,\n",
      "                'title polarity', 'title subjectivity',\n",
      "                'high poverty', 'highest poverty', 'low poverty',\n",
      "                'rural', 'suburban', 'urban', \n",
      "                \"Applied Learning\", \n",
      "                \"Music & The Arts\", \n",
      "                \"Character Education\", \n",
      "                \"College & Career Prep\", \"Community Service\",\n",
      "                \"ESL\", \"Early Development\", \"Economics\", \"Extracurricular\",\n",
      "                \"Foreign Languages\", \"Literacy\", \"Literature & Writing\",\n",
      "                \"Music\", \"Performing Arts\"]\n",
      "\n",
      "Second_set_list = [\"Applied Sciences\", \"Character Education\", \"Civics & Government\", \n",
      "                \"College & Career Prep\", \"Community Service\",\n",
      "                \"ESL\", \"Early Development\", \"Economics\", \"Environmental Science\", \"Extracurricular\",\n",
      "                \"Foreign Languages\", \"Gym & Fitness\", \"Health & Life Science\",\n",
      "                \"Health & Life Science\", \"Health & Wellness\", \"History & Geography\", \"Literacy\", \"Literature & Writing\", \n",
      "                \"Mathematics\", \"Music\", \"Nutrition\", \"Other\",\n",
      "                \"Parent Involvement\", \"Performing Arts\", \"Social Sciences\",\n",
      "                \"Sports\", \"Visual Arts\", \"second_focus\"]"
     ],
     "language": "python",
     "metadata": {},
     "outputs": [],
     "prompt_number": 65
    },
    {
     "cell_type": "code",
     "collapsed": false,
     "input": [
      "feature_list_8 = ['funded', 'school_charter', 'school_year_round', \n",
      "                'school_nlns', 'school_charter_ready_promise', \n",
      "                'teacher_teach_for_america',\n",
      "                'teacher_ny_teaching_fellow', \n",
      "                'title polarity', 'short_description subjectivity', 'need_statement polarity', \n",
      "                'need_statement subjectivity', 'high poverty', 'highest poverty', 'low poverty',\n",
      "                'rural', 'suburban', 'urban', \"Music & The Arts\", \n",
      "                1.0, 3.0, 4.0, 5.0, 7.0, 8.0, 9.0, 10.0, 11.0, 12.0,\n",
      "                \"Character Education\", \n",
      "                \"ESL\", \"Early Development\", \"Economics\",\n",
      "                \"Foreign Languages\",\n",
      "                \"History & Geography\", \"Literacy\", \"Literature & Writing\",\n",
      "                \"Music\", \"Nutrition\", \"Parent Involvement\", \"Sports\", \n",
      "                \"Special Needs Focus\"]\n",
      "\n",
      "feature_list_9 = ['funded', 'school_charter', \n",
      "                'school_nlns', 'school_charter_ready_promise', \n",
      "                'teacher_teach_for_america',\n",
      "                'teacher_ny_teaching_fellow', \n",
      "                'need_statement polarity', \n",
      "                'need_statement subjectivity', 'highest poverty', 'low poverty',\n",
      "                'rural', 'suburban', 'urban', \n",
      "                7.0, 8.0, 9.0, 10.0, 11.0, 12.0,\n",
      "                \"ESL\", \"Early Development\", \"Economics\",\n",
      "                \"Foreign Languages\",\n",
      "                \"Literature & Writing\",\n",
      "                \"Music\", \"Nutrition\", \"Parent Involvement\", \"Sports\", \n",
      "                \"Special Needs Focus\"]\n",
      "\n",
      "feature_list_10 = ['funded', 'school_charter', \n",
      "                'school_nlns', 'school_charter_ready_promise', \n",
      "                'teacher_teach_for_america',\n",
      "                'teacher_ny_teaching_fellow', \n",
      "                'need_statement polarity', \n",
      "                'need_statement subjectivity', 'highest poverty', 'low poverty',\n",
      "                'rural', 'suburban', 'urban', \n",
      "                \"ESL\", \"Early Development\", \"Economics\",\n",
      "                \"Foreign Languages\",\n",
      "                \"Literature & Writing\",\n",
      "                \"Music\", \"Nutrition\", \"Parent Involvement\", \"Sports\", \n",
      "                \"Special Needs Focus\"]"
     ],
     "language": "python",
     "metadata": {},
     "outputs": [],
     "prompt_number": 107
    },
    {
     "cell_type": "code",
     "collapsed": false,
     "input": [
      "statslogistic(dummy_df_8, feature_list_9)"
     ],
     "language": "python",
     "metadata": {},
     "outputs": [
      {
       "output_type": "stream",
       "stream": "stdout",
       "text": [
        "Optimization terminated successfully.    (Exit mode 0)\n",
        "            Current function value: 0.584242257321\n",
        "            Iterations: 195\n",
        "            Function evaluations: 196\n",
        "            Gradient evaluations: 195\n",
        "                           Logit Regression Results                           \n",
        "==============================================================================\n",
        "Dep. Variable:                 funded   No. Observations:               722857\n",
        "Model:                          Logit   Df Residuals:                   722828\n",
        "Method:                           MLE   Df Model:                           28\n",
        "Date:                Thu, 26 Mar 2015   Pseudo R-squ.:                 0.02616\n",
        "Time:                        16:05:33   Log-Likelihood:            -4.2232e+05\n",
        "converged:                       True   LL-Null:                   -4.3367e+05\n",
        "                                        LLR p-value:                     0.000\n",
        "================================================================================================\n",
        "                                   coef    std err          z      P>|z|      [95.0% Conf. Int.]\n",
        "------------------------------------------------------------------------------------------------\n",
        "const                            0.2485      0.009     28.281      0.000         0.231     0.266\n",
        "school_charter                   0.1040      0.010     10.399      0.000         0.084     0.124\n",
        "school_nlns                      0.2315      0.025      9.098      0.000         0.182     0.281\n",
        "school_charter_ready_promise     0.2492      0.045      5.566      0.000         0.161     0.337\n",
        "teacher_teach_for_america        0.5768      0.014     41.211      0.000         0.549     0.604\n",
        "teacher_ny_teaching_fellow       0.4168      0.024     17.170      0.000         0.369     0.464\n",
        "need_statement polarity         -0.3783      0.016    -23.657      0.000        -0.410    -0.347\n",
        "need_statement subjectivity      0.4762      0.011     41.557      0.000         0.454     0.499\n",
        "highest poverty                  0.1938      0.006     34.260      0.000         0.183     0.205\n",
        "low poverty                      0.0920      0.017      5.430      0.000         0.059     0.125\n",
        "rural                           -0.1391      0.010    -13.713      0.000        -0.159    -0.119\n",
        "suburban                         0.1233      0.009     13.686      0.000         0.106     0.141\n",
        "urban                            0.3122      0.008     37.496      0.000         0.296     0.329\n",
        "7                                0.1720      0.011     15.505      0.000         0.150     0.194\n",
        "8                                0.5186      0.009     56.398      0.000         0.501     0.537\n",
        "9                                0.6172      0.009     71.657      0.000         0.600     0.634\n",
        "10                               0.4993      0.009     54.591      0.000         0.481     0.517\n",
        "11                               0.3296      0.010     32.533      0.000         0.310     0.349\n",
        "12                               0.4259      0.010     40.999      0.000         0.406     0.446\n",
        "ESL                             -0.2631      0.021    -12.296      0.000        -0.305    -0.221\n",
        "Early Development               -0.2573      0.018    -14.643      0.000        -0.292    -0.223\n",
        "Economics                        0.4241      0.054      7.903      0.000         0.319     0.529\n",
        "Foreign Languages               -0.2316      0.029     -7.995      0.000        -0.288    -0.175\n",
        "Literature & Writing            -0.0977      0.008    -12.229      0.000        -0.113    -0.082\n",
        "Music                            0.3280      0.016     19.953      0.000         0.296     0.360\n",
        "Nutrition                        0.5284      0.074      7.159      0.000         0.384     0.673\n",
        "Parent Involvement              -0.4222      0.058     -7.249      0.000        -0.536    -0.308\n",
        "Sports                           0.1463      0.038      3.863      0.000         0.072     0.221\n",
        "Special Needs Focus             -0.0724      0.011     -6.654      0.000        -0.094    -0.051\n",
        "================================================================================================"
       ]
      },
      {
       "output_type": "stream",
       "stream": "stdout",
       "text": [
        "\n"
       ]
      }
     ],
     "prompt_number": 104
    },
    {
     "cell_type": "code",
     "collapsed": false,
     "input": [
      "test_df = pd.DataFrame()\n",
      "test_cat_list = feature_list_8[1:]\n",
      "test_df = dummy_df_5[test_cat_list]\n",
      "print len(test_df)"
     ],
     "language": "python",
     "metadata": {},
     "outputs": [
      {
       "output_type": "stream",
       "stream": "stdout",
       "text": [
        "722823\n"
       ]
      }
     ],
     "prompt_number": 133
    },
    {
     "cell_type": "code",
     "collapsed": false,
     "input": [
      "test_df = test_df.dropna()\n",
      "print len(test_df)"
     ],
     "language": "python",
     "metadata": {},
     "outputs": [
      {
       "output_type": "stream",
       "stream": "stdout",
       "text": [
        "722816\n"
       ]
      }
     ],
     "prompt_number": 134
    },
    {
     "cell_type": "code",
     "collapsed": false,
     "input": [
      "def roc_function(df, cat_list, est_list, pos_label = 0):\n",
      "    \n",
      "    #Create category specific dataframe\n",
      "    new_df = pd.DataFrame()\n",
      "    for catname, cat in cat_list.iteritems():\n",
      "        new_df = df[cat]\n",
      "        new_df = new_df.dropna(axis=0)\n",
      "    \n",
      "        #Define Y-variable dataframe\n",
      "        y_df = pd.DataFrame()\n",
      "        y_df['funded'] = new_df['funded']\n",
      "#         y_array = y_df['funded'].values\n",
      "        \n",
      "        #define a set of categorical data and create an X-variable dataframe\n",
      "        new_cat_list = cat[1:]\n",
      "        x_df = pd.DataFrame()\n",
      "        x_df = new_df[new_cat_list]\n",
      "        \n",
      "        plt.figure(figsize = (10,10))\n",
      "        labels = []\n",
      "\n",
      "        for model in est_list:\n",
      "        \n",
      "            model_name = str(model).split('(')[0]\n",
      "            \n",
      "            Y_train, Y_test, X_train, X_test = train_test_split(y_df, x_df, test_size = .25)\n",
      "            \n",
      "            model.fit(X_train, Y_train)\n",
      "            Yp = model.predict(X_test)\n",
      "            \n",
      "            Yprob = model.predict_proba(X_test)\n",
      "            fps, tps, threshold = roc_curve(Y_test, Yprob[:,0], pos_label)\n",
      "            auc_score = auc(fps, tps)\n",
      "            plt.plot(fps, tps)\n",
      "            labels.append('%s ROC Curve Area: (area = %0.2f)' %(model_name, auc_score))\n",
      "            \n",
      "        plt.title(\"ROC Curves\")\n",
      "        plt.xlabel(\"False Positive Rate\")\n",
      "        plt.ylabel(\"True Positive Rate\")\n",
      "        plt.legend(labels, loc='best')\n",
      "        plt.plot([0,1], [0,1], \"k--\")\n",
      "        \n",
      "#     return fps, tps, threshold"
     ],
     "language": "python",
     "metadata": {},
     "outputs": [],
     "prompt_number": 105
    },
    {
     "cell_type": "code",
     "collapsed": false,
     "input": [
      "roc_function(dummy_sample, category_dict_6, estlist)"
     ],
     "language": "python",
     "metadata": {},
     "outputs": [
      {
       "output_type": "stream",
       "stream": "stderr",
       "text": [
        "-c:28: DataConversionWarning: A column-vector y was passed when a 1d array was expected. Please change the shape of y to (n_samples, ), for example using ravel().\n",
        "/usr/local/lib/python2.7/site-packages/sklearn/preprocessing/label.py:125: DataConversionWarning: A column-vector y was passed when a 1d array was expected. Please change the shape of y to (n_samples, ), for example using ravel().\n",
        "  y = column_or_1d(y, warn=True)\n"
       ]
      },
      {
       "output_type": "stream",
       "stream": "stderr",
       "text": [
        "/usr/local/lib/python2.7/site-packages/sklearn/naive_bayes.py:150: DataConversionWarning: A column-vector y was passed when a 1d array was expected. Please change the shape of y to (n_samples, ), for example using ravel().\n",
        "  y = column_or_1d(y, warn=True)\n",
        "/usr/local/lib/python2.7/site-packages/sklearn/svm/base.py:441: DataConversionWarning: A column-vector y was passed when a 1d array was expected. Please change the shape of y to (n_samples, ), for example using ravel().\n",
        "  y_ = column_or_1d(y, warn=True)\n",
        "-c:28: DataConversionWarning: A column-vector y was passed when a 1d array was expected. Please change the shape of y to (n_samples, ), for example using ravel().\n"
       ]
      },
      {
       "output_type": "stream",
       "stream": "stderr",
       "text": [
        "/usr/local/lib/python2.7/site-packages/sklearn/ensemble/gradient_boosting.py:1127: DataConversionWarning: A column-vector y was passed when a 1d array was expected. Please change the shape of y to (n_samples, ), for example using ravel().\n",
        "  y = column_or_1d(y, warn=True)\n"
       ]
      },
      {
       "metadata": {},
       "output_type": "display_data",
       "png": "[encoded data removed]",
       "text": [
        "<matplotlib.figure.Figure at 0x1aaa263d0>"
       ]
      }
     ],
     "prompt_number": 106
    },
    {
     "cell_type": "code",
     "collapsed": false,
     "input": [],
     "language": "python",
     "metadata": {},
     "outputs": []
    },
    {
     "cell_type": "code",
     "collapsed": false,
     "input": [
      "####Threshold function:\n",
      "\n",
      "def threshold(y, thres = 0.4):\n",
      "    return int(y >= thres)\n",
      "\n",
      "y_pred = map(threshold, logmodel.predict(X))\n",
      "\n",
      "print accuracy_score(Y, y_pred)\n",
      "print precision_score(Y, y_pred)\n",
      "print recall_score(Y, y_pred)"
     ],
     "language": "python",
     "metadata": {},
     "outputs": []
    }
   ],
   "metadata": {}
  }
 ]
}